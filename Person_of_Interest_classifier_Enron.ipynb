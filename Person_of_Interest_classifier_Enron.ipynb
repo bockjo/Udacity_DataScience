{
 "cells": [
  {
   "cell_type": "code",
   "execution_count": 1,
   "metadata": {},
   "outputs": [
    {
     "data": {
      "text/html": [
       "<script>\n",
       "code_show=true; \n",
       "function code_toggle() {\n",
       " if (code_show){\n",
       " $('div.input').hide();\n",
       " } else {\n",
       " $('div.input').show();\n",
       " }\n",
       " code_show = !code_show\n",
       "} \n",
       "$( document ).ready(code_toggle);\n",
       "</script>\n",
       "The raw code for this notebook is by default hidden for easier reading.\n",
       "To toggle on/off the raw code, click <a href=\"javascript:code_toggle()\">here</a>."
      ],
      "text/plain": [
       "<IPython.core.display.HTML object>"
      ]
     },
     "execution_count": 1,
     "metadata": {},
     "output_type": "execute_result"
    }
   ],
   "source": [
    "from IPython.display import HTML\n",
    "\n",
    "HTML('''<script>\n",
    "code_show=true; \n",
    "function code_toggle() {\n",
    " if (code_show){\n",
    " $('div.input').hide();\n",
    " } else {\n",
    " $('div.input').show();\n",
    " }\n",
    " code_show = !code_show\n",
    "} \n",
    "$( document ).ready(code_toggle);\n",
    "</script>\n",
    "The raw code for this notebook is by default hidden for easier reading.\n",
    "To toggle on/off the raw code, click <a href=\"javascript:code_toggle()\">here</a>.''')"
   ]
  },
  {
   "cell_type": "markdown",
   "metadata": {},
   "source": [
    "# Person of Interest Classifier - Enron Dataset"
   ]
  },
  {
   "cell_type": "markdown",
   "metadata": {},
   "source": [
    "*by Johannes Bock, January 25, 2017*"
   ]
  },
  {
   "cell_type": "markdown",
   "metadata": {
    "collapsed": true
   },
   "source": [
    "In 2000, Enron was one of the largest companies in the United States. By 2002, it had collapsed into bankruptcy due to widespread corporate fraud. In the resulting Federal investigation, a significant amount of typically confidential information entered into the public record, including tens of thousands of emails and detailed financial data on top executives. In this project, I will build a person of interest identifier based on financial data, email meta-data and 250.000 emails made public as a result of the Enron scandal. <br><br>As you will see at the end of the projet, I could build a classifier, which in **87 %** (precision-score) of the cases is correct, when predicting an Enron employee to be a person of interest in the Enron fraud case. "
   ]
  },
  {
   "cell_type": "markdown",
   "metadata": {},
   "source": [
    "## Project goal"
   ]
  },
  {
   "cell_type": "markdown",
   "metadata": {},
   "source": [
    "In the following project I will follow a common machine learning process in order to build a classification model to identify Enron employees who may have committed fraud based on imperfect data from the Enron scandal. I will train a machine learning algorithm to recognize the patterns that are typical for the actions of fraudulent employees in the Enron case. I will go through the following steps (not necessarily in that strict order, but rather iteratively):\n",
    "1. Data pre-processing\n",
    "    * Data exploration\n",
    "    * Outlier investigation\n",
    "2. Feature Engineering & Feature Selection\n",
    "    * Feature creation\n",
    "    * Feature scaling\n",
    "    * Feature transformation (i.e. Dimensionality reduction)\n",
    "    * Feature selection/ Feature importance\n",
    "3. Model selection\n",
    "4. Model tuning\n",
    "5. Model evaluation & cross-validation"
   ]
  },
  {
   "cell_type": "markdown",
   "metadata": {},
   "source": [
    "##  Dataset"
   ]
  },
  {
   "cell_type": "markdown",
   "metadata": {},
   "source": [
    "First, the dataset is being loaded into memory. It is of the following shape:"
   ]
  },
  {
   "cell_type": "code",
   "execution_count": 1,
   "metadata": {},
   "outputs": [
    {
     "name": "stdout",
     "output_type": "stream",
     "text": [
      "(145, 21)\n"
     ]
    },
    {
     "data": {
      "text/html": [
       "<div>\n",
       "<table border=\"1\" class=\"dataframe\">\n",
       "  <thead>\n",
       "    <tr style=\"text-align: right;\">\n",
       "      <th></th>\n",
       "      <th>bonus</th>\n",
       "      <th>deferral_payments</th>\n",
       "      <th>deferred_income</th>\n",
       "      <th>director_fees</th>\n",
       "      <th>email_address</th>\n",
       "      <th>exercised_stock_options</th>\n",
       "      <th>expenses</th>\n",
       "      <th>from_messages</th>\n",
       "      <th>from_poi_to_this_person</th>\n",
       "      <th>from_this_person_to_poi</th>\n",
       "      <th>...</th>\n",
       "      <th>long_term_incentive</th>\n",
       "      <th>other</th>\n",
       "      <th>poi</th>\n",
       "      <th>restricted_stock</th>\n",
       "      <th>restricted_stock_deferred</th>\n",
       "      <th>salary</th>\n",
       "      <th>shared_receipt_with_poi</th>\n",
       "      <th>to_messages</th>\n",
       "      <th>total_payments</th>\n",
       "      <th>total_stock_value</th>\n",
       "    </tr>\n",
       "  </thead>\n",
       "  <tbody>\n",
       "    <tr>\n",
       "      <th>ALLEN PHILLIP K</th>\n",
       "      <td>4175000.0</td>\n",
       "      <td>2869717.0</td>\n",
       "      <td>-3081055.0</td>\n",
       "      <td>NaN</td>\n",
       "      <td>phillip.allen@enron.com</td>\n",
       "      <td>1729541.0</td>\n",
       "      <td>13868.0</td>\n",
       "      <td>2195.0</td>\n",
       "      <td>47.0</td>\n",
       "      <td>65.0</td>\n",
       "      <td>...</td>\n",
       "      <td>304805.0</td>\n",
       "      <td>152.0</td>\n",
       "      <td>False</td>\n",
       "      <td>126027.0</td>\n",
       "      <td>-126027.0</td>\n",
       "      <td>201955.0</td>\n",
       "      <td>1407.0</td>\n",
       "      <td>2902.0</td>\n",
       "      <td>4484442.0</td>\n",
       "      <td>1729541.0</td>\n",
       "    </tr>\n",
       "    <tr>\n",
       "      <th>BADUM JAMES P</th>\n",
       "      <td>NaN</td>\n",
       "      <td>178980.0</td>\n",
       "      <td>NaN</td>\n",
       "      <td>NaN</td>\n",
       "      <td>None</td>\n",
       "      <td>257817.0</td>\n",
       "      <td>3486.0</td>\n",
       "      <td>NaN</td>\n",
       "      <td>NaN</td>\n",
       "      <td>NaN</td>\n",
       "      <td>...</td>\n",
       "      <td>NaN</td>\n",
       "      <td>NaN</td>\n",
       "      <td>False</td>\n",
       "      <td>NaN</td>\n",
       "      <td>NaN</td>\n",
       "      <td>NaN</td>\n",
       "      <td>NaN</td>\n",
       "      <td>NaN</td>\n",
       "      <td>182466.0</td>\n",
       "      <td>257817.0</td>\n",
       "    </tr>\n",
       "    <tr>\n",
       "      <th>BANNANTINE JAMES M</th>\n",
       "      <td>NaN</td>\n",
       "      <td>NaN</td>\n",
       "      <td>-5104.0</td>\n",
       "      <td>NaN</td>\n",
       "      <td>james.bannantine@enron.com</td>\n",
       "      <td>4046157.0</td>\n",
       "      <td>56301.0</td>\n",
       "      <td>29.0</td>\n",
       "      <td>39.0</td>\n",
       "      <td>0.0</td>\n",
       "      <td>...</td>\n",
       "      <td>NaN</td>\n",
       "      <td>864523.0</td>\n",
       "      <td>False</td>\n",
       "      <td>1757552.0</td>\n",
       "      <td>-560222.0</td>\n",
       "      <td>477.0</td>\n",
       "      <td>465.0</td>\n",
       "      <td>566.0</td>\n",
       "      <td>916197.0</td>\n",
       "      <td>5243487.0</td>\n",
       "    </tr>\n",
       "    <tr>\n",
       "      <th>BAXTER JOHN C</th>\n",
       "      <td>1200000.0</td>\n",
       "      <td>1295738.0</td>\n",
       "      <td>-1386055.0</td>\n",
       "      <td>NaN</td>\n",
       "      <td>None</td>\n",
       "      <td>6680544.0</td>\n",
       "      <td>11200.0</td>\n",
       "      <td>NaN</td>\n",
       "      <td>NaN</td>\n",
       "      <td>NaN</td>\n",
       "      <td>...</td>\n",
       "      <td>1586055.0</td>\n",
       "      <td>2660303.0</td>\n",
       "      <td>False</td>\n",
       "      <td>3942714.0</td>\n",
       "      <td>NaN</td>\n",
       "      <td>267102.0</td>\n",
       "      <td>NaN</td>\n",
       "      <td>NaN</td>\n",
       "      <td>5634343.0</td>\n",
       "      <td>10623258.0</td>\n",
       "    </tr>\n",
       "    <tr>\n",
       "      <th>BAY FRANKLIN R</th>\n",
       "      <td>400000.0</td>\n",
       "      <td>260455.0</td>\n",
       "      <td>-201641.0</td>\n",
       "      <td>NaN</td>\n",
       "      <td>frank.bay@enron.com</td>\n",
       "      <td>NaN</td>\n",
       "      <td>129142.0</td>\n",
       "      <td>NaN</td>\n",
       "      <td>NaN</td>\n",
       "      <td>NaN</td>\n",
       "      <td>...</td>\n",
       "      <td>NaN</td>\n",
       "      <td>69.0</td>\n",
       "      <td>False</td>\n",
       "      <td>145796.0</td>\n",
       "      <td>-82782.0</td>\n",
       "      <td>239671.0</td>\n",
       "      <td>NaN</td>\n",
       "      <td>NaN</td>\n",
       "      <td>827696.0</td>\n",
       "      <td>63014.0</td>\n",
       "    </tr>\n",
       "  </tbody>\n",
       "</table>\n",
       "<p>5 rows × 21 columns</p>\n",
       "</div>"
      ],
      "text/plain": [
       "                        bonus  deferral_payments  deferred_income  \\\n",
       "ALLEN PHILLIP K     4175000.0          2869717.0       -3081055.0   \n",
       "BADUM JAMES P             NaN           178980.0              NaN   \n",
       "BANNANTINE JAMES M        NaN                NaN          -5104.0   \n",
       "BAXTER JOHN C       1200000.0          1295738.0       -1386055.0   \n",
       "BAY FRANKLIN R       400000.0           260455.0        -201641.0   \n",
       "\n",
       "                    director_fees               email_address  \\\n",
       "ALLEN PHILLIP K               NaN     phillip.allen@enron.com   \n",
       "BADUM JAMES P                 NaN                        None   \n",
       "BANNANTINE JAMES M            NaN  james.bannantine@enron.com   \n",
       "BAXTER JOHN C                 NaN                        None   \n",
       "BAY FRANKLIN R                NaN         frank.bay@enron.com   \n",
       "\n",
       "                    exercised_stock_options  expenses  from_messages  \\\n",
       "ALLEN PHILLIP K                   1729541.0   13868.0         2195.0   \n",
       "BADUM JAMES P                      257817.0    3486.0            NaN   \n",
       "BANNANTINE JAMES M                4046157.0   56301.0           29.0   \n",
       "BAXTER JOHN C                     6680544.0   11200.0            NaN   \n",
       "BAY FRANKLIN R                          NaN  129142.0            NaN   \n",
       "\n",
       "                    from_poi_to_this_person  from_this_person_to_poi  \\\n",
       "ALLEN PHILLIP K                        47.0                     65.0   \n",
       "BADUM JAMES P                           NaN                      NaN   \n",
       "BANNANTINE JAMES M                     39.0                      0.0   \n",
       "BAXTER JOHN C                           NaN                      NaN   \n",
       "BAY FRANKLIN R                          NaN                      NaN   \n",
       "\n",
       "                          ...          long_term_incentive      other    poi  \\\n",
       "ALLEN PHILLIP K           ...                     304805.0      152.0  False   \n",
       "BADUM JAMES P             ...                          NaN        NaN  False   \n",
       "BANNANTINE JAMES M        ...                          NaN   864523.0  False   \n",
       "BAXTER JOHN C             ...                    1586055.0  2660303.0  False   \n",
       "BAY FRANKLIN R            ...                          NaN       69.0  False   \n",
       "\n",
       "                   restricted_stock  restricted_stock_deferred    salary  \\\n",
       "ALLEN PHILLIP K            126027.0                  -126027.0  201955.0   \n",
       "BADUM JAMES P                   NaN                        NaN       NaN   \n",
       "BANNANTINE JAMES M        1757552.0                  -560222.0     477.0   \n",
       "BAXTER JOHN C             3942714.0                        NaN  267102.0   \n",
       "BAY FRANKLIN R             145796.0                   -82782.0  239671.0   \n",
       "\n",
       "                    shared_receipt_with_poi  to_messages  total_payments  \\\n",
       "ALLEN PHILLIP K                      1407.0       2902.0       4484442.0   \n",
       "BADUM JAMES P                           NaN          NaN        182466.0   \n",
       "BANNANTINE JAMES M                    465.0        566.0        916197.0   \n",
       "BAXTER JOHN C                           NaN          NaN       5634343.0   \n",
       "BAY FRANKLIN R                          NaN          NaN        827696.0   \n",
       "\n",
       "                    total_stock_value  \n",
       "ALLEN PHILLIP K             1729541.0  \n",
       "BADUM JAMES P                257817.0  \n",
       "BANNANTINE JAMES M          5243487.0  \n",
       "BAXTER JOHN C              10623258.0  \n",
       "BAY FRANKLIN R                63014.0  \n",
       "\n",
       "[5 rows x 21 columns]"
      ]
     },
     "execution_count": 1,
     "metadata": {},
     "output_type": "execute_result"
    }
   ],
   "source": [
    "import pickle\n",
    "import sys\n",
    "import pandas as pd\n",
    "import numpy as np\n",
    "\n",
    "\n",
    "# Set the random_state for the following analysis for reproducibility\n",
    "random_state=42\n",
    "\n",
    "#Load the the financial and email data into a pandas dataframe\n",
    "with open(\"final_project_dataset.pkl\", \"r\") as data_file:\n",
    "    data_dict = pickle.load(data_file)\n",
    "    \n",
    "df = pd.DataFrame.from_dict(data_dict).transpose()\n",
    "df = df.replace({'NaN': None}, regex=True)\n",
    "df = df.drop(\"TOTAL\")\n",
    "\n",
    "print df.shape\n",
    "df.head()"
   ]
  },
  {
   "cell_type": "markdown",
   "metadata": {},
   "source": [
    "There are records for 145 Enron employees, which is a fairly small sample from a machine learning perspective. There are 21 features describing each employee including financial information and email meta data. "
   ]
  },
  {
   "cell_type": "markdown",
   "metadata": {},
   "source": [
    "**Missing data**"
   ]
  },
  {
   "cell_type": "code",
   "execution_count": 2,
   "metadata": {},
   "outputs": [
    {
     "data": {
      "text/plain": [
       "bonus                         81\n",
       "deferral_payments             38\n",
       "deferred_income               48\n",
       "director_fees                 16\n",
       "email_address                111\n",
       "exercised_stock_options      101\n",
       "expenses                      94\n",
       "from_messages                 86\n",
       "from_poi_to_this_person       86\n",
       "from_this_person_to_poi       86\n",
       "loan_advances                  3\n",
       "long_term_incentive           65\n",
       "other                         92\n",
       "poi                          145\n",
       "restricted_stock             109\n",
       "restricted_stock_deferred     17\n",
       "salary                        94\n",
       "shared_receipt_with_poi       86\n",
       "to_messages                   86\n",
       "total_payments               124\n",
       "total_stock_value            125\n",
       "dtype: int64"
      ]
     },
     "execution_count": 2,
     "metadata": {},
     "output_type": "execute_result"
    }
   ],
   "source": [
    "df.count()"
   ]
  },
  {
   "cell_type": "code",
   "execution_count": 3,
   "metadata": {},
   "outputs": [
    {
     "data": {
      "text/plain": [
       "(145, 15)"
      ]
     },
     "execution_count": 3,
     "metadata": {},
     "output_type": "execute_result"
    }
   ],
   "source": [
    "df = df.drop([\"deferral_payments\",\"deferred_income\",\"director_fees\",\"loan_advances\",\"long_term_incentive\",\n",
    "        \"restricted_stock_deferred\"],axis=1)\n",
    "df.shape"
   ]
  },
  {
   "cell_type": "markdown",
   "metadata": {},
   "source": [
    "Moreover, there is quite a lot of missing data, which, based on the features I select, will further reduce the sample size. Therefore, I removed 6 features with more than 50% of missing data straight away. The target variable **Person of Interest (poi)** contains a boolean value, which takes *True* for all individuals who were indicted, reached a settlement or plea deal with the government, or testified in exchange for prosecution immunity."
   ]
  },
  {
   "cell_type": "code",
   "execution_count": 4,
   "metadata": {},
   "outputs": [
    {
     "data": {
      "text/plain": [
       "False    127\n",
       "True      18\n",
       "Name: poi, dtype: int64"
      ]
     },
     "execution_count": 4,
     "metadata": {},
     "output_type": "execute_result"
    }
   ],
   "source": [
    "df[\"poi\"].value_counts()"
   ]
  },
  {
   "cell_type": "markdown",
   "metadata": {},
   "source": [
    "There are only 18 persons of interest in the dataset, which shows a large imbalance in the distribution of the target classes. Therefore, I will use *stratified sampling* for training and cross-validation of my model."
   ]
  },
  {
   "cell_type": "markdown",
   "metadata": {},
   "source": [
    "## Financial data"
   ]
  },
  {
   "cell_type": "code",
   "execution_count": 5,
   "metadata": {},
   "outputs": [
    {
     "data": {
      "text/html": [
       "<div>\n",
       "<table border=\"1\" class=\"dataframe\">\n",
       "  <thead>\n",
       "    <tr style=\"text-align: right;\">\n",
       "      <th></th>\n",
       "      <th>salary</th>\n",
       "      <th>total_payments</th>\n",
       "      <th>bonus</th>\n",
       "      <th>restricted_stock</th>\n",
       "      <th>total_stock_value</th>\n",
       "      <th>expenses</th>\n",
       "      <th>exercised_stock_options</th>\n",
       "      <th>other</th>\n",
       "      <th>poi</th>\n",
       "    </tr>\n",
       "  </thead>\n",
       "  <tbody>\n",
       "    <tr>\n",
       "      <th>salary</th>\n",
       "      <td>1.000000</td>\n",
       "      <td>0.579260</td>\n",
       "      <td>0.523190</td>\n",
       "      <td>0.550824</td>\n",
       "      <td>0.614736</td>\n",
       "      <td>0.145364</td>\n",
       "      <td>0.607324</td>\n",
       "      <td>0.606903</td>\n",
       "      <td>0.264976</td>\n",
       "    </tr>\n",
       "    <tr>\n",
       "      <th>total_payments</th>\n",
       "      <td>0.579260</td>\n",
       "      <td>1.000000</td>\n",
       "      <td>0.569054</td>\n",
       "      <td>0.595728</td>\n",
       "      <td>0.668166</td>\n",
       "      <td>0.109798</td>\n",
       "      <td>0.591690</td>\n",
       "      <td>0.825444</td>\n",
       "      <td>0.230692</td>\n",
       "    </tr>\n",
       "    <tr>\n",
       "      <th>bonus</th>\n",
       "      <td>0.523190</td>\n",
       "      <td>0.569054</td>\n",
       "      <td>1.000000</td>\n",
       "      <td>0.376992</td>\n",
       "      <td>0.509441</td>\n",
       "      <td>0.033799</td>\n",
       "      <td>0.506998</td>\n",
       "      <td>0.376371</td>\n",
       "      <td>0.302384</td>\n",
       "    </tr>\n",
       "    <tr>\n",
       "      <th>restricted_stock</th>\n",
       "      <td>0.550824</td>\n",
       "      <td>0.595728</td>\n",
       "      <td>0.376992</td>\n",
       "      <td>1.000000</td>\n",
       "      <td>0.855250</td>\n",
       "      <td>0.042896</td>\n",
       "      <td>0.690935</td>\n",
       "      <td>0.644357</td>\n",
       "      <td>0.224814</td>\n",
       "    </tr>\n",
       "    <tr>\n",
       "      <th>total_stock_value</th>\n",
       "      <td>0.614736</td>\n",
       "      <td>0.668166</td>\n",
       "      <td>0.509441</td>\n",
       "      <td>0.855250</td>\n",
       "      <td>1.000000</td>\n",
       "      <td>0.034707</td>\n",
       "      <td>0.963560</td>\n",
       "      <td>0.627171</td>\n",
       "      <td>0.366462</td>\n",
       "    </tr>\n",
       "    <tr>\n",
       "      <th>expenses</th>\n",
       "      <td>0.145364</td>\n",
       "      <td>0.109798</td>\n",
       "      <td>0.033799</td>\n",
       "      <td>0.042896</td>\n",
       "      <td>0.034707</td>\n",
       "      <td>1.000000</td>\n",
       "      <td>0.019412</td>\n",
       "      <td>0.062874</td>\n",
       "      <td>0.060292</td>\n",
       "    </tr>\n",
       "    <tr>\n",
       "      <th>exercised_stock_options</th>\n",
       "      <td>0.607324</td>\n",
       "      <td>0.591690</td>\n",
       "      <td>0.506998</td>\n",
       "      <td>0.690935</td>\n",
       "      <td>0.963560</td>\n",
       "      <td>0.019412</td>\n",
       "      <td>1.000000</td>\n",
       "      <td>0.536248</td>\n",
       "      <td>0.503551</td>\n",
       "    </tr>\n",
       "    <tr>\n",
       "      <th>other</th>\n",
       "      <td>0.606903</td>\n",
       "      <td>0.825444</td>\n",
       "      <td>0.376371</td>\n",
       "      <td>0.644357</td>\n",
       "      <td>0.627171</td>\n",
       "      <td>0.062874</td>\n",
       "      <td>0.536248</td>\n",
       "      <td>1.000000</td>\n",
       "      <td>0.120510</td>\n",
       "    </tr>\n",
       "    <tr>\n",
       "      <th>poi</th>\n",
       "      <td>0.264976</td>\n",
       "      <td>0.230692</td>\n",
       "      <td>0.302384</td>\n",
       "      <td>0.224814</td>\n",
       "      <td>0.366462</td>\n",
       "      <td>0.060292</td>\n",
       "      <td>0.503551</td>\n",
       "      <td>0.120510</td>\n",
       "      <td>1.000000</td>\n",
       "    </tr>\n",
       "  </tbody>\n",
       "</table>\n",
       "</div>"
      ],
      "text/plain": [
       "                           salary  total_payments     bonus  restricted_stock  \\\n",
       "salary                   1.000000        0.579260  0.523190          0.550824   \n",
       "total_payments           0.579260        1.000000  0.569054          0.595728   \n",
       "bonus                    0.523190        0.569054  1.000000          0.376992   \n",
       "restricted_stock         0.550824        0.595728  0.376992          1.000000   \n",
       "total_stock_value        0.614736        0.668166  0.509441          0.855250   \n",
       "expenses                 0.145364        0.109798  0.033799          0.042896   \n",
       "exercised_stock_options  0.607324        0.591690  0.506998          0.690935   \n",
       "other                    0.606903        0.825444  0.376371          0.644357   \n",
       "poi                      0.264976        0.230692  0.302384          0.224814   \n",
       "\n",
       "                         total_stock_value  expenses  exercised_stock_options  \\\n",
       "salary                            0.614736  0.145364                 0.607324   \n",
       "total_payments                    0.668166  0.109798                 0.591690   \n",
       "bonus                             0.509441  0.033799                 0.506998   \n",
       "restricted_stock                  0.855250  0.042896                 0.690935   \n",
       "total_stock_value                 1.000000  0.034707                 0.963560   \n",
       "expenses                          0.034707  1.000000                 0.019412   \n",
       "exercised_stock_options           0.963560  0.019412                 1.000000   \n",
       "other                             0.627171  0.062874                 0.536248   \n",
       "poi                               0.366462  0.060292                 0.503551   \n",
       "\n",
       "                            other       poi  \n",
       "salary                   0.606903  0.264976  \n",
       "total_payments           0.825444  0.230692  \n",
       "bonus                    0.376371  0.302384  \n",
       "restricted_stock         0.644357  0.224814  \n",
       "total_stock_value        0.627171  0.366462  \n",
       "expenses                 0.062874  0.060292  \n",
       "exercised_stock_options  0.536248  0.503551  \n",
       "other                    1.000000  0.120510  \n",
       "poi                      0.120510  1.000000  "
      ]
     },
     "execution_count": 5,
     "metadata": {},
     "output_type": "execute_result"
    }
   ],
   "source": [
    "fin_features = ['salary', 'total_payments', 'bonus', \"restricted_stock\",'total_stock_value', 'expenses', \n",
    "                'exercised_stock_options', 'other',\"poi\"]\n",
    "mail_features = ['to_messages', 'email_address', 'from_poi_to_this_person', 'from_messages', 'from_this_person_to_poi', \n",
    "                'shared_receipt_with_poi',\"poi\"]\n",
    "corrmat = df[fin_features].corr()\n",
    "\n",
    "corrmat"
   ]
  },
  {
   "cell_type": "markdown",
   "metadata": {},
   "source": [
    "In order to get a sense of the financial data and its bivariate relationships I looked at correlations. From the correlation matrix above, it becomes fairly clear that some of the financial features are highly correlated (> 0.9). Therefore, I decided to perform feature selection for the financial features, since adding highly correlated features to my model would most likely not improve model performance and only increase model complexity."
   ]
  },
  {
   "cell_type": "markdown",
   "metadata": {},
   "source": [
    "For my feature selection scheme I used sklearn's SelectKBest method, where the chi-square function assigns scores to the features based on the likelihood that they are of significance when predicting the target class. Moreover, I used a GradientBoostedTree classifier and hyperparameter grid search to find the optimal and 10-fold cross-validated k-value that maximizes my performance metrics (f1-score)."
   ]
  },
  {
   "cell_type": "code",
   "execution_count": 6,
   "metadata": {},
   "outputs": [
    {
     "name": "stdout",
     "output_type": "stream",
     "text": [
      "Fitting 10 folds for each of 8 candidates, totalling 80 fits\n",
      "0.1\n",
      "{'features__univ_select__k': 1}\n"
     ]
    },
    {
     "name": "stderr",
     "output_type": "stream",
     "text": [
      "[Parallel(n_jobs=1)]: Done  80 out of  80 | elapsed:    5.2s finished\n"
     ]
    }
   ],
   "source": [
    "from sklearn.feature_selection import SelectKBest,chi2\n",
    "from sklearn.pipeline import Pipeline, FeatureUnion\n",
    "from sklearn.model_selection import GridSearchCV,StratifiedShuffleSplit\n",
    "from sklearn.ensemble import GradientBoostingClassifier\n",
    "from sklearn.preprocessing import MinMaxScaler,LabelEncoder\n",
    "from sklearn.metrics import make_scorer,f1_score\n",
    "import warnings\n",
    "warnings.filterwarnings('ignore')\n",
    "\n",
    "le = LabelEncoder()\n",
    "\n",
    "fin_df = df[fin_features].dropna()\n",
    "label = le.fit_transform(fin_df.pop(\"poi\"))\n",
    "\n",
    "selection = SelectKBest(k=1)\n",
    "scaling = MinMaxScaler()\n",
    "\n",
    "# Build estimator from scaled features and Univariate selection:\n",
    "combined_features = FeatureUnion([(\"scaler\", scaling), (\"univ_select\", selection)])\n",
    "\n",
    "# Use combined features to transform dataset:\n",
    "X_features = combined_features.fit(fin_df, label).transform(fin_df)\n",
    "\n",
    "gbc = GradientBoostingClassifier(random_state=random_state)\n",
    "\n",
    "# Do grid search over k:\n",
    "pipeline = Pipeline([(\"features\", combined_features), (\"gbc\", gbc)])\n",
    "\n",
    "param_grid = dict(features__univ_select__k=range(1,9))\n",
    "\n",
    "# Set custom scoring function\n",
    "f1_score = make_scorer(f1_score, pos_label=1, average='binary')\n",
    "\n",
    "grid_search = GridSearchCV(pipeline, param_grid=param_grid,cv=StratifiedShuffleSplit(10,random_state=random_state),scoring = f1_score,verbose=1)\n",
    "grid_search.fit(fin_df, label)\n",
    "print grid_search.best_score_ \n",
    "print grid_search.best_params_"
   ]
  },
  {
   "cell_type": "code",
   "execution_count": 7,
   "metadata": {
    "collapsed": true
   },
   "outputs": [],
   "source": [
    "from sklearn.feature_selection import SelectKBest\n",
    "from sklearn.feature_selection import chi2\n",
    "\n",
    "fin_df = df[fin_features].dropna()\n",
    "label = fin_df.pop(\"poi\")\n",
    "\n",
    "sel = SelectKBest(chi2, k=1)\n",
    "fin_df_new = sel.fit_transform(fin_df, label)\n",
    "\n",
    "selected_f = sel.get_support()\n",
    "sel_fin_features = list(fin_df.columns[selected_f])"
   ]
  },
  {
   "cell_type": "code",
   "execution_count": 8,
   "metadata": {},
   "outputs": [
    {
     "data": {
      "text/plain": [
       "[<matplotlib.text.Text at 0xcb28ac8>,\n",
       " <matplotlib.text.Text at 0xcb32a58>,\n",
       " <matplotlib.text.Text at 0xcc2c710>,\n",
       " <matplotlib.text.Text at 0xcc2cda0>,\n",
       " <matplotlib.text.Text at 0xcc36470>,\n",
       " <matplotlib.text.Text at 0xcc36b00>,\n",
       " <matplotlib.text.Text at 0xcc421d0>,\n",
       " <matplotlib.text.Text at 0xcc42860>]"
      ]
     },
     "execution_count": 8,
     "metadata": {},
     "output_type": "execute_result"
    },
    {
     "data": {
      "image/png": "[encoded data removed]",
      "text/plain": [
       "<matplotlib.figure.Figure at 0xca21be0>"
      ]
     },
     "metadata": {},
     "output_type": "display_data"
    }
   ],
   "source": [
    "import matplotlib.pyplot as plt\n",
    "import seaborn as sns\n",
    "\n",
    "%matplotlib inline\n",
    "scores = sel.scores_\n",
    "ax = sns.barplot(fin_df.columns,scores,order=fin_df.columns[np.argsort(scores)[::-1]])\n",
    "ax.set_xticklabels(fin_df.columns[np.argsort(scores)[::-1]],rotation='vertical')"
   ]
  },
  {
   "cell_type": "markdown",
   "metadata": {},
   "source": [
    "The cross-validation procedure described above suggests that k=1 is the optimal parameter choice. Moreover, the bar chart above shows the relative feature importance derived from the chi-squared support scores for each individual feature and clearly, the variable **total_payments** scores the strongest support. Hence, this will be the only financial feature, that I will use for training the model."
   ]
  },
  {
   "cell_type": "markdown",
   "metadata": {},
   "source": [
    "### Outlier investigation - Financial features"
   ]
  },
  {
   "cell_type": "code",
   "execution_count": 9,
   "metadata": {},
   "outputs": [
    {
     "data": {
      "text/plain": [
       "<matplotlib.axes._subplots.AxesSubplot at 0x3fa6e80>"
      ]
     },
     "execution_count": 9,
     "metadata": {},
     "output_type": "execute_result"
    },
    {
     "data": {
      "image/png": "[encoded data removed]",
      "text/plain": [
       "<matplotlib.figure.Figure at 0x8f3fba8>"
      ]
     },
     "metadata": {},
     "output_type": "display_data"
    }
   ],
   "source": [
    "import matplotlib.pyplot as plt\n",
    "import seaborn as sns\n",
    "\n",
    "%matplotlib inline\n",
    "\n",
    "sns.set()\n",
    "sel_fin_features.append(\"poi\")\n",
    "data = df[sel_fin_features].dropna()\n",
    "\n",
    "sns.distplot(data[\"total_payments\"])"
   ]
  },
  {
   "cell_type": "code",
   "execution_count": 10,
   "metadata": {},
   "outputs": [
    {
     "data": {
      "text/html": [
       "<div>\n",
       "<table border=\"1\" class=\"dataframe\">\n",
       "  <thead>\n",
       "    <tr style=\"text-align: right;\">\n",
       "      <th></th>\n",
       "      <th>total_payments</th>\n",
       "      <th>poi</th>\n",
       "    </tr>\n",
       "  </thead>\n",
       "  <tbody>\n",
       "    <tr>\n",
       "      <th>LAY KENNETH L</th>\n",
       "      <td>103559793.0</td>\n",
       "      <td>True</td>\n",
       "    </tr>\n",
       "    <tr>\n",
       "      <th>FREVERT MARK A</th>\n",
       "      <td>17252530.0</td>\n",
       "      <td>False</td>\n",
       "    </tr>\n",
       "    <tr>\n",
       "      <th>BHATNAGAR SANJAY</th>\n",
       "      <td>15456290.0</td>\n",
       "      <td>False</td>\n",
       "    </tr>\n",
       "    <tr>\n",
       "      <th>LAVORATO JOHN J</th>\n",
       "      <td>10425757.0</td>\n",
       "      <td>False</td>\n",
       "    </tr>\n",
       "    <tr>\n",
       "      <th>SKILLING JEFFREY K</th>\n",
       "      <td>8682716.0</td>\n",
       "      <td>True</td>\n",
       "    </tr>\n",
       "  </tbody>\n",
       "</table>\n",
       "</div>"
      ],
      "text/plain": [
       "                    total_payments    poi\n",
       "LAY KENNETH L          103559793.0   True\n",
       "FREVERT MARK A          17252530.0  False\n",
       "BHATNAGAR SANJAY        15456290.0  False\n",
       "LAVORATO JOHN J         10425757.0  False\n",
       "SKILLING JEFFREY K       8682716.0   True"
      ]
     },
     "execution_count": 10,
     "metadata": {},
     "output_type": "execute_result"
    }
   ],
   "source": [
    "data.sort_values(\"total_payments\",ascending=False).head()"
   ]
  },
  {
   "cell_type": "markdown",
   "metadata": {},
   "source": [
    "From the histogram above, it is apparent that there may be some issues with outliers in the financial data. In order to improve the ability of the algorithm to generalize from the data, I decided to remove LAY KENNETH L from the training data since he clearly is an exceptional case and might obscure the classifier."
   ]
  },
  {
   "cell_type": "code",
   "execution_count": 11,
   "metadata": {},
   "outputs": [
    {
     "name": "stdout",
     "output_type": "stream",
     "text": [
      "Number of cleaned data points:  1\n",
      "Number of POI remaining:  17\n"
     ]
    },
    {
     "data": {
      "image/png": "[encoded data removed]",
      "text/plain": [
       "<matplotlib.figure.Figure at 0x8f3f518>"
      ]
     },
     "metadata": {},
     "output_type": "display_data"
    }
   ],
   "source": [
    "cleaned_fin_df = data.drop(\"LAY KENNETH L\")\n",
    "\n",
    "sns.distplot(cleaned_fin_df[\"total_payments\"])\n",
    "\n",
    "print \"Number of cleaned data points: \", data.shape[0]-cleaned_fin_df.shape[0]\n",
    "print \"Number of POI remaining: \", cleaned_fin_df[\"poi\"].value_counts()[1]"
   ]
  },
  {
   "cell_type": "markdown",
   "metadata": {},
   "source": [
    "In total **1** extreme observations was eliminated and **17** persons of interest remain in the dataset."
   ]
  },
  {
   "cell_type": "markdown",
   "metadata": {},
   "source": [
    "## Email data"
   ]
  },
  {
   "cell_type": "markdown",
   "metadata": {},
   "source": [
    "Moving on, I will now investigate the email metadata available."
   ]
  },
  {
   "cell_type": "code",
   "execution_count": 12,
   "metadata": {},
   "outputs": [
    {
     "name": "stdout",
     "output_type": "stream",
     "text": [
      "(145, 7)\n"
     ]
    },
    {
     "data": {
      "text/html": [
       "<div>\n",
       "<table border=\"1\" class=\"dataframe\">\n",
       "  <thead>\n",
       "    <tr style=\"text-align: right;\">\n",
       "      <th></th>\n",
       "      <th>to_messages</th>\n",
       "      <th>from_poi_to_this_person</th>\n",
       "      <th>from_messages</th>\n",
       "      <th>from_this_person_to_poi</th>\n",
       "      <th>shared_receipt_with_poi</th>\n",
       "      <th>poi</th>\n",
       "    </tr>\n",
       "  </thead>\n",
       "  <tbody>\n",
       "    <tr>\n",
       "      <th>ALLEN PHILLIP K</th>\n",
       "      <td>2902.0</td>\n",
       "      <td>47.0</td>\n",
       "      <td>2195.0</td>\n",
       "      <td>65.0</td>\n",
       "      <td>1407.0</td>\n",
       "      <td>False</td>\n",
       "    </tr>\n",
       "    <tr>\n",
       "      <th>BADUM JAMES P</th>\n",
       "      <td>NaN</td>\n",
       "      <td>NaN</td>\n",
       "      <td>NaN</td>\n",
       "      <td>NaN</td>\n",
       "      <td>NaN</td>\n",
       "      <td>False</td>\n",
       "    </tr>\n",
       "    <tr>\n",
       "      <th>BANNANTINE JAMES M</th>\n",
       "      <td>566.0</td>\n",
       "      <td>39.0</td>\n",
       "      <td>29.0</td>\n",
       "      <td>0.0</td>\n",
       "      <td>465.0</td>\n",
       "      <td>False</td>\n",
       "    </tr>\n",
       "    <tr>\n",
       "      <th>BAXTER JOHN C</th>\n",
       "      <td>NaN</td>\n",
       "      <td>NaN</td>\n",
       "      <td>NaN</td>\n",
       "      <td>NaN</td>\n",
       "      <td>NaN</td>\n",
       "      <td>False</td>\n",
       "    </tr>\n",
       "    <tr>\n",
       "      <th>BAY FRANKLIN R</th>\n",
       "      <td>NaN</td>\n",
       "      <td>NaN</td>\n",
       "      <td>NaN</td>\n",
       "      <td>NaN</td>\n",
       "      <td>NaN</td>\n",
       "      <td>False</td>\n",
       "    </tr>\n",
       "  </tbody>\n",
       "</table>\n",
       "</div>"
      ],
      "text/plain": [
       "                    to_messages  from_poi_to_this_person  from_messages  \\\n",
       "ALLEN PHILLIP K          2902.0                     47.0         2195.0   \n",
       "BADUM JAMES P               NaN                      NaN            NaN   \n",
       "BANNANTINE JAMES M        566.0                     39.0           29.0   \n",
       "BAXTER JOHN C               NaN                      NaN            NaN   \n",
       "BAY FRANKLIN R              NaN                      NaN            NaN   \n",
       "\n",
       "                    from_this_person_to_poi  shared_receipt_with_poi    poi  \n",
       "ALLEN PHILLIP K                        65.0                   1407.0  False  \n",
       "BADUM JAMES P                           NaN                      NaN  False  \n",
       "BANNANTINE JAMES M                      0.0                    465.0  False  \n",
       "BAXTER JOHN C                           NaN                      NaN  False  \n",
       "BAY FRANKLIN R                          NaN                      NaN  False  "
      ]
     },
     "execution_count": 12,
     "metadata": {},
     "output_type": "execute_result"
    }
   ],
   "source": [
    "mail_df = df[mail_features]\n",
    "print mail_df.shape\n",
    "mail_df = mail_df.drop(\"email_address\",axis=1)\n",
    "mail_df.head()"
   ]
  },
  {
   "cell_type": "markdown",
   "metadata": {},
   "source": [
    "There are 7 features related to mailing data, however, the feature **email_address** is likely to be a leakage variable and also contains no relevant information, which is why it is discarded straight away."
   ]
  },
  {
   "cell_type": "code",
   "execution_count": 13,
   "metadata": {},
   "outputs": [
    {
     "data": {
      "text/plain": [
       "<seaborn.axisgrid.PairGrid at 0xcbd41d0>"
      ]
     },
     "execution_count": 13,
     "metadata": {},
     "output_type": "execute_result"
    },
    {
     "data": {
      "image/png": "[encoded data removed]",
      "text/plain": [
       "<matplotlib.figure.Figure at 0xd097240>"
      ]
     },
     "metadata": {},
     "output_type": "display_data"
    }
   ],
   "source": [
    "import matplotlib.pyplot as plt\n",
    "import seaborn as sns\n",
    "\n",
    "%matplotlib inline\n",
    "\n",
    "sns.pairplot(mail_df.dropna(), hue=\"poi\",vars = [\"to_messages\",\"from_poi_to_this_person\",\"from_messages\",\"from_this_person_to_poi\",\n",
    "                                       \"shared_receipt_with_poi\"])"
   ]
  },
  {
   "cell_type": "markdown",
   "metadata": {},
   "source": [
    "From the scatter matrix above with all mail features in the data set, I conclude that there might be outliers for **from_messages** and **from_poi_to_this_person**. Moreover, there are some linear relationships among the features. To make more sense of these relationships I calculated new features using **from_messages** and **to_messages** as points of reference."
   ]
  },
  {
   "cell_type": "code",
   "execution_count": 14,
   "metadata": {},
   "outputs": [
    {
     "data": {
      "text/plain": [
       "<seaborn.axisgrid.PairGrid at 0x110f2048>"
      ]
     },
     "execution_count": 14,
     "metadata": {},
     "output_type": "execute_result"
    },
    {
     "data": {
      "image/png": "[encoded data removed]",
      "text/plain": [
       "<matplotlib.figure.Figure at 0x110f2470>"
      ]
     },
     "metadata": {},
     "output_type": "display_data"
    }
   ],
   "source": [
    "mail_df_new = mail_df\n",
    "\n",
    "# Relative features based on to_messages\n",
    "mail_df_new[\"relative_receipt_from_poi\"] = mail_df_new[\"from_poi_to_this_person\"]/mail_df_new[\"to_messages\"]*1.0\n",
    "mail_df_new[\"relative_shared_receipt_with_poi\"] = mail_df_new[\"shared_receipt_with_poi\"]/mail_df_new[\"to_messages\"]*1.0\n",
    "\n",
    "# Relative features based on from_messages\n",
    "mail_df_new[\"relative_sent_to_poi\"] =mail_df_new[\"from_this_person_to_poi\"]/mail_df_new[\"from_messages\"]*1.0\n",
    "\n",
    "mail_df_new = mail_df_new[[\"relative_receipt_from_poi\",\"relative_shared_receipt_with_poi\",\"relative_sent_to_poi\",\"poi\"]]\n",
    "\n",
    "sns.pairplot(mail_df_new.dropna(), hue=\"poi\",vars = [\"relative_receipt_from_poi\",\"relative_shared_receipt_with_poi\",\n",
    "                                                     \"relative_sent_to_poi\"])"
   ]
  },
  {
   "cell_type": "markdown",
   "metadata": {},
   "source": [
    "I have created three new features, which are according to the scatter plots above much better capable of separating the target classes:\n",
    "1. **relative_receipt_from_poi** - fraction of total mails received from a POI\n",
    "2. **relative_shared_receipt_with_poi** - fraction of total mails received, where a POI also received the same email\n",
    "3. **relative_sent_to_poi** - fraction of total mails sent to a POI \n"
   ]
  },
  {
   "cell_type": "code",
   "execution_count": 15,
   "metadata": {},
   "outputs": [
    {
     "name": "stdout",
     "output_type": "stream",
     "text": [
      "(123, 2)\n",
      "(74, 5)\n"
     ]
    },
    {
     "data": {
      "text/plain": [
       "False    61\n",
       "True     13\n",
       "Name: poi, dtype: int64"
      ]
     },
     "execution_count": 15,
     "metadata": {},
     "output_type": "execute_result"
    }
   ],
   "source": [
    "cleaned_mail_data = mail_df_new.dropna().drop(\"poi\",axis=1)\n",
    "no_text_data = cleaned_fin_df.merge(cleaned_mail_data,left_index=True,right_index=True,copy=False)\n",
    "print cleaned_fin_df.shape\n",
    "print no_text_data.shape\n",
    "no_text_data[\"poi\"].value_counts()"
   ]
  },
  {
   "cell_type": "markdown",
   "metadata": {},
   "source": [
    "When joining the financial and email metadata a total of 74 observations/ samples remain in the dataset, including a total of 13 persons of interest (POI's)."
   ]
  },
  {
   "cell_type": "markdown",
   "metadata": {},
   "source": [
    "### Feature extraction - Mail content"
   ]
  },
  {
   "cell_type": "markdown",
   "metadata": {},
   "source": [
    "So far, I have accumulated a feature set which consists of five variables containing financial information and email metadata for each individual person in the dataset. However, I assume that the mail content itself contains most likely fairly distinctive features for POI's. By applying common sense, we can expect that Enron employees involved in criminal activities were concerned and hence, wrote about different topics compared to lawful employees.\n"
   ]
  },
  {
   "cell_type": "code",
   "execution_count": 16,
   "metadata": {},
   "outputs": [
    {
     "name": "stdout",
     "output_type": "stream",
     "text": [
      "Wall time: 1e+03 µs\n"
     ]
    }
   ],
   "source": [
    "%%time\n",
    "\n",
    "import os\n",
    "import sys\n",
    "from parse_out_email_text import getMails\n",
    "\n",
    "if 0==1:\n",
    "    cwd = os.getcwd()\n",
    "    path = cwd + \"\\emails_by_address\\\\\"\n",
    "    files = os.listdir(path)\n",
    "\n",
    "    mails_content_data = []\n",
    "\n",
    "    for item in files:\n",
    "        records = getMails(item,path)\n",
    "        if records != None:\n",
    "            mails_content_data.extend(records)\n",
    "\n",
    "    mails_df = pd.DataFrame.from_dict(mails_content_data)\n",
    "\n",
    "    # Lets save the 246.000 mails\n",
    "    mails_df.to_pickle(cwd+\"email_content.pkl\")\n",
    "\n",
    "    print mails_df.shape\n"
   ]
  },
  {
   "cell_type": "markdown",
   "metadata": {},
   "source": [
    "In order to get the mail content for the 111 Enron employees (actually the mail data for 25 employees is not available) I wrote a function, which parses through all the email data files and extracts the content of the mails into a pandas dataframe. (The email content data was downloaded from: [Enron Email Dataset](https://www.cs.cmu.edu/~./enron/))"
   ]
  },
  {
   "cell_type": "code",
   "execution_count": 17,
   "metadata": {},
   "outputs": [
    {
     "name": "stdout",
     "output_type": "stream",
     "text": [
      "245893\n"
     ]
    },
    {
     "data": {
      "text/html": [
       "<div>\n",
       "<table border=\"1\" class=\"dataframe\">\n",
       "  <thead>\n",
       "    <tr style=\"text-align: right;\">\n",
       "      <th></th>\n",
       "      <th>email_address</th>\n",
       "      <th>mail_content</th>\n",
       "      <th>mail_type</th>\n",
       "    </tr>\n",
       "  </thead>\n",
       "  <tbody>\n",
       "    <tr>\n",
       "      <th>0</th>\n",
       "      <td>a..martin@enron.com</td>\n",
       "      <td>eric bass 62502PST\\n\\nTry to go to this if yo...</td>\n",
       "      <td>from</td>\n",
       "    </tr>\n",
       "    <tr>\n",
       "      <th>1</th>\n",
       "      <td>a..martin@enron.com</td>\n",
       "      <td>eric bass 62502PST\\n\\nAny thoughts\\n\\nTom\\n\\n...</td>\n",
       "      <td>from</td>\n",
       "    </tr>\n",
       "    <tr>\n",
       "      <th>2</th>\n",
       "      <td>a..martin@enron.com</td>\n",
       "      <td>SBRAWNE NonPrivilegedpst\\n\\nIf you dont know ...</td>\n",
       "      <td>from</td>\n",
       "    </tr>\n",
       "    <tr>\n",
       "      <th>3</th>\n",
       "      <td>a..martin@enron.com</td>\n",
       "      <td>dfarmer NonPrivilegedpst\\n\\nThought you guys ...</td>\n",
       "      <td>from</td>\n",
       "    </tr>\n",
       "    <tr>\n",
       "      <th>4</th>\n",
       "      <td>a..martin@enron.com</td>\n",
       "      <td>darren farmer 62602pst\\n\\n\\n\\n Original Messa...</td>\n",
       "      <td>from</td>\n",
       "    </tr>\n",
       "  </tbody>\n",
       "</table>\n",
       "</div>"
      ],
      "text/plain": [
       "         email_address                                       mail_content  \\\n",
       "0  a..martin@enron.com   eric bass 62502PST\\n\\nTry to go to this if yo...   \n",
       "1  a..martin@enron.com   eric bass 62502PST\\n\\nAny thoughts\\n\\nTom\\n\\n...   \n",
       "2  a..martin@enron.com   SBRAWNE NonPrivilegedpst\\n\\nIf you dont know ...   \n",
       "3  a..martin@enron.com   dfarmer NonPrivilegedpst\\n\\nThought you guys ...   \n",
       "4  a..martin@enron.com   darren farmer 62602pst\\n\\n\\n\\n Original Messa...   \n",
       "\n",
       "  mail_type  \n",
       "0      from  \n",
       "1      from  \n",
       "2      from  \n",
       "3      from  \n",
       "4      from  "
      ]
     },
     "execution_count": 17,
     "metadata": {},
     "output_type": "execute_result"
    }
   ],
   "source": [
    "mails_df = pd.read_pickle(\"email_content.pkl\")\n",
    "print len(mails_df)\n",
    "mails_df.head()"
   ]
  },
  {
   "cell_type": "code",
   "execution_count": 18,
   "metadata": {},
   "outputs": [
    {
     "data": {
      "text/plain": [
       "86"
      ]
     },
     "execution_count": 18,
     "metadata": {},
     "output_type": "execute_result"
    }
   ],
   "source": [
    "mails_df.groupby('email_address')[\"email_address\"].nunique(dropna=True).count()"
   ]
  },
  {
   "cell_type": "markdown",
   "metadata": {},
   "source": [
    "The mails_data includes 246.000 mails for 86 Enron employees in our dataset. In order to use this text data for training a predictive model, some text pre-processing is required."
   ]
  },
  {
   "cell_type": "markdown",
   "metadata": {},
   "source": [
    "#### Pre-processing the mails data"
   ]
  },
  {
   "cell_type": "markdown",
   "metadata": {},
   "source": [
    "For processing the text data I will use the [SpaCy](www.spacy.io) and [Gensim](https://radimrehurek.com/gensim/) libraries, which implement convenient algorithms for pre-processing and modelling text-based data."
   ]
  },
  {
   "cell_type": "code",
   "execution_count": 19,
   "metadata": {
    "collapsed": true
   },
   "outputs": [],
   "source": [
    "# Loading the packages and the data\n",
    "import spacy\n",
    "nlp = spacy.load('en')\n",
    "mails_df = pd.read_pickle(\"email_content.pkl\")"
   ]
  },
  {
   "cell_type": "code",
   "execution_count": 20,
   "metadata": {},
   "outputs": [
    {
     "name": "stdout",
     "output_type": "stream",
     "text": [
      "232027\n",
      "\n",
      "Old:\n",
      " swhite NonPrivilegedpst\n",
      "\n",
      "\n",
      "The preliminary should be out by the end of the day on the 2nd of January \n",
      "not the 1st as noted below\n",
      "\n",
      "Sorry for the confusion\n",
      "\n",
      "Regards\n",
      "\n",
      "\n",
      " Original Message\n",
      "From 09Wilson Shona 20\n",
      "Sent09Friday December 28 2001 914 AM\n",
      "To09Abel Chris Andrews Naveen Apollo Beth Beck Sally Belden Tim\n",
      " Bowen Jr Raymond Bradford William S Brooks Loretta Buy Rick Cast\n",
      "leman Kent Causey Richard Cockrell Rainier Colwell Wes Curry Wanda\n",
      " Day Misti Delainey David W Dietrich Janet Fallon Jim Frevert Ma\n",
      "rk Gold Joe Gossett Jeffrey C Haedicke Mark E Hagelmann Bjorn Ha\n",
      "ll D Todd Hanson Kristen J Hardy Trey Hayden Frank Helton Susan\n",
      " Hickerson Gary Hillis Kimberly Hodges Georgeanne Kaminski Vince J \n",
      "Kass Michael Kathol Sherri Killen Faith Kitchen Louise Lavorato Jo\n",
      "hn Lay Kenneth McKinney Hal McMahon Jeffrey Mills Scott Moscoso M\n",
      "ichael E Murphy Ted New James Piper Greg Port David Presto Kevin\n",
      " M Schmidt Darin Schoppe Tammie Shepperd Tammy R Talley Darin Ue\n",
      "ckert Allen W Valdez Veronica Whalley Greg White Stacey W Whiting\n",
      " Greg Albrecht Kristin Ayala Susie Best John Brackett Debbie R B\n",
      "ranem Hansen Trond Brown Matt A Bruce Michelle Carrington Clara Ch\n",
      "ang Fran Chew Carol Evans Casey Fondren Mark Gillis Brian Keiser\n",
      " Kam Latham Jenny Leuschen Sam Lewis  Jon Paul Mason Heidi Miralle\n",
      "s Albert Oliver David Powell John D Prejean Frank Ramesh Ganapath\n",
      "y Reeves Kathy Swinney John Taylor Dimitri Thomas Sheri ThraneNie\n",
      "lsen Didrik Trevino Susan Vinson Donald Wayne\n",
      "Subject09DPR reporting\n",
      "\n",
      "Plans for the reporting of the consolidated DPR are\n",
      "\n",
      "For trading date Friday December 28th  No DPR\n",
      "For trading date Monday December 31st  Our goal is to publish this in pre\n",
      "liminary form by the end of the day Monday 1102 Tuesday 1202 \n",
      "\n",
      "Please call me if you have questions or comments about this reporting sched\n",
      "ule\n",
      "\n",
      "I wish you all a happy New Year\n",
      "\n",
      "Regards\n",
      "\n",
      "Shona Wilson\n",
      "Director Global Risk Operations\n",
      "X39123\n",
      "\n",
      "New:\n",
      "\n",
      "The preliminary should be out by the end of the day on the 2nd of January \n",
      "not the 1st as noted below\n",
      "\n",
      "Sorry for the confusion\n",
      "\n",
      "Regards\n",
      "\n",
      "\n",
      " \n"
     ]
    }
   ],
   "source": [
    "import re\n",
    "import random\n",
    "\n",
    "line = 232027\n",
    "print line\n",
    "print\n",
    "print \"Old:\"\n",
    "print mails_df.iloc[line,1]\n",
    "print\n",
    "print \"New:\"\n",
    "\n",
    "try:\n",
    "    fwd_pattern = re.compile (r\"^(.*?)\\n\\n(.*?)(Original Message|Forwarded)(.*)\",re.DOTALL)\n",
    "    matched_txt = fwd_pattern.search(mails_df.iloc[line,1])\n",
    "    print matched_txt.group(2)\n",
    "except:\n",
    "    normal_pattern = re.compile (r\"^(.*?)\\n\\n(.*)\",re.DOTALL)\n",
    "    matched_txt = normal_pattern.search(mails_df.iloc[line,1])\n",
    "    print matched_txt.group(2)\n",
    "    "
   ]
  },
  {
   "cell_type": "markdown",
   "metadata": {},
   "source": [
    "As you can see above the original mails data (referred to as Old) is still some kind of messy. Therefore, I will try to clean the data a little bit, which you can see at the bottom (referred to as New):\n",
    "1. In all mails the first line is a file description, but not part of the mail body. Therefore I will remove that line.\n",
    "2. A lot of emails have \"Original Messages\" or \"Forwarded\" messages attached. In order to prevent an email to show up multiple times in the analysis and therefore, being overemphasized, I will remove these attachements."
   ]
  },
  {
   "cell_type": "code",
   "execution_count": 21,
   "metadata": {},
   "outputs": [
    {
     "name": "stdout",
     "output_type": "stream",
     "text": [
      "Wall time: 1.26 s\n"
     ]
    }
   ],
   "source": [
    "%%time\n",
    "\n",
    "# Be careful, it will take some time to go through all 245.000 mails\n",
    "\n",
    "if 0==1:\n",
    "    for i, row in mails_df.iterrows():\n",
    "        content = row[\"mail_content\"]\n",
    "        try:\n",
    "            matched_txt = fwd_pattern.search(content)\n",
    "            row[\"mail_content\"] = matched_txt.group(2)\n",
    "        except:\n",
    "            matched_txt = normal_pattern.search(content)\n",
    "            row[\"mail_content\"] = matched_txt.group(2)\n",
    "\n",
    "    # Lets save the cleaned mails\n",
    "    mails_df.to_pickle(cwd+\"email_content_clean.pkl\")\n",
    "\n",
    "    print mails_df.iloc[line,1]\n",
    "mails_df = pd.read_pickle(\"email_content_clean.pkl\")    "
   ]
  },
  {
   "cell_type": "code",
   "execution_count": 22,
   "metadata": {},
   "outputs": [
    {
     "name": "stdout",
     "output_type": "stream",
     "text": [
      "\n",
      "The preliminary should be out by the end of the day on the 2nd of January \n",
      "not the 1st as noted below\n",
      "\n",
      "Sorry for the confusion\n",
      "\n",
      "Regards\n",
      "\n",
      "\n",
      " \n"
     ]
    }
   ],
   "source": [
    "print mails_df.iloc[line,1]"
   ]
  },
  {
   "cell_type": "markdown",
   "metadata": {},
   "source": [
    "After pre-processing the mails content, we get the clean and raw email-messages like the one shown above."
   ]
  },
  {
   "cell_type": "code",
   "execution_count": 23,
   "metadata": {},
   "outputs": [
    {
     "name": "stdout",
     "output_type": "stream",
     "text": [
      "Wall time: 0 ns\n"
     ]
    }
   ],
   "source": [
    "%%time\n",
    "if 0 ==1:\n",
    "    for i, row in mails_df.iterrows():\n",
    "        row[\"mail_content\"] = unicode(row[\"mail_content\"].replace('\\n\\n', '\\n'),\"utf-8\")\n",
    "    mails_df.to_pickle(\"email_content_cleaned_uni.pkl\")"
   ]
  },
  {
   "cell_type": "code",
   "execution_count": 24,
   "metadata": {},
   "outputs": [
    {
     "name": "stdout",
     "output_type": "stream",
     "text": [
      "Wall time: 1.46 s\n"
     ]
    }
   ],
   "source": [
    "%%time\n",
    "mails_df = pd.read_pickle(\"email_content_cleaned_uni.pkl\")\n",
    "\n",
    "contents = list(mails_df[\"mail_content\"])\n",
    "parsed_content = nlp(contents[line])"
   ]
  },
  {
   "cell_type": "code",
   "execution_count": 25,
   "metadata": {},
   "outputs": [
    {
     "data": {
      "text/html": [
       "<div>\n",
       "<table border=\"1\" class=\"dataframe\">\n",
       "  <thead>\n",
       "    <tr style=\"text-align: right;\">\n",
       "      <th></th>\n",
       "      <th>token_text</th>\n",
       "      <th>part_of_speech</th>\n",
       "      <th>Entity_type</th>\n",
       "      <th>token_lemma</th>\n",
       "      <th>stopword</th>\n",
       "    </tr>\n",
       "  </thead>\n",
       "  <tbody>\n",
       "    <tr>\n",
       "      <th>0</th>\n",
       "      <td>\\n</td>\n",
       "      <td>SPACE</td>\n",
       "      <td></td>\n",
       "      <td>\\n</td>\n",
       "      <td>False</td>\n",
       "    </tr>\n",
       "    <tr>\n",
       "      <th>1</th>\n",
       "      <td>The</td>\n",
       "      <td>DET</td>\n",
       "      <td></td>\n",
       "      <td>the</td>\n",
       "      <td>True</td>\n",
       "    </tr>\n",
       "    <tr>\n",
       "      <th>2</th>\n",
       "      <td>preliminary</td>\n",
       "      <td>ADJ</td>\n",
       "      <td></td>\n",
       "      <td>preliminary</td>\n",
       "      <td>False</td>\n",
       "    </tr>\n",
       "    <tr>\n",
       "      <th>3</th>\n",
       "      <td>should</td>\n",
       "      <td>VERB</td>\n",
       "      <td></td>\n",
       "      <td>should</td>\n",
       "      <td>True</td>\n",
       "    </tr>\n",
       "    <tr>\n",
       "      <th>4</th>\n",
       "      <td>be</td>\n",
       "      <td>VERB</td>\n",
       "      <td></td>\n",
       "      <td>be</td>\n",
       "      <td>True</td>\n",
       "    </tr>\n",
       "  </tbody>\n",
       "</table>\n",
       "</div>"
      ],
      "text/plain": [
       "    token_text part_of_speech Entity_type  token_lemma stopword\n",
       "0           \\n          SPACE                       \\n    False\n",
       "1          The            DET                      the     True\n",
       "2  preliminary            ADJ              preliminary    False\n",
       "3       should           VERB                   should     True\n",
       "4           be           VERB                       be     True"
      ]
     },
     "execution_count": 25,
     "metadata": {},
     "output_type": "execute_result"
    }
   ],
   "source": [
    "token_text = [token.orth_ for token in parsed_content]\n",
    "token_pos = [token.pos_ for token in parsed_content]\n",
    "token_entity_type = [token.ent_type_ for token in parsed_content]\n",
    "token_lemma = [token.lemma_ for token in parsed_content]\n",
    "token_stop = [token.is_stop for token in parsed_content]\n",
    "\n",
    "pd.DataFrame(zip(token_text, token_pos,token_entity_type,token_lemma,token_stop),\n",
    "             columns=['token_text', 'part_of_speech',\"Entity_type\",\"token_lemma\",\"stopword\"]).head()"
   ]
  },
  {
   "cell_type": "markdown",
   "metadata": {},
   "source": [
    "The table above shows, how the mail body is tokenized using SpaCy. Moreover, SpaCy has efficient built-in functions for lemmatization,POS-tagging, Named-Entity-Recognition and stop word recognition. I will use these functions to normalize and further clean the content of the emails."
   ]
  },
  {
   "cell_type": "code",
   "execution_count": 26,
   "metadata": {},
   "outputs": [
    {
     "name": "stdout",
     "output_type": "stream",
     "text": [
      "Wall time: 0 ns\n"
     ]
    }
   ],
   "source": [
    "%%time\n",
    "\n",
    "# Normalize all emails in the data set\n",
    "if 0==1:\n",
    "    from process_text import process_all_mails\n",
    "\n",
    "    tidy_contents = process_all_mails(mails_df[\"mail_content\"])"
   ]
  },
  {
   "cell_type": "code",
   "execution_count": 27,
   "metadata": {},
   "outputs": [
    {
     "data": {
      "text/plain": [
       "'preliminary end day 2nd january 1st note sorry confusion regard'"
      ]
     },
     "execution_count": 27,
     "metadata": {},
     "output_type": "execute_result"
    }
   ],
   "source": [
    "import cPickle\n",
    "tidy_contents = cPickle.load(open('normal_contents.p', 'rb'))\n",
    "tidy_contents[line]"
   ]
  },
  {
   "cell_type": "markdown",
   "metadata": {},
   "source": [
    "After applying the spaCy algorithms, the dataset now only contains the cleaned and lemmatized words as shown in the example above. Note how the email data has changed compared to the original mail content. This data is now being added to our mail content dataset."
   ]
  },
  {
   "cell_type": "code",
   "execution_count": 28,
   "metadata": {},
   "outputs": [
    {
     "data": {
      "text/html": [
       "<div>\n",
       "<table border=\"1\" class=\"dataframe\">\n",
       "  <thead>\n",
       "    <tr style=\"text-align: right;\">\n",
       "      <th></th>\n",
       "      <th>email_address</th>\n",
       "      <th>mail_content</th>\n",
       "      <th>mail_type</th>\n",
       "      <th>clean_mail_content</th>\n",
       "    </tr>\n",
       "  </thead>\n",
       "  <tbody>\n",
       "    <tr>\n",
       "      <th>0</th>\n",
       "      <td>a..martin@enron.com</td>\n",
       "      <td>Try to go to this if you can\\nTom\\n</td>\n",
       "      <td>from</td>\n",
       "      <td>try tom</td>\n",
       "    </tr>\n",
       "    <tr>\n",
       "      <th>1</th>\n",
       "      <td>a..martin@enron.com</td>\n",
       "      <td>Any thoughts\\nTom\\n</td>\n",
       "      <td>from</td>\n",
       "      <td>thought tom</td>\n",
       "    </tr>\n",
       "    <tr>\n",
       "      <th>2</th>\n",
       "      <td>a..martin@enron.com</td>\n",
       "      <td>If you dont know you should know by now that y...</td>\n",
       "      <td>from</td>\n",
       "      <td>not know know apologize tom</td>\n",
       "    </tr>\n",
       "    <tr>\n",
       "      <th>3</th>\n",
       "      <td>a..martin@enron.com</td>\n",
       "      <td>Thought you guys might like to see this\\nTom\\n</td>\n",
       "      <td>from</td>\n",
       "      <td>thought guy like tom</td>\n",
       "    </tr>\n",
       "    <tr>\n",
       "      <th>4</th>\n",
       "      <td>a..martin@enron.com</td>\n",
       "      <td>\\n</td>\n",
       "      <td>from</td>\n",
       "      <td>None</td>\n",
       "    </tr>\n",
       "  </tbody>\n",
       "</table>\n",
       "</div>"
      ],
      "text/plain": [
       "         email_address                                       mail_content  \\\n",
       "0  a..martin@enron.com               Try to go to this if you can\\nTom\\n    \n",
       "1  a..martin@enron.com                               Any thoughts\\nTom\\n    \n",
       "2  a..martin@enron.com  If you dont know you should know by now that y...   \n",
       "3  a..martin@enron.com    Thought you guys might like to see this\\nTom\\n    \n",
       "4  a..martin@enron.com                                                \\n    \n",
       "\n",
       "  mail_type           clean_mail_content  \n",
       "0      from                      try tom  \n",
       "1      from                  thought tom  \n",
       "2      from  not know know apologize tom  \n",
       "3      from         thought guy like tom  \n",
       "4      from                         None  "
      ]
     },
     "execution_count": 28,
     "metadata": {},
     "output_type": "execute_result"
    }
   ],
   "source": [
    "#add the cleaned mail content to the mails_df and save it\n",
    "mails_df=pd.read_pickle(\"final_mails_data.pkl\")\n",
    "if 0 == 1:\n",
    "    import numpy as np\n",
    "    m = np.asarray(tidy_contents)\n",
    "    mails_df[\"clean_mail_content\"] = m\n",
    "\n",
    "    mails_df.to_pickle(\"final_mails_data.pkl\")\n",
    "mails_df.head()"
   ]
  },
  {
   "cell_type": "code",
   "execution_count": 29,
   "metadata": {},
   "outputs": [
    {
     "data": {
      "text/html": [
       "<div>\n",
       "<table border=\"1\" class=\"dataframe\">\n",
       "  <thead>\n",
       "    <tr style=\"text-align: right;\">\n",
       "      <th></th>\n",
       "      <th>email_address</th>\n",
       "      <th>mail_content</th>\n",
       "      <th>mail_type</th>\n",
       "      <th>clean_mail_content</th>\n",
       "      <th>names</th>\n",
       "    </tr>\n",
       "  </thead>\n",
       "  <tbody>\n",
       "    <tr>\n",
       "      <th>0</th>\n",
       "      <td>a..martin@enron.com</td>\n",
       "      <td>Try to go to this if you can\\nTom\\n</td>\n",
       "      <td>from</td>\n",
       "      <td>try tom</td>\n",
       "      <td>MARTIN AMANDA K</td>\n",
       "    </tr>\n",
       "    <tr>\n",
       "      <th>1</th>\n",
       "      <td>a..martin@enron.com</td>\n",
       "      <td>Any thoughts\\nTom\\n</td>\n",
       "      <td>from</td>\n",
       "      <td>thought tom</td>\n",
       "      <td>MARTIN AMANDA K</td>\n",
       "    </tr>\n",
       "    <tr>\n",
       "      <th>2</th>\n",
       "      <td>a..martin@enron.com</td>\n",
       "      <td>If you dont know you should know by now that y...</td>\n",
       "      <td>from</td>\n",
       "      <td>not know know apologize tom</td>\n",
       "      <td>MARTIN AMANDA K</td>\n",
       "    </tr>\n",
       "    <tr>\n",
       "      <th>3</th>\n",
       "      <td>a..martin@enron.com</td>\n",
       "      <td>Thought you guys might like to see this\\nTom\\n</td>\n",
       "      <td>from</td>\n",
       "      <td>thought guy like tom</td>\n",
       "      <td>MARTIN AMANDA K</td>\n",
       "    </tr>\n",
       "    <tr>\n",
       "      <th>4</th>\n",
       "      <td>a..martin@enron.com</td>\n",
       "      <td>\\n</td>\n",
       "      <td>from</td>\n",
       "      <td>None</td>\n",
       "      <td>MARTIN AMANDA K</td>\n",
       "    </tr>\n",
       "  </tbody>\n",
       "</table>\n",
       "</div>"
      ],
      "text/plain": [
       "         email_address                                       mail_content  \\\n",
       "0  a..martin@enron.com               Try to go to this if you can\\nTom\\n    \n",
       "1  a..martin@enron.com                               Any thoughts\\nTom\\n    \n",
       "2  a..martin@enron.com  If you dont know you should know by now that y...   \n",
       "3  a..martin@enron.com    Thought you guys might like to see this\\nTom\\n    \n",
       "4  a..martin@enron.com                                                \\n    \n",
       "\n",
       "  mail_type           clean_mail_content            names  \n",
       "0      from                      try tom  MARTIN AMANDA K  \n",
       "1      from                  thought tom  MARTIN AMANDA K  \n",
       "2      from  not know know apologize tom  MARTIN AMANDA K  \n",
       "3      from         thought guy like tom  MARTIN AMANDA K  \n",
       "4      from                         None  MARTIN AMANDA K  "
      ]
     },
     "execution_count": 29,
     "metadata": {},
     "output_type": "execute_result"
    }
   ],
   "source": [
    "# Get name index\n",
    "warnings.filterwarnings('ignore')\n",
    "\n",
    "index = df[[\"email_address\"]]\n",
    "index[\"names\"] = df.index\n",
    "mails_df = mails_df.merge(index, on=\"email_address\", how='inner')\n",
    "mails_df.head()"
   ]
  },
  {
   "cell_type": "markdown",
   "metadata": {},
   "source": [
    "In order to join the financial data, the email metadata and the mail text data, I need to prepare both dataset for merging. The names (as shown above in the last column) serve as indices and hence, will help to accomplish that."
   ]
  },
  {
   "cell_type": "code",
   "execution_count": 30,
   "metadata": {},
   "outputs": [
    {
     "data": {
      "text/plain": [
       "86"
      ]
     },
     "execution_count": 30,
     "metadata": {},
     "output_type": "execute_result"
    }
   ],
   "source": [
    "mails_df=mails_df[[\"names\",\"clean_mail_content\"]]\n",
    "mails_df=mails_df.dropna()\n",
    "mails_df[\"names\"].nunique()"
   ]
  },
  {
   "cell_type": "markdown",
   "metadata": {},
   "source": [
    "Next, I will join all mails for each unique name index to get one document with all mails per POI (in total 86)."
   ]
  },
  {
   "cell_type": "code",
   "execution_count": 31,
   "metadata": {
    "collapsed": true
   },
   "outputs": [],
   "source": [
    "grouped = mails_df.groupby(\"names\")\n",
    "grouped = grouped[\"clean_mail_content\"].apply(lambda x: \"%s\" % ' '.join(x))"
   ]
  },
  {
   "cell_type": "code",
   "execution_count": 32,
   "metadata": {},
   "outputs": [
    {
     "data": {
      "text/plain": [
       "(74, 5)"
      ]
     },
     "execution_count": 32,
     "metadata": {},
     "output_type": "execute_result"
    }
   ],
   "source": [
    "no_text_data.shape"
   ]
  },
  {
   "cell_type": "code",
   "execution_count": 33,
   "metadata": {},
   "outputs": [
    {
     "data": {
      "text/plain": [
       "(74, 6)"
      ]
     },
     "execution_count": 33,
     "metadata": {},
     "output_type": "execute_result"
    }
   ],
   "source": [
    "full_data = no_text_data.join(grouped,how=\"inner\")\n",
    "full_data.to_pickle(\"full_dataset.pkl\")\n",
    "full_data.shape"
   ]
  },
  {
   "cell_type": "markdown",
   "metadata": {},
   "source": [
    "Finally, I have merged the financial data, email metadata and text data into one dataset, which will server as the basis for all analysis from now on. Note that there are now only 74 observations left, since 12 persons in the financial dataset did not have any record in the email text data. Therefore, these had to be dropped."
   ]
  },
  {
   "cell_type": "markdown",
   "metadata": {},
   "source": [
    "#### Simple TF-IDF representation of mail data for each POI"
   ]
  },
  {
   "cell_type": "markdown",
   "metadata": {},
   "source": [
    "In order to use the mails content for training an algorithm, the text data needs to be transformed into some kind of numerical representation. The following is one option to achieve this."
   ]
  },
  {
   "cell_type": "code",
   "execution_count": 34,
   "metadata": {
    "collapsed": true
   },
   "outputs": [],
   "source": [
    "full_data = pd.read_pickle(\"full_dataset.pkl\")\n",
    "\n",
    "# Randomize dataset as it is currently sorted alphabetically\n",
    "np.random.seed(random_state)\n",
    "full_data = full_data.reindex(np.random.permutation(full_data.index))"
   ]
  },
  {
   "cell_type": "code",
   "execution_count": 35,
   "metadata": {},
   "outputs": [
    {
     "name": "stdout",
     "output_type": "stream",
     "text": [
      "Wall time: 33.1 s\n"
     ]
    }
   ],
   "source": [
    "%%time\n",
    "\n",
    "from sklearn.feature_extraction.text import TfidfVectorizer\n",
    "grouped = full_data[\"clean_mail_content\"]\n",
    "vectorizer = TfidfVectorizer(stop_words=\"english\",ngram_range=(1, 1),\n",
    "                            max_df=0.7,min_df=0.1)\n",
    "X = vectorizer.fit_transform(grouped)"
   ]
  },
  {
   "cell_type": "code",
   "execution_count": 36,
   "metadata": {},
   "outputs": [
    {
     "data": {
      "text/plain": [
       "(74, 23664)"
      ]
     },
     "execution_count": 36,
     "metadata": {},
     "output_type": "execute_result"
    }
   ],
   "source": [
    "X.shape"
   ]
  },
  {
   "cell_type": "code",
   "execution_count": 37,
   "metadata": {
    "collapsed": true
   },
   "outputs": [],
   "source": [
    "vocab = vectorizer.vocabulary_"
   ]
  },
  {
   "cell_type": "markdown",
   "metadata": {},
   "source": [
    "The code above extracted a [TF-IDF Matrix](https://en.wikipedia.org/wiki/Tf%E2%80%93idf) (i.e. a term frequency matrix) based on the text data, which can now be used for training a machine learning algorithm (Hyperparameters for the TF-IDF vectorizer are already tuned, please see further below how I tuned them)."
   ]
  },
  {
   "cell_type": "markdown",
   "metadata": {},
   "source": [
    "#### LDA Topic Distribution of mail content for each POI"
   ]
  },
  {
   "cell_type": "markdown",
   "metadata": {},
   "source": [
    "Since POI's might talk about specific topics in their emails, it might be useful to create \"mail-topic features\", which can be included to train the algorithm. This is possible by applying [Gensim's LDA](https://radimrehurek.com/gensim/models/ldamulticore.html) model to the text data and extract the topic distributions for each person in the dataset."
   ]
  },
  {
   "cell_type": "code",
   "execution_count": 38,
   "metadata": {
    "collapsed": true
   },
   "outputs": [],
   "source": [
    "# tokenize the normalized documents\n",
    "def tokenize(docs):\n",
    "    texts = []\n",
    "    for doc in docs:\n",
    "        tokens = doc.split()\n",
    "        texts.append(tokens)\n",
    "    return texts\n",
    "texts = tokenize(grouped)"
   ]
  },
  {
   "cell_type": "code",
   "execution_count": 39,
   "metadata": {},
   "outputs": [
    {
     "data": {
      "text/plain": [
       "33377"
      ]
     },
     "execution_count": 39,
     "metadata": {},
     "output_type": "execute_result"
    }
   ],
   "source": [
    "from gensim.corpora import Dictionary, MmCorpus\n",
    "from gensim.matutils import MmReader\n",
    "warnings.filterwarnings('ignore')\n",
    "\n",
    "# First build Dictionary from text data\n",
    "dictionary = Dictionary(texts)\n",
    "\n",
    "# filter tokens that are very rare or too common from\n",
    "# the dictionary (filter_extremes) and reassign integer ids (compactify)\n",
    "dictionary.filter_extremes()\n",
    "dictionary.compactify()\n",
    "\n",
    "#Save the dictionary to disk\n",
    "dictionary.save(\"mail_dict.dict\")\n",
    "\n",
    "len(dictionary)"
   ]
  },
  {
   "cell_type": "markdown",
   "metadata": {},
   "source": [
    "First, the text-data is transformed into a Gensim dictionary containing 33,377 words."
   ]
  },
  {
   "cell_type": "code",
   "execution_count": 40,
   "metadata": {},
   "outputs": [
    {
     "name": "stdout",
     "output_type": "stream",
     "text": [
      "Wall time: 25.1 s\n"
     ]
    }
   ],
   "source": [
    "%%time\n",
    "\n",
    "# create Bag-of-Words representation of the text data\n",
    "def bow_generator(docs):\n",
    "    \"\"\"\n",
    "    generator function to read mail docs\n",
    "    and yield a bag-of-words representation\n",
    "    \"\"\"\n",
    "    for doc in docs:\n",
    "        yield dictionary.doc2bow(doc)\n",
    "\n",
    "# generate bag-of-words representations for\n",
    "# all mails and save them as a matrix\n",
    "MmCorpus.serialize(\"Mail_corpus.mm\",\n",
    "                   bow_generator(texts))\n",
    "    \n",
    "# load the finished bag-of-words corpus from disk\n",
    "bow_corpus = MmCorpus(\"Mail_corpus.mm\")"
   ]
  },
  {
   "cell_type": "code",
   "execution_count": 41,
   "metadata": {},
   "outputs": [
    {
     "name": "stdout",
     "output_type": "stream",
     "text": [
      "MmCorpus(74 documents, 33377 features, 428657 non-zero entries)\n"
     ]
    }
   ],
   "source": [
    "print MmReader(\"Mail_corpus.mm\")"
   ]
  },
  {
   "cell_type": "markdown",
   "metadata": {},
   "source": [
    "From the dictionary, I created a bag of words representation of the text-data. This gives the corpus based on which the topic model is being trained."
   ]
  },
  {
   "cell_type": "code",
   "execution_count": 42,
   "metadata": {},
   "outputs": [
    {
     "name": "stdout",
     "output_type": "stream",
     "text": [
      "Wall time: 26.1 s\n"
     ]
    }
   ],
   "source": [
    "%%time\n",
    "\n",
    "from gensim.models.ldamulticore import LdaMulticore\n",
    "import warnings\n",
    "\n",
    "with warnings.catch_warnings():\n",
    "    warnings.simplefilter('ignore')\n",
    "\n",
    "    lda = LdaMulticore(bow_corpus,\n",
    "                       num_topics=10,\n",
    "                       id2word=dictionary,\n",
    "                       workers=3)\n",
    "\n",
    "lda.save(\"lda_model_all\")"
   ]
  },
  {
   "cell_type": "code",
   "execution_count": 43,
   "metadata": {
    "collapsed": true
   },
   "outputs": [],
   "source": [
    "def explore_topic(topic_number, topn=5):\n",
    "    \"\"\"\n",
    "    accept a user-supplied topic number and\n",
    "    print out a formatted list of the top terms\n",
    "    \"\"\"\n",
    "        \n",
    "    print u'{:20} {}'.format(u'term', u'frequency') + u'\\n'\n",
    "\n",
    "    for term, frequency in lda.show_topic(topic_number, topn=5):\n",
    "        print u'{:20} {:.3f}'.format(term, round(frequency, 3))"
   ]
  },
  {
   "cell_type": "code",
   "execution_count": 44,
   "metadata": {},
   "outputs": [
    {
     "name": "stdout",
     "output_type": "stream",
     "text": [
      "term                 frequency\n",
      "\n",
      "said20               0.005\n",
      "assembly             0.004\n",
      "avg                  0.003\n",
      "legislature          0.002\n",
      "dwr                  0.002\n"
     ]
    }
   ],
   "source": [
    "explore_topic(topic_number=0)"
   ]
  },
  {
   "cell_type": "markdown",
   "metadata": {},
   "source": [
    "After the topic model has been trained to identify **10 topics** in the data, each topic can be explored separately as shown above for topic no. 1. However, a more convenient way to explore the topics is to use the python library [pyLDAvis](https://github.com/bmabey/pyLDAvis)."
   ]
  },
  {
   "cell_type": "code",
   "execution_count": 45,
   "metadata": {},
   "outputs": [
    {
     "data": {
      "text/html": [
       "\n",
       "<link rel=\"stylesheet\" type=\"text/css\" href=\"https://cdn.rawgit.com/bmabey/pyLDAvis/files/ldavis.v1.0.0.css\">\n",
       "\n",
       "\n",
       "<div id=\"ldavis_el29566369667736962062555\"></div>\n",
       "<script type=\"text/javascript\">\n",
       "\n",
       "var ldavis_el29566369667736962062555_data = {\"plot.opts\": {\"xlab\": \"PC1\", \"ylab\": \"PC2\"}, \"topic.order\": [8, 9, 6, 1, 3, 10, 4, 7, 5, 2], \"token.table\": {\"Topic\": [1, 2, 3, 4, 5, 6, 7, 8, 9, 10, 1, 2, 3, 4, 5, 6, 7, 8, 9, 10, 1, 2, 3, 4, 5, 6, 7, 8, 9, 10, 1, 2, 3, 4, 5, 6, 7, 8, 9, 10, 1, 2, 3, 4, 5, 6, 7, 8, 9, 1, 2, 3, 4, 5, 6, 7, 8, 9, 10, 1, 2, 3, 4, 5, 6, 7, 8, 9, 10, 1, 2, 3, 4, 5, 6, 7, 8, 9, 10, 1, 2, 3, 4, 5, 6, 7, 8, 9, 10, 1, 2, 3, 4, 5, 6, 7, 8, 9, 10, 1, 2, 3, 4, 5, 6, 7, 8, 9, 10, 1, 2, 3, 4, 5, 6, 7, 8, 9, 10, 1, 2, 3, 4, 5, 6, 7, 8, 9, 10, 1, 2, 3, 4, 5, 6, 7, 8, 9, 10, 1, 2, 3, 4, 5, 6, 7, 8, 9, 10, 1, 2, 3, 4, 5, 6, 7, 8, 9, 10, 1, 2, 3, 4, 5, 6, 7, 8, 9, 10, 1, 2, 3, 4, 5, 6, 7, 8, 9, 10, 1, 2, 3, 4, 5, 6, 7, 8, 9, 10, 1, 2, 3, 4, 5, 6, 7, 8, 9, 10, 1, 2, 3, 4, 5, 6, 7, 8, 9, 10, 1, 2, 3, 4, 5, 6, 7, 8, 9, 10, 1, 2, 3, 4, 5, 6, 7, 8, 9, 10, 1, 2, 3, 4, 5, 6, 7, 8, 9, 10, 1, 2, 3, 4, 5, 6, 7, 8, 9, 10, 1, 2, 3, 4, 5, 6, 7, 8, 9, 10, 1, 2, 3, 4, 5, 6, 7, 8, 9, 10, 1, 2, 3, 4, 5, 6, 7, 8, 9, 10, 1, 2, 3, 4, 5, 6, 7, 8, 9, 10, 1, 2, 3, 4, 5, 6, 7, 8, 9, 10, 1, 2, 3, 4, 5, 6, 7, 9, 10, 1, 2, 3, 4, 5, 6, 7, 8, 9, 10, 1, 2, 3, 4, 5, 6, 7, 8, 9, 10, 1, 2, 3, 4, 5, 6, 7, 8, 9, 10, 1, 2, 3, 4, 5, 6, 7, 8, 9, 10, 1, 2, 3, 4, 5, 6, 7, 8, 9, 10, 1, 2, 3, 4, 5, 6, 7, 8, 9, 10, 1, 2, 3, 4, 5, 6, 7, 8, 9, 10, 1, 2, 3, 4, 5, 6, 7, 8, 9, 10, 1, 2, 3, 4, 5, 6, 7, 8, 9, 10, 1, 2, 3, 4, 5, 6, 7, 8, 9, 10, 1, 2, 3, 4, 5, 6, 7, 8, 9, 10, 1, 2, 3, 4, 5, 6, 7, 8, 9, 10, 1, 2, 3, 4, 5, 6, 7, 8, 9, 10, 1, 2, 3, 4, 5, 6, 7, 8, 9, 10, 1, 2, 3, 4, 5, 6, 7, 8, 9, 10, 1, 2, 3, 4, 5, 6, 7, 8, 9, 10, 1, 2, 3, 4, 5, 6, 7, 8, 9, 10, 1, 2, 3, 4, 5, 6, 7, 8, 9, 10, 1, 2, 3, 4, 5, 6, 7, 10, 1, 2, 3, 4, 5, 6, 7, 8, 9, 10, 1, 2, 3, 4, 5, 6, 7, 8, 9, 10, 1, 2, 3, 4, 5, 6, 7, 8, 9, 10, 1, 2, 3, 4, 5, 6, 7, 8, 9, 10, 1, 2, 3, 4, 5, 6, 7, 8, 9, 10, 1, 2, 3, 4, 5, 6, 7, 8, 9, 10, 1, 2, 3, 4, 5, 6, 7, 8, 9, 10, 1, 2, 3, 4, 5, 6, 7, 8, 9, 10, 1, 2, 3, 4, 5, 6, 7, 8, 9, 10, 1, 2, 3, 4, 5, 6, 7, 8, 9, 10, 1, 2, 3, 4, 5, 6, 7, 8, 9, 10, 1, 2, 3, 4, 5, 6, 7, 8, 9, 10, 1, 2, 3, 4, 5, 6, 7, 8, 9, 10, 1, 2, 3, 4, 5, 6, 7, 8, 9, 10, 1, 2, 3, 4, 5, 6, 7, 8, 9, 10, 1, 2, 3, 4, 5, 6, 7, 8, 9, 10, 1, 2, 3, 4, 5, 6, 7, 8, 9, 10, 1, 2, 3, 4, 5, 6, 7, 8, 9, 10, 1, 2, 3, 4, 5, 6, 7, 8, 9, 10, 1, 2, 3, 4, 5, 6, 7, 8, 9, 10, 1, 2, 3, 4, 5, 6, 7, 8, 9, 10, 1, 2, 3, 4, 5, 6, 7, 8, 9, 10, 1, 2, 3, 4, 5, 6, 7, 8, 9, 10, 1, 2, 3, 4, 5, 6, 7, 8, 9, 10, 1, 2, 3, 4, 5, 6, 7, 8, 9, 10, 1, 2, 3, 4, 5, 6, 7, 8, 9, 10, 1, 2, 3, 4, 5, 6, 7, 8, 9, 10, 1, 2, 3, 4, 5, 6, 7, 8, 9, 10, 1, 2, 3, 4, 5, 6, 7, 8, 9, 10, 1, 2, 3, 4, 5, 6, 7, 8, 9, 10, 1, 2, 3, 4, 5, 6, 7, 8, 9, 10, 1, 2, 3, 4, 5, 6, 7, 8, 9, 10, 1, 2, 3, 4, 5, 6, 7, 8, 9, 10, 1, 2, 3, 4, 5, 6, 7, 8, 9, 10, 1, 2, 3, 4, 5, 6, 7, 8, 9, 10, 1, 2, 3, 4, 5, 6, 7, 8, 9, 10, 1, 2, 3, 4, 5, 6, 7, 8, 9, 10, 1, 2, 3, 4, 5, 6, 7, 8, 9, 10, 1, 2, 3, 4, 5, 6, 7, 8, 9, 10, 1, 2, 3, 4, 5, 6, 7, 8, 10, 1, 2, 3, 4, 5, 6, 7, 8, 9, 10, 1, 2, 3, 4, 5, 6, 7, 8, 9, 10, 1, 2, 3, 4, 5, 6, 7, 8, 9, 1, 2, 3, 4, 5, 6, 7, 8, 9, 10, 1, 2, 3, 4, 5, 6, 7, 8, 9, 10, 1, 2, 3, 4, 5, 6, 7, 8, 9, 10, 1, 2, 3, 4, 5, 6, 7, 8, 9, 10, 1, 2, 3, 4, 5, 6, 7, 8, 9, 10, 1, 2, 3, 4, 5, 6, 7, 8, 9, 10, 1, 2, 3, 4, 5, 6, 7, 8, 9, 10, 1, 2, 3, 4, 5, 6, 7, 8, 9, 10, 1, 2, 3, 4, 5, 6, 7, 8, 9, 10, 1, 2, 3, 4, 5, 6, 7, 8, 9, 10, 1, 2, 3, 4, 5, 6, 7, 8, 9, 10, 1, 2, 3, 4, 5, 6, 7, 8, 9, 10, 1, 2, 3, 4, 5, 6, 7, 8, 9, 10, 1, 2, 3, 4, 5, 6, 7, 8, 9, 10, 1, 2, 3, 4, 5, 6, 7, 8, 9, 10, 1, 2, 3, 4, 5, 6, 7, 8, 9, 10, 1, 2, 3, 4, 5, 6, 7, 8, 9, 10, 1, 2, 3, 4, 5, 6, 7, 8, 9, 10, 1, 2, 3, 4, 5, 6, 7, 8, 9, 10, 1, 2, 3, 4, 5, 6, 7, 8, 9, 10, 1, 2, 3, 4, 5, 6, 7, 8, 9, 10, 1, 2, 3, 4, 5, 6, 7, 8, 9, 10, 1, 2, 3, 4, 5, 6, 7, 8, 9, 10, 1, 2, 3, 4, 5, 6, 7, 8, 9, 10, 1, 2, 3, 4, 5, 6, 7, 8, 9, 10, 1, 2, 3, 4, 5, 6, 7, 8, 9, 10, 1, 2, 3, 4, 5, 6, 7, 8, 9, 10, 1, 2, 3, 4, 5, 6, 7, 8, 9, 10, 1, 2, 3, 4, 5, 6, 7, 8, 9, 10, 1, 2, 3, 4, 5, 6, 7, 8, 9, 10, 1, 2, 3, 4, 5, 6, 7, 8, 9, 10, 1, 2, 3, 4, 5, 6, 7, 8, 9, 10, 1, 2, 3, 4, 5, 6, 7, 8, 9, 10, 1, 2, 3, 4, 5, 6, 7, 8, 9, 10, 1, 2, 3, 4, 5, 6, 7, 8, 9, 10, 1, 2, 3, 4, 5, 6, 7, 8, 9, 10, 1, 2, 3, 4, 5, 6, 7, 8, 9, 10, 1, 2, 3, 4, 5, 6, 7, 8, 9, 10, 1, 2, 3, 4, 5, 6, 7, 8, 9, 10, 1, 2, 3, 4, 5, 6, 7, 8, 9, 10, 1, 2, 3, 4, 5, 6, 7, 8, 9, 10, 1, 2, 3, 4, 5, 6, 7, 8, 9, 10, 1, 2, 3, 4, 5, 6, 7, 8, 9, 10, 1, 2, 3, 4, 5, 6, 7, 8, 9, 10, 1, 2, 3, 4, 5, 6, 7, 8, 9, 10, 1, 2, 3, 4, 5, 6, 7, 8, 9, 10, 1, 2, 3, 4, 5, 6, 7, 8, 9, 10, 1, 2, 3, 4, 5, 6, 7, 8, 9, 10, 1, 2, 3, 4, 5, 6, 7, 8, 9, 10, 1, 2, 3, 4, 5, 6, 7, 8, 9, 10, 1, 2, 3, 4, 5, 6, 7, 8, 9, 10, 1, 2, 3, 4, 5, 6, 7, 8, 9, 10, 1, 2, 3, 4, 5, 6, 7, 8, 9, 10, 1, 2, 3, 4, 5, 6, 7, 8, 9, 10, 1, 2, 3, 4, 5, 6, 7, 8, 9, 10, 1, 2, 3, 4, 5, 6, 7, 8, 9, 10, 1, 2, 3, 4, 5, 6, 7, 8, 9, 10, 1, 2, 3, 4, 5, 6, 7, 8, 9, 10, 1, 2, 3, 4, 5, 6, 7, 8, 9, 10, 1, 2, 3, 4, 5, 6, 7, 8, 9, 10, 1, 2, 3, 4, 5, 6, 7, 8, 9, 10, 1, 2, 3, 4, 5, 6, 7, 8, 9, 10, 1, 2, 3, 4, 5, 6, 7, 8, 9, 10, 1, 2, 3, 4, 5, 6, 7, 8, 9, 10, 1, 2, 3, 4, 5, 6, 7, 8, 9, 10, 1, 2, 3, 4, 5, 6, 7, 8, 9, 1, 2, 3, 4, 5, 6, 7, 8, 9, 10, 1, 2, 3, 4, 5, 6, 7, 8, 9, 10, 1, 2, 3, 4, 5, 6, 7, 8, 9, 10, 1, 2, 3, 4, 5, 6, 7, 8, 9, 10, 1, 2, 3, 4, 5, 6, 7, 8, 9, 10, 1, 2, 3, 4, 5, 6, 7, 8, 9, 10, 1, 2, 3, 4, 5, 6, 7, 8, 9, 10, 1, 2, 3, 4, 5, 6, 7, 8, 9, 10, 1, 2, 3, 4, 5, 6, 7, 8, 9, 10, 1, 2, 3, 4, 5, 6, 7, 8, 9, 10, 1, 2, 3, 4, 5, 6, 7, 8, 9, 10, 1, 2, 3, 4, 5, 6, 7, 8, 9, 10, 1, 2, 3, 4, 5, 6, 7, 8, 9, 10, 1, 2, 3, 4, 5, 6, 7, 8, 9, 10, 1, 2, 3, 4, 5, 6, 7, 8, 9, 10, 1, 2, 3, 4, 5, 6, 7, 8, 9, 10, 1, 2, 3, 4, 5, 6, 7, 8, 9, 10, 1, 2, 3, 4, 5, 6, 7, 8, 9, 10, 1, 2, 3, 4, 5, 6, 7, 8, 9, 10, 1, 2, 3, 4, 5, 6, 7, 8, 9, 10, 1, 2, 3, 4, 5, 6, 7, 8, 9, 10, 1, 2, 3, 4, 5, 6, 7, 8, 9, 10, 1, 2, 3, 4, 5, 6, 7, 8, 9, 10, 1, 2, 3, 4, 5, 6, 7, 8, 9, 10, 1, 2, 3, 4, 5, 6, 7, 8, 9, 10, 1, 2, 3, 4, 5, 6, 7, 8, 9, 10, 1, 2, 3, 4, 5, 6, 7, 8, 9, 10, 1, 2, 3, 4, 5, 6, 7, 8, 9, 10, 1, 2, 3, 4, 5, 6, 7, 8, 9, 10, 1, 2, 3, 4, 5, 6, 7, 8, 9, 10, 1, 2, 3, 4, 5, 6, 7, 8, 9, 10, 1, 2, 3, 4, 5, 6, 7, 8, 9, 10, 1, 2, 3, 4, 5, 6, 7, 8, 9, 10, 1, 2, 3, 4, 5, 6, 7, 8, 9, 10, 1, 2, 3, 4, 5, 6, 7, 8, 9, 10, 1, 2, 3, 4, 5, 6, 7, 8, 9, 10, 1, 2, 3, 4, 5, 6, 7, 8, 9, 10, 1, 2, 3, 4, 5, 6, 7, 8, 9, 10, 1, 2, 3, 4, 5, 6, 7, 8, 9, 10, 1, 2, 3, 4, 5, 6, 7, 8, 9, 10, 1, 2, 3, 4, 5, 6, 7, 8, 9, 10, 1, 2, 3, 4, 5, 6, 7, 8, 9, 10, 1, 2, 3, 4, 5, 6, 7, 8, 9, 10, 1, 2, 3, 4, 5, 6, 7, 8, 9, 10, 1, 2, 3, 4, 5, 6, 7, 8, 9, 10, 1, 2, 3, 4, 5, 6, 7, 8, 9, 10, 1, 2, 3, 4, 5, 6, 7, 8, 9, 10, 1, 2, 3, 4, 5, 6, 7, 8, 9, 10, 1, 2, 3, 4, 5, 6, 7, 9, 10, 1, 2, 3, 4, 5, 6, 7, 8, 9, 10, 1, 2, 3, 4, 5, 6, 7, 8, 9, 1, 2, 3, 4, 5, 6, 7, 8, 9, 10, 1, 2, 3, 4, 5, 6, 7, 8, 9, 10, 1, 2, 3, 4, 5, 6, 7, 8, 9, 10, 1, 2, 3, 4, 5, 6, 7, 8, 9, 10, 1, 2, 3, 4, 5, 6, 7, 8, 9, 10, 1, 2, 3, 4, 5, 6, 7, 8, 9, 10, 1, 2, 3, 4, 5, 6, 7, 8, 9, 10, 1, 2, 3, 4, 5, 6, 7, 8, 9, 10, 1, 2, 3, 4, 5, 6, 7, 8, 9, 10, 1, 2, 3, 4, 5, 6, 7, 8, 9, 10, 1, 2, 3, 4, 5, 6, 7, 8, 9, 10, 1, 2, 3, 4, 5, 6, 7, 8, 9, 10, 1, 2, 3, 4, 5, 6, 7, 8, 9, 10, 1, 2, 3, 4, 5, 6, 7, 8, 9, 10, 1, 2, 3, 4, 5, 6, 7, 8, 9, 10, 1, 2, 3, 4, 5, 6, 7, 8, 9, 10, 1, 2, 3, 4, 5, 6, 7, 8, 9, 10, 1, 2, 3, 4, 5, 6, 7, 8, 9, 10, 1, 2, 3, 4, 5, 6, 7, 8, 9, 10, 1, 2, 3, 4, 5, 6, 7, 8, 9, 10, 1, 2, 3, 4, 5, 6, 7, 8, 9, 10, 1, 2, 3, 4, 5, 6, 7, 8, 9, 10, 1, 2, 3, 4, 5, 6, 7, 8, 9, 10, 1, 2, 3, 4, 7, 9, 1, 2, 3, 4, 5, 6, 7, 8, 9, 10, 1, 2, 3, 4, 5, 6, 7, 8, 9, 10, 1, 2, 3, 4, 5, 6, 7, 8, 9, 10, 1, 2, 3, 4, 5, 6, 7, 8, 9, 10, 1, 2, 3, 4, 5, 6, 7, 8, 9, 10, 1, 2, 3, 4, 5, 6, 7, 8, 9, 10, 1, 2, 3, 4, 5, 6, 7, 8, 9, 10, 1, 2, 3, 4, 5, 6, 7, 8, 9, 10, 1, 2, 3, 4, 5, 6, 7, 8, 9, 10, 1, 2, 3, 4, 5, 6, 7, 8, 9, 10, 1, 2, 3, 4, 5, 6, 7, 8, 1, 2, 3, 4, 5, 6, 7, 8, 9, 10, 1, 2, 3, 4, 5, 6, 7, 8, 10, 1, 2, 3, 4, 5, 6, 7, 8, 9, 10, 1, 2, 3, 4, 5, 6, 7, 8, 9, 10, 1, 2, 3, 4, 5, 6, 7, 8, 9, 10, 1, 2, 3, 4, 5, 6, 7, 8, 9, 10, 1, 2, 3, 4, 5, 6, 7, 8, 9, 10, 1, 2, 3, 4, 5, 6, 7, 8, 9, 10, 1, 2, 3, 4, 5, 6, 7, 8, 9, 10, 1, 2, 3, 4, 5, 6, 7, 8, 9, 10, 1, 2, 3, 4, 5, 6, 7, 8, 9, 10, 1, 2, 3, 4, 5, 6, 7, 8, 9, 10, 1, 2, 3, 4, 5, 6, 7, 8, 9, 10, 1, 2, 3, 4, 5, 6, 7, 8, 9, 10, 1, 2, 3, 4, 5, 6, 7, 8, 9, 10, 1, 2, 3, 4, 5, 6, 7, 8, 9, 10, 1, 2, 3, 4, 5, 6, 7, 8, 9, 10, 1, 2, 3, 4, 5, 6, 7, 8, 9, 10, 1, 2, 3, 4, 5, 6, 7, 8, 9, 10, 1, 2, 3, 4, 5, 6, 7, 8, 9, 10, 1, 2, 3, 4, 5, 6, 7, 8, 9, 10, 1, 2, 3, 4, 5, 6, 7, 8, 9, 10, 1, 2, 3, 4, 5, 6, 7, 8, 9, 10, 1, 2, 3, 4, 5, 6, 7, 8, 9, 10, 1, 2, 3, 4, 5, 6, 7, 8, 9, 10, 1, 2, 3, 4, 5, 6, 7, 8, 9, 10, 1, 2, 3, 4, 5, 6, 7, 8, 9, 10, 1, 2, 3, 4, 5, 6, 7, 8, 9, 10, 1, 2, 3, 4, 5, 6, 7, 8, 9, 10, 1, 2, 3, 4, 5, 6, 7, 8, 9, 10, 1, 2, 3, 4, 5, 6, 7, 8, 9, 10, 1, 2, 3, 4, 5, 6, 7, 8, 9, 10, 1, 2, 3, 4, 5, 6, 7, 8, 9, 10, 1, 2, 3, 4, 5, 6, 7, 8, 9, 10, 1, 2, 3, 4, 5, 6, 7, 8, 9, 10, 1, 2, 3, 4, 5, 6, 7, 8, 9, 10, 1, 2, 3, 4, 5, 6, 7, 8, 9, 10, 1, 2, 3, 4, 5, 6, 7, 8, 9, 10, 1, 2, 3, 4, 5, 6, 7, 8, 9, 10, 1, 2, 3, 4, 5, 6, 7, 8, 9, 10, 1, 2, 3, 4, 5, 6, 7, 8, 9, 10, 1, 2, 3, 4, 5, 6, 7, 8, 9, 10, 1, 2, 3, 4, 5, 6, 7, 8, 9, 10, 1, 2, 3, 4, 5, 6, 7, 8, 9, 10, 1, 2, 3, 4, 5, 6, 7, 8, 9, 10, 1, 2, 3, 4, 5, 6, 7, 8, 9, 10, 1, 2, 3, 4, 5, 6, 7, 8, 9, 10, 1, 2, 3, 4, 5, 6, 7, 8, 9, 10, 1, 2, 3, 4, 5, 6, 7, 8, 9, 10, 1, 2, 3, 4, 5, 6, 7, 8, 9, 10, 1, 2, 3, 4, 5, 6, 7, 8, 9, 10, 1, 2, 3, 4, 5, 6, 7, 8, 9, 10, 1, 2, 3, 4, 5, 6, 7, 8, 9, 10, 1, 2, 3, 4, 5, 6, 7, 8, 9, 10, 1, 2, 3, 5, 7, 1, 2, 3, 4, 5, 6, 7, 8, 9, 10, 1, 2, 3, 4, 5, 6, 7, 8, 9, 10, 1, 2, 3, 4, 5, 6, 7, 8, 9, 10, 1, 2, 3, 4, 5, 6, 7, 8, 9, 10, 1, 2, 3, 4, 5, 6, 7, 8, 9, 10, 1, 2, 3, 4, 5, 6, 7, 8, 9, 10, 1, 2, 3, 4, 5, 6, 7, 8, 9, 10, 1, 2, 3, 4, 5, 6, 7, 8, 9, 10, 1, 2, 3, 4, 5, 6, 7, 8, 9, 10, 1, 2, 3, 4, 5, 6, 7, 8, 9, 10, 1, 2, 3, 4, 5, 6, 7, 8, 9, 10, 1, 2, 3, 4, 5, 6, 7, 8, 9, 10, 1, 2, 3, 4, 5, 6, 7, 8, 9, 10, 1, 2, 3, 4, 5, 6, 7, 8, 9, 10, 1, 2, 3, 4, 5, 6, 7, 8, 9, 10, 1, 2, 3, 4, 5, 6, 7, 8, 9, 10, 1, 2, 3, 4, 5, 6, 7, 8, 9, 10, 1, 2, 3, 4, 5, 6, 7, 8, 9, 10, 1, 2, 3, 4, 5, 6, 7, 8, 9, 10, 1, 2, 3, 4, 5, 6, 7, 8, 9, 10, 1, 2, 3, 4, 5, 6, 7, 8, 9, 10, 1, 2, 3, 4, 5, 6, 7, 8, 9, 10, 1, 2, 3, 4, 5, 6, 7, 8, 9, 10, 1, 2, 3, 4, 5, 6, 7, 8, 9, 10, 1, 2, 3, 4, 5, 6, 7, 8, 9, 10, 1, 2, 3, 4, 5, 6, 7, 8, 9, 10, 1, 2, 3, 4, 5, 6, 7, 8, 9, 10, 1, 2, 3, 4, 5, 6, 7, 8, 9, 10, 1, 2, 3, 4, 5, 6, 7, 8, 9, 10, 1, 2, 3, 4, 5, 6, 7, 8, 9, 10, 1, 2, 3, 4, 5, 6, 7, 8, 9, 10, 1, 2, 3, 4, 5, 6, 7, 8, 9, 10, 1, 2, 3, 4, 5, 6, 7, 8, 9, 10, 1, 2, 3, 4, 5, 6, 7, 8, 9, 10, 1, 2, 3, 4, 5, 6, 7, 8, 9, 10, 1, 2, 3, 4, 5, 6, 7, 8, 9, 10, 1, 2, 3, 4, 5, 6, 7, 8, 9, 10, 1, 2, 3, 4, 5, 6, 7, 8, 9, 10, 1, 2, 3, 4, 5, 6, 7, 8, 9, 10, 1, 2, 3, 4, 5, 6, 7, 8, 9, 10, 1, 2, 3, 4, 5, 6, 7, 8, 9, 10, 1, 2, 3, 4, 5, 6, 7, 8, 9, 10, 1, 2, 3, 4, 5, 6, 7, 8, 9, 10, 1, 2, 3, 4, 5, 6, 7, 8, 9, 10, 1, 2, 3, 4, 5, 6, 7, 8, 9, 10, 1, 2, 3, 4, 5, 6, 7, 8, 9, 10, 1, 2, 3, 4, 5, 6, 7, 8, 9, 10, 1, 2, 3, 4, 5, 6, 7, 8, 9, 10, 1, 2, 3, 4, 5, 6, 7, 8, 9, 10, 1, 2, 3, 4, 5, 6, 7, 8, 9, 10, 1, 2, 3, 4, 5, 6, 7, 8, 9, 10, 1, 2, 3, 4, 5, 6, 7, 8, 9, 10, 1, 2, 3, 4, 5, 6, 7, 8, 9, 10, 1, 2, 3, 4, 5, 6, 7, 8, 9, 10, 1, 2, 3, 4, 5, 6, 7, 8, 9, 10, 1, 2, 3, 4, 5, 6, 7, 8, 9, 10, 1, 2, 3, 4, 5, 6, 7, 8, 9, 10, 1, 2, 3, 4, 5, 6, 7, 8, 9, 10, 1, 2, 3, 4, 5, 6, 7, 8, 9, 10, 1, 2, 3, 4, 5, 6, 7, 8, 9, 10, 1, 2, 3, 4, 5, 6, 7, 8, 9, 10, 1, 2, 3, 4, 5, 6, 7, 8, 10, 1, 2, 3, 4, 5, 6, 7, 8, 9, 10, 1, 2, 3, 4, 5, 6, 7, 8, 9, 10, 1, 2, 3, 4, 5, 6, 7, 8, 9, 10, 1, 2, 3, 4, 5, 6, 7, 8, 9, 10, 1, 2, 3, 4, 5, 6, 7, 8, 9, 10, 1, 2, 3, 4, 5, 6, 7, 8, 9, 10, 1, 2, 3, 4, 5, 6, 7, 8, 9, 10, 1, 2, 3, 4, 5, 6, 7, 8, 9, 10, 1, 2, 3, 4, 5, 6, 7, 8, 9, 10, 1, 2, 3, 4, 5, 6, 7, 8, 9, 10, 1, 2, 3, 4, 5, 6, 7, 8, 9, 10, 1, 2, 3, 4, 5, 6, 7, 8, 9, 10, 1, 2, 3, 4, 5, 6, 7, 8, 9, 10, 1, 2, 3, 4, 5, 6, 7, 8, 9, 10, 1, 2, 3, 4, 5, 6, 7, 8, 9, 10, 1, 2, 3, 4, 5, 6, 7, 8, 9, 10, 1, 2, 3, 4, 5, 6, 7, 8, 9, 10, 1, 2, 3, 4, 5, 6, 7, 8, 9, 10, 1, 2, 3, 4, 5, 1, 2, 3, 4, 5, 6, 7, 8, 9, 10, 1, 2, 3, 4, 5, 6, 7, 8, 9, 10, 1, 2, 3, 4, 5, 6, 7, 8, 9, 10, 1, 2, 3, 4, 5, 6, 7, 8, 9, 10, 1, 2, 3, 4, 5, 6, 7, 8, 9, 10, 1, 2, 3, 4, 5, 6, 7, 8, 9, 10, 1, 2, 3, 4, 5, 6, 7, 8, 9, 10, 1, 2, 3, 4, 5, 6, 7, 8, 9, 10, 1, 2, 3, 4, 5, 6, 7, 8, 9, 10, 1, 2, 3, 4, 5, 6, 7, 8, 9, 10, 1, 2, 3, 4, 5, 6, 7, 8, 9, 10, 1, 2, 3, 4, 5, 6, 7, 8, 9, 10, 1, 2, 3, 4, 5, 6, 7, 8, 9, 10, 1, 2, 3, 4, 5, 6, 7, 8, 9, 10, 1, 2, 3, 4, 5, 6, 7, 8, 9, 10, 1, 2, 3, 4, 5, 6, 7, 8, 9, 10, 1, 2, 3, 4, 5, 6, 7, 8, 9, 10, 1, 2, 3, 4, 5, 6, 7, 8, 9, 10, 1, 2, 3, 4, 5, 6, 7, 8, 9, 10, 1, 2, 3, 4, 5, 6, 7, 8, 9, 10, 1, 2, 3, 4, 5, 6, 7, 8, 9, 10, 1, 2, 3, 4, 5, 6, 7, 8, 9, 10, 1, 2, 3, 4, 5, 6, 7, 8, 9, 10, 1, 2, 3, 4, 5, 6, 7, 8, 9, 10, 1, 2, 3, 4, 5, 6, 7, 8, 9, 10, 1, 2, 3, 4, 5, 6, 7, 8, 9, 10, 1, 2, 3, 4, 5, 6, 7, 8, 9, 10, 1, 2, 3, 4, 5, 6, 7, 8, 9, 10, 1, 2, 3, 4, 5, 6, 7, 8, 9, 1, 2, 3, 4, 5, 6, 7, 8, 9, 10, 1, 2, 3, 4, 5, 6, 7, 8, 9, 10, 1, 2, 3, 4, 5, 6, 7, 8, 9, 10, 1, 2, 3, 4, 5, 6, 7, 8, 9, 10, 1, 2, 3, 4, 5, 6, 7, 8, 9, 10, 1, 2, 3, 4, 5, 6, 7, 8, 9, 10, 1, 2, 3, 4, 5, 6, 7, 8, 9, 10, 1, 2, 3, 4, 5, 6, 7, 8, 9, 10, 1, 2, 3, 4, 5, 6, 7, 8, 10, 1, 2, 3, 4, 5, 6, 7, 8, 9, 10, 1, 2, 3, 4, 5, 6, 7, 8, 9, 10, 1, 2, 3, 4, 5, 6, 7, 8, 9, 10, 1, 2, 3, 4, 5, 6, 7, 8, 9, 10, 1, 2, 3, 4, 5, 6, 7, 8, 9, 10, 1, 2, 3, 4, 5, 6, 7, 8, 9, 10, 1, 2, 3, 4, 5, 6, 7, 8, 9, 10, 1, 2, 3, 4, 5, 6, 7, 8, 9, 10, 1, 2, 3, 4, 5, 6, 7, 8, 9, 10, 1, 2, 3, 4, 5, 6, 7, 9, 10, 1, 2, 3, 4, 5, 6, 7, 8, 9, 10, 1, 2, 3, 4, 5, 6, 7, 8, 9, 10, 1, 2, 3, 4, 5, 6, 7, 8, 9, 10, 1, 2, 3, 4, 5, 6, 7, 8, 9, 10, 1, 2, 3, 4, 5, 6, 7, 8, 9, 10, 1, 2, 3, 4, 5, 6, 7, 8, 9, 10, 1, 2, 3, 4, 5, 6, 7, 8, 9, 10, 1, 2, 3, 4, 5, 6, 7, 8, 9, 10, 1, 2, 3, 4, 5, 6, 7, 8, 9, 10, 1, 2, 3, 4, 5, 6, 7, 8, 9, 10, 1, 2, 3, 4, 5, 6, 7, 8, 9, 10, 1, 2, 3, 4, 5, 6, 7, 8, 1, 2, 3, 4, 5, 6, 7, 8, 9, 10, 1, 2, 3, 4, 5, 6, 7, 8, 9, 10, 1, 2, 3, 4, 5, 6, 7, 8, 9, 10, 1, 2, 3, 4, 5, 6, 7, 8, 9, 10, 1, 2, 3, 4, 5, 6, 7, 8, 9, 10, 1, 2, 3, 4, 5, 6, 7, 8, 9, 10, 1, 2, 3, 4, 5, 6, 7, 8, 9, 10, 1, 2, 3, 4, 5, 6, 7, 8, 9, 10, 1, 2, 3, 4, 5, 6, 7, 8, 9, 10, 1, 2, 3, 4, 5, 6, 7, 8, 9, 10, 1, 2, 3, 4, 5, 6, 7, 8, 9, 10, 1, 2, 3, 4, 5, 6, 7, 8, 9, 10, 1, 2, 3, 4, 5, 6, 7, 8, 9, 10, 1, 2, 3, 4, 5, 6, 7, 8, 9, 10, 1, 2, 3, 4, 5, 6, 7, 8, 9, 10, 1, 2, 3, 4, 5, 6, 7, 8, 9, 10, 1, 2, 3, 4, 5, 6, 7, 8, 9, 10, 1, 2, 3, 4, 5, 6, 7, 8, 9, 10, 1, 2, 3, 4, 5, 6, 7, 8, 9, 10, 1, 2, 3, 4, 5, 6, 7, 8, 9, 10, 1, 2, 3, 4, 5, 6, 7, 8, 9, 10, 1, 2, 3, 4, 5, 6, 7, 8, 9, 10, 1, 2, 3, 4, 5, 6, 7, 8, 9, 10, 1, 2, 3, 4, 5, 6, 7, 8, 9, 10, 1, 2, 3, 4, 5, 6, 7, 8, 9, 10, 1, 2, 3, 4, 5, 6, 7, 8, 9, 10, 1, 2, 3, 4, 5, 6, 7, 8, 9, 10, 1, 2, 3, 4, 5, 6, 7, 8, 9, 10, 1, 2, 3, 4, 5, 6, 7, 8, 9, 10, 1, 2, 3, 4, 5, 6, 7, 8, 9, 10, 1, 2, 3, 4, 5, 6, 7, 8, 9, 10, 1, 2, 3, 4, 5, 6, 7, 8, 9, 10, 1, 2, 3, 4, 5, 6, 7, 8, 9, 10, 1, 2, 3, 4, 5, 6, 7, 8, 9, 10, 1, 2, 3, 4, 5, 6, 7, 8, 9, 10, 1, 2, 3, 4, 5, 6, 7, 8, 9, 10, 1, 2, 3, 4, 5, 6, 7, 8, 9, 10, 1, 2, 3, 4, 5, 6, 7, 8, 9, 10, 1, 2, 3, 4, 5, 6, 7, 8, 9, 10, 1, 2, 3, 4, 5, 6, 7, 8, 9, 10, 1, 2, 3, 4, 5, 6, 7, 8, 9, 10, 1, 2, 3, 4, 5, 6, 7, 8, 9, 10, 1, 2, 3, 4, 5, 6, 7, 8, 9, 10, 1, 2, 3, 4, 5, 6, 7, 8, 9, 10, 1, 2, 3, 4, 5, 6, 7, 8, 9, 10, 1, 2, 3, 4, 5, 6, 7, 8, 9, 10, 1, 2, 3, 4, 5, 6, 7, 8, 9, 10, 1, 2, 3, 4, 5, 6, 7, 8, 9, 10, 1, 2, 3, 4, 5, 6, 7, 8, 9, 10, 1, 2, 3, 4, 5, 6, 7, 8, 9, 10, 1, 2, 3, 4, 5, 6, 7, 8, 9, 10, 1, 2, 3, 4, 5, 6, 7, 8, 9, 10, 1, 2, 3, 4, 5, 6, 7, 8, 9, 10, 1, 2, 3, 4, 5, 6, 7, 8, 9, 10, 1, 2, 3, 4, 5, 6, 7, 8, 9, 10, 1, 2, 3, 4, 5, 6, 7, 8, 9, 10, 1, 2, 3, 4, 5, 6, 7, 8, 9, 10, 1, 2, 3, 4, 5, 6, 7, 8, 9, 10, 1, 2, 3, 4, 5, 6, 7, 8, 9, 10, 1, 2, 3, 4, 5, 6, 7, 8, 9, 10, 1, 2, 3, 4, 5, 6, 7, 8, 9, 10, 1, 2, 3, 4, 5, 6, 7, 8, 9, 10, 1, 2, 3, 4, 5, 6, 7, 8, 9, 10, 1, 2, 3, 4, 5, 6, 7, 8, 9, 10, 1, 2, 3, 4, 5, 6, 7, 8, 9, 10, 1, 2, 3, 4, 5, 6, 7, 8, 9, 10, 1, 2, 3, 4, 5, 6, 7, 8, 9, 10, 1, 2, 3, 4, 5, 6, 7, 8, 9, 10, 1, 2, 3, 4, 5, 6, 7, 8, 9, 10, 1, 2, 3, 4, 5, 6, 7, 8, 9, 10, 1, 2, 3, 4, 5, 6, 7, 8, 9, 10, 1, 2, 3, 4, 5, 6, 7, 8, 9, 10, 1, 2, 3, 4, 5, 6, 7, 8, 9, 10, 1, 2, 3, 4, 5, 6, 7, 8, 9, 10, 1, 2, 3, 4, 5, 6, 7, 8, 9, 10, 1, 2, 3, 4, 5, 6, 7, 8, 9, 10, 1, 2, 3, 4, 5, 6, 7, 8, 9, 10, 1, 2, 3, 4, 5, 6, 7, 8, 9, 10, 1, 2, 3, 4, 5, 6, 7, 8, 9, 10, 1, 2, 3, 4, 5, 6, 7, 8, 9, 10, 1, 2, 3, 4, 5, 6, 7, 8, 9, 10, 1, 2, 3, 4, 5, 6, 7, 8, 9, 10, 1, 2, 3, 4, 5, 6, 7, 8, 9, 10, 1, 2, 3, 4, 5, 6, 7, 8, 9, 10, 1, 2, 3, 4, 5, 6, 7, 8, 1, 2, 3, 4, 5, 6, 7, 8, 9, 10, 1, 2, 3, 4, 5, 6, 7, 8, 9, 10, 1, 2, 3, 4, 5, 6, 7, 8, 9, 10, 1, 2, 3, 4, 5, 6, 7, 8, 9, 10, 1, 2, 3, 4, 5, 6, 7, 8, 9, 10, 1, 2, 3, 4, 5, 6, 7, 8, 9, 10, 1, 2, 3, 4, 5, 6, 7, 8, 9, 10, 1, 2, 3, 4, 5, 6, 7, 8, 9, 10, 1, 2, 3, 4, 5, 6, 7, 8, 9, 10, 1, 2, 3, 4, 5, 6, 7, 8, 9, 10, 1, 2, 3, 4, 5, 6, 7, 8, 9, 10, 1, 2, 3, 4, 5, 6, 7, 8, 9, 10, 1, 2, 3, 4, 5, 6, 7, 8, 9, 10, 1, 2, 3, 4, 5, 6, 7, 8, 9, 10, 1, 2, 3, 4, 5, 6, 7, 8, 9, 10, 1, 2, 3, 4, 5, 6, 7, 8, 9, 10, 1, 2, 3, 4, 5, 6, 7, 8, 9, 10, 1, 2, 3, 4, 5, 6, 7, 8, 9, 10, 1, 2, 3, 4, 5, 6, 7, 8, 9, 10], \"Freq\": [0.1087960637082747, 0.25599073813711698, 0.11153882161688668, 0.14079490597541433, 0.088682505711786944, 0.072225958260115145, 0.063083431898075248, 0.046626884446403449, 0.040227115992975522, 0.073140210896319127, 0.10862979385920536, 0.16294469078880805, 0.21725958771841072, 0.10862979385920536, 0.10862979385920536, 0.054314896929602681, 0.054314896929602681, 0.054314896929602681, 0.054314896929602681, 0.054314896929602681, 0.15376961871902003, 0.099950252167363016, 0.14608113778306903, 0.092261771231412021, 0.092261771231412021, 0.26909683275828505, 0.061507847487608014, 0.030753923743804007, 0.023065442807853005, 0.030753923743804007, 0.32933920667604261, 0.18819383238631004, 0.094096916193155022, 0.094096916193155022, 0.094096916193155022, 0.047048458096577511, 0.047048458096577511, 0.047048458096577511, 0.047048458096577511, 0.047048458096577511, 0.13976093741418322, 0.13976093741418322, 0.13976093741418322, 0.13976093741418322, 0.13976093741418322, 0.069880468707091609, 0.069880468707091609, 0.069880468707091609, 0.069880468707091609, 0.12812750075664148, 0.12812750075664148, 0.17083666767552197, 0.17083666767552197, 0.12812750075664148, 0.085418333837760985, 0.042709166918880492, 0.085418333837760985, 0.042709166918880492, 0.042709166918880492, 0.1092992690450441, 0.08197445178378307, 0.13662408630630513, 0.08197445178378307, 0.1092992690450441, 0.27324817261261025, 0.054649634522522049, 0.054649634522522049, 0.027324817261261024, 0.027324817261261024, 0.12306185308956724, 0.12306185308956724, 0.12306185308956724, 0.082041235393044823, 0.082041235393044823, 0.16408247078608965, 0.12306185308956724, 0.041020617696522411, 0.041020617696522411, 0.041020617696522411, 0.10920170303904606, 0.072801135359364041, 0.14560227071872808, 0.10920170303904606, 0.10920170303904606, 0.25480397375777414, 0.072801135359364041, 0.036400567679682021, 0.036400567679682021, 0.036400567679682021, 0.13657822016273977, 0.10926257613019182, 0.1638938641952877, 0.081946932097643851, 0.081946932097643851, 0.27315644032547953, 0.081946932097643851, 0.027315644032547954, 0.027315644032547954, 0.027315644032547954, 0.13443730541309351, 0.21846062129627697, 0.067218652706546755, 0.13443730541309351, 0.084023315883183444, 0.084023315883183444, 0.067218652706546755, 0.10082797905982013, 0.050413989529910067, 0.050413989529910067, 0.18446787103904985, 0.085139017402638392, 0.099328853636411446, 0.070949181168865325, 0.099328853636411446, 0.26960688844168823, 0.099328853636411446, 0.042569508701319196, 0.042569508701319196, 0.028379672467546128, 0.15579289175368802, 0.25413715467320358, 0.12122634389583849, 0.083982105710972435, 0.10589048111383481, 0.073758197189636665, 0.077896445876844009, 0.055988070473981626, 0.036027106218040353, 0.035296827037944942, 0.13227933081090734, 0.24917734408566269, 0.095364168724142509, 0.083059114695220898, 0.1661182293904418, 0.083059114695220898, 0.058449006637377669, 0.061525270144608075, 0.036915162086764847, 0.036915162086764847, 0.1575723885790872, 0.26262064763181203, 0.1050482590527248, 0.052524129526362401, 0.1050482590527248, 0.052524129526362401, 0.1050482590527248, 0.052524129526362401, 0.052524129526362401, 0.1050482590527248, 0.14960524963195759, 0.28852441000448964, 0.096174803334829889, 0.16029133889138314, 0.06411653555655325, 0.053430446297127711, 0.053430446297127711, 0.053430446297127711, 0.042744357037702171, 0.042744357037702171, 0.13251946999485201, 0.11926752299536682, 0.079511681996911207, 0.22528309899124843, 0.079511681996911207, 0.053007787997940807, 0.092763628996396411, 0.10601557599588161, 0.053007787997940807, 0.039755840998455604, 0.12125823822942967, 0.1891628516379103, 0.1455098858753156, 0.13580922681696123, 0.13095889728778404, 0.067904613408480613, 0.053353624820949054, 0.033952306704240307, 0.038802636233417495, 0.07760527246683499, 0.17115731267025647, 0.17963044696086322, 0.11353999949413053, 0.096593730912917022, 0.081342089189824857, 0.079647462331703514, 0.088120596622310268, 0.047449552027397833, 0.089815223480431611, 0.052533432601761888, 0.11989466367978013, 0.14756266299049864, 0.083003997932155488, 0.16600799586431098, 0.13833999655359247, 0.055335998621436989, 0.10144933080596781, 0.11067199724287398, 0.046113332184530821, 0.03689066574762466, 0.12355335700071658, 0.29652805680171979, 0.098842685600573271, 0.12355335700071658, 0.086487349900501609, 0.061776678500358291, 0.061776678500358291, 0.049421342800286636, 0.037066007100214973, 0.061776678500358291, 0.12194610646418512, 0.18291915969627767, 0.10162175538682093, 0.20324351077364186, 0.12194610646418512, 0.06097305323209256, 0.06097305323209256, 0.081297404309456742, 0.040648702154728371, 0.040648702154728371, 0.16162460916997509, 0.1723995831146401, 0.082608133575765047, 0.12929968733598007, 0.096974765501985055, 0.068241501649545039, 0.079016475594210045, 0.11134139742820506, 0.043099895778660025, 0.057466527704880026, 0.13246270088149761, 0.19869405132224643, 0.099347025661123217, 0.19869405132224643, 0.066231350440748807, 0.066231350440748807, 0.066231350440748807, 0.099347025661123217, 0.033115675220374403, 0.033115675220374403, 0.15138135301324637, 0.19796023086347603, 0.15138135301324637, 0.058223597312787062, 0.069868316775344483, 0.069868316775344483, 0.093157755700459297, 0.058223597312787062, 0.058223597312787062, 0.08151303623790189, 0.2001357954937267, 0.12008147729623603, 0.080054318197490676, 0.12008147729623603, 0.080054318197490676, 0.080054318197490676, 0.12008147729623603, 0.080054318197490676, 0.080054318197490676, 0.040027159098745338, 0.10529818953877454, 0.15794728430816179, 0.13162273692346818, 0.13162273692346818, 0.10529818953877454, 0.10529818953877454, 0.078973642154080897, 0.05264909476938727, 0.10529818953877454, 0.026324547384693635, 0.15758774800688694, 0.31517549601377387, 0.094552648804132167, 0.063035099202754782, 0.094552648804132167, 0.063035099202754782, 0.094552648804132167, 0.063035099202754782, 0.063035099202754782, 0.031517549601377391, 0.20961453553403234, 0.14750652500543016, 0.11645251974112908, 0.077635013160752719, 0.10868901842505381, 0.10868901842505381, 0.054344509212526905, 0.03881750658037636, 0.093162015792903258, 0.046581007896451629, 0.29069401235665726, 0.072673503089164315, 0.12112250514860719, 0.072673503089164315, 0.096898004118885744, 0.072673503089164315, 0.12112250514860719, 0.048449002059442872, 0.024224501029721436, 0.096898004118885744, 0.19680834299365307, 0.098404171496826537, 0.19680834299365307, 0.098404171496826537, 0.098404171496826537, 0.098404171496826537, 0.098404171496826537, 0.098404171496826537, 0.098404171496826537, 0.13508756440137967, 0.1801167525351729, 0.27017512880275935, 0.090058376267586449, 0.13508756440137967, 0.090058376267586449, 0.045029188133793224, 0.045029188133793224, 0.045029188133793224, 0.045029188133793224, 0.1083149079430781, 0.18052484657179682, 0.1083149079430781, 0.14441987725743746, 0.18052484657179682, 0.072209938628718731, 0.072209938628718731, 0.036104969314359366, 0.036104969314359366, 0.072209938628718731, 0.17138572092978169, 0.17138572092978169, 0.085692860464890844, 0.11997000465084717, 0.10283143255786902, 0.068554288371912672, 0.085692860464890844, 0.10283143255786902, 0.051415716278934508, 0.051415716278934508, 0.14536319979752557, 0.12459702839787908, 0.22842788539611164, 0.12459702839787908, 0.083064685598586041, 0.062298514198939538, 0.062298514198939538, 0.062298514198939538, 0.062298514198939538, 0.041532342799293021, 0.14478340727622563, 0.20510982697465296, 0.13271812333654015, 0.084456987577798279, 0.060326419698427343, 0.072391703638112814, 0.084456987577798279, 0.060326419698427343, 0.084456987577798279, 0.084456987577798279, 0.19922098083567297, 0.18815314856702448, 0.11067832268648499, 0.077474825880539486, 0.077474825880539486, 0.066406993611890994, 0.13281398722378199, 0.055339161343242495, 0.055339161343242495, 0.033203496805945497, 0.17092204284641074, 0.20754819488492732, 0.091565380096291463, 0.085461021423205372, 0.079356662750119267, 0.079356662750119267, 0.10377409744246366, 0.06104358673086098, 0.085461021423205372, 0.036626152038516588, 0.19867794378962333, 0.29533207860619687, 0.085914786503620902, 0.06443608987771568, 0.075175438190668284, 0.053696741564763062, 0.075175438190668284, 0.053696741564763062, 0.059066415721239371, 0.042957393251810451, 0.19331153474545806, 0.15035341591313406, 0.21479059416162008, 0.096655767372729032, 0.085916237664648037, 0.075176707956567029, 0.05369764854040502, 0.05369764854040502, 0.042958118832324019, 0.042958118832324019, 0.20080043148478119, 0.15792489451294178, 0.18722317811036537, 0.1000429196009586, 0.080034335680766885, 0.084321889377950821, 0.059311159477711171, 0.044304721537567378, 0.041446352406111421, 0.043590129254703389, 0.17539114194316199, 0.17539114194316199, 0.087695570971580997, 0.17539114194316199, 0.087695570971580997, 0.043847785485790498, 0.087695570971580997, 0.087695570971580997, 0.043847785485790498, 0.043847785485790498, 0.167663015789033, 0.22583181718522813, 0.13344607379127116, 0.065012189795747494, 0.061590495595971309, 0.088964049194180786, 0.058168801396195124, 0.071855578195299863, 0.092385743393956971, 0.037638636197538024, 0.17633194504235519, 0.11839430595700991, 0.16121777832443904, 0.13350847267492608, 0.078089861375900155, 0.083127916948538869, 0.065494722444303349, 0.050380555726387194, 0.090685000307496946, 0.042823472367429116, 0.14033808541662143, 0.14033808541662143, 0.14033808541662143, 0.14033808541662143, 0.1169484045138512, 0.09355872361108096, 0.04677936180554048, 0.1169484045138512, 0.04677936180554048, 0.02338968090277024, 0.10774733835502953, 0.21774880512752831, 0.10955064108900493, 0.11721467770840033, 0.1424609159840558, 0.087911008281300246, 0.054099082019261696, 0.058156513170706317, 0.059058164537694018, 0.04598421971637244, 0.18689955773932301, 0.28884477105168105, 0.084954344426965006, 0.084954344426965006, 0.059468041098875511, 0.076458909984268505, 0.067963475541572005, 0.042477172213482503, 0.059468041098875511, 0.042477172213482503, 0.16778872425523997, 0.34051241098857521, 0.12337406195238233, 0.044414662302857635, 0.06415451221523881, 0.044414662302857635, 0.088829324605715271, 0.054284587259048223, 0.039479699824762349, 0.039479699824762349, 0.19938908686580201, 0.299083630298703, 0.099694543432901003, 0.099694543432901003, 0.049847271716450502, 0.049847271716450502, 0.049847271716450502, 0.049847271716450502, 0.049847271716450502, 0.049847271716450502, 0.15587306919056684, 0.15587306919056684, 0.15587306919056684, 0.15587306919056684, 0.15587306919056684, 0.15587306919056684, 0.15587306919056684, 0.15587306919056684, 0.17424356861758489, 0.28625729130031802, 0.099567753495762801, 0.03733790756091105, 0.074675815121822101, 0.06222984593485175, 0.12031103547404672, 0.066378502330508529, 0.0497838767478814, 0.033189251165254265, 0.17462337944404285, 0.23658651408547743, 0.10702723256247788, 0.090128195842086631, 0.073229159121695392, 0.067596146881564984, 0.067596146881564984, 0.056330122401304146, 0.045064097921043315, 0.0788621713618258, 0.1934951985456414, 0.1934951985456414, 0.0644983995152138, 0.1289967990304276, 0.1934951985456414, 0.0644983995152138, 0.0644983995152138, 0.0644983995152138, 0.0644983995152138, 0.0644983995152138, 0.1562216028609055, 0.13943143059080818, 0.1679017227009732, 0.13748474395079691, 0.14867819213086178, 0.056940584220330041, 0.047207151020273626, 0.07373075649042736, 0.03309367288019182, 0.039177068630227081, 0.15943797631530618, 0.19132557157836741, 0.095662785789183705, 0.063775190526122474, 0.063775190526122474, 0.095662785789183705, 0.063775190526122474, 0.095662785789183705, 0.063775190526122474, 0.031887595263061237, 0.20572545811816631, 0.18258134407987262, 0.11314900196499147, 0.056574500982495737, 0.059146069208972814, 0.084861751473743599, 0.12343527487089979, 0.041145091623633265, 0.074575478567835293, 0.059146069208972814, 0.24887041653876082, 0.16591361102584057, 0.10247605386890152, 0.068317369245934345, 0.092716429690910901, 0.058557745067943728, 0.082956805512920284, 0.048798120889953105, 0.087836617601915593, 0.048798120889953105, 0.12377181590122688, 0.14852617908147225, 0.14852617908147225, 0.14852617908147225, 0.12377181590122688, 0.099017452720981503, 0.049508726360490751, 0.099017452720981503, 0.049508726360490751, 0.024754363180245376, 0.18324879740632896, 0.15610082742020617, 0.14931383492367545, 0.081443909958368435, 0.10180488744796054, 0.054295939972245619, 0.088230902454899132, 0.054295939972245619, 0.088230902454899132, 0.040721954979184218, 0.18781509968618987, 0.16148588010401371, 0.11058272224513982, 0.13691194182731597, 0.096540471801312547, 0.073721814830093213, 0.061434845691744344, 0.035105626109568196, 0.093029909190355725, 0.04388203263696025, 0.14793669460386324, 0.19231770298502221, 0.082844548978163415, 0.12426682346724513, 0.1597716301721723, 0.094679484546472473, 0.073968347301931622, 0.047339742273236236, 0.047339742273236236, 0.032546072812849915, 0.19479404472169773, 0.19479404472169773, 0.097397022360848864, 0.097397022360848864, 0.064931348240565914, 0.064931348240565914, 0.12986269648113183, 0.032465674120282957, 0.064931348240565914, 0.032465674120282957, 0.19411578567806564, 0.29117367851709847, 0.086273682523584722, 0.075489472208136635, 0.086273682523584722, 0.064705261892688548, 0.070097367050412585, 0.048528946419516411, 0.048528946419516411, 0.037744736104068317, 0.19192761291663912, 0.28789141937495866, 0.076771045166655644, 0.057578283874991733, 0.076771045166655644, 0.076771045166655644, 0.076771045166655644, 0.038385522583327822, 0.057578283874991733, 0.038385522583327822, 0.18171176309643691, 0.16656911617173384, 0.090855881548218456, 0.19685441002113999, 0.090855881548218456, 0.075713234623515382, 0.045427940774109228, 0.060570587698812302, 0.060570587698812302, 0.030285293849406151, 0.19312902025072601, 0.19795724575699417, 0.12553386316297191, 0.086908059112826702, 0.067595157087754099, 0.082079833606558558, 0.062766931581485955, 0.053110480568949653, 0.09173628461909486, 0.0386258040501452, 0.19601215172371197, 0.13884194080429596, 0.081671729884879987, 0.081671729884879987, 0.10617324885034397, 0.081671729884879987, 0.12250759482731997, 0.040835864942439994, 0.089838902873367987, 0.049003037930927994, 0.20105262761315912, 0.17233082366842209, 0.086165411834211045, 0.086165411834211045, 0.11488721577894807, 0.086165411834211045, 0.057443607889474037, 0.057443607889474037, 0.086165411834211045, 0.028721803944737018, 0.13061031073036936, 0.31019948798462721, 0.13061031073036936, 0.065305155365184678, 0.081631444206480844, 0.048978866523888505, 0.081631444206480844, 0.065305155365184678, 0.032652577682592339, 0.048978866523888505, 0.1214030358902997, 0.3186829692120367, 0.13657841537658716, 0.075876897431437315, 0.060701517945149851, 0.045526138458862386, 0.10622765640401224, 0.045526138458862386, 0.060701517945149851, 0.030350758972574925, 0.1596398160201063, 0.29267299603686159, 0.10642654401340421, 0.10642654401340421, 0.079819908010053148, 0.053213272006702103, 0.079819908010053148, 0.026606636003351052, 0.079819908010053148, 0.026606636003351052, 0.22822586186325636, 0.11411293093162818, 0.11411293093162818, 0.076075287287752119, 0.076075287287752119, 0.11411293093162818, 0.076075287287752119, 0.03803764364387606, 0.076075287287752119, 0.076075287287752119, 0.22211681173218525, 0.11105840586609263, 0.14807787448812348, 0.074038937244061742, 0.074038937244061742, 0.074038937244061742, 0.074038937244061742, 0.037019468622030871, 0.074038937244061742, 0.074038937244061742, 0.11967772738774815, 0.17951659108162224, 0.11967772738774815, 0.11967772738774815, 0.11967772738774815, 0.059838863693874075, 0.11967772738774815, 0.059838863693874075, 0.11967772738774815, 0.059838863693874075, 0.12741241041431298, 0.19111861562146948, 0.095559307810734739, 0.095559307810734739, 0.095559307810734739, 0.063706205207156488, 0.12741241041431298, 0.063706205207156488, 0.063706205207156488, 0.063706205207156488, 0.13991744920801041, 0.29456305096423246, 0.088368915289269739, 0.1841019068526453, 0.058912610192846493, 0.051548533918740681, 0.066276686466952311, 0.04418445764463487, 0.036820381370529058, 0.04418445764463487, 0.19582584785796986, 0.15891298835758577, 0.1094872951282579, 0.1094872951282579, 0.11949756211141291, 0.061938526958271616, 0.073825719000768189, 0.076328285746556937, 0.050676976602222229, 0.043169276364855971, 0.20981622361947569, 0.20981622361947569, 0.13987748241298378, 0.20981622361947569, 0.069938741206491892, 0.069938741206491892, 0.069938741206491892, 0.069938741206491892, 0.069938741206491892, 0.069938741206491892, 0.15750098775982149, 0.15203020390710376, 0.15059052394586223, 0.1019293412558991, 0.16268383562029093, 0.089260157596973796, 0.062194174325633352, 0.067377022186102795, 0.033112639108554796, 0.023322815372112508, 0.14433229256451696, 0.15684497115377952, 0.14054938973520503, 0.14927916549515563, 0.13240159902591778, 0.088752720226164664, 0.064891333148966293, 0.057616520015674105, 0.037829028293119363, 0.027644289906510303, 0.14614526507780384, 0.14614526507780384, 0.14614526507780384, 0.14614526507780384, 0.073072632538901922, 0.073072632538901922, 0.073072632538901922, 0.073072632538901922, 0.073072632538901922, 0.073072632538901922, 0.15665054229182082, 0.18746704241480194, 0.095017542045858522, 0.1104257921073491, 0.11812991713809438, 0.069337125276707573, 0.084745375338198148, 0.089881458692028335, 0.056496916892132099, 0.030816500122981143, 0.15171761847526943, 0.18140150035086564, 0.098946272918653988, 0.12863015479425019, 0.10884090021051938, 0.05936776375119239, 0.069262391043057786, 0.095648063821365523, 0.062665972848480855, 0.042876718264750063, 0.12809408719518869, 0.22416465259158019, 0.096070565396391513, 0.19214113079278303, 0.064047043597594347, 0.064047043597594347, 0.096070565396391513, 0.064047043597594347, 0.032023521798797173, 0.032023521798797173, 0.1638440426605918, 0.18432454799316578, 0.14336353732801782, 0.12288303199544386, 0.081922021330295899, 0.061441515997721928, 0.081922021330295899, 0.04096101066514795, 0.04096101066514795, 0.081922021330295899, 0.14128097181026897, 0.084768583086161392, 0.16953716617232278, 0.084768583086161392, 0.11302477744821518, 0.084768583086161392, 0.14128097181026897, 0.05651238872410759, 0.028256194362053795, 0.11302477744821518, 0.15487775703252274, 0.16426428776176655, 0.13141143020941323, 0.098558572657059931, 0.12202489948016944, 0.056319184375462815, 0.056319184375462815, 0.093865307292438027, 0.075092245833950425, 0.046932653646219014, 0.13664428103645929, 0.16817757666025757, 0.21022197082532196, 0.094599886871394881, 0.11562208395392708, 0.084088788330128783, 0.042044394165064392, 0.052555492706330489, 0.052555492706330489, 0.052555492706330489, 0.12845533538304293, 0.1519753263686705, 0.13388302561049545, 0.18273223765756813, 0.11940918500395541, 0.085033813563422794, 0.06332305265361271, 0.052467672198707682, 0.052467672198707682, 0.028947681213080098, 0.13255962866151408, 0.13255962866151408, 0.13255962866151408, 0.13255962866151408, 0.13255962866151408, 0.066279814330757039, 0.066279814330757039, 0.13255962866151408, 0.066279814330757039, 0.13339252918362268, 0.2223208819727045, 0.11560685862580633, 0.13339252918362268, 0.10671402334689815, 0.071142682231265436, 0.06224984695235726, 0.044464176394540901, 0.044464176394540901, 0.080035517510173612, 0.12766440899072906, 0.14894181048918392, 0.10638700749227423, 0.12766440899072906, 0.19149661348609359, 0.063832204495364531, 0.063832204495364531, 0.063832204495364531, 0.042554802996909689, 0.042554802996909689, 0.128839934575293, 0.128839934575293, 0.19325990186293948, 0.128839934575293, 0.064419967287646498, 0.128839934575293, 0.064419967287646498, 0.064419967287646498, 0.064419967287646498, 0.13985684330456907, 0.13985684330456907, 0.13985684330456907, 0.13985684330456907, 0.069928421652284536, 0.069928421652284536, 0.069928421652284536, 0.069928421652284536, 0.069928421652284536, 0.069928421652284536, 0.18795593207700537, 0.13604949734643701, 0.13413715501425819, 0.10763755412549435, 0.10217371889069768, 0.11392096464551052, 0.059009420535804012, 0.048901325351430172, 0.06119495462972268, 0.048628133589690342, 0.14765001442929343, 0.15436137872153402, 0.13422728584481219, 0.13422728584481219, 0.093959100091368541, 0.080536371506887319, 0.067113642922406097, 0.060402278630165493, 0.04026818575344366, 0.080536371506887319, 0.13873974913032236, 0.11099179930425788, 0.13873974913032236, 0.055495899652128942, 0.08324384947819341, 0.24973154843458026, 0.055495899652128942, 0.027747949826064471, 0.027747949826064471, 0.027747949826064471, 0.12470023764583951, 0.20189562285516874, 0.073236647506286695, 0.073236647506286695, 0.14449392616105214, 0.10292718027910563, 0.071257278654765444, 0.059381065545637865, 0.11084465568519068, 0.03760800817890398, 0.091790065167912341, 0.3212652280876932, 0.1070884093625644, 0.12238675355721645, 0.091790065167912341, 0.061193376778608227, 0.061193376778608227, 0.04589503258395617, 0.04589503258395617, 0.030596688389304114, 0.14688828318171465, 0.18710769405289843, 0.096176852083265554, 0.12765291276506155, 0.11191488242416354, 0.047214091022693999, 0.10142286219689822, 0.08918217193175533, 0.043716750946938887, 0.047214091022693999, 0.20890152091248082, 0.15851218920800547, 0.14729189267462028, 0.11444702464052905, 0.10383874428169214, 0.078134064950664217, 0.069769843898504338, 0.039985056737154537, 0.044065164567476424, 0.035088927340768267, 0.13155905659810452, 0.29600787734573519, 0.11511417452334147, 0.11511417452334147, 0.098669292448578388, 0.049334646224289194, 0.065779528299052259, 0.032889764149526129, 0.049334646224289194, 0.049334646224289194, 0.18682207195325817, 0.17670535325542833, 0.13185456702838258, 0.14332018155258977, 0.083631541235393556, 0.078573181886478619, 0.055979176794658587, 0.04586245809682872, 0.043839114357262753, 0.053955833055092613, 0.15321403844094392, 0.078622993410484385, 0.15119806425093149, 0.0907188385505589, 0.080638967600496797, 0.26610859308163942, 0.064511174080397443, 0.040319483800248399, 0.034271561230211141, 0.042335457990260818, 0.17291847421069026, 0.12968885565801769, 0.08645923710534513, 0.17291847421069026, 0.17291847421069026, 0.08645923710534513, 0.043229618552672565, 0.043229618552672565, 0.043229618552672565, 0.043229618552672565, 0.16592767130687019, 0.18666863022022898, 0.21778006859026713, 0.093334315110114488, 0.072593356196755707, 0.082963835653435097, 0.062222876740076323, 0.041481917826717549, 0.041481917826717549, 0.031111438370038162, 0.17569385125870918, 0.11712923417247278, 0.11712923417247278, 0.21473692931620009, 0.058564617086236392, 0.097607695143727316, 0.078086156114981847, 0.039043078057490924, 0.058564617086236392, 0.039043078057490924, 0.14893108676587313, 0.15890586331381931, 0.12568218450412169, 0.14609211190222693, 0.14110472362825385, 0.084018310153854248, 0.048646217933829762, 0.070513997288942518, 0.036523027975556732, 0.039592189990309397, 0.12889855932203753, 0.23345962842243159, 0.077519413298568013, 0.12799717079530998, 0.089237464146025972, 0.073913859191657882, 0.102758292046939, 0.080223578878750618, 0.05318192307692457, 0.033351375488918797, 0.1609722985994001, 0.1609722985994001, 0.1073148657329334, 0.1073148657329334, 0.053657432866466702, 0.053657432866466702, 0.1073148657329334, 0.053657432866466702, 0.1073148657329334, 0.053657432866466702, 0.32211227627687328, 0.083510590145856031, 0.095440674452406893, 0.095440674452406893, 0.11930084306550862, 0.083510590145856031, 0.083510590145856031, 0.035790252919652585, 0.023860168613101723, 0.035790252919652585, 0.17474473716799102, 0.15190228786498566, 0.074237960234767433, 0.18159747195889264, 0.092511919677171719, 0.057106123257513408, 0.10279102186352414, 0.086801307351420373, 0.038832163815109115, 0.039974286280259383, 0.21070935580308978, 0.22821837146005122, 0.13368471611044819, 0.052865203925632542, 0.064174675412210655, 0.062070587693777511, 0.090287906917764754, 0.051287138136807693, 0.061056116829532964, 0.045726334880948689, 0.15189514733819501, 0.27475151650879392, 0.10275259966995545, 0.10498635183669362, 0.093817591003002812, 0.080415078002573831, 0.05361005200171589, 0.046908795501501406, 0.042441291168025079, 0.051376299834977726, 0.20661009615134776, 0.18967118859201396, 0.17629836683464517, 0.078453887643230219, 0.082911494895686486, 0.071767476764545826, 0.04903367977701889, 0.051931124491115456, 0.054605688842589213, 0.038335422371123855, 0.15442868018134862, 0.098272796479040025, 0.12635073833019431, 0.07019485462788573, 0.084233825553462871, 0.29481838943712008, 0.042116912776731436, 0.042116912776731436, 0.042116912776731436, 0.042116912776731436, 0.22632778804801215, 0.14268490985635549, 0.12792440194018079, 0.10332355541322294, 0.063962200970090394, 0.063962200970090394, 0.078722708886265091, 0.059042031664698819, 0.05412186235930725, 0.078722708886265091, 0.21505128124225253, 0.15718934230687645, 0.12304131277124467, 0.11260719263535718, 0.097972322834372128, 0.10176654833833122, 0.055422793968545228, 0.041465464436124304, 0.040245891952708883, 0.055287285914832403, 0.28675492700670141, 0.10753309762751302, 0.21506619525502604, 0.071688731751675352, 0.10753309762751302, 0.071688731751675352, 0.071688731751675352, 0.035844365875837676, 0.035844365875837676, 0.035844365875837676, 0.17641595505776975, 0.13867749044489633, 0.12412772095559572, 0.15959278408576594, 0.095937542570075821, 0.070475445963799774, 0.076840970115368779, 0.069566085370718483, 0.044558669060983082, 0.043649308467901791, 0.1923880774443191, 0.13424622602994257, 0.12290147453445446, 0.10257546143837161, 0.094066897816755535, 0.10872053516509433, 0.1011573675014356, 0.05105138172969647, 0.0505786837507178, 0.042070120129101718, 0.12952993298056689, 0.064764966490283446, 0.19429489947085035, 0.07401710456032394, 0.07401710456032394, 0.24980772789109329, 0.07401710456032394, 0.046260690350202464, 0.046260690350202464, 0.03700855228016197, 0.13270265787144922, 0.18578372102002891, 0.10616212629715938, 0.22559451838146366, 0.079621594722869532, 0.053081063148579688, 0.053081063148579688, 0.06635132893572461, 0.06635132893572461, 0.026540531574289844, 0.10386508126447912, 0.22850317878185405, 0.083092065011583296, 0.14541111377027077, 0.16618413002316659, 0.062319048758687469, 0.062319048758687469, 0.083092065011583296, 0.041546032505791648, 0.041546032505791648, 0.1059704488949139, 0.1059704488949139, 0.2119408977898278, 0.095373404005422519, 0.084776359115931121, 0.18014976312135364, 0.074179314226439738, 0.042388179557965561, 0.042388179557965561, 0.042388179557965561, 0.12564172152377995, 0.17171035274916593, 0.14658200844440994, 0.11726560675552795, 0.16752229536503993, 0.083761147682519965, 0.046068631225385979, 0.071196975530141968, 0.033504459073007989, 0.037692516457133986, 0.20447893979294898, 0.1199609780118634, 0.094741908770733019, 0.11178182042014544, 0.18743902814353655, 0.079746786519250101, 0.082473172383156088, 0.054527717278119725, 0.034079823298824828, 0.030671840968942345, 0.17317617807716681, 0.10873853042054661, 0.20136764892693818, 0.11410833439193163, 0.11545078538477788, 0.081889510563621523, 0.075177255599390244, 0.048328235742465163, 0.052355588721003925, 0.030876372835463854, 0.26902041581424613, 0.12983159197991878, 0.098250934471289894, 0.1017598964166931, 0.10643851234389738, 0.1052688583620963, 0.056143391126451364, 0.046786159272042806, 0.040937889363037452, 0.044446851308440664, 0.18300139960301962, 0.18300139960301962, 0.091500699801509808, 0.091500699801509808, 0.091500699801509808, 0.045750349900754904, 0.091500699801509808, 0.045750349900754904, 0.045750349900754904, 0.091500699801509808, 0.32121373476042003, 0.095495975199043792, 0.11285887978068811, 0.078133070617399464, 0.086814522908221628, 0.078133070617399464, 0.10851815363527703, 0.039066535308699732, 0.03472580916328865, 0.047747987599521896, 0.19406636962358073, 0.12974722997690824, 0.17965001073725759, 0.10756821630564188, 0.10682891584993301, 0.084649902178666636, 0.058404736001001434, 0.051011731443912647, 0.048424179848931569, 0.039182924152570582, 0.14541494558979773, 0.16200830747918568, 0.15843984255673665, 0.1195435749020423, 0.15308714517306313, 0.076365149340409111, 0.044248965038367893, 0.052456434360000651, 0.047639006714694468, 0.040858923362041326, 0.27472587549554267, 0.15963800873389644, 0.11137535493062542, 0.12436914633919838, 0.089100283944500328, 0.06125644521184398, 0.044550141972250164, 0.044550141972250164, 0.033412606479187625, 0.057543933380823128, 0.21076146223231307, 0.17113926208444899, 0.13056231012579303, 0.09141748588332492, 0.110751210051861, 0.086166350923969445, 0.051079221877366923, 0.045112023059917516, 0.05704642069481633, 0.046066774870709426, 0.31479157353785375, 0.12591662941514151, 0.12591662941514151, 0.062958314707570753, 0.062958314707570753, 0.062958314707570753, 0.12591662941514151, 0.062958314707570753, 0.062958314707570753, 0.062958314707570753, 0.31506139163238933, 0.118148021862146, 0.078765347908097333, 0.078765347908097333, 0.078765347908097333, 0.118148021862146, 0.078765347908097333, 0.039382673954048666, 0.039382673954048666, 0.039382673954048666, 0.16424556897093201, 0.12318417672819901, 0.1290500899057323, 0.15837965579339872, 0.10206688928907917, 0.090335062934012597, 0.068044592859386119, 0.083295967120972661, 0.039888209607226346, 0.039888209607226346, 0.22147592170577934, 0.15842147996380973, 0.11174772949288563, 0.095591431252950346, 0.08706449607076229, 0.11623559011508987, 0.076293630577472113, 0.040166352568727963, 0.047571322595364965, 0.045327392284262844, 0.18414988962112838, 0.15312463647843827, 0.14499301771120093, 0.13035610393017374, 0.098580239824354043, 0.07318456890513593, 0.066429070236969548, 0.057421738679414351, 0.051667054628754087, 0.039907482873057031, 0.19603301201683832, 0.15408356088566302, 0.13714243639038071, 0.10971394911230456, 0.089545943760777985, 0.088739223546716928, 0.10003330654357181, 0.05485697455615228, 0.03872257027493102, 0.032268808562442519, 0.18829215562161761, 0.1096306300823234, 0.20439608998399281, 0.10405619126457816, 0.11644383308178984, 0.082997200175318295, 0.065035119540361341, 0.04273736426938031, 0.047073038905404402, 0.038711380678786517, 0.30847916729572261, 0.14021780331623757, 0.12152209620740588, 0.065434974880910865, 0.065434974880910865, 0.10282638909857421, 0.074782828435326701, 0.046739267772079186, 0.03739141421766335, 0.046739267772079186, 0.14856983131459431, 0.17333146986702672, 0.12380819276216193, 0.099046554209729548, 0.074284915657297154, 0.074284915657297154, 0.099046554209729548, 0.049523277104864774, 0.099046554209729548, 0.049523277104864774, 0.19007126568096408, 0.088652642575076532, 0.15673787207273532, 0.11985837276150346, 0.085106536872073466, 0.097163296262283871, 0.079432767747268568, 0.066666787216457551, 0.069503671778859993, 0.04680859527964041, 0.33456292106354657, 0.19485532765239524, 0.10018505053825982, 0.060662507665368334, 0.063419894377430536, 0.080883343553824441, 0.061581636569389066, 0.027573867120621969, 0.035846027256808563, 0.041360800680932952, 0.21512731407252514, 0.13351286612672281, 0.18122592800273032, 0.11112120989543857, 0.090612964001365162, 0.072825199705485164, 0.070523253737783051, 0.051061346919937876, 0.038296010189953406, 0.035575528591759997, 0.19620113377073287, 0.12934151820585837, 0.15560779574920192, 0.12337190967328029, 0.083574519456093108, 0.093921840912561769, 0.062083928738812022, 0.071635302390936947, 0.045766998749765274, 0.037011572901984091, 0.13933097612320161, 0.094673611981149819, 0.18220204569957135, 0.060734015233190448, 0.10003249567819603, 0.26973047941799289, 0.064306604364554598, 0.028580713050913153, 0.026794418485231081, 0.03393959674795937, 0.10587002771141076, 0.15880504156711614, 0.15880504156711614, 0.12351503232997921, 0.14116003694854767, 0.070580018474273837, 0.070580018474273837, 0.10587002771141076, 0.035290009237136918, 0.035290009237136918, 0.17917062870618011, 0.14504288990500294, 0.085319347002942914, 0.11091515110382578, 0.17063869400588583, 0.11091515110382578, 0.051191608201765743, 0.051191608201765743, 0.051191608201765743, 0.042659673501471457, 0.26088930898129054, 0.13867089396302831, 0.13338259715935349, 0.11986806088329566, 0.090488634196213391, 0.07521133231893061, 0.062284384576614414, 0.051120202435523149, 0.0323173693557905, 0.035255312024498726, 0.18670607848732806, 0.14936486278986247, 0.22404729418479369, 0.11202364709239684, 0.074682431394931234, 0.074682431394931234, 0.074682431394931234, 0.037341215697465617, 0.037341215697465617, 0.037341215697465617, 0.12771174304747457, 0.10946720832640677, 0.12771174304747457, 0.091222673605338978, 0.10946720832640677, 0.25542348609494914, 0.10946720832640677, 0.036489069442135591, 0.036489069442135591, 0.036489069442135591, 0.12576124798840027, 0.14672145598646699, 0.10480103999033356, 0.18864187198260043, 0.10480103999033356, 0.10480103999033356, 0.083840831992266857, 0.062880623994200135, 0.041920415996133428, 0.041920415996133428, 0.29933998656839816, 0.12550231731479583, 0.13483019225035497, 0.078014954006494705, 0.10345461292165602, 0.072079033592957059, 0.061055181396387159, 0.040703454264258108, 0.031375579328698958, 0.05511926098284952, 0.18750071363839407, 0.16478502143168924, 0.12281874260913286, 0.093557850953038521, 0.1282089068615713, 0.095097897882306645, 0.071612182210967754, 0.038886184964020125, 0.050436536933531055, 0.047356443074994807, 0.18185840962659072, 0.17574552190804985, 0.12607830919490531, 0.1044284985250731, 0.10315498025037709, 0.10162675832074188, 0.088891575573781731, 0.044063732304482066, 0.036167919001366781, 0.038205548240880405, 0.16322606672033221, 0.16322606672033221, 0.16322606672033221, 0.081613033360166107, 0.16322606672033221, 0.081613033360166107, 0.081613033360166107, 0.081613033360166107, 0.081613033360166107, 0.11602854053627577, 0.15470472071503438, 0.11602854053627577, 0.15470472071503438, 0.15470472071503438, 0.077352360357517191, 0.038676180178758596, 0.11602854053627577, 0.038676180178758596, 0.038676180178758596, 0.14747864584224551, 0.29181944815593258, 0.10041099291386928, 0.059619027042609886, 0.072170401156843547, 0.084721775271077202, 0.090997462328194029, 0.053343339985493052, 0.056481183514051472, 0.043929809399817811, 0.12534256231448851, 0.1858893932630126, 0.11259586106216764, 0.16995601669761154, 0.13596481335808921, 0.09984915980984678, 0.052049030113643528, 0.05523570542672375, 0.038240103756962594, 0.024431177400281657, 0.12755051502534104, 0.12755051502534104, 0.12755051502534104, 0.063775257512670519, 0.12755051502534104, 0.063775257512670519, 0.12755051502534104, 0.063775257512670519, 0.063775257512670519, 0.063775257512670519, 0.11770919384509579, 0.27212340512575911, 0.12656902563988795, 0.12403764512709019, 0.08859831794792157, 0.0683472738455395, 0.050627610255955177, 0.055690371281550695, 0.048096229743157422, 0.045564849230359659, 0.15449767376869164, 0.21019859915167088, 0.14410698126605637, 0.14138155372438155, 0.10288488969822464, 0.068817045427289336, 0.038155985583447551, 0.062514494237166304, 0.03134241672926049, 0.046161928987117351, 0.17080356752153522, 0.28467261253589204, 0.11386904501435681, 0.056934522507178405, 0.085401783760767611, 0.056934522507178405, 0.11386904501435681, 0.056934522507178405, 0.056934522507178405, 0.028467261253589202, 0.18680273921373755, 0.077594983981090979, 0.15806385625777791, 0.083342760572282903, 0.1149555318238385, 0.22703717535208101, 0.063225542503111173, 0.033049715399353564, 0.020117218069171737, 0.035923603694949527, 0.15157395493890846, 0.059795229930028108, 0.20163507767102501, 0.084825791296086389, 0.095950485236556735, 0.22944681252220087, 0.066748163642822073, 0.04310818901932259, 0.034764668563969828, 0.031983495078852245, 0.15648751837346989, 0.15607786518401054, 0.1646805821626568, 0.11183532072240125, 0.097087805901864818, 0.082749944270787745, 0.068002429450251312, 0.058990059282145714, 0.072508614534304114, 0.031543295588369581, 0.22781939631397663, 0.17285823637068048, 0.14031260832582668, 0.093326204923322498, 0.10518057275422951, 0.07716115788117657, 0.040304850625083849, 0.059271839154535072, 0.05668543162779173, 0.026941745070243217, 0.24810141301731758, 0.11520701452249237, 0.11568505192715001, 0.11998738856906882, 0.10755841604797005, 0.09034906948029485, 0.049237852679737404, 0.06549112443809732, 0.046369628251791535, 0.042067291609872735, 0.16817600839460703, 0.14475909583333263, 0.093667650245097586, 0.14901671629901889, 0.093667650245097586, 0.051091445588235043, 0.12985742420343074, 0.078765978615195686, 0.051091445588235043, 0.042576204656862536, 0.14088133152679577, 0.11270506522143663, 0.14088133152679577, 0.12209715398988968, 0.178449686600608, 0.075136710147624422, 0.065744621379171364, 0.084528798916077466, 0.046960443842265262, 0.028176266305359157, 0.15555094106893719, 0.17400613746694671, 0.14236865792750183, 0.079093698848612129, 0.10282180850319578, 0.071184328963750917, 0.055365589194028494, 0.068547872335463847, 0.092275981990047495, 0.058002045822315565, 0.08681810085820281, 0.15193167650185491, 0.15193167650185491, 0.15193167650185491, 0.13022715128730422, 0.08681810085820281, 0.08681810085820281, 0.10852262607275351, 0.043409050429101405, 0.043409050429101405, 0.15403197711290625, 0.15403197711290625, 0.21888754642360361, 0.11349724629372039, 0.097283353966046052, 0.072962515474534542, 0.072962515474534542, 0.048641676983023026, 0.048641676983023026, 0.024320838491511513, 0.30273989449536737, 0.15933678657650915, 0.1115357506035564, 0.079668393288254577, 0.063734714630603664, 0.09560207194590549, 0.079668393288254577, 0.031867357315301832, 0.031867357315301832, 0.047801035972952745, 0.18099073292634832, 0.1869443754568203, 0.098830466005834935, 0.083946359679654983, 0.088113909450985364, 0.076206624390041403, 0.089304637957079769, 0.076801988643088598, 0.069062253353475017, 0.05001059725596467, 0.22633332569556872, 0.16700427600086923, 0.10659847404310802, 0.1204885782366039, 0.10250681544347356, 0.081833171992688983, 0.037794004433465568, 0.050499681137593594, 0.060298126731455036, 0.046731048216877652, 0.14595640447482353, 0.16132023652480496, 0.15363832049981424, 0.1229106563998514, 0.099864908324879265, 0.09218299229988855, 0.069137244224916405, 0.03840958012495356, 0.099864908324879265, 0.030727664099962849, 0.18288456398304542, 0.15197449683098141, 0.20349127541775477, 0.079851006809498706, 0.082426845738837365, 0.10560939610288539, 0.069547651092144031, 0.048940939657434693, 0.038637583940080017, 0.041213422869418682, 0.072562178051179121, 0.14512435610235824, 0.14512435610235824, 0.14512435610235824, 0.14512435610235824, 0.072562178051179121, 0.072562178051179121, 0.072562178051179121, 0.072562178051179121, 0.072562178051179121, 0.20787457886776667, 0.11548587714875926, 0.13088399410192716, 0.11548587714875926, 0.10778681867217531, 0.10008776019559136, 0.061592467812671602, 0.030796233906335801, 0.092388701719007399, 0.038495292382919752, 0.13648416573309405, 0.22013575118240974, 0.10566516056755668, 0.083651585449315696, 0.18491403099322418, 0.088054300472963892, 0.052832580283778338, 0.06163801033107473, 0.035221720189185561, 0.030819005165537365, 0.17485382734378802, 0.15085428241424848, 0.13542600353097306, 0.12171197785695048, 0.12171197785695048, 0.096855306322784537, 0.047141963254452648, 0.040284950417441359, 0.048856216463705478, 0.063427368742354481, 0.16612054179638874, 0.3066840771625638, 0.10222802572085461, 0.076671019290640949, 0.076671019290640949, 0.051114012860427306, 0.10222802572085461, 0.038335509645320474, 0.051114012860427306, 0.051114012860427306, 0.27839125031665229, 0.14067642968128705, 0.1169835573139124, 0.11106033922206873, 0.081444248762850405, 0.074040226148045826, 0.060712985441397575, 0.03405850402810108, 0.060712985441397575, 0.038500917596983826, 0.19911169133730816, 0.14601524031402599, 0.07964467653492327, 0.10619290204656436, 0.07964467653492327, 0.07964467653492327, 0.13274112755820544, 0.06637056377910272, 0.06637056377910272, 0.039822338267461635, 0.15975520087685458, 0.12780416070148365, 0.2236572812275964, 0.095853120526112751, 0.063902080350741824, 0.095853120526112751, 0.095853120526112751, 0.031951040175370912, 0.031951040175370912, 0.063902080350741824, 0.18682638372524013, 0.23872260142669571, 0.10379243540291118, 0.094075696769447145, 0.072654704782037824, 0.080825598632905296, 0.058300431800784147, 0.062937966148573804, 0.048142023229435393, 0.053883732421936864, 0.30445774898718569, 0.11840023571723889, 0.13531455510541587, 0.084571596940884911, 0.067657277552707937, 0.067657277552707937, 0.050742958164530949, 0.050742958164530949, 0.067657277552707937, 0.050742958164530949, 0.17125432114260081, 0.2495581061387242, 0.11717400920283212, 0.082810477657770776, 0.070980409420946383, 0.067037053342004924, 0.068163726507416769, 0.054080311939768672, 0.071543746003652306, 0.047320272947297591, 0.1589222653294593, 0.13243522110788275, 0.1059481768863062, 0.13243522110788275, 0.18540930955103585, 0.1059481768863062, 0.07946113266472965, 0.0529740884431531, 0.0529740884431531, 0.02648704422157655, 0.13631876369927845, 0.14968334837567829, 0.18710418546959787, 0.14166459756983837, 0.11226251128175872, 0.072168757252559182, 0.054126567939419383, 0.057467714108519342, 0.03875729556155956, 0.050785421770319424, 0.20939361665462508, 0.11948194900149216, 0.12098297851156116, 0.16961633463779666, 0.11302752210819547, 0.07310013714036015, 0.070848592875256661, 0.03842635545776632, 0.050734797440332095, 0.034523678731586932, 0.16470526770773111, 0.20588158463466388, 0.096078072829509809, 0.12352895078079833, 0.096078072829509809, 0.044607676670843838, 0.06862719487822129, 0.096078072829509809, 0.061764475390399164, 0.041176316926932778, 0.21730364524157711, 0.19014068958637997, 0.090066642435653668, 0.10007404715072629, 0.071481462250518782, 0.091496271680664043, 0.11294071035581968, 0.042888877350311272, 0.055755540555404652, 0.027162955655197139, 0.16052606100650238, 0.22741191975921171, 0.14714888925596051, 0.05350868700216746, 0.08026303050325119, 0.066885858752709332, 0.12039454575487679, 0.05350868700216746, 0.05350868700216746, 0.040131515251625595, 0.12275320419764112, 0.15623135079699779, 0.13391258639742668, 0.14507196859721222, 0.078115675398498896, 0.089275057598284441, 0.078115675398498896, 0.10043443979807, 0.055796910998927779, 0.04463752879914222, 0.17168779966822298, 0.17932422020561326, 0.14588196474876614, 0.15509833436285786, 0.075047581143318318, 0.078470804142838108, 0.04397524930152337, 0.061091364299122285, 0.047135147454926245, 0.042131975378705021, 0.15436871549908193, 0.1800968347489289, 0.11792054656179869, 0.12864059624923493, 0.094336437249438951, 0.079328367687028209, 0.051456238499693975, 0.051456238499693975, 0.090048417374464451, 0.055744258374668468, 0.11490274093690497, 0.27501311765226438, 0.12620464988151858, 0.10171718050152244, 0.11490274093690497, 0.0744042338853729, 0.055567718977683554, 0.047091287269223354, 0.044265810033069952, 0.047091287269223354, 0.15526180260352498, 0.19873510733251198, 0.086946609457974, 0.093157081562114996, 0.086946609457974, 0.08073613735383299, 0.130419914186961, 0.043473304728987, 0.08073613735383299, 0.043473304728987, 0.1611577333329626, 0.092787785858372399, 0.1635995171713408, 0.0805788666664813, 0.068369947474590187, 0.26615443838322611, 0.061044595959455529, 0.031743189898916876, 0.039068541414051534, 0.039068541414051534, 0.17448768460050762, 0.13959014768040612, 0.069795073840203059, 0.26173152690076146, 0.052346305380152287, 0.08724384230025381, 0.069795073840203059, 0.069795073840203059, 0.069795073840203059, 0.03489753692010153, 0.14676963142789276, 0.30984699968110696, 0.11415415777724992, 0.048923210475964256, 0.081538684126607086, 0.065230947301285674, 0.065230947301285674, 0.048923210475964256, 0.065230947301285674, 0.048923210475964256, 0.23902216591242006, 0.15302913380829652, 0.1189616067127332, 0.1288521790953161, 0.08736672271281562, 0.080773007791093684, 0.063739244243312024, 0.039562289530331599, 0.046156004452053534, 0.042584408869454152, 0.15735032024825849, 0.15735032024825849, 0.15735032024825849, 0.078675160124129243, 0.078675160124129243, 0.078675160124129243, 0.15735032024825849, 0.078675160124129243, 0.078675160124129243, 0.14174977599943653, 0.29024954133217956, 0.084374866666331275, 0.091124855999637766, 0.12149980799951703, 0.074249882666371517, 0.067499893333065011, 0.040499935999839011, 0.053999914666452015, 0.037124941333185758, 0.18146616957272244, 0.18146616957272244, 0.12097744638181496, 0.060488723190907479, 0.12097744638181496, 0.060488723190907479, 0.060488723190907479, 0.060488723190907479, 0.12097744638181496, 0.21601005083467176, 0.21540709186514023, 0.10401042224418947, 0.074616172479527232, 0.085620173673477712, 0.068285103299446134, 0.073410254540464168, 0.049442635501585716, 0.064064390512725403, 0.049442635501585716, 0.19324460978850638, 0.2898669146827596, 0.096622304894253191, 0.096622304894253191, 0.032207434964751064, 0.064414869929502128, 0.064414869929502128, 0.064414869929502128, 0.064414869929502128, 0.032207434964751064, 0.21097591246034, 0.17552145414231607, 0.081851650684820712, 0.09104354728578988, 0.10198628133456271, 0.09016812856188805, 0.093232094095544449, 0.061279310673127807, 0.043770936195091287, 0.050336576624354978, 0.11394138854073919, 0.22339417692684319, 0.11756679635794452, 0.17298374442094042, 0.092706857039965063, 0.086146595275498269, 0.054381117258080071, 0.038153101314399029, 0.044022809208921959, 0.056625417335397658, 0.13612209166155953, 0.18797812658024887, 0.10371206983737868, 0.20094213530992122, 0.097230065472542523, 0.097230065472542523, 0.045374030553853174, 0.051856034918689342, 0.032410021824180839, 0.038892026189017007, 0.16680616310215385, 0.19753361419991902, 0.1097408967777328, 0.19314397832880972, 0.1097408967777328, 0.065844538066639674, 0.048285994582202431, 0.043896358711093118, 0.030727451097765181, 0.030727451097765181, 0.16476354405003982, 0.14811002454390676, 0.085747908946472343, 0.13925176948745302, 0.1314565050377737, 0.061299124990659981, 0.096377815014216842, 0.060236134383885524, 0.063070776001950726, 0.049606228316141025, 0.3150978045130991, 0.11608866482061544, 0.13267275979498908, 0.099504569846241814, 0.082920474871868183, 0.082920474871868183, 0.066336379897494538, 0.033168189948747269, 0.033168189948747269, 0.049752284923120907, 0.12286669772836695, 0.20477782954727825, 0.20477782954727825, 0.081911131818911298, 0.081911131818911298, 0.081911131818911298, 0.040955565909455649, 0.040955565909455649, 0.040955565909455649, 0.040955565909455649, 0.25025921968675158, 0.17031530228681702, 0.11768141878127007, 0.085902470249619084, 0.067530265629758349, 0.10079885237383049, 0.081930101683162712, 0.042702962089406021, 0.050647699222318765, 0.032275494602458037, 0.29184730557850935, 0.15176059890082486, 0.11673892223140374, 0.070043353338842235, 0.070043353338842235, 0.058369461115701869, 0.070043353338842235, 0.046695568892561497, 0.046695568892561497, 0.081717245561982621, 0.12843905141168011, 0.17125206854890679, 0.085626034274453394, 0.12843905141168011, 0.17125206854890679, 0.085626034274453394, 0.085626034274453394, 0.085626034274453394, 0.042813017137226697, 0.042813017137226697, 0.14565762547196434, 0.15536813383676196, 0.15536813383676196, 0.19421016729595245, 0.097105083647976223, 0.077684066918380978, 0.058263050188785734, 0.058263050188785734, 0.038842033459190489, 0.029131525094392867, 0.177151313199575, 0.106290787919745, 0.106290787919745, 0.07086052527983, 0.0885756565997875, 0.248011838479405, 0.0885756565997875, 0.0531453939598725, 0.0177151313199575, 0.035430262639915, 0.16309940310875784, 0.17606667014037286, 0.13831751500389358, 0.16569285651508084, 0.088753738794165038, 0.070599564949904006, 0.051004583657685759, 0.078956248148055921, 0.045817676845039748, 0.021612111719358371, 0.15732670327806553, 0.08740372404336974, 0.1398459584693916, 0.08740372404336974, 0.10488446885204369, 0.26221117213010925, 0.069922979234695801, 0.0349614896173479, 0.0349614896173479, 0.0349614896173479, 0.31244451892997982, 0.091895446744111708, 0.091895446744111708, 0.073516357395289361, 0.091895446744111708, 0.073516357395289361, 0.073516357395289361, 0.073516357395289361, 0.055137268046467028, 0.055137268046467028, 0.2481375942204484, 0.12975616132410545, 0.13860317232347627, 0.090576541184034645, 0.092682972374361031, 0.091840399898230479, 0.070776087994966611, 0.052239493520094396, 0.04254991004459302, 0.042971196282658296, 0.19780205028193421, 0.18803685147352645, 0.13080824450332273, 0.092655839856520275, 0.10968816335955708, 0.084480324575062604, 0.080846762227748087, 0.043375650521067087, 0.030885279952173425, 0.041331771700702673, 0.23095602123170411, 0.13857361273902247, 0.092382408492681645, 0.23095602123170411, 0.046191204246340822, 0.092382408492681645, 0.046191204246340822, 0.046191204246340822, 0.046191204246340822, 0.046191204246340822, 0.30836624008552843, 0.15418312004276422, 0.10278874669517614, 0.077091560021382108, 0.10278874669517614, 0.077091560021382108, 0.077091560021382108, 0.05139437334758807, 0.05139437334758807, 0.025697186673794035, 0.20333605996765858, 0.19798511102114125, 0.10778340020842053, 0.10778340020842053, 0.082557498031981688, 0.069562336304725303, 0.10701897893034662, 0.046629697962508175, 0.038985485181769128, 0.037456642625621317, 0.16605221529417274, 0.23087150588671154, 0.12586123324844942, 0.082648372853423566, 0.077964461412004679, 0.071618516878469415, 0.075093676980167293, 0.058473346059003506, 0.072676174300725288, 0.038680042871072087, 0.16902423899165786, 0.16902423899165786, 0.16902423899165786, 0.16902423899165786, 0.16902423899165786, 0.16902423899165786, 0.14565440906830887, 0.33500514085711042, 0.131088968161478, 0.072827204534154436, 0.058261763627323548, 0.058261763627323548, 0.087392645440985323, 0.043696322720492661, 0.029130881813661774, 0.043696322720492661, 0.19240001175717644, 0.094313731253517857, 0.16410589238112108, 0.060360788002251434, 0.098086280503658571, 0.077337259627884652, 0.12826667450478429, 0.043384316376618215, 0.041498041751547858, 0.098086280503658571, 0.14698436902887813, 0.24497394838146352, 0.097989579352585413, 0.097989579352585413, 0.097989579352585413, 0.048994789676292706, 0.097989579352585413, 0.097989579352585413, 0.048994789676292706, 0.048994789676292706, 0.31421239826752134, 0.13466245640036628, 0.08977497093357753, 0.08977497093357753, 0.08977497093357753, 0.08977497093357753, 0.08977497093357753, 0.044887485466788765, 0.044887485466788765, 0.044887485466788765, 0.13561118216442769, 0.089742694079400678, 0.2014224911559882, 0.075782719444827243, 0.10370266871397411, 0.21737674788121497, 0.065811308991560499, 0.039885641813066967, 0.031908513450453577, 0.039885641813066967, 0.13894644355818939, 0.067449729882616202, 0.18751024907367306, 0.068798724480268525, 0.10522157861688128, 0.27384590332342179, 0.059355762296702259, 0.033724864941308101, 0.024281902757741836, 0.043167827124874374, 0.16862887859980108, 0.1264716589498508, 0.10539304912487567, 0.18970748842477619, 0.10539304912487567, 0.063235829474925398, 0.10539304912487567, 0.063235829474925398, 0.04215721964995027, 0.021078609824975135, 0.33749791331312884, 0.077247478796465457, 0.14529882916478026, 0.07081018889676001, 0.10575547692373248, 0.057015996254534032, 0.066212124682684684, 0.045980642140753251, 0.04781986782638338, 0.045980642140753251, 0.18953736216581199, 0.13947088914088052, 0.1037091226945009, 0.12874235920696664, 0.089404416115949056, 0.067947356248121288, 0.10013294604986293, 0.096556769405224979, 0.050066473024931467, 0.03218558980174166, 0.12757431028808711, 0.19136146543213067, 0.077216029911210626, 0.15443205982242125, 0.094002123370169444, 0.077216029911210626, 0.080573248603002384, 0.10407377944554475, 0.053715499068668258, 0.036929405609709427, 0.22461133817451037, 0.11230566908725519, 0.11230566908725519, 0.22461133817451037, 0.11230566908725519, 0.11230566908725519, 0.11230566908725519, 0.11230566908725519, 0.20076431137409742, 0.14996852174932576, 0.14582192667791585, 0.10988476939236312, 0.082240802249630263, 0.074638711285378731, 0.082586351838914426, 0.051832438392624115, 0.046994744142645865, 0.055287934285465724, 0.18374465157474024, 0.18374465157474024, 0.18374465157474024, 0.091872325787370118, 0.091872325787370118, 0.091872325787370118, 0.091872325787370118, 0.091872325787370118, 0.091872325787370118, 0.14853171111631763, 0.14592589162304892, 0.07296294581152446, 0.16677244756919876, 0.096415321250943029, 0.085992043277868108, 0.091203682264405575, 0.059933848345180805, 0.093809501757674302, 0.03648147290576223, 0.10686449661296797, 0.15543926780068068, 0.17486917627576576, 0.1360093593255956, 0.10686449661296797, 0.097149542375425432, 0.048574771187712716, 0.097149542375425432, 0.048574771187712716, 0.03885981695017017, 0.070750735879828788, 0.18866862901287676, 0.21225220763948638, 0.11791789313304799, 0.11791789313304799, 0.070750735879828788, 0.070750735879828788, 0.070750735879828788, 0.023583578626609595, 0.04716715725321919, 0.12617562296145565, 0.12617562296145565, 0.16995083909094028, 0.10042549582646471, 0.11330055939396019, 0.1030005085399638, 0.074675368691473759, 0.056650279696980096, 0.056650279696980096, 0.06952534326447557, 0.21872143312811138, 0.080581580626146301, 0.21872143312811138, 0.069069926250982544, 0.10360488937647382, 0.092093235001310059, 0.057558271875818787, 0.057558271875818787, 0.057558271875818787, 0.046046617500655029, 0.29128838182063921, 0.13931183478378398, 0.10131769802457016, 0.11398241027764143, 0.10131769802457016, 0.075988273518427615, 0.063323561265356348, 0.037994136759213808, 0.025329424506142541, 0.025329424506142541, 0.13638946036120558, 0.17871722392157974, 0.14579563004128873, 0.089358611960789869, 0.089358611960789869, 0.07524935744066516, 0.079952442280706734, 0.065843187760582012, 0.089358611960789869, 0.047030848400415722, 0.1239250641157765, 0.099140051292621198, 0.1239250641157765, 0.099140051292621198, 0.1239250641157765, 0.247850128231553, 0.074355038469465909, 0.037177519234732954, 0.024785012823155299, 0.037177519234732954, 0.22199047957166718, 0.14441037615076366, 0.1437627959886526, 0.12692571177376535, 0.077450587388481304, 0.081983648523258637, 0.060613503173594069, 0.039502389888773914, 0.049863672482550678, 0.053490121390372541, 0.26331425297146832, 0.15798855178288099, 0.11011323306079585, 0.10436819481414564, 0.10628320756302903, 0.071812978083127726, 0.059365395215385586, 0.044045293224318341, 0.045960305973201748, 0.036385242228784719, 0.19199168458128832, 0.12616596415341805, 0.19528297060268182, 0.10678394647187846, 0.11226942317420098, 0.07204259402383581, 0.059974545278726255, 0.047540798086795205, 0.045346607405866192, 0.042421019831294184, 0.30206834509515323, 0.10984303458005572, 0.10984303458005572, 0.10984303458005572, 0.082382275935041785, 0.082382275935041785, 0.082382275935041785, 0.054921517290027859, 0.054921517290027859, 0.054921517290027859, 0.29710245475914648, 0.14855122737957324, 0.12998232395712658, 0.074275613689786621, 0.09284451711223328, 0.055706710267339969, 0.055706710267339969, 0.055706710267339969, 0.055706710267339969, 0.03713780684489331, 0.14732435927898618, 0.13599171625752571, 0.13599171625752571, 0.16998964532190713, 0.10199378719314428, 0.090661144171683805, 0.056663215107302378, 0.10199378719314428, 0.033997929064381427, 0.033997929064381427, 0.17252958370422161, 0.12727592240475366, 0.19798476818517236, 0.11596250707988666, 0.11596250707988666, 0.069294668864810324, 0.074951376527243818, 0.041011130552642841, 0.039596953637034471, 0.043839484383859588, 0.26866530174805175, 0.15092353604173425, 0.098474931318010994, 0.11346024695336049, 0.095263792253293247, 0.089911893812096993, 0.051378225035483997, 0.03746328908837375, 0.04388556721780925, 0.050307845347244744, 0.19225421742085647, 0.12225224626935995, 0.15139182277739915, 0.11320892942203743, 0.10651017620179852, 0.066652594541377064, 0.084404290575010157, 0.064977906236317343, 0.045886459558636475, 0.052585212778875373, 0.17390145714507477, 0.13266709101789209, 0.17963841243233497, 0.10039671752705348, 0.11509766545065774, 0.099321038410692189, 0.064540746981677236, 0.037290209367191289, 0.053066836407156835, 0.044102843770812777, 0.15078618580675376, 0.21110066012945528, 0.12062894864540302, 0.12062894864540302, 0.060314474322701511, 0.060314474322701511, 0.12062894864540302, 0.060314474322701511, 0.060314474322701511, 0.030157237161350756, 0.12851500279758901, 0.19277250419638353, 0.12851500279758901, 0.12851500279758901, 0.064257501398794506, 0.12851500279758901, 0.064257501398794506, 0.064257501398794506, 0.12851500279758901, 0.064257501398794506, 0.15407709809182876, 0.15407709809182876, 0.15407709809182876, 0.15407709809182876, 0.15407709809182876, 0.10271806539455251, 0.051359032697276256, 0.051359032697276256, 0.051359032697276256, 0.051359032697276256, 0.14854993871452396, 0.17825992645742877, 0.089129963228714387, 0.089129963228714387, 0.089129963228714387, 0.089129963228714387, 0.11883995097161917, 0.059419975485809587, 0.059419975485809587, 0.029709987742904793, 0.17288890287319336, 0.17288890287319336, 0.086444451436596681, 0.2161111285914917, 0.086444451436596681, 0.086444451436596681, 0.086444451436596681, 0.04322222571829834, 0.04322222571829834, 0.04322222571829834, 0.18930763586939015, 0.14671341779877736, 0.098755483378531864, 0.10916740335134832, 0.1249430396737975, 0.11547765788032799, 0.061840494384000785, 0.061524981657551797, 0.04196319261771482, 0.050166523505388388, 0.16080842820681576, 0.11256589974477103, 0.22513179948954207, 0.096485056924089457, 0.096485056924089457, 0.096485056924089457, 0.064323371282726305, 0.048242528462044729, 0.048242528462044729, 0.032161685641363152, 0.21803391505273023, 0.10474178272140963, 0.18329811976246685, 0.13092722840176202, 0.094588242559640323, 0.066265209476810166, 0.072143574833623977, 0.040079763796457765, 0.044889335452032698, 0.044889335452032698, 0.18346078428309448, 0.11007647056985669, 0.18346078428309448, 0.073384313713237795, 0.073384313713237795, 0.11007647056985669, 0.11007647056985669, 0.036692156856618897, 0.036692156856618897, 0.073384313713237795, 0.14774403931452051, 0.098008422119533423, 0.092157173037770226, 0.108248108012619, 0.11263654482394139, 0.25160371051581715, 0.078991862603803059, 0.054124054006309499, 0.027793433138375147, 0.029256245408815947, 0.1368321365351258, 0.27899539527291883, 0.16348774754846199, 0.081743873774230993, 0.07285867010311893, 0.051534181292449979, 0.074635710837341343, 0.039094896152893084, 0.05864234422933963, 0.042648977621337909, 0.13648097524665675, 0.1230251044476906, 0.18030866870614654, 0.13109862692707031, 0.1241784648018877, 0.09726672320395538, 0.073430609217215323, 0.056899110807056903, 0.039598705494100411, 0.03690753133430718, 0.14255425634409011, 0.14255425634409011, 0.14255425634409011, 0.071277128172045054, 0.14255425634409011, 0.071277128172045054, 0.071277128172045054, 0.071277128172045054, 0.071277128172045054, 0.071277128172045054, 0.30724361289556279, 0.13825962580300324, 0.076810903223890697, 0.069129812901501622, 0.10753526451344697, 0.10753526451344697, 0.092173083868668834, 0.03072436128955628, 0.038405451611945349, 0.038405451611945349, 0.11055812530194725, 0.096738359639203853, 0.17965695361566428, 0.069098828313717039, 0.082918593976460439, 0.27639531325486816, 0.069098828313717039, 0.04145929698823022, 0.027639531325486813, 0.04145929698823022, 0.13800502374544418, 0.26067615596361676, 0.10497818045593617, 0.079028517871322729, 0.10615771057341859, 0.081387578106287592, 0.081387578106287592, 0.060156035991603872, 0.040104023994402584, 0.049540264934262015, 0.13767476473128631, 0.2009307377159314, 0.10790724803262981, 0.12651194596929013, 0.074418791746641247, 0.063255972984645067, 0.13023288555662219, 0.063255972984645067, 0.048372214635316817, 0.048372214635316817, 0.16627448917043444, 0.13064424149105563, 0.12470586687782582, 0.10095236842490662, 0.16627448917043444, 0.10689074303813642, 0.047506996905838407, 0.083137244585217221, 0.029691873066149007, 0.035630247679378807, 0.15658286715123493, 0.17500438093373313, 0.12895059647748758, 0.092107568912491125, 0.073686055129992906, 0.073686055129992906, 0.13816135336873669, 0.064475298238743789, 0.046053784456245563, 0.046053784456245563, 0.14195541946681373, 0.29681587706697415, 0.11614534320012031, 0.077430228800080214, 0.090335266933426916, 0.077430228800080214, 0.064525190666733512, 0.051620152533386802, 0.038715114400040107, 0.038715114400040107, 0.16305643349288701, 0.25347863752076072, 0.12006882829930771, 0.057810917329296302, 0.078563554319300094, 0.071151898251441595, 0.1141395034450209, 0.059293248542868, 0.037058280339292503, 0.0459522676207227, 0.19431009562582582, 0.29146514343873875, 0.10687055259420421, 0.048577523906456456, 0.097155047812912912, 0.048577523906456456, 0.097155047812912912, 0.038862019125165168, 0.048577523906456456, 0.029146514343873872, 0.19286289193068659, 0.14271854002870807, 0.23220692188454664, 0.084859672449502099, 0.078688059907720126, 0.091802736559006809, 0.060944673850096963, 0.039344029953860063, 0.036258223682969076, 0.040115481521582813, 0.14753470089616802, 0.075240019876267175, 0.15770950785452445, 0.073365713331306787, 0.084611552601069145, 0.32238072573318749, 0.052748341336742471, 0.02891787240796034, 0.020349613916712833, 0.036950614743504882, 0.18387243570788364, 0.093549133956642563, 0.15322702975656971, 0.06612956021073009, 0.12096870770255504, 0.20645326114569393, 0.07096830851883229, 0.035484154259416145, 0.030645405951313941, 0.03870998646481761, 0.13941858125684858, 0.066678451905449312, 0.16210657398311834, 0.070661839941359272, 0.068063978178809298, 0.32473272031874667, 0.071354603078039272, 0.037582400164889618, 0.026498189978009731, 0.032559867423959665, 0.13489255348411008, 0.13489255348411008, 0.13489255348411008, 0.13489255348411008, 0.13489255348411008, 0.13489255348411008, 0.067446276742055042, 0.13489255348411008, 0.067446276742055042, 0.067446276742055042, 0.15892248940798728, 0.25037262366381152, 0.1237922549072743, 0.11096693120066481, 0.074721451160246657, 0.056877522524963871, 0.063011372993342321, 0.052974163135995761, 0.068029977922015608, 0.039591216659533676, 0.11437696364747361, 0.27381151903486106, 0.098780104968272664, 0.10744502645671763, 0.08664921488444971, 0.088382199182138702, 0.079717277693693731, 0.048523560335291836, 0.045057591739913846, 0.057188481823736807, 0.13261277622762779, 0.29616853357503542, 0.12377192447911926, 0.053045110491051116, 0.10609022098210223, 0.057465536365305374, 0.07956766573657667, 0.048624684616796858, 0.057465536365305374, 0.044204258742542593, 0.14727514862583313, 0.062131703326523353, 0.19099745837412735, 0.064432877523801987, 0.094348142088424347, 0.28764677465983035, 0.050625832340130135, 0.039119961353736923, 0.025312916170065067, 0.036818787156458282, 0.13444918693817598, 0.084030741836359987, 0.16245943421696263, 0.06722459346908799, 0.10643893965938932, 0.26889837387635196, 0.072826642924845322, 0.039214346190301327, 0.02240819782302933, 0.039214346190301327, 0.19354753583172776, 0.11290272923517453, 0.14516065187379582, 0.088709287256208552, 0.088709287256208552, 0.096773767915863881, 0.072580325936897908, 0.040322403298276618, 0.10483824857551921, 0.056451364617587263, 0.29429463099967151, 0.13462413971261569, 0.097054612350955499, 0.12210096392539563, 0.10018540629776052, 0.062615878936100322, 0.062615878936100322, 0.034438733414855177, 0.046961909202075242, 0.050092703148880258, 0.1816525021264539, 0.1816525021264539, 0.1816525021264539, 0.1816525021264539, 0.1816525021264539, 0.17720646395427958, 0.17448021066267527, 0.14553998341333732, 0.10737243733087709, 0.096677135956121762, 0.085772122789704558, 0.066478637956812581, 0.052008524332143591, 0.052847371498791068, 0.041522934749050125, 0.19291771525494861, 0.15350238587654902, 0.11956928456516903, 0.10955004016682285, 0.12892688074853009, 0.079208743451076397, 0.065975779151373898, 0.058697648786537528, 0.038942723510553078, 0.052648293678102094, 0.12192192583681316, 0.20726727392258237, 0.21945946650626369, 0.097537540669450529, 0.12192192583681316, 0.06096096291840658, 0.048768770334725264, 0.048768770334725264, 0.048768770334725264, 0.036576577751043948, 0.14220573491613511, 0.18268765945430498, 0.23770155690361272, 0.086153839401746091, 0.095495821987477594, 0.083039845206502261, 0.070583868425526927, 0.035291934212763464, 0.02906394582227579, 0.039443926473088572, 0.1412889126103406, 0.30023893929697382, 0.1412889126103406, 0.088305570381462889, 0.0706444563051703, 0.0706444563051703, 0.0706444563051703, 0.03532222815258515, 0.052983342228877732, 0.052983342228877732, 0.18630380767806135, 0.15052807649350608, 0.14580297992196106, 0.087751793471550626, 0.11272730392114581, 0.092476890043095672, 0.066826365797565485, 0.04995102089919036, 0.045225924327645328, 0.062776283021955454, 0.19771744778114358, 0.10380166008510038, 0.13345927725227191, 0.074144042917928837, 0.069201106723400255, 0.24714680972642947, 0.079086979112457434, 0.034600553361700127, 0.024714680972642948, 0.034600553361700127, 0.18158440283116772, 0.099237987593777721, 0.14991270466294079, 0.076012075603744636, 0.092903647960132327, 0.20481031482120082, 0.073900629059196171, 0.038006037801872318, 0.042228930890969241, 0.042228930890969241, 0.18799118202272555, 0.13535365105636241, 0.12031435649454436, 0.10527506193272632, 0.082716120089999248, 0.11279470921363534, 0.052637530966363158, 0.037598236404545113, 0.097755414651817293, 0.052637530966363158, 0.32704319029092654, 0.1055352138882068, 0.11249357963907758, 0.074222568009288295, 0.091618482386465236, 0.086979571885884718, 0.086979571885884718, 0.042909922130369794, 0.027833463003483112, 0.044069649755514924, 0.13031119142221276, 0.17722322033420937, 0.13031119142221276, 0.18764811564798639, 0.088611610167104685, 0.057336924225773619, 0.052124476568885109, 0.072974267196439152, 0.052124476568885109, 0.046912028911996598, 0.15059677233526497, 0.13690615666842271, 0.095834309667895884, 0.1779780036689495, 0.10952492533473816, 0.054762462667369081, 0.088989001834474751, 0.10267961750131703, 0.047917154833947942, 0.027381231333684541, 0.13787597225900716, 0.19302636116261002, 0.082725583355404295, 0.18957946185613483, 0.072384885435978763, 0.072384885435978763, 0.062044187516553224, 0.09306628127482984, 0.058597288210078043, 0.037915892371226972, 0.15446411777117502, 0.16011524403109606, 0.11867365145834177, 0.11365042811618975, 0.10988301060957573, 0.10548769018519269, 0.069697223872359451, 0.0759762530500495, 0.047720621750444316, 0.043953204243830285, 0.087918131776430347, 0.14979599578330213, 0.158304202084247, 0.14154561391571924, 0.13974084288218547, 0.084566414142724783, 0.071159543607902567, 0.079409925475485463, 0.047955344605325641, 0.039189313871018802, 0.16047517794664715, 0.18340020336759671, 0.13755015252569755, 0.13755015252569755, 0.091700101683798357, 0.068775076262848775, 0.068775076262848775, 0.091700101683798357, 0.022925025420949589, 0.022925025420949589, 0.32027015128574193, 0.071171144730164879, 0.14234228946032976, 0.071171144730164879, 0.10675671709524731, 0.035585572365082439, 0.071171144730164879, 0.035585572365082439, 0.035585572365082439, 0.071171144730164879, 0.17101593984207897, 0.28670319326466182, 0.11065737283899227, 0.050298805835905576, 0.0955677310882206, 0.050298805835905576, 0.12071713400617338, 0.040239044668724466, 0.040239044668724466, 0.035209164085133908, 0.16622378870202817, 0.12466784152652112, 0.16622378870202817, 0.083111894351014085, 0.083111894351014085, 0.083111894351014085, 0.12466784152652112, 0.041555947175507042, 0.041555947175507042, 0.083111894351014085, 0.16403244430919733, 0.10935496287279822, 0.14580661716373097, 0.10935496287279822, 0.091129135727331848, 0.054677481436399111, 0.14580661716373097, 0.054677481436399111, 0.054677481436399111, 0.072903308581865486, 0.1332300867835034, 0.20650663451443027, 0.12656858244432823, 0.11990707810515305, 0.079938052070102031, 0.073276547730926872, 0.1332300867835034, 0.053292034713401354, 0.053292034713401354, 0.026646017356700677, 0.1791666362374261, 0.15273221449747798, 0.13804642464195124, 0.06168031739321226, 0.08224042319094968, 0.10280052898868709, 0.11748631884421383, 0.06168031739321226, 0.05580600145100157, 0.044057369566580185, 0.2906307658251564, 0.13972632972363289, 0.12295917015679694, 0.095013904212070358, 0.083835797834179729, 0.078246744645234415, 0.061479585078398472, 0.039123372322617207, 0.039123372322617207, 0.050301478700507843, 0.22127296912557615, 0.14392631060303115, 0.13711453101723886, 0.12656725940052818, 0.071853287888841516, 0.086355786361818704, 0.07163355306349338, 0.043507495418931556, 0.050319275004723871, 0.047462722275198065, 0.16593326688886101, 0.14465977113387882, 0.11274952750140556, 0.087221332595426943, 0.095730730897419805, 0.1063674787749109, 0.11487687707690378, 0.06807518641594297, 0.042546991509964362, 0.06169313768944832, 0.13660037073783982, 0.073991867482996562, 0.14798373496599312, 0.10245027805337986, 0.085375231711149885, 0.25612569513344968, 0.085375231711149885, 0.04553345691261327, 0.028458410570383296, 0.039841774798536615, 0.15874247701053262, 0.23811371551579896, 0.15874247701053262, 0.079371238505266312, 0.079371238505266312, 0.079371238505266312, 0.079371238505266312, 0.079371238505266312, 0.079371238505266312, 0.079371238505266312, 0.19867122529111411, 0.16692479238377114, 0.1659007139028891, 0.10769892023942698, 0.09370318100070589, 0.086534631634531664, 0.070832094927673853, 0.028844877211510557, 0.034818668349989076, 0.046254211386505095, 0.12261433471900286, 0.14013066825028897, 0.16640516854721815, 0.20143783560979042, 0.096339834422073681, 0.078823500890787546, 0.052549000593858371, 0.070065334125144485, 0.035032667062572243, 0.035032667062572243, 0.11064720629906089, 0.2183438204301468, 0.09294365329121114, 0.18883789875039725, 0.10032013371114853, 0.067863619863424013, 0.082616580703298789, 0.063437731611461573, 0.032456513847724529, 0.042783586435636872, 0.13026989492788141, 0.18237785289903399, 0.22145882137739842, 0.091188926449516997, 0.07816193695672885, 0.07816193695672885, 0.07816193695672885, 0.039080968478364425, 0.039080968478364425, 0.065134947463940704, 0.27065742685640054, 0.18673850400427633, 0.07787071219611523, 0.08618700184812754, 0.082406870188121956, 0.08316289652012307, 0.057458001232085026, 0.052165816908077194, 0.046873632584069368, 0.055945948568082791, 0.13136624141203387, 0.16154497254723085, 0.11716448558370589, 0.17574672837555882, 0.099412290798295902, 0.10473794923391889, 0.072783998620180923, 0.062132681748934937, 0.030178731135196972, 0.044380486963524958, 0.14523738706281056, 0.18889956605455319, 0.17980327876460681, 0.090659663323132259, 0.10309125595272566, 0.10733619002136729, 0.056396981197667562, 0.058216238655656838, 0.039114035346769438, 0.031230586362149242, 0.16854268025831701, 0.24173835854192896, 0.12953708854139223, 0.096310103004752581, 0.069824824678445613, 0.072232577253564439, 0.081863587554039691, 0.048155051502376291, 0.048155051502376291, 0.043821096867162422, 0.18708495226532035, 0.25184512804946968, 0.11375861566316182, 0.077438093794802931, 0.05002637917717357, 0.081207204554726964, 0.087032193910973207, 0.045914621984529169, 0.04934108631173284, 0.056536661398860544, 0.16480974800910914, 0.10395691797497654, 0.16227421342435364, 0.08620817588168786, 0.081137106712176818, 0.22059150887373072, 0.070994968373154707, 0.038033018771332881, 0.032961949601821833, 0.038033018771332881, 0.15015070972623229, 0.10402598190183414, 0.14328106941196023, 0.12169077128139087, 0.090286701273289999, 0.20510783224040882, 0.072621911893733265, 0.039255087510126088, 0.038273710322372936, 0.034348201571360329, 0.34732057831055829, 0.092618820882815547, 0.092618820882815547, 0.069464115662111664, 0.069464115662111664, 0.11577352610351943, 0.092618820882815547, 0.023154705220703887, 0.023154705220703887, 0.046309410441407774, 0.25689314692693527, 0.1381514256807074, 0.11988346856590311, 0.11017861634866334, 0.099902890471585931, 0.098190269492073032, 0.055374745004250485, 0.04566989278701071, 0.045099019127173075, 0.031398051291069866, 0.15034451248153158, 0.12796882416906283, 0.10835867036712393, 0.15889252824135111, 0.16040100161073101, 0.090508402162794932, 0.069138362763246128, 0.0517909190153771, 0.03368923858281811, 0.049025384504847253, 0.15398959746423355, 0.16332230034085374, 0.10265973164282235, 0.093327028766202136, 0.12132513739606278, 0.10265973164282235, 0.12599148883437289, 0.06066256869803139, 0.027998108629860644, 0.055996217259721287, 0.2219884845440333, 0.14855717922412406, 0.10929967368771105, 0.082751432533590019, 0.083881144923127079, 0.13104663718629955, 0.08811756638389108, 0.045188495581482607, 0.039539933633797278, 0.049424917042246601, 0.22529131745708711, 0.21235874346085509, 0.11462963314842005, 0.095083811085933043, 0.058637466187461025, 0.063781103572326026, 0.066867286003245027, 0.056433050165376024, 0.05981315473257303, 0.047027541804480023, 0.15972428442390796, 0.18645925048627882, 0.14944160516914992, 0.13778790201375751, 0.07015072291579362, 0.090487577441870595, 0.046614812621569704, 0.042501740919666492, 0.063981115362938809, 0.052784420174424515, 0.15474137438489238, 0.28685974081877713, 0.12367244346550853, 0.10406583657463522, 0.072695265549237942, 0.058819820672619913, 0.068773944171063278, 0.041927974735867526, 0.041626334629854093, 0.046150936220055623, 0.1906482895864168, 0.21524806888788994, 0.10782903260479058, 0.066214405953131855, 0.081384269855706959, 0.073594339743573794, 0.078514295603868425, 0.048789562281255056, 0.062729437218756498, 0.075029326869493068, 0.1947756804428098, 0.051940181451415948, 0.11686540826568588, 0.064925226814269932, 0.1038803629028319, 0.29865604334564172, 0.077910272177123915, 0.038955136088561958, 0.038955136088561958, 0.038955136088561958, 0.17546612865654226, 0.14150494246495343, 0.1358447447663553, 0.079242767780373924, 0.084902965478972053, 0.073582570081775781, 0.1075437562733646, 0.050941779287383235, 0.056601976985981371, 0.084902965478972053, 0.16246912332732175, 0.17600821693793189, 0.17600821693793189, 0.067695468053050725, 0.081234561663660873, 0.081234561663660873, 0.10831274888488115, 0.040617280831830437, 0.040617280831830437, 0.081234561663660873, 0.11657560987315478, 0.11657560987315478, 0.17486341480973217, 0.14571951234144348, 0.14571951234144348, 0.087431707404866083, 0.058287804936577391, 0.11657560987315478, 0.029143902468288695, 0.029143902468288695, 0.15455409441235138, 0.15944504676717261, 0.084124380502925422, 0.1349902849930664, 0.1212956183995669, 0.067495142496533198, 0.1154264755737814, 0.079233428148104176, 0.047931333077248207, 0.035214856954712971, 0.16958699325210005, 0.19528199222969095, 0.066806997341736382, 0.14389199427450913, 0.16958699325210005, 0.077084996932772751, 0.051389997955181829, 0.056528997750700014, 0.025694998977590915, 0.041111998364145468, 0.15164641628277045, 0.13046051989032459, 0.11373481221207785, 0.12711537835467523, 0.1036993876051298, 0.08028339685558436, 0.11819500092627698, 0.062442641998787837, 0.069132925070086532, 0.042371792784891747, 0.1557296826756647, 0.16228672194621901, 0.05901335343498873, 0.12622300595817035, 0.13933708449927895, 0.10655188814650743, 0.085241510517205951, 0.085241510517205951, 0.047538534711518698, 0.034424456170410095, 0.22735782209831013, 0.12763947907273551, 0.18198597602167368, 0.12464792878196827, 0.088250733577633536, 0.07329298212379734, 0.058833822385089024, 0.033904236628695371, 0.049859171512787306, 0.033904236628695371, 0.15131459383179038, 0.13240026960281659, 0.17022891806076418, 0.11348594537384279, 0.11348594537384279, 0.094571621144869, 0.056742972686921397, 0.094571621144869, 0.037828648457947596, 0.037828648457947596, 0.18964840960319437, 0.15804034133599532, 0.094824204801597187, 0.063216136534398129, 0.12643227306879626, 0.063216136534398129, 0.094824204801597187, 0.063216136534398129, 0.094824204801597187, 0.031608068267199065, 0.31033727174934866, 0.132180689819167, 0.091951784222029223, 0.097698770735906049, 0.074710824680398746, 0.083331304451213992, 0.11493973027753654, 0.03448191908326096, 0.025861439312445719, 0.037355412340199373, 0.19297929110568843, 0.19297929110568843, 0.096489645552844214, 0.21710170249389948, 0.048244822776422107, 0.048244822776422107, 0.048244822776422107, 0.072367234164633157, 0.072367234164633157, 0.048244822776422107, 0.18501913521888785, 0.152714206847336, 0.13215652515634846, 0.09104116177437338, 0.11159884346536092, 0.052862610062539381, 0.12921971348620739, 0.052862610062539381, 0.05579942173268046, 0.035241740041692921, 0.16161906213260976, 0.16161906213260976, 0.16161906213260976, 0.080809531066304882, 0.080809531066304882, 0.080809531066304882, 0.16161906213260976, 0.080809531066304882, 0.080809531066304882, 0.096645044781519279, 0.16912882836765872, 0.21745135075841837, 0.096645044781519279, 0.12080630597689909, 0.096645044781519279, 0.072483783586139452, 0.072483783586139452, 0.04832252239075964, 0.04832252239075964, 0.18483951594775447, 0.13531069537611862, 0.12611978021849546, 0.10007885393856319, 0.14143797214786738, 0.09905764114327173, 0.067910650886882168, 0.045954575788115751, 0.052081852559864521, 0.046975788583407216, 0.16185338960093221, 0.15759408987459186, 0.11670481250172479, 0.11500109261118867, 0.10563063321323996, 0.11159365283011641, 0.10051947354163157, 0.049407876825547724, 0.039185557482330956, 0.04429671715393934, 0.13561324322209661, 0.31643090085155873, 0.090408828814731071, 0.090408828814731071, 0.045204414407365535, 0.090408828814731071, 0.090408828814731071, 0.045204414407365535, 0.045204414407365535, 0.045204414407365535, 0.18030806617742359, 0.24119776461087469, 0.097423517493521766, 0.083257342755943348, 0.084499989662748479, 0.065860286060671611, 0.091831606412898711, 0.044611023954303976, 0.065984550751352122, 0.045108082717026023, 0.13865985422217644, 0.15090895795205067, 0.12739067879069213, 0.1538487428472205, 0.11514157506081789, 0.076924371423610249, 0.08231397706475492, 0.058305733754201401, 0.045076701725937217, 0.050956271516276852, 0.1437142288503187, 0.28742845770063741, 0.10778567163773901, 0.10778567163773901, 0.071857114425159352, 0.071857114425159352, 0.035928557212579676, 0.035928557212579676, 0.071857114425159352, 0.035928557212579676, 0.16463716277213192, 0.23497749856951336, 0.12844756971695742, 0.10092309049189511, 0.056578096184850289, 0.075437461579800386, 0.083592862831670695, 0.065752922593204394, 0.056068383606608395, 0.033641030163965038, 0.33654515900538284, 0.12399032173882527, 0.1062774186332788, 0.088564515527732326, 0.070851612422185864, 0.088564515527732326, 0.070851612422185864, 0.035425806211092932, 0.017712903105546466, 0.035425806211092932, 0.17401743842764408, 0.17401743842764408, 0.14957087985699319, 0.119078398198977, 0.099100565388552608, 0.070711013500054778, 0.055727638892236475, 0.050733180689630376, 0.057304836219375245, 0.049681715804871199, 0.12904790601708246, 0.25809581203416493, 0.082959368153838725, 0.15036385477883268, 0.093329289173068555, 0.054154031989311388, 0.072589447134608881, 0.072013340411318336, 0.048969071479696466, 0.039175257183757174, 0.230574896071543, 0.15802971257893242, 0.11666623076297024, 0.092696623351669075, 0.10033295845615441, 0.10309052391055187, 0.06299976461200392, 0.050060419018292682, 0.042424083913807357, 0.043272565592083506, 0.16864649711577365, 0.25786593429960231, 0.13926936536012277, 0.07616293418131713, 0.088131395266952683, 0.082691185682572887, 0.058754263511301787, 0.048961886259418157, 0.040257550924410482, 0.040257550924410482, 0.17385229464568289, 0.13349372624579223, 0.062090105230601031, 0.22041987356863366, 0.074508126276721237, 0.13970273676885231, 0.071403621015191182, 0.043463073661420722, 0.049672084184480825, 0.03414955787683057, 0.17843949013964214, 0.1427515921117137, 0.21412738816757057, 0.10706369408378529, 0.071375796055856852, 0.071375796055856852, 0.035687898027928426, 0.035687898027928426, 0.035687898027928426, 0.035687898027928426, 0.15912142277674407, 0.14706676953608167, 0.1219930907955038, 0.14272709436944317, 0.094508481406793451, 0.094026295277166952, 0.077149780740239551, 0.054487032647794184, 0.0520761019996617, 0.057862335555179667, 0.14862840271894426, 0.14862840271894426, 0.099085601812629515, 0.19817120362525903, 0.099085601812629515, 0.074314201359472129, 0.074314201359472129, 0.074314201359472129, 0.049542800906314757, 0.024771400453157379, 0.33129702571537378, 0.080314430476454257, 0.10039303809556782, 0.070275126666897475, 0.070275126666897475, 0.1104323419051246, 0.1104323419051246, 0.030117911428670346, 0.020078607619113564, 0.060235822857340693, 0.17148260386358538, 0.17148260386358538, 0.17148260386358538, 0.17148260386358538, 0.17148260386358538, 0.27262252263448306, 0.1559597314170241, 0.095786291736440002, 0.11297870307374974, 0.10069840926138564, 0.085962056686548716, 0.056489351536874871, 0.041752998962037949, 0.041752998962037949, 0.034384822674619488, 0.16181088884050157, 0.25209164227082431, 0.11528157745718137, 0.10069776344151385, 0.07847480875097286, 0.081947145421369896, 0.06805779873978178, 0.072224602744258209, 0.030556562699493858, 0.039584638042526134, 0.12199006874185168, 0.18298510311277752, 0.13215590780367265, 0.13215590780367265, 0.17281926405095654, 0.07116087343274681, 0.050829195309104867, 0.060995034370925842, 0.040663356247283892, 0.030497517185462921, 0.16822163379110755, 0.1816029001154002, 0.11469656849393697, 0.14145910114252225, 0.10131530216964432, 0.066906331621463228, 0.055436674772069532, 0.086022426370452723, 0.040143798972877939, 0.042055408447776887, 0.14267338963112189, 0.14267338963112189, 0.16305530243556787, 0.1222914768266759, 0.061145738413337952, 0.061145738413337952, 0.14267338963112189, 0.061145738413337952, 0.040763825608891968, 0.061145738413337952, 0.14417682172510984, 0.1802210271563873, 0.10813261629383238, 0.14417682172510984, 0.1802210271563873, 0.072088410862554922, 0.072088410862554922, 0.072088410862554922, 0.036044205431277461, 0.036044205431277461, 0.12264462860685821, 0.15330578575857276, 0.091983471455143656, 0.091983471455143656, 0.091983471455143656, 0.12264462860685821, 0.12264462860685821, 0.061322314303429104, 0.091983471455143656, 0.030661157151714552, 0.1628074267158976, 0.11122487567719735, 0.19182261167516645, 0.077373826558050335, 0.085433600157847248, 0.19988238527496338, 0.059642324638497134, 0.043522777438903315, 0.029015184959268876, 0.038686913279025167, 0.19576117641222449, 0.18910263299684271, 0.11585865542764306, 0.094551316498421356, 0.080568375326119601, 0.063256162446126959, 0.1085342576707231, 0.057263473372283352, 0.051936638639977925, 0.041948823516905251, 0.15999407475219174, 0.17999333409621571, 0.07999703737609587, 0.1199955560641438, 0.089996667048107853, 0.07999703737609587, 0.13999481540816777, 0.069997407704083886, 0.039998518688047935, 0.029998889016035951, 0.14674155854816603, 0.13921635041749084, 0.12040333009080288, 0.045151248784051086, 0.10911551789479011, 0.23704405611626819, 0.060201665045401441, 0.052676456914726263, 0.048913852849388671, 0.037626040653375901, 0.16107386800784512, 0.17837297077718409, 0.11955602136143158, 0.16953120713952194, 0.099181522544210116, 0.087648787364650801, 0.037289177080575123, 0.064198892499546856, 0.041902271152398848, 0.041517846646413538, 0.1724058705973196, 0.13458463972554294, 0.15717914128530563, 0.12672568266127765, 0.096272224037249693, 0.093325115138150214, 0.066801135046254886, 0.043224263853459045, 0.049609666468174586, 0.05992454761502277, 0.12581410929072773, 0.18872116393609159, 0.12581410929072773, 0.12581410929072773, 0.062907054645363863, 0.062907054645363863, 0.062907054645363863, 0.062907054645363863, 0.062907054645363863, 0.062907054645363863, 0.36804359243114337, 0.083939766694822171, 0.11622429234667685, 0.077482861564451236, 0.096853576955564041, 0.090396671825193106, 0.071025956434080301, 0.038741430782225618, 0.019370715391112809, 0.038741430782225618, 0.28657472985928023, 0.13999340251746448, 0.12681755286876192, 0.1037598159835325, 0.077408116686127418, 0.077408116686127418, 0.075761135480039599, 0.041174530152195431, 0.039527548946107618, 0.029645661709580714, 0.23755956536463488, 0.14456471771299845, 0.16964514632207617, 0.083413560317831467, 0.086231586004244687, 0.082568152611907503, 0.065378195924786831, 0.053542488041851279, 0.037479741629295897, 0.039170557041143833, 0.17571009475043306, 0.20567222073388841, 0.11273884692079809, 0.11426234485216023, 0.068049574267508753, 0.071604402774020415, 0.092933373813090317, 0.059416419323123318, 0.054338092885249531, 0.044689272653289334, 0.13437284767902308, 0.14227713283661267, 0.17389427346697103, 0.094851421891075108, 0.094851421891075108, 0.11065999220625429, 0.071138566418306334, 0.031617140630358372, 0.11065999220625429, 0.039521425787947963, 0.16522046427540465, 0.16871103746432164, 0.20128972056088032, 0.10588072006381566, 0.089591378515536321, 0.080283183345090992, 0.05701269541897766, 0.048868024644837992, 0.048868024644837992, 0.033742207492864329, 0.15729120870115712, 0.1441836079760607, 0.23069377276169709, 0.089131684930655694, 0.091753205075674985, 0.07864560435057856, 0.065538003625482136, 0.060294963335443562, 0.041944322320308564, 0.041944322320308564, 0.10031221846189591, 0.33437406153965304, 0.11941930769273322, 0.076428356923349261, 0.095535446154186576, 0.08120512923105859, 0.057321267692511946, 0.047767723077093288, 0.052544495384802617, 0.028660633846255973, 0.16644587763700841, 0.15100562924767555, 0.13371255105162272, 0.12691884176031626, 0.10221444433738365, 0.1229043771790897, 0.065466653170771397, 0.050335209749225181, 0.045085525296852003, 0.035512571295465617, 0.17484205185006071, 0.13987364148004858, 0.10490523111003643, 0.11656136790004047, 0.17484205185006071, 0.081592957530028334, 0.058280683950020236, 0.04662454716001619, 0.058280683950020236, 0.034968410370012144, 0.17938146029365865, 0.14997466352420641, 0.20878825706311088, 0.1117458277239185, 0.070576312246685369, 0.07939835127752104, 0.052932234185014027, 0.070576312246685369, 0.038228835800287908, 0.038228835800287908, 0.19710830785888808, 0.12319269241180504, 0.10676700009023105, 0.12319269241180504, 0.17246976937652705, 0.098554153929444041, 0.057489923125509025, 0.049277076964722021, 0.041064230803935016, 0.032851384643148011, 0.13986691476087812, 0.20105868996876228, 0.10490018607065858, 0.091787662811826265, 0.087416821725548821, 0.087416821725548821, 0.12675439150204579, 0.052450093035329291, 0.043708410862774411, 0.056820934121606735, 0.14189688280242366, 0.22598392446311916, 0.15732414246194643, 0.12579150183918561, 0.089512012090417786, 0.073576161453108566, 0.055436416578724654, 0.051537219082361758, 0.035770898770981351, 0.043399763437778321, 0.17399763373824764, 0.1159984224921651, 0.1159984224921651, 0.23199684498433021, 0.057999211246082552, 0.1159984224921651, 0.057999211246082552, 0.057999211246082552, 0.057999211246082552, 0.13356844410361421, 0.13356844410361421, 0.23374477718132486, 0.13356844410361421, 0.10017633307771065, 0.066784222051807104, 0.066784222051807104, 0.066784222051807104, 0.033392111025903552, 0.033392111025903552, 0.23363711933095119, 0.15370863113878369, 0.14141194064768098, 0.086076833437718867, 0.073780142946616167, 0.086076833437718867, 0.055335107209962126, 0.036890071473308084, 0.092225178683270209, 0.043038416718859433, 0.17671869049845623, 0.14671730447191267, 0.13763793764809026, 0.13487465209301389, 0.12487419008416602, 0.076056145277816609, 0.072634934590579181, 0.041712453379010146, 0.055528881154392057, 0.033422596713780998, 0.16083863971349721, 0.097807280906856406, 0.15866514458223371, 0.058684368544113845, 0.082592814988012075, 0.27820737680172491, 0.049990388019059945, 0.034775922100215614, 0.034775922100215614, 0.043469902625269514, 0.19993857328623474, 0.12510334169705803, 0.1836864775370701, 0.099024397355375243, 0.10091417593085951, 0.080126611600532638, 0.071055674438208191, 0.040819217230460024, 0.05329175582865614, 0.046488552956912801, 0.21378411432651881, 0.12136702323745079, 0.14252274288434588, 0.093530550017851988, 0.1024382214481236, 0.085736337516364322, 0.071261371442172941, 0.046765275008925994, 0.050105651795277845, 0.072374830370956891, 0.1475454660815369, 0.20656365251415168, 0.088527279648922153, 0.088527279648922153, 0.11803637286522953, 0.11803637286522953, 0.059018186432614764, 0.059018186432614764, 0.088527279648922153, 0.059018186432614764, 0.23183492615015464, 0.12284055811325192, 0.096568300019666251, 0.12923110737925925, 0.09727836104922262, 0.088402598179768005, 0.068165858837411469, 0.064615553689629623, 0.045088875376829464, 0.055739790820175002, 0.079320633577396826, 0.15864126715479365, 0.15864126715479365, 0.15864126715479365, 0.15864126715479365, 0.079320633577396826, 0.079320633577396826, 0.079320633577396826, 0.079320633577396826, 0.11454047151906607, 0.1431755893988326, 0.1431755893988326, 0.20044582515836562, 0.11454047151906607, 0.085905353639299548, 0.057270235759533036, 0.085905353639299548, 0.028635117879766518, 0.028635117879766518, 0.24104381594155186, 0.13378080761156586, 0.16298018210139537, 0.11322206434831854, 0.099516235506153669, 0.072104577821823918, 0.050056070553993463, 0.056908984975075898, 0.036350241711828588, 0.033966619304495564, 0.16084270687167254, 0.30381400186871482, 0.089357059373151415, 0.089357059373151415, 0.089357059373151415, 0.053614235623890845, 0.071485647498521127, 0.035742823749260563, 0.035742823749260563, 0.053614235623890845, 0.1827092518756824, 0.19366704273132959, 0.16150830869845198, 0.091711945204873177, 0.079801302970474067, 0.095761563564568872, 0.077180961678906257, 0.035255501013821376, 0.040496183596956989, 0.041449034975708919, 0.18934323823157687, 0.16018462983239815, 0.14241414746036646, 0.1088754905892081, 0.087350680955479612, 0.10011539364524884, 0.07108192948812668, 0.057065774377791839, 0.041172455636608582, 0.042423898057174197, 0.15200299410655083, 0.076001497053275413, 0.1450937671017076, 0.089819951062961853, 0.09672917806780508, 0.26255062618404235, 0.05527381603874576, 0.05527381603874576, 0.04836458903390254, 0.02072768101452966, 0.29840520815212801, 0.10531948523016282, 0.14042598030688375, 0.087766237691802348, 0.087766237691802348, 0.12287273276852329, 0.052659742615081412, 0.035106495076720937, 0.035106495076720937, 0.035106495076720937, 0.12419576312109235, 0.1490349157453108, 0.14790586335330089, 0.1862936446816385, 0.11403429159300298, 0.097098505712854014, 0.057581671992506453, 0.044033043288387287, 0.033871571760297911, 0.045162095680397217, 0.11765804841339887, 0.1764870726200983, 0.11765804841339887, 0.11765804841339887, 0.058829024206699436, 0.058829024206699436, 0.11765804841339887, 0.058829024206699436, 0.058829024206699436, 0.058829024206699436, 0.20134901044912557, 0.10067450522456278, 0.10067450522456278, 0.10067450522456278, 0.10067450522456278, 0.10067450522456278, 0.10067450522456278, 0.10067450522456278, 0.10067450522456278, 0.13190721285118528, 0.15716604084396543, 0.14874643151303871, 0.18523140528038784, 0.081389556865624962, 0.087002629752909441, 0.053324192429202555, 0.053324192429202555, 0.053324192429202555, 0.050517655985560316, 0.13006078532004672, 0.19284875064696583, 0.085212238657961653, 0.19733360531317434, 0.11212136665521269, 0.062787965326919104, 0.080727383991753138, 0.053818255994502094, 0.040363691995876569, 0.040363691995876569, 0.15126081816337256, 0.082505900816385036, 0.12375885122457755, 0.096256884285782537, 0.096256884285782537, 0.27501966938795014, 0.082505900816385036, 0.027501966938795013, 0.027501966938795013, 0.041252950408192518, 0.18735059143115132, 0.18530444162712509, 0.11356131412345555, 0.14041703030129976, 0.1000055716717818, 0.099749802946278526, 0.056397003973472852, 0.056013350885217937, 0.021996110393281931, 0.039132615002001575, 0.1531432121393369, 0.18272022735938051, 0.13309656849019622, 0.11074949032394106, 0.13769743752442523, 0.075585705562333655, 0.065726700488985795, 0.056853595922972712, 0.035492418264052326, 0.048966391864294412, 0.12498253937607808, 0.18747380906411712, 0.12498253937607808, 0.12498253937607808, 0.18747380906411712, 0.12498253937607808, 0.062491269688039038, 0.062491269688039038, 0.062491269688039038, 0.062491269688039038, 0.24102273503779711, 0.14016185024564537, 0.11477273097037959, 0.11268595404364541, 0.086601242459468222, 0.091818184776303657, 0.057038569330734097, 0.057386365485189793, 0.047648073160430307, 0.051473830859442966, 0.17362499774578577, 0.10472618911650569, 0.21220833057818259, 0.11850595084236171, 0.10748214146167689, 0.096458332080992082, 0.066142856284108861, 0.046851189867910439, 0.033071428142054431, 0.038583332832396837, 0.27332307456951782, 0.1112511770729207, 0.16036247326416436, 0.10954175284048795, 0.09766818452331992, 0.074429255093220625, 0.06301769332535874, 0.040009767169912516, 0.038300342937479762, 0.032063254521846746, 0.1292388987582069, 0.32309724689551728, 0.11487902111840614, 0.057439510559203072, 0.078979327018904227, 0.057439510559203072, 0.071799388199003833, 0.050259571739302684, 0.064619449379103452, 0.057439510559203072, 0.18013799650852885, 0.13510349738139663, 0.22517249563566105, 0.090068998254264426, 0.090068998254264426, 0.067551748690698313, 0.067551748690698313, 0.045034499127132213, 0.045034499127132213, 0.045034499127132213, 0.18592297925185619, 0.18592297925185619, 0.092961489625928095, 0.092961489625928095, 0.18592297925185619, 0.092961489625928095, 0.092961489625928095, 0.092961489625928095, 0.22711866914978296, 0.22711866914978296, 0.090847467659913181, 0.090847467659913181, 0.04542373382995659, 0.04542373382995659, 0.090847467659913181, 0.04542373382995659, 0.090847467659913181, 0.04542373382995659, 0.20739789621357049, 0.18147315918687418, 0.070212829447302505, 0.16851079067352603, 0.085335592712875358, 0.074533618951751895, 0.070212829447302505, 0.046448487172830892, 0.057250460933954354, 0.039967302916156813, 0.21212505479034918, 0.1718944409508002, 0.11337718445691077, 0.14233103532628313, 0.090823658516557548, 0.090214103761412867, 0.057298146983600064, 0.040840168594693665, 0.034744621043246847, 0.046630938768568136, 0.11274972105693465, 0.17173798571586074, 0.1876673061300855, 0.08935353169854203, 0.11523867737165727, 0.10378947832393322, 0.056748203975675718, 0.05799268213303703, 0.058739369027453817, 0.045796796190896195, 0.15483443586935033, 0.17609316848299111, 0.12879248841764038, 0.14101625967048381, 0.10647081917331756, 0.07103959815058293, 0.074051251937515369, 0.05066664606251052, 0.046060587329555015, 0.050843802167624193, 0.18004409371283017, 0.18004409371283017, 0.14003429510997903, 0.0800195972057023, 0.0800195972057023, 0.0800195972057023, 0.060014697904276722, 0.04000979860285115, 0.10002449650712787, 0.04000979860285115, 0.096319025528131541, 0.14447853829219731, 0.1685582946742302, 0.19263805105626308, 0.096319025528131541, 0.072239269146098656, 0.072239269146098656, 0.072239269146098656, 0.048159512764065771, 0.024079756382032885, 0.27864993231309754, 0.11921339364146237, 0.12212547653957442, 0.085178424769777689, 0.093732668282981865, 0.10483498433203409, 0.058969678686769174, 0.040769160573568809, 0.048413378181112958, 0.048049367818848956, 0.15842284487220354, 0.21783141169927989, 0.092413326175452074, 0.060008653360683159, 0.1692244024771265, 0.072010384032819799, 0.10321488378037504, 0.037805451617230389, 0.064809345629537815, 0.023403374810666434, 0.21603939182593615, 0.14402626121729076, 0.14402626121729076, 0.072013130608645379, 0.072013130608645379, 0.072013130608645379, 0.14402626121729076, 0.072013130608645379, 0.072013130608645379, 0.072013130608645379, 0.16137768386978157, 0.17854552257933282, 0.096139896773486902, 0.10987416774112789, 0.099573464515397142, 0.084122409676801041, 0.11674130322494837, 0.066954570967249799, 0.049786732257698571, 0.03605246129005759, 0.12868278253146215, 0.081889043429112268, 0.175476521633812, 0.070190608653524805, 0.10528591298028721, 0.2456671302873368, 0.058492173877937335, 0.046793739102349872, 0.035095304326762403, 0.046793739102349872, 0.27033178881476022, 0.13651306279017791, 0.13292061376938377, 0.097894235816640751, 0.091607450030250975, 0.096098011306243666, 0.054784847567110877, 0.045803725015125488, 0.033230153442345943, 0.039516939228735719, 0.1826572054312611, 0.11893957562965839, 0.14867446953707297, 0.059469787814829193, 0.080708997748696762, 0.24212699324609027, 0.067965471788376225, 0.033982735894188112, 0.021239209933867569, 0.042478419867735137, 0.16239225057421497, 0.30674091775129497, 0.12630508377994498, 0.054130750191404994, 0.072174333588539988, 0.054130750191404994, 0.10826150038280999, 0.036087166794269994, 0.036087166794269994, 0.036087166794269994, 0.17664113512426405, 0.11776075674950937, 0.23552151349901873, 0.078507171166339582, 0.09813396395792448, 0.11776075674950937, 0.039253585583169791, 0.058880378374754683, 0.039253585583169791, 0.039253585583169791, 0.14366217366589279, 0.16332120795701496, 0.12702760618878942, 0.10888080530467663, 0.15727227432897736, 0.075611670350469881, 0.074099436943460481, 0.051415935838319521, 0.058977102873366508, 0.037805835175234941, 0.12758646269114107, 0.17142135102456574, 0.09673061950671924, 0.22137843046601061, 0.091343091331661463, 0.08203736084747075, 0.054365057039219421, 0.071017416853034379, 0.041386011890216588, 0.042855337756141434, 0.19164727416673422, 0.25148650745086221, 0.061456509859374682, 0.096227956227178779, 0.082481105337581809, 0.075203360748971645, 0.063882424722244729, 0.076011999036595002, 0.05337012698314117, 0.047709658969777712, 0.21987239583955842, 0.096194173179806816, 0.12367822265975162, 0.054968098959889605, 0.096194173179806816, 0.10993619791977921, 0.082452148439834408, 0.054968098959889605, 0.054968098959889605, 0.082452148439834408, 0.24584102607627509, 0.11120766834026266, 0.12201952498445486, 0.12639575267377076, 0.11764329729513896, 0.085980002837147518, 0.052257307113595643, 0.055346409011936278, 0.047366229107889651, 0.036296947305502397, 0.098679934768272609, 0.25191463022144389, 0.12916641868042186, 0.12355048743344701, 0.1034935901228225, 0.07461165799552319, 0.059368416039448563, 0.056961588362173625, 0.044125174083373929, 0.056961588362173625, 0.18672734693241719, 0.31121224488736199, 0.093363673466208594, 0.062242448977472394, 0.062242448977472394, 0.062242448977472394, 0.093363673466208594, 0.031121224488736197, 0.062242448977472394, 0.031121224488736197, 0.22396624422486613, 0.1348447283568398, 0.15938543562484705, 0.099196122009629295, 0.086021637055225406, 0.070005596522420666, 0.074655414741622045, 0.055022848927216247, 0.051664646880015257, 0.045981535723213576, 0.16897004042687766, 0.14181414107255805, 0.21422987268407703, 0.078450375912478915, 0.10862359741727849, 0.096554308815358661, 0.060346443009599168, 0.045259832257199373, 0.04827715440767933, 0.039225187956239457, 0.20336088280362793, 0.12617281049860127, 0.20039211079189614, 0.082383423325557301, 0.12097745947807063, 0.077188072305026667, 0.060117633237568843, 0.049726931196507562, 0.046015966181842817, 0.033398685131982693, 0.17437910251247643, 0.23865345119495973, 0.10675130955090704, 0.085512829116695166, 0.086630643876390537, 0.068745607721264743, 0.07601140365928459, 0.055890737984768082, 0.053096201085529683, 0.05421401584522504, 0.23651447681413318, 0.13960453359229638, 0.14299299314550745, 0.093069689061530916, 0.078838158938044398, 0.11543352211272404, 0.050149201387523941, 0.04179100115626995, 0.051504585208808372, 0.050149201387523941, 0.20383495357283501, 0.15305254299413565, 0.17597515888035412, 0.086047973480573955, 0.093101086060948871, 0.077936894013142799, 0.071589092690805378, 0.054308966868886838, 0.041613364224211996, 0.042671331111268231, 0.17151568755040536, 0.20418534232191116, 0.077007043389977922, 0.11317701831557361, 0.066506082927708196, 0.059505442619528393, 0.11901088523905679, 0.081674136928764463, 0.059505442619528393, 0.049004482157258673, 0.15746095879149091, 0.075125951423410123, 0.13507494296330305, 0.084990975347696299, 0.10434159919918073, 0.25041983807803375, 0.078920191394289421, 0.04135721568258436, 0.037183551714617132, 0.035286431729177482, 0.16761384939840909, 0.13967820783200757, 0.13967820783200757, 0.097774745482405306, 0.16761384939840909, 0.069839103916003786, 0.055871283132803033, 0.055871283132803033, 0.055871283132803033, 0.041903462349602273, 0.16087702573943538, 0.10725135049295693, 0.16087702573943538, 0.10725135049295693, 0.16087702573943538, 0.10725135049295693, 0.053625675246478467, 0.053625675246478467, 0.053625675246478467, 0.053625675246478467, 0.16381916009615199, 0.14041642293955886, 0.18722189725274513, 0.07020821146977943, 0.07020821146977943, 0.07020821146977943, 0.14041642293955886, 0.046805474313186282, 0.046805474313186282, 0.11701368578296571, 0.11339328824503943, 0.13229216961921267, 0.15119105099338589, 0.13229216961921267, 0.17008993236755915, 0.075595525496692947, 0.075595525496692947, 0.075595525496692947, 0.018898881374173237, 0.037797762748346474, 0.11599383159009286, 0.19332305265015476, 0.10310562808008254, 0.19332305265015476, 0.14177023861011348, 0.09021742457007223, 0.051552814040041271, 0.038664610530030952, 0.038664610530030952, 0.038664610530030952, 0.20366621828306755, 0.057026541119258915, 0.15885965026079268, 0.065173189850581612, 0.089613136044549721, 0.24032613757401972, 0.069246514216242963, 0.032586594925290806, 0.044806568022274861, 0.040733243656613509, 0.1922141306164579, 0.14064448581692041, 0.14005846712601658, 0.11984082228983427, 0.090832897090094428, 0.10372530828997881, 0.063290018617614185, 0.045709457890499135, 0.056550803672220082, 0.046881495272306804, 0.1341209500172236, 0.16457869563866484, 0.098854086666081142, 0.16885346695395484, 0.1426704926478036, 0.087632811963444912, 0.048091177297012448, 0.062518530486116192, 0.053968987855536193, 0.037938595423198711, 0.10875174541575297, 0.16312761812362947, 0.16312761812362947, 0.16312761812362947, 0.21750349083150594, 0.054375872707876485, 0.054375872707876485, 0.10875174541575297, 0.054375872707876485, 0.054375872707876485, 0.18235348904338602, 0.087669946655474049, 0.17183309544472913, 0.063122361591941317, 0.087669946655474049, 0.25248944636776527, 0.052601967993284426, 0.038574776528408579, 0.031561180795970659, 0.031561180795970659, 0.1633419244067198, 0.074988792568539533, 0.19823769916633718, 0.064594306469930099, 0.09726269135127405, 0.22348145112010298, 0.072761402690266083, 0.0475176507365003, 0.030440995003070504, 0.02672867853928142, 0.16678945235568632, 0.2155144609090329, 0.10682021105925978, 0.069339435248993192, 0.10494617226874645, 0.099324055897206456, 0.11619040501182643, 0.037480775810266591, 0.04497693097231991, 0.037480775810266591, 0.13199652462892716, 0.13199652462892716, 0.065998262314463582, 0.19799478694339073, 0.13199652462892716, 0.065998262314463582, 0.065998262314463582, 0.065998262314463582, 0.065998262314463582, 0.065998262314463582, 0.1703951019404982, 0.15198558087657504, 0.12758226225695596, 0.11452434615347555, 0.092475733716451292, 0.12265878569334859, 0.071497442271515582, 0.058867654564870614, 0.056941076779111213, 0.033394014953162965, 0.21091644542620994, 0.10545822271310497, 0.21902861640414109, 0.073009538801380364, 0.081121709779311518, 0.11357039369103612, 0.081121709779311518, 0.048673025867586907, 0.048673025867586907, 0.032448683911724605, 0.34759208712724105, 0.099312024893497455, 0.14896803734024616, 0.049656012446748728, 0.099312024893497455, 0.049656012446748728, 0.049656012446748728, 0.049656012446748728, 0.049656012446748728, 0.049656012446748728, 0.16797653018862257, 0.17256605287137183, 0.094085214996359648, 0.12667082604387933, 0.14089834636040199, 0.1170328284101059, 0.058286938070915485, 0.042682560949568037, 0.039010942803368635, 0.039928847339918486, 0.1008482581798313, 0.21544855156600323, 0.09626424644438443, 0.19711250462421573, 0.091680234708937547, 0.073344187767150043, 0.055008140825362532, 0.077928199502596912, 0.045840117354468773, 0.045840117354468773, 0.17699032841579718, 0.20599228657073293, 0.10393674733363466, 0.090925057999258069, 0.077286299299369352, 0.055182104165066963, 0.10879653491635362, 0.064274609964992777, 0.066939654768419302, 0.049538479875457841, 0.19970756839236509, 0.1933112405790865, 0.11389017023087725, 0.078355015712662818, 0.080842476528937821, 0.076578257986752094, 0.086172749706669993, 0.058099977637280587, 0.067872145129789563, 0.045129646238132322, 0.19913648087038635, 0.12446030054399147, 0.14935236065278976, 0.074676180326394878, 0.074676180326394878, 0.074676180326394878, 0.099568240435193175, 0.074676180326394878, 0.049784120217596588, 0.074676180326394878, 0.12609107477990944, 0.15283766639989024, 0.11080730813992043, 0.19868896631985733, 0.087881658179936886, 0.12609107477990944, 0.068776949879950616, 0.057314124899958845, 0.038209416599972561, 0.034388474939975308, 0.17149978284755996, 0.16758227511753956, 0.13711277055071419, 0.097502414613841196, 0.13493637736736952, 0.097284775295506734, 0.072909171642046439, 0.032428258431835576, 0.039827995255207457, 0.048968846625255066, 0.17945148035621389, 0.21842736749240513, 0.064147814244981435, 0.15184356030141175, 0.072267790731687945, 0.057651833055616226, 0.078763771921053161, 0.086071750759089016, 0.05846383070428688, 0.033291903595496691, 0.16621311150087428, 0.183726620267368, 0.145395167118061, 0.098802624927955093, 0.1232554484887199, 0.087237100270836601, 0.05981028465538419, 0.05022742136805744, 0.045931655066841999, 0.039653227395834822, 0.32078646816988515, 0.11723093521158592, 0.10763931323972889, 0.11083652056368123, 0.07779871154950703, 0.093784748169268739, 0.065009882253697651, 0.036235016338126556, 0.025577658591618747, 0.044760902535332811, 0.1648065379760684, 0.1061465837811966, 0.18715318719316243, 0.09124881763646725, 0.16015098605584047, 0.081937713796011405, 0.063315506115099729, 0.048417739970370376, 0.04748662958632479, 0.049348850354415962, 0.12351459029383158, 0.12351459029383158, 0.17292042641136421, 0.17292042641136421, 0.098811672235065262, 0.074108754176298947, 0.049405836117532631, 0.12351459029383158, 0.049405836117532631, 0.024702918058766316, 0.1864495779370306, 0.16653748708938657, 0.070597413005283438, 0.15024577639585962, 0.074217793159400525, 0.066977032851166338, 0.10318083439233733, 0.088699313775868927, 0.045254751926463742, 0.048875132080580835, 0.1019765401539766, 0.13596872020530215, 0.22094917033361597, 0.13596872020530215, 0.11897263017963937, 0.1019765401539766, 0.033992180051325538, 0.0509882700769883, 0.033992180051325538, 0.033992180051325538, 0.14641352438977295, 0.29282704877954591, 0.12811183384105135, 0.091508452743608096, 0.073206762194886477, 0.054905071646164857, 0.054905071646164857, 0.054905071646164857, 0.054905071646164857, 0.054905071646164857, 0.2438637537085534, 0.16900593084642368, 0.13416825174520175, 0.08925355802792391, 0.085798581588133305, 0.077736969895288568, 0.045202608420593725, 0.047218011343804912, 0.055855452443281418, 0.051824646596859043, 0.23647713376674473, 0.14227607773328871, 0.13058215353603211, 0.10914329250772833, 0.085755444113215118, 0.072762195005152228, 0.051972996432251589, 0.046775696789026426, 0.064316583084911338, 0.060418608352492471, 0.14038689742694294, 0.11632057215375272, 0.21525990938797918, 0.092254246880562496, 0.12567969864888226, 0.082895120385432966, 0.07219897581957066, 0.082895120385432966, 0.042784578263449273, 0.030751415626854166, 0.19816813017467291, 0.13975289777243724, 0.11264034264903672, 0.10475305388586566, 0.11485864261367858, 0.10647839830280932, 0.068274343356199502, 0.06482365452231216, 0.049788510317517319, 0.040175877137402588, 0.21251381023905677, 0.13113255267464277, 0.12915568002125621, 0.15254867308633066, 0.085993960422315996, 0.10773955960956831, 0.051069210212486511, 0.046785986130148928, 0.040196410618860347, 0.042832240823375778, 0.15646017397565148, 0.05587863356273267, 0.15731984526123197, 0.092844498842694273, 0.10402022555524082, 0.24328697381928224, 0.084247785986889256, 0.040404550422283622, 0.030948166280898092, 0.034386851423220101, 0.16945888153457625, 0.14026371842375038, 0.1129725876897175, 0.10218307088789054, 0.11931936227902747, 0.11614597498437249, 0.065371778269892711, 0.060929036057375728, 0.053947584009134762, 0.060294358598444731, 0.18249217727801711, 0.12930350249346942, 0.11157394423195351, 0.1412251020141439, 0.12777509229851114, 0.064193228188247228, 0.083756878683713051, 0.071835279163038557, 0.042795485458831481, 0.044629577692781405, 0.13711724854505666, 0.18099476807947479, 0.14369887647521937, 0.13053562061489393, 0.15466825635882392, 0.070204031255069008, 0.062525465336545835, 0.04497445752277858, 0.038392829592615862, 0.036198953615894959, 0.18988618878597918, 0.1068109811921133, 0.12342602271088647, 0.085448784953690626, 0.078328052874216417, 0.22074269446370079, 0.097316671752814332, 0.037977237757195838, 0.033230083037546355, 0.028482928317896877, 0.1855825262033633, 0.15417625253817874, 0.097073936783297718, 0.10849439993427393, 0.16274159990141088, 0.088508589420065564, 0.062812547330369117, 0.054247199967136964, 0.039971621028416705, 0.048536968391648859, 0.16246046211547532, 0.1193069018660522, 0.1269222360277151, 0.083768675778291959, 0.091384009939954866, 0.22084469068822427, 0.081230231057737662, 0.040615115528868831, 0.032999781367205924, 0.038076670808314526, 0.13045361084105023, 0.18564552311995608, 0.13045361084105023, 0.1053663779870021, 0.055191912278905859, 0.1053663779870021, 0.11038382455781172, 0.040139572566476989, 0.090314038274573225, 0.040139572566476989, 0.18590037607867846, 0.14053845796367159, 0.15083533508180197, 0.099350949491150017, 0.12495399529839316, 0.086271132611362752, 0.067347142232096091, 0.038404568710864707, 0.050649503662154906, 0.055658795233137263, 0.28340825780265094, 0.094469419267550314, 0.14170412890132547, 0.094469419267550314, 0.094469419267550314, 0.047234709633775157, 0.047234709633775157, 0.047234709633775157, 0.047234709633775157, 0.047234709633775157, 0.15593451912754164, 0.14693829687018345, 0.11994963009810894, 0.11994963009810894, 0.098958444830939879, 0.092960963326034429, 0.083964741068676255, 0.03298614827697996, 0.1019571855833926, 0.050978592791696302, 0.13834608815447116, 0.14358647028153448, 0.19913452082840546, 0.11738455964621797, 0.090134572585488792, 0.092230725436314109, 0.059740356248521642, 0.051355744845220361, 0.064980738375584948, 0.042971133441919079, 0.13395777854677263, 0.24947209482985919, 0.1048365223409525, 0.13007494438599662, 0.07377384905474435, 0.06892030635377433, 0.079598100295908386, 0.079598100295908386, 0.037857633067566183, 0.040769758688148194, 0.23636954421880754, 0.15234047351186572, 0.13299565147861295, 0.089469801903794166, 0.099444475764690135, 0.094003744567837777, 0.061057094542454123, 0.040503221132123034, 0.051082420681558154, 0.04292132388627963, 0.11630189990324803, 0.12460917846776576, 0.22429652124197835, 0.083072785645177172, 0.099687342774212595, 0.14953101416131889, 0.058150949951624016, 0.058150949951624016, 0.041536392822588586, 0.041536392822588586, 0.17010801917669169, 0.1439375546879699, 0.10468185795488719, 0.10468185795488719, 0.18319325142105258, 0.091596625710526292, 0.078511393466165397, 0.052340928977443593, 0.039255696733082698, 0.039255696733082698, 0.11625382949435731, 0.14531728686794665, 0.14531728686794665, 0.11625382949435731, 0.14531728686794665, 0.087190372120767981, 0.058126914747178654, 0.087190372120767981, 0.029063457373589327, 0.029063457373589327, 0.14862755142538514, 0.14862755142538514, 0.14862755142538514, 0.14862755142538514, 0.07431377571269257, 0.07431377571269257, 0.07431377571269257, 0.07431377571269257, 0.11415158385136398, 0.19976527173988698, 0.14268947981420499, 0.11415158385136398, 0.17122737577704597, 0.085613687888522985, 0.05707579192568199, 0.085613687888522985, 0.028537895962840995, 0.028537895962840995, 0.15932593651944152, 0.12959525936988064, 0.13493153475569927, 0.074707855401460618, 0.1219720088187112, 0.18600731344853458, 0.079281805732162286, 0.044214853196782811, 0.033542302425145581, 0.035829277590496415, 0.1622157652199413, 0.13305338046130016, 0.20960464045273314, 0.10571364475007411, 0.074728610944017906, 0.080196558086263109, 0.083841856181093258, 0.071083312849187757, 0.043743577137961696, 0.036452980948301413, 0.14838353432811466, 0.19784471243748622, 0.09892235621874311, 0.09892235621874311, 0.049461178109371555, 0.049461178109371555, 0.14838353432811466, 0.049461178109371555, 0.049461178109371555, 0.049461178109371555, 0.14115583135987089, 0.15956746153724535, 0.17388761834186992, 0.073646520709497856, 0.15956746153724535, 0.090012414200497368, 0.049097680472998569, 0.061372100591248209, 0.051143417159373504, 0.040914733727498806, 0.15328139364827767, 0.27951312959391811, 0.1232262184231252, 0.093171043197972703, 0.072132420540365963, 0.063115867972820219, 0.060110350450304974, 0.063115867972820219, 0.048088280360243978, 0.048088280360243978, 0.14556265613225952, 0.14556265613225952, 0.2183439841983893, 0.072781328066129761, 0.072781328066129761, 0.14556265613225952, 0.072781328066129761, 0.072781328066129761, 0.072781328066129761, 0.072781328066129761, 0.27648393291398232, 0.13411534059260338, 0.094912394880919307, 0.11348221127066439, 0.066026013830204733, 0.09697570781311321, 0.080469204355562027, 0.06189938796581694, 0.043329571576071861, 0.033013006915102366, 0.17341288416228706, 0.16377883504216001, 0.14290506194855138, 0.10035467833465687, 0.072255368400952938, 0.086706442081143531, 0.087509279507820795, 0.052987270160698825, 0.051381595307344319, 0.067438343840889411, 0.16161099081597502, 0.12928879265278001, 0.11312769357118251, 0.11312769357118251, 0.096966594489585015, 0.08080549540798751, 0.12928879265278001, 0.064644396326390005, 0.064644396326390005, 0.048483297244792507, 0.17870563467623279, 0.13243363998327967, 0.090948403362011335, 0.1069042636009607, 0.18030122070012775, 0.095735161433696148, 0.079779301194746785, 0.051058752764637942, 0.046271994692953136, 0.038294064573478462, 0.15512927492699019, 0.17738410761693815, 0.09491031588360159, 0.13221988833439671, 0.13941998126349753, 0.09621942368889265, 0.058255297335452011, 0.060873512946034124, 0.054327973919578845, 0.032073141229630883, 0.22282102534137688, 0.11525225448691907, 0.169036639914148, 0.092201803589535267, 0.053784385427228902, 0.084518319957073998, 0.076834836324612715, 0.038417418162306358, 0.099885287221996535, 0.038417418162306358, 0.17074278822727129, 0.10671424264204456, 0.17074278822727129, 0.085371394113635646, 0.064028545585226734, 0.12805709117045347, 0.10671424264204456, 0.042685697056817823, 0.064028545585226734, 0.085371394113635646, 0.19195006097216649, 0.18854669109677347, 0.095294356511004638, 0.078277507134039526, 0.16744579786933672, 0.072832115333410691, 0.067386723532781856, 0.05445391800628837, 0.047647178255502319, 0.036756394654244649, 0.16399060989705358, 0.15268091266277403, 0.13571636681135468, 0.11309697234279557, 0.084822729257096677, 0.050893637554258006, 0.11309697234279557, 0.096132426491376238, 0.056548486171397787, 0.039583940319978451, 0.16403131657636372, 0.13849978968921114, 0.088485976745884903, 0.13430282636529567, 0.14969169188631912, 0.078693062323415428, 0.090584458407842641, 0.065402678464349703, 0.053861029323582117, 0.036723429084260531, 0.12613701703997035, 0.29108542393839315, 0.14554271196919658, 0.067919932252291731, 0.087325627181517942, 0.067919932252291731, 0.067919932252291731, 0.048514237323065527, 0.048514237323065527, 0.048514237323065527, 0.18937256832857166, 0.080798962486857237, 0.16917282770685735, 0.077432339049904847, 0.10184035896780964, 0.23061370543123835, 0.074065715612952471, 0.022724708199428598, 0.028616299214095271, 0.026091331636380981], \"Term\": [\"000\", \"000\", \"000\", \"000\", \"000\", \"000\", \"000\", \"000\", \"000\", \"000\", \"010401\", \"010401\", \"010401\", \"010401\", \"010401\", \"010401\", \"010401\", \"010401\", \"010401\", \"010401\", \"01112000\", \"01112000\", \"01112000\", \"01112000\", \"01112000\", \"01112000\", \"01112000\", \"01112000\", \"01112000\", \"01112000\", \"01144\", \"01144\", \"01144\", \"01144\", \"01144\", \"01144\", \"01144\", \"01144\", \"01144\", \"01144\", \"01natural\", \"01natural\", \"01natural\", \"01natural\", \"01natural\", \"01natural\", \"01natural\", \"01natural\", \"01natural\", \"01v\", \"01v\", \"01v\", \"01v\", \"01v\", \"01v\", \"01v\", \"01v\", \"01v\", \"01v\", \"0224\", \"0224\", \"0224\", \"0224\", \"0224\", \"0224\", \"0224\", \"0224\", \"0224\", \"0224\", \"0249\", \"0249\", \"0249\", \"0249\", \"0249\", \"0249\", \"0249\", \"0249\", \"0249\", \"0249\", \"0310\", \"0310\", \"0310\", \"0310\", \"0310\", \"0310\", \"0310\", \"0310\", \"0310\", \"0310\", \"0547\", \"0547\", \"0547\", \"0547\", \"0547\", \"0547\", \"0547\", \"0547\", \"0547\", \"0547\", \"05852\", \"05852\", \"05852\", \"05852\", \"05852\", \"05852\", \"05852\", \"05852\", \"05852\", \"05852\", \"06292000\", \"06292000\", \"06292000\", \"06292000\", \"06292000\", \"06292000\", \"06292000\", \"06292000\", \"06292000\", \"06292000\", \"090909\", \"090909\", \"090909\", \"090909\", \"090909\", \"090909\", \"090909\", \"090909\", \"090909\", \"090909\", \"09dietrich0909mcclellan\", \"09dietrich0909mcclellan\", \"09dietrich0909mcclellan\", \"09dietrich0909mcclellan\", \"09dietrich0909mcclellan\", \"09dietrich0909mcclellan\", \"09dietrich0909mcclellan\", \"09dietrich0909mcclellan\", \"09dietrich0909mcclellan\", \"09dietrich0909mcclellan\", \"10100\", \"10100\", \"10100\", \"10100\", \"10100\", \"10100\", \"10100\", \"10100\", \"10100\", \"10100\", \"10132001\", \"10132001\", \"10132001\", \"10132001\", \"10132001\", \"10132001\", \"10132001\", \"10132001\", \"10132001\", \"10132001\", \"102901\", \"102901\", \"102901\", \"102901\", \"102901\", \"102901\", \"102901\", \"102901\", \"102901\", \"102901\", \"10400\", \"10400\", \"10400\", \"10400\", \"10400\", \"10400\", \"10400\", \"10400\", \"10400\", \"10400\", \"1046\", \"1046\", \"1046\", \"1046\", \"1046\", \"1046\", \"1046\", \"1046\", \"1046\", \"1046\", \"10am12\", \"10am12\", \"10am12\", \"10am12\", \"10am12\", \"10am12\", \"10am12\", \"10am12\", \"10am12\", \"10am12\", \"11082001\", \"11082001\", \"11082001\", \"11082001\", \"11082001\", \"11082001\", \"11082001\", \"11082001\", \"11082001\", \"11082001\", \"12312005\", \"12312005\", \"12312005\", \"12312005\", \"12312005\", \"12312005\", \"12312005\", \"12312005\", \"12312005\", \"12312005\", \"12409\", \"12409\", \"12409\", \"12409\", \"12409\", \"12409\", \"12409\", \"12409\", \"12409\", \"12409\", \"1245pm1pm\", \"1245pm1pm\", \"1245pm1pm\", \"1245pm1pm\", \"1245pm1pm\", \"1245pm1pm\", \"1245pm1pm\", \"1245pm1pm\", \"1245pm1pm\", \"1245pm1pm\", \"13043457354\", \"13043457354\", \"13043457354\", \"13043457354\", \"13043457354\", \"13043457354\", \"13043457354\", \"13043457354\", \"13043457354\", \"13043457354\", \"13438\", \"13438\", \"13438\", \"13438\", \"13438\", \"13438\", \"13438\", \"13438\", \"13438\", \"13438\", \"1417\", \"1417\", \"1417\", \"1417\", \"1417\", \"1417\", \"1417\", \"1417\", \"1417\", \"1417\", \"1505907788\", \"1505907788\", \"1505907788\", \"1505907788\", \"1505907788\", \"1505907788\", \"1505907788\", \"1505907788\", \"1505907788\", \"1505907788\", \"15minute\", \"15minute\", \"15minute\", \"15minute\", \"15minute\", \"15minute\", \"15minute\", \"15minute\", \"15minute\", \"15minute\", \"16500\", \"16500\", \"16500\", \"16500\", \"16500\", \"16500\", \"16500\", \"16500\", \"16500\", \"16500\", \"18883119051\", \"18883119051\", \"18883119051\", \"18883119051\", \"18883119051\", \"18883119051\", \"18883119051\", \"18883119051\", \"18883119051\", \"1doc\", \"1doc\", \"1doc\", \"1doc\", \"1doc\", \"1doc\", \"1doc\", \"1doc\", \"1doc\", \"1doc\", \"1xx\", \"1xx\", \"1xx\", \"1xx\", \"1xx\", \"1xx\", \"1xx\", \"1xx\", \"1xx\", \"1xx\", \"20102\", \"20102\", \"20102\", \"20102\", \"20102\", \"20102\", \"20102\", \"20102\", \"20102\", \"20102\", \"2127023916\", \"2127023916\", \"2127023916\", \"2127023916\", \"2127023916\", \"2127023916\", \"2127023916\", \"2127023916\", \"2127023916\", \"2127023916\", \"23494816\", \"23494816\", \"23494816\", \"23494816\", \"23494816\", \"23494816\", \"23494816\", \"23494816\", \"23494816\", \"23494816\", \"2462\", \"2462\", \"2462\", \"2462\", \"2462\", \"2462\", \"2462\", \"2462\", \"2462\", \"2462\", \"25090717613\", \"25090717613\", \"25090717613\", \"25090717613\", \"25090717613\", \"25090717613\", \"25090717613\", \"25090717613\", \"25090717613\", \"25090717613\", \"2653\", \"2653\", \"2653\", \"2653\", \"2653\", \"2653\", \"2653\", \"2653\", \"2653\", \"2653\", \"2705\", \"2705\", \"2705\", \"2705\", \"2705\", \"2705\", \"2705\", \"2705\", \"2705\", \"2705\", \"276\", \"276\", \"276\", \"276\", \"276\", \"276\", \"276\", \"276\", \"276\", \"276\", \"2817\", \"2817\", \"2817\", \"2817\", \"2817\", \"2817\", \"2817\", \"2817\", \"2817\", \"2817\", \"2957\", \"2957\", \"2957\", \"2957\", \"2957\", \"2957\", \"2957\", \"2957\", \"2957\", \"2957\", \"300pm\", \"300pm\", \"300pm\", \"300pm\", \"300pm\", \"300pm\", \"300pm\", \"300pm\", \"300pm\", \"300pm\", \"3053\", \"3053\", \"3053\", \"3053\", \"3053\", \"3053\", \"3053\", \"3053\", \"3053\", \"3053\", \"30643\", \"30643\", \"30643\", \"30643\", \"30643\", \"30643\", \"30643\", \"30643\", \"30643\", \"30643\", \"3348555351\", \"3348555351\", \"3348555351\", \"3348555351\", \"3348555351\", \"3348555351\", \"3348555351\", \"3348555351\", \"3348555351\", \"3348555351\", \"3457732\", \"3457732\", \"3457732\", \"3457732\", \"3457732\", \"3457732\", \"3457732\", \"3457732\", \"3457732\", \"3457732\", \"3815\", \"3815\", \"3815\", \"3815\", \"3815\", \"3815\", \"3815\", \"3815\", \"3815\", \"3815\", \"3882a\", \"3882a\", \"3882a\", \"3882a\", \"3882a\", \"3882a\", \"3882a\", \"3882a\", \"38th\", \"38th\", \"38th\", \"38th\", \"38th\", \"38th\", \"38th\", \"38th\", \"38th\", \"38th\", \"3920\", \"3920\", \"3920\", \"3920\", \"3920\", \"3920\", \"3920\", \"3920\", \"3920\", \"3920\", \"400kw\", \"400kw\", \"400kw\", \"400kw\", \"400kw\", \"400kw\", \"400kw\", \"400kw\", \"400kw\", \"400kw\", \"415\", \"415\", \"415\", \"415\", \"415\", \"415\", \"415\", \"415\", \"415\", \"415\", \"44c1\", \"44c1\", \"44c1\", \"44c1\", \"44c1\", \"44c1\", \"44c1\", \"44c1\", \"44c1\", \"44c1\", \"4539\", \"4539\", \"4539\", \"4539\", \"4539\", \"4539\", \"4539\", \"4539\", \"4539\", \"4539\", \"4775\", \"4775\", \"4775\", \"4775\", \"4775\", \"4775\", \"4775\", \"4775\", \"4775\", \"4775\", \"495755000\", \"495755000\", \"495755000\", \"495755000\", \"495755000\", \"495755000\", \"495755000\", \"495755000\", \"495755000\", \"495755000\", \"49599772807\", \"49599772807\", \"49599772807\", \"49599772807\", \"49599772807\", \"49599772807\", \"49599772807\", \"49599772807\", \"49599772807\", \"49599772807\", \"500pm\", \"500pm\", \"500pm\", \"500pm\", \"500pm\", \"500pm\", \"500pm\", \"500pm\", \"500pm\", \"500pm\", \"57095\", \"57095\", \"57095\", \"57095\", \"57095\", \"57095\", \"57095\", \"57095\", \"57095\", \"57095\", \"57123406893\", \"57123406893\", \"57123406893\", \"57123406893\", \"57123406893\", \"57123406893\", \"57123406893\", \"57123406893\", \"57123406893\", \"57123406893\", \"578\", \"578\", \"578\", \"578\", \"578\", \"578\", \"578\", \"578\", \"578\", \"578\", \"5c2\", \"5c2\", \"5c2\", \"5c2\", \"5c2\", \"5c2\", \"5c2\", \"5c2\", \"5c2\", \"5c2\", \"600am\", \"600am\", \"600am\", \"600am\", \"600am\", \"600am\", \"600am\", \"600am\", \"600am\", \"600am\", \"65741712630\", \"65741712630\", \"65741712630\", \"65741712630\", \"65741712630\", \"65741712630\", \"65741712630\", \"65741712630\", \"65741712630\", \"65741712630\", \"705\", \"705\", \"705\", \"705\", \"705\", \"705\", \"705\", \"705\", \"705\", \"705\", \"7133455384\", \"7133455384\", \"7133455384\", \"7133455384\", \"7133455384\", \"7133455384\", \"7133455384\", \"7133455384\", \"7133455384\", \"7133455384\", \"7133457893\", \"7133457893\", \"7133457893\", \"7133457893\", \"7133457893\", \"7133457893\", \"7133457893\", \"7133457893\", \"7133457893\", \"7133457893\", \"7136463940\", \"7136463940\", \"7136463940\", \"7136463940\", \"7136463940\", \"7136463940\", \"7136463940\", \"7136463940\", \"7136463940\", \"7136463940\", \"7136466305\", \"7136466305\", \"7136466305\", \"7136466305\", \"7136466305\", \"7136466305\", \"7136466305\", \"7136466305\", \"7136466305\", \"7136466305\", \"7136468010\", \"7136468010\", \"7136468010\", \"7136468010\", \"7136468010\", \"7136468010\", \"7136468010\", \"7136468010\", \"7136468010\", \"7136468010\", \"7138533273\", \"7138533273\", \"7138533273\", \"7138533273\", \"7138533273\", \"7138533273\", \"7138533273\", \"7138533273\", \"7138533273\", \"7138533273\", \"7138533304\", \"7138533304\", \"7138533304\", \"7138533304\", \"7138533304\", \"7138533304\", \"7138533304\", \"7138533304\", \"7138533304\", \"7138533304\", \"7138533448\", \"7138533448\", \"7138533448\", \"7138533448\", \"7138533448\", \"7138533448\", \"7138533448\", \"7138533448\", \"7138533448\", \"7138533448\", \"7138534220\", \"7138534220\", \"7138534220\", \"7138534220\", \"7138534220\", \"7138534220\", \"7138534220\", \"7138534220\", \"7138534220\", \"7138534220\", \"7138535984\", \"7138535984\", \"7138535984\", \"7138535984\", \"7138535984\", \"7138535984\", \"7138535984\", \"7138535984\", \"7138535984\", \"7138535984\", \"72b\", \"72b\", \"72b\", \"72b\", \"72b\", \"72b\", \"72b\", \"72b\", \"72b\", \"72b\", \"7827802\", \"7827802\", \"7827802\", \"7827802\", \"7827802\", \"7827802\", \"7827802\", \"7827802\", \"7827802\", \"7827802\", \"7827854\", \"7827854\", \"7827854\", \"7827854\", \"7827854\", \"7827854\", \"7827854\", \"7827854\", \"7827854\", \"7827854\", \"800mm\", \"800mm\", \"800mm\", \"800mm\", \"800mm\", \"800mm\", \"800mm\", \"800mm\", \"800mm\", \"800mm\", \"801\", \"801\", \"801\", \"801\", \"801\", \"801\", \"801\", \"801\", \"801\", \"801\", \"806\", \"806\", \"806\", \"806\", \"806\", \"806\", \"806\", \"806\", \"806\", \"806\", \"845am9am\", \"845am9am\", \"845am9am\", \"845am9am\", \"845am9am\", \"845am9am\", \"845am9am\", \"845am9am\", \"845am9am\", \"845am9am\", \"8531832\", \"8531832\", \"8531832\", \"8531832\", \"8531832\", \"8531832\", \"8531832\", \"8531832\", \"8531832\", \"8531832\", \"9400\", \"9400\", \"9400\", \"9400\", \"9400\", \"9400\", \"9400\", \"9400\", \"9400\", \"9400\", \"945am\", \"945am\", \"945am\", \"945am\", \"945am\", \"945am\", \"945am\", \"945am\", \"945am\", \"945am\", \"aamodt\", \"aamodt\", \"aamodt\", \"aamodt\", \"aamodt\", \"aamodt\", \"aamodt\", \"aamodt\", \"aamodt\", \"aamodt\", \"ab1x\", \"ab1x\", \"ab1x\", \"ab1x\", \"ab1x\", \"ab1x\", \"ab1x\", \"ab1x\", \"ab1x\", \"ab1x\", \"abouth\", \"abouth\", \"abouth\", \"abouth\", \"abouth\", \"abouth\", \"abouth\", \"abouth\", \"abouth\", \"abovenormal\", \"abovenormal\", \"abovenormal\", \"abovenormal\", \"abovenormal\", \"abovenormal\", \"abovenormal\", \"abovenormal\", \"abovenormal\", \"abovenormal\", \"accepts20\", \"accepts20\", \"accepts20\", \"accepts20\", \"accepts20\", \"accepts20\", \"accepts20\", \"accepts20\", \"accepts20\", \"accepts20\", \"acquiesce\", \"acquiesce\", \"acquiesce\", \"acquiesce\", \"acquiesce\", \"acquiesce\", \"acquiesce\", \"acquiesce\", \"acquiesce\", \"adva\", \"adva\", \"adva\", \"adva\", \"adva\", \"adva\", \"adva\", \"adva\", \"adva\", \"adva\", \"aes\", \"aes\", \"aes\", \"aes\", \"aes\", \"aes\", \"aes\", \"aes\", \"aes\", \"aes\", \"alamitos\", \"alamitos\", \"alamitos\", \"alamitos\", \"alamitos\", \"alamitos\", \"alamitos\", \"alamitos\", \"alamitos\", \"alamitos\", \"alec\", \"alec\", \"alec\", \"alec\", \"alec\", \"alec\", \"alec\", \"alec\", \"alec\", \"alec\", \"alexandra\", \"alexandra\", \"alexandra\", \"alexandra\", \"alexandra\", \"alexandra\", \"alexandra\", \"alexandra\", \"alexandra\", \"alexandra\", \"amps\", \"amps\", \"amps\", \"amps\", \"amps\", \"amps\", \"amps\", \"amps\", \"amps\", \"amps\", \"amtel\", \"amtel\", \"amtel\", \"amtel\", \"amtel\", \"amtel\", \"amtel\", \"amtel\", \"amtel\", \"amtel\", \"an20\", \"an20\", \"an20\", \"an20\", \"an20\", \"an20\", \"an20\", \"an20\", \"an20\", \"an20\", \"angeladavisenroncom\", \"angeladavisenroncom\", \"angeladavisenroncom\", \"angeladavisenroncom\", \"angeladavisenroncom\", \"angeladavisenroncom\", \"angeladavisenroncom\", \"angeladavisenroncom\", \"angeladavisenroncom\", \"angeladavisenroncom\", \"angelides\", \"angelides\", \"angelides\", \"angelides\", \"angelides\", \"angelides\", \"angelides\", \"angelides\", \"angelides\", \"angelides\", \"anita\", \"anita\", \"anita\", \"anita\", \"anita\", \"anita\", \"anita\", \"anita\", \"anita\", \"anita\", \"anticpate\", \"anticpate\", \"anticpate\", \"anticpate\", \"anticpate\", \"anticpate\", \"anticpate\", \"anticpate\", \"anticpate\", \"anticpate\", \"apri\", \"apri\", \"apri\", \"apri\", \"apri\", \"apri\", \"apri\", \"apri\", \"apri\", \"apri\", \"aramco\", \"aramco\", \"aramco\", \"aramco\", \"aramco\", \"aramco\", \"aramco\", \"aramco\", \"aramco\", \"aramco\", \"assembly\", \"assembly\", \"assembly\", \"assembly\", \"assembly\", \"assembly\", \"assembly\", \"assembly\", \"assembly\", \"assembly\", \"audio\", \"audio\", \"audio\", \"audio\", \"audio\", \"audio\", \"audio\", \"audio\", \"audio\", \"audio\", \"authoriser\", \"authoriser\", \"authoriser\", \"authoriser\", \"authoriser\", \"authoriser\", \"authoriser\", \"authoriser\", \"authoriser\", \"authoriser\", \"ava\", \"ava\", \"ava\", \"ava\", \"ava\", \"ava\", \"ava\", \"ava\", \"ava\", \"ava\", \"avaya\", \"avaya\", \"avaya\", \"avaya\", \"avaya\", \"avaya\", \"avaya\", \"avaya\", \"avaya\", \"avaya\", \"avg\", \"avg\", \"avg\", \"avg\", \"avg\", \"avg\", \"avg\", \"avg\", \"avg\", \"avg\", \"bal\", \"bal\", \"bal\", \"bal\", \"bal\", \"bal\", \"bal\", \"bal\", \"bal\", \"bal\", \"baseline\", \"baseline\", \"baseline\", \"baseline\", \"baseline\", \"baseline\", \"baseline\", \"baseline\", \"baseline\", \"baseline\", \"baton\", \"baton\", \"baton\", \"baton\", \"baton\", \"baton\", \"baton\", \"baton\", \"baton\", \"baton\", \"bea\", \"bea\", \"bea\", \"bea\", \"bea\", \"bea\", \"bea\", \"bea\", \"bea\", \"bea\", \"bee\", \"bee\", \"bee\", \"bee\", \"bee\", \"bee\", \"bee\", \"bee\", \"bee\", \"bee\", \"bfg\", \"bfg\", \"bfg\", \"bfg\", \"bfg\", \"bfg\", \"bfg\", \"bfg\", \"bfg\", \"bfg\", \"bidding\", \"bidding\", \"bidding\", \"bidding\", \"bidding\", \"bidding\", \"bidding\", \"bidding\", \"bidding\", \"bidding\", \"billion20\", \"billion20\", \"billion20\", \"billion20\", \"billion20\", \"billion20\", \"billion20\", \"billion20\", \"billion20\", \"billion20\", \"blackscholes\", \"blackscholes\", \"blackscholes\", \"blackscholes\", \"blackscholes\", \"blackscholes\", \"blackscholes\", \"blackscholes\", \"blackscholes\", \"blackscholes\", \"blotter\", \"blotter\", \"blotter\", \"blotter\", \"blotter\", \"blotter\", \"blotter\", \"blotter\", \"blotter\", \"blotter\", \"blowdown\", \"blowdown\", \"blowdown\", \"blowdown\", \"blowdown\", \"blowdown\", \"blowdown\", \"blowdown\", \"blowdown\", \"blowdown\", \"bouillion\", \"bouillion\", \"bouillion\", \"bouillion\", \"bouillion\", \"bouillion\", \"bouillion\", \"bouillion\", \"bouillion\", \"bouillion\", \"bowens\", \"bowens\", \"bowens\", \"bowens\", \"bowens\", \"bowens\", \"bowens\", \"bowens\", \"bowens\", \"bowens\", \"brant\", \"brant\", \"brant\", \"brant\", \"brant\", \"brant\", \"brant\", \"brant\", \"brant\", \"brant\", \"brattle\", \"brattle\", \"brattle\", \"brattle\", \"brattle\", \"brattle\", \"brattle\", \"brattle\", \"brattle\", \"brattle\", \"brownell\", \"brownell\", \"brownell\", \"brownell\", \"brownell\", \"brownell\", \"brownell\", \"brownell\", \"brownell\", \"brownell\", \"bts\", \"bts\", \"bts\", \"bts\", \"bts\", \"bts\", \"bts\", \"bts\", \"bts\", \"bts\", \"buchanan\", \"buchanan\", \"buchanan\", \"buchanan\", \"buchanan\", \"buchanan\", \"buchanan\", \"buchanan\", \"buchanan\", \"buchanan\", \"bureau\", \"bureau\", \"bureau\", \"bureau\", \"bureau\", \"bureau\", \"bureau\", \"bureau\", \"bureau\", \"bureau\", \"burton\", \"burton\", \"burton\", \"burton\", \"burton\", \"burton\", \"burton\", \"burton\", \"burton\", \"burton\", \"but20\", \"but20\", \"but20\", \"but20\", \"but20\", \"but20\", \"but20\", \"but20\", \"but20\", \"but20\", \"by20\", \"by20\", \"by20\", \"by20\", \"by20\", \"by20\", \"by20\", \"by20\", \"by20\", \"by20\", \"cabrera\", \"cabrera\", \"cabrera\", \"cabrera\", \"cabrera\", \"cabrera\", \"cabrera\", \"cabrera\", \"cabrera\", \"cabrera\", \"cactus\", \"cactus\", \"cactus\", \"cactus\", \"cactus\", \"cactus\", \"cactus\", \"cactus\", \"cactus\", \"cactus\", \"calenergy\", \"calenergy\", \"calenergy\", \"calenergy\", \"calenergy\", \"calenergy\", \"calenergy\", \"calenergy\", \"calenergy\", \"calenergy\", \"california20\", \"california20\", \"california20\", \"california20\", \"california20\", \"california20\", \"california20\", \"california20\", \"california20\", \"california20\", \"californians\", \"californians\", \"californians\", \"californians\", \"californians\", \"californians\", \"californians\", \"californians\", \"californians\", \"californians\", \"campbell\", \"campbell\", \"campbell\", \"campbell\", \"campbell\", \"campbell\", \"campbell\", \"campbell\", \"campbell\", \"campbell\", \"capitol\", \"capitol\", \"capitol\", \"capitol\", \"capitol\", \"capitol\", \"capitol\", \"capitol\", \"capitol\", \"capitol\", \"carlton\", \"carlton\", \"carlton\", \"carlton\", \"carlton\", \"carlton\", \"carlton\", \"carlton\", \"carlton\", \"carlton\", \"cats\", \"cats\", \"cats\", \"cats\", \"cats\", \"cats\", \"cats\", \"cats\", \"cats\", \"cats\", \"ce20\", \"ce20\", \"ce20\", \"ce20\", \"ce20\", \"ce20\", \"ce20\", \"ce20\", \"ce20\", \"ce20\", \"charlene\", \"charlene\", \"charlene\", \"charlene\", \"charlene\", \"charlene\", \"charlene\", \"charlene\", \"charlene\", \"charlene\", \"chron\", \"chron\", \"chron\", \"chron\", \"chron\", \"chron\", \"chron\", \"chron\", \"chron\", \"chron\", \"chronicle20\", \"chronicle20\", \"chronicle20\", \"chronicle20\", \"chronicle20\", \"chronicle20\", \"chronicle20\", \"chronicle20\", \"chronicle20\", \"chronicle20\", \"clayton\", \"clayton\", \"clayton\", \"clayton\", \"clayton\", \"clayton\", \"clayton\", \"clayton\", \"clayton\", \"clayton\", \"coded\", \"coded\", \"coded\", \"coded\", \"coded\", \"coded\", \"coded\", \"coded\", \"coded\", \"coded\", \"coincident\", \"coincident\", \"coincident\", \"coincident\", \"coincident\", \"coincident\", \"coincident\", \"coincident\", \"coincident\", \"coincident\", \"commission20\", \"commission20\", \"commission20\", \"commission20\", \"commission20\", \"commission20\", \"commission20\", \"commission20\", \"commission20\", \"commission20\", \"commissionthere\", \"commissionthere\", \"commissionthere\", \"commissionthere\", \"commissionthere\", \"commissionthere\", \"commissionthere\", \"commissionthere\", \"commissionthere\", \"commissionthere\", \"communicationsect\", \"communicationsect\", \"communicationsect\", \"communicationsect\", \"communicationsect\", \"communicationsect\", \"communicationsect\", \"communicationsect\", \"communicationsect\", \"communicationsect\", \"compatriot\", \"compatriot\", \"compatriot\", \"compatriot\", \"compatriot\", \"compatriot\", \"compatriot\", \"compatriot\", \"compatriot\", \"compatriot\", \"computer\", \"computer\", \"computer\", \"computer\", \"computer\", \"computer\", \"computer\", \"computer\", \"computer\", \"computer\", \"connell\", \"connell\", \"connell\", \"connell\", \"connell\", \"connell\", \"connell\", \"connell\", \"connell\", \"connell\", \"conserve\", \"conserve\", \"conserve\", \"conserve\", \"conserve\", \"conserve\", \"conserve\", \"conserve\", \"conserve\", \"conserve\", \"conserve14\", \"conserve14\", \"conserve14\", \"conserve14\", \"conserve14\", \"conserve14\", \"conserve14\", \"conserve14\", \"conserve14\", \"contractwe\", \"contractwe\", \"contractwe\", \"contractwe\", \"contractwe\", \"contractwe\", \"contractwe\", \"contractwe\", \"contractwe\", \"contractwe\", \"cordially\", \"cordially\", \"cordially\", \"cordially\", \"cordially\", \"cordially\", \"cordially\", \"cordially\", \"cordially\", \"cordially\", \"corenoncore\", \"corenoncore\", \"corenoncore\", \"corenoncore\", \"corenoncore\", \"corenoncore\", \"corenoncore\", \"corenoncore\", \"corenoncore\", \"corenoncore\", \"cottonwood\", \"cottonwood\", \"cottonwood\", \"cottonwood\", \"cottonwood\", \"cottonwood\", \"cottonwood\", \"cottonwood\", \"cottonwood\", \"cottonwood\", \"cp\", \"cp\", \"cp\", \"cp\", \"cp\", \"cp\", \"cp\", \"cp\", \"cp\", \"cp\", \"cpuc\", \"cpuc\", \"cpuc\", \"cpuc\", \"cpuc\", \"cpuc\", \"cpuc\", \"cpuc\", \"cpuc\", \"cpuc\", \"crady\", \"crady\", \"crady\", \"crady\", \"crady\", \"crady\", \"crady\", \"crady\", \"crady\", \"crady\", \"crenshaw\", \"crenshaw\", \"crenshaw\", \"crenshaw\", \"crenshaw\", \"crenshaw\", \"crenshaw\", \"crenshaw\", \"crenshaw\", \"crenshaw\", \"crenshawhouectect\", \"crenshawhouectect\", \"crenshawhouectect\", \"crenshawhouectect\", \"crenshawhouectect\", \"crenshawhouectect\", \"crenshawhouectect\", \"crenshawhouectect\", \"crenshawhouectect\", \"crenshawhouectect\", \"criminal\", \"criminal\", \"criminal\", \"criminal\", \"criminal\", \"criminal\", \"criminal\", \"criminal\", \"criminal\", \"criminal\", \"crisis20\", \"crisis20\", \"crisis20\", \"crisis20\", \"crisis20\", \"crisis20\", \"crisis20\", \"crisis20\", \"crisis20\", \"crisis20\", \"curtailment\", \"curtailment\", \"curtailment\", \"curtailment\", \"curtailment\", \"curtailment\", \"curtailment\", \"curtailment\", \"curtailment\", \"curtailment\", \"darren\", \"darren\", \"darren\", \"darren\", \"darren\", \"darren\", \"darren\", \"darren\", \"darren\", \"darren\", \"dasr\", \"dasr\", \"dasr\", \"dasr\", \"dasr\", \"dasr\", \"dasr\", \"dasr\", \"dasr\", \"dasr\", \"db\", \"db\", \"db\", \"db\", \"db\", \"db\", \"db\", \"db\", \"db\", \"db\", \"dedasr\", \"dedasr\", \"dedasr\", \"dedasr\", \"dedasr\", \"dedasr\", \"dedasr\", \"dedasr\", \"dedasr\", \"dedasr\", \"dede\", \"dede\", \"dede\", \"dede\", \"dede\", \"dede\", \"dede\", \"dede\", \"dede\", \"dede\", \"deliveries\", \"deliveries\", \"deliveries\", \"deliveries\", \"deliveries\", \"deliveries\", \"deliveries\", \"deliveries\", \"deliveries\", \"deliveries\", \"deluca\", \"deluca\", \"deluca\", \"deluca\", \"deluca\", \"deluca\", \"deluca\", \"deluca\", \"deluca\", \"deluca\", \"democrats\", \"democrats\", \"democrats\", \"democrats\", \"democrats\", \"democrats\", \"democrats\", \"democrats\", \"democrats\", \"democrats\", \"demystify\", \"demystify\", \"demystify\", \"demystify\", \"demystify\", \"demystify\", \"demystify\", \"demystify\", \"demystify\", \"demystify\", \"depth\", \"depth\", \"depth\", \"depth\", \"depth\", \"depth\", \"depth\", \"depth\", \"depth\", \"depth\", \"depts\", \"depts\", \"depts\", \"depts\", \"depts\", \"depts\", \"depts\", \"depts\", \"depts\", \"depts\", \"devali\", \"devali\", \"devali\", \"devali\", \"devali\", \"devali\", \"devali\", \"devali\", \"devali\", \"devali\", \"dialog\", \"dialog\", \"dialog\", \"dialog\", \"dialog\", \"dialog\", \"dialog\", \"dialog\", \"dialog\", \"dialog\", \"diesel\", \"diesel\", \"diesel\", \"diesel\", \"diesel\", \"diesel\", \"diesel\", \"diesel\", \"diesel\", \"diesel\", \"dina\", \"dina\", \"dina\", \"dina\", \"dina\", \"dina\", \"dina\", \"dina\", \"dina\", \"dina\", \"do20\", \"do20\", \"do20\", \"do20\", \"do20\", \"do20\", \"do20\", \"do20\", \"do20\", \"do20\", \"dodson\", \"dodson\", \"dodson\", \"dodson\", \"dodson\", \"dodson\", \"dodson\", \"dodson\", \"dodson\", \"dodson\", \"donner\", \"donner\", \"donner\", \"donner\", \"donner\", \"donner\", \"donner\", \"donner\", \"donner\", \"donner\", \"dpr\", \"dpr\", \"dpr\", \"dpr\", \"dpr\", \"dpr\", \"dpr\", \"dpr\", \"dpr\", \"dpr\", \"drool\", \"drool\", \"drool\", \"drool\", \"drool\", \"drool\", \"drool\", \"drool\", \"drool\", \"drool\", \"dropdown\", \"dropdown\", \"dropdown\", \"dropdown\", \"dropdown\", \"dropdown\", \"dropdown\", \"dropdown\", \"dropdown\", \"dropdown\", \"dwivedi\", \"dwivedi\", \"dwivedi\", \"dwivedi\", \"dwivedi\", \"dwivedi\", \"dwivedi\", \"dwivedi\", \"dwivedi\", \"dwivedi\", \"dwp\", \"dwp\", \"dwp\", \"dwp\", \"dwp\", \"dwp\", \"dwp\", \"dwp\", \"dwp\", \"dwp\", \"dwr\", \"dwr\", \"dwr\", \"dwr\", \"dwr\", \"dwr\", \"dwr\", \"dwr\", \"dwr\", \"dwr\", \"eavesdropper\", \"eavesdropper\", \"eavesdropper\", \"eavesdropper\", \"eavesdropper\", \"eavesdropper\", \"eavesdropper\", \"eavesdropper\", \"eavesdropper\", \"eavesdropper\", \"eb32c2\", \"eb32c2\", \"eb32c2\", \"eb32c2\", \"eb32c2\", \"eb32c2\", \"eb32c2\", \"eb32c2\", \"eb32c2\", \"eb32c2\", \"eb3838\", \"eb3838\", \"eb3838\", \"eb3838\", \"eb3838\", \"eb3838\", \"eb3838\", \"eb3838\", \"eb3838\", \"eb3838\", \"eb8c1\", \"eb8c1\", \"eb8c1\", \"eb8c1\", \"eb8c1\", \"eb8c1\", \"eb8c1\", \"eb8c1\", \"eb8c1\", \"eb8c1\", \"edisons\", \"edisons\", \"edisons\", \"edisons\", \"edisons\", \"edisons\", \"edisons\", \"edisons\", \"edisons\", \"edisons\", \"eecc\", \"eecc\", \"eecc\", \"eecc\", \"eecc\", \"eecc\", \"eecc\", \"eecc\", \"eecc\", \"eecc\", \"eei\", \"eei\", \"eei\", \"eei\", \"eei\", \"eei\", \"eei\", \"eei\", \"eei\", \"eei\", \"eeos\", \"eeos\", \"eeos\", \"eeos\", \"eeos\", \"eeos\", \"eeos\", \"eeos\", \"eeos\", \"eeos\", \"ehud\", \"ehud\", \"ehud\", \"ehud\", \"ehud\", \"ehud\", \"ehud\", \"ehud\", \"ehud\", \"ehud\", \"ein\", \"ein\", \"ein\", \"ein\", \"ein\", \"ein\", \"ein\", \"ein\", \"ein\", \"ein\", \"ejournal\", \"ejournal\", \"ejournal\", \"ejournal\", \"ejournal\", \"ejournal\", \"ejournal\", \"ejournal\", \"ejournal\", \"ejournal\", \"electrical\", \"electrical\", \"electrical\", \"electrical\", \"electrical\", \"electrical\", \"electrical\", \"electrical\", \"electrical\", \"electrical\", \"emarket\", \"emarket\", \"emarket\", \"emarket\", \"emarket\", \"emarket\", \"emarket\", \"emarket\", \"emarket\", \"enaegmeim\", \"enaegmeim\", \"enaegmeim\", \"enaegmeim\", \"enaegmeim\", \"enaegmeim\", \"enaegmeim\", \"enaegmeim\", \"enaegmeim\", \"enaegmeim\", \"encroachment\", \"encroachment\", \"encroachment\", \"encroachment\", \"encroachment\", \"encroachment\", \"encroachment\", \"encroachment\", \"encroachment\", \"entitys\", \"entitys\", \"entitys\", \"entitys\", \"entitys\", \"entitys\", \"entitys\", \"entitys\", \"entitys\", \"entitys\", \"enw01s\", \"enw01s\", \"enw01s\", \"enw01s\", \"enw01s\", \"enw01s\", \"enw01s\", \"enw01s\", \"enw01s\", \"enw01s\", \"epa\", \"epa\", \"epa\", \"epa\", \"epa\", \"epa\", \"epa\", \"epa\", \"epa\", \"epa\", \"epmi\", \"epmi\", \"epmi\", \"epmi\", \"epmi\", \"epmi\", \"epmi\", \"epmi\", \"epmi\", \"epmi\", \"epmiees\", \"epmiees\", \"epmiees\", \"epmiees\", \"epmiees\", \"epmiees\", \"epmiees\", \"epmiees\", \"epmiees\", \"epmiees\", \"er011394wpd\", \"er011394wpd\", \"er011394wpd\", \"er011394wpd\", \"er011394wpd\", \"er011394wpd\", \"er011394wpd\", \"er011394wpd\", \"er011394wpd\", \"er011394wpd\", \"espinoza\", \"espinoza\", \"espinoza\", \"espinoza\", \"espinoza\", \"espinoza\", \"espinoza\", \"espinoza\", \"espinoza\", \"espinoza\", \"estate20\", \"estate20\", \"estate20\", \"estate20\", \"estate20\", \"estate20\", \"estate20\", \"estate20\", \"estate20\", \"estate20\", \"estes\", \"estes\", \"estes\", \"estes\", \"estes\", \"estes\", \"estes\", \"estes\", \"estes\", \"estes\", \"ethanol\", \"ethanol\", \"ethanol\", \"ethanol\", \"ethanol\", \"ethanol\", \"ethanol\", \"ethanol\", \"ethanol\", \"ethanol\", \"ethink\", \"ethink\", \"ethink\", \"ethink\", \"ethink\", \"ethink\", \"ethink\", \"ethink\", \"ethink\", \"ethink\", \"exection\", \"exection\", \"exection\", \"exection\", \"exection\", \"exection\", \"exection\", \"exection\", \"exection\", \"exection\", \"exisiting\", \"exisiting\", \"exisiting\", \"exisiting\", \"exisiting\", \"exisiting\", \"exisiting\", \"exisiting\", \"exisiting\", \"exisiting\", \"exploratory\", \"exploratory\", \"exploratory\", \"exploratory\", \"exploratory\", \"exploratory\", \"exploratory\", \"exploratory\", \"exploratory\", \"exploratory\", \"fax415\", \"fax415\", \"fax415\", \"fax415\", \"fax415\", \"fax415\", \"fax415\", \"fax415\", \"fax415\", \"fax415\", \"fea\", \"fea\", \"fea\", \"fea\", \"fea\", \"fea\", \"fea\", \"fea\", \"fea\", \"fea\", \"fehl\", \"fehl\", \"fehl\", \"fehl\", \"fehl\", \"fehl\", \"fehl\", \"fehl\", \"fehl\", \"fehl\", \"feinstein\", \"feinstein\", \"feinstein\", \"feinstein\", \"feinstein\", \"feinstein\", \"feinstein\", \"feinstein\", \"feinstein\", \"feinstein\", \"fercs\", \"fercs\", \"fercs\", \"fercs\", \"fercs\", \"fercs\", \"fercs\", \"fercs\", \"fercs\", \"fercs\", \"finite\", \"finite\", \"finite\", \"finite\", \"finite\", \"finite\", \"finite\", \"finite\", \"finite\", \"finite\", \"fixedrate\", \"fixedrate\", \"fixedrate\", \"fixedrate\", \"fixedrate\", \"fixedrate\", \"fixedrate\", \"fixedrate\", \"fixedrate\", \"fixedrate\", \"flight\", \"flight\", \"flight\", \"flight\", \"flight\", \"flight\", \"flight\", \"flight\", \"flight\", \"flight\", \"flows\", \"flows\", \"flows\", \"flows\", \"flows\", \"flows\", \"flows\", \"flows\", \"flows\", \"flows\", \"func\", \"func\", \"func\", \"func\", \"func\", \"func\", \"gabrielle\", \"gabrielle\", \"gabrielle\", \"gabrielle\", \"gabrielle\", \"gabrielle\", \"gabrielle\", \"gabrielle\", \"gabrielle\", \"gabrielle\", \"garage\", \"garage\", \"garage\", \"garage\", \"garage\", \"garage\", \"garage\", \"garage\", \"garage\", \"garage\", \"geet\", \"geet\", \"geet\", \"geet\", \"geet\", \"geet\", \"geet\", \"geet\", \"geet\", \"geet\", \"getty\", \"getty\", \"getty\", \"getty\", \"getty\", \"getty\", \"getty\", \"getty\", \"getty\", \"getty\", \"gibner\", \"gibner\", \"gibner\", \"gibner\", \"gibner\", \"gibner\", \"gibner\", \"gibner\", \"gibner\", \"gibner\", \"gibnerhouectect\", \"gibnerhouectect\", \"gibnerhouectect\", \"gibnerhouectect\", \"gibnerhouectect\", \"gibnerhouectect\", \"gibnerhouectect\", \"gibnerhouectect\", \"gibnerhouectect\", \"gibnerhouectect\", \"giron\", \"giron\", \"giron\", \"giron\", \"giron\", \"giron\", \"giron\", \"giron\", \"giron\", \"giron\", \"gore\", \"gore\", \"gore\", \"gore\", \"gore\", \"gore\", \"gore\", \"gore\", \"gore\", \"gore\", \"graphical\", \"graphical\", \"graphical\", \"graphical\", \"graphical\", \"graphical\", \"graphical\", \"graphical\", \"graphical\", \"graphical\", \"guidebook\", \"guidebook\", \"guidebook\", \"guidebook\", \"guidebook\", \"guidebook\", \"guidebook\", \"guidebook\", \"guidebook\", \"guidebook\", \"gurantee\", \"gurantee\", \"gurantee\", \"gurantee\", \"gurantee\", \"gurantee\", \"gurantee\", \"gurantee\", \"h20\", \"h20\", \"h20\", \"h20\", \"h20\", \"h20\", \"h20\", \"h20\", \"h20\", \"h20\", \"handholding\", \"handholding\", \"handholding\", \"handholding\", \"handholding\", \"handholding\", \"handholding\", \"handholding\", \"handholding\", \"handy\", \"handy\", \"handy\", \"handy\", \"handy\", \"handy\", \"handy\", \"handy\", \"handy\", \"handy\", \"harriet\", \"harriet\", \"harriet\", \"harriet\", \"harriet\", \"harriet\", \"harriet\", \"harriet\", \"harriet\", \"harriet\", \"hchiangsfchroniclecom\", \"hchiangsfchroniclecom\", \"hchiangsfchroniclecom\", \"hchiangsfchroniclecom\", \"hchiangsfchroniclecom\", \"hchiangsfchroniclecom\", \"hchiangsfchroniclecom\", \"hchiangsfchroniclecom\", \"hchiangsfchroniclecom\", \"hchiangsfchroniclecom\", \"heater\", \"heater\", \"heater\", \"heater\", \"heater\", \"heater\", \"heater\", \"heater\", \"heater\", \"heater\", \"heights\", \"heights\", \"heights\", \"heights\", \"heights\", \"heights\", \"heights\", \"heights\", \"heights\", \"heights\", \"helpdesk\", \"helpdesk\", \"helpdesk\", \"helpdesk\", \"helpdesk\", \"helpdesk\", \"helpdesk\", \"helpdesk\", \"helpdesk\", \"helpdesk\", \"hensley\", \"hensley\", \"hensley\", \"hensley\", \"hensley\", \"hensley\", \"hensley\", \"hensley\", \"hensley\", \"hensley\", \"henwood\", \"henwood\", \"henwood\", \"henwood\", \"henwood\", \"henwood\", \"henwood\", \"henwood\", \"henwood\", \"henwood\", \"hike\", \"hike\", \"hike\", \"hike\", \"hike\", \"hike\", \"hike\", \"hike\", \"hike\", \"hike\", \"homeowner\", \"homeowner\", \"homeowner\", \"homeowner\", \"homeowner\", \"homeowner\", \"homeowner\", \"homeowner\", \"homeowner\", \"homeowner\", \"household\", \"household\", \"household\", \"household\", \"household\", \"household\", \"household\", \"household\", \"household\", \"household\", \"hrough\", \"hrough\", \"hrough\", \"hrough\", \"hrough\", \"hrough\", \"hrough\", \"hrough\", \"hrough\", \"hrough\", \"http63211208100globenetworksurveyasp\", \"http63211208100globenetworksurveyasp\", \"http63211208100globenetworksurveyasp\", \"http63211208100globenetworksurveyasp\", \"http63211208100globenetworksurveyasp\", \"http63211208100globenetworksurveyasp\", \"http63211208100globenetworksurveyasp\", \"http63211208100globenetworksurveyasp\", \"http63211208100globenetworksurveyasp\", \"http63211208100globenetworksurveyasp\", \"httpwwwsfgatecomcgibinarticlecgifilechroniclearchive20010321m\", \"httpwwwsfgatecomcgibinarticlecgifilechroniclearchive20010321m\", \"httpwwwsfgatecomcgibinarticlecgifilechroniclearchive20010321m\", \"httpwwwsfgatecomcgibinarticlecgifilechroniclearchive20010321m\", \"httpwwwsfgatecomcgibinarticlecgifilechroniclearchive20010321m\", \"httpwwwsfgatecomcgibinarticlecgifilechroniclearchive20010321m\", \"httpwwwsfgatecomcgibinarticlecgifilechroniclearchive20010321m\", \"httpwwwsfgatecomcgibinarticlecgifilechroniclearchive20010321m\", \"httpwwwsfgatecomcgibinarticlecgifilechroniclearchive20010321m\", \"httpwwwsfgatecomcgibinarticlecgifilechroniclearchive20010321m\", \"hu\", \"hu\", \"hu\", \"hu\", \"hu\", \"hu\", \"hu\", \"hu\", \"hu\", \"hu\", \"huntington\", \"huntington\", \"huntington\", \"huntington\", \"huntington\", \"huntington\", \"huntington\", \"huntington\", \"huntington\", \"huntington\", \"hydro\", \"hydro\", \"hydro\", \"hydro\", \"hydro\", \"hydro\", \"hydro\", \"hydro\", \"hydro\", \"hydro\", \"hydroelectric\", \"hydroelectric\", \"hydroelectric\", \"hydroelectric\", \"hydroelectric\", \"hydroelectric\", \"hydroelectric\", \"hydroelectric\", \"hydroelectric\", \"hydroelectric\", \"iling\", \"iling\", \"iling\", \"iling\", \"iling\", \"iling\", \"iling\", \"iling\", \"iling\", \"iling\", \"impeccable\", \"impeccable\", \"impeccable\", \"impeccable\", \"impeccable\", \"impeccable\", \"impeccable\", \"impeccable\", \"impeccable\", \"impeccable\", \"inclinded\", \"inclinded\", \"inclinded\", \"inclinded\", \"inclinded\", \"inclinded\", \"inclinded\", \"inclinded\", \"inclinded\", \"inclinded\", \"indiaranendra\", \"indiaranendra\", \"indiaranendra\", \"indiaranendra\", \"indiaranendra\", \"indiaranendra\", \"indiaranendra\", \"indiaranendra\", \"indiaranendra\", \"indiaranendra\", \"insync\", \"insync\", \"insync\", \"insync\", \"insync\", \"insync\", \"insync\", \"insync\", \"insync\", \"insync\", \"interconnection\", \"interconnection\", \"interconnection\", \"interconnection\", \"interconnection\", \"interconnection\", \"interconnection\", \"interconnection\", \"interconnection\", \"interconnection\", \"interventionist\", \"interventionist\", \"interventionist\", \"interventionist\", \"interventionist\", \"interventionist\", \"interventionist\", \"interventionist\", \"interventionist\", \"interventionist\", \"investorowned\", \"investorowned\", \"investorowned\", \"investorowned\", \"investorowned\", \"investorowned\", \"investorowned\", \"investorowned\", \"investorowned\", \"investorowned\", \"invited\", \"invited\", \"invited\", \"invited\", \"invited\", \"invited\", \"invited\", \"invited\", \"invited\", \"invited\", \"iris\", \"iris\", \"iris\", \"iris\", \"iris\", \"iris\", \"iris\", \"iris\", \"iris\", \"iris\", \"isda\", \"isda\", \"isda\", \"isda\", \"isda\", \"isda\", \"isda\", \"isda\", \"isda\", \"isda\", \"isos\", \"isos\", \"isos\", \"isos\", \"isos\", \"isos\", \"isos\", \"isos\", \"isos\", \"isos\", \"issuesdirect\", \"issuesdirect\", \"issuesdirect\", \"issuesdirect\", \"issuesdirect\", \"issuesdirect\", \"issuesdirect\", \"issuesdirect\", \"issuesdirect\", \"issuesdirect\", \"jacksonenron\", \"jacksonenron\", \"jacksonenron\", \"jacksonenron\", \"jacksonenron\", \"jacksonenron\", \"jacksonenron\", \"jacksonenron\", \"jacksonenron\", \"jacksonenron\", \"jaesoo\", \"jaesoo\", \"jaesoo\", \"jaesoo\", \"jaesoo\", \"jaesoo\", \"jaesoo\", \"jaesoo\", \"jaesoo\", \"jaesoo\", \"janette\", \"janette\", \"janette\", \"janette\", \"janette\", \"janette\", \"janette\", \"janette\", \"janette\", \"janette\", \"jeanie\", \"jeanie\", \"jeanie\", \"jeanie\", \"jeanie\", \"jeanie\", \"jeanie\", \"jeanie\", \"jeanie\", \"jeanie\", \"jeanne\", \"jeanne\", \"jeanne\", \"jeanne\", \"jeanne\", \"jeanne\", \"jeanne\", \"jeanne\", \"jeanne\", \"jeanne\", \"jefferson\", \"jefferson\", \"jefferson\", \"jefferson\", \"jefferson\", \"jefferson\", \"jefferson\", \"jefferson\", \"jefferson\", \"jefferson\", \"johndoe\", \"johndoe\", \"johndoe\", \"johndoe\", \"johndoe\", \"johndoe\", \"johndoe\", \"johndoe\", \"johndoe\", \"johndoe\", \"julia\", \"julia\", \"julia\", \"julia\", \"julia\", \"julia\", \"julia\", \"julia\", \"julia\", \"julia\", \"juliamurrayenroncom\", \"juliamurrayenroncom\", \"juliamurrayenroncom\", \"juliamurrayenroncom\", \"juliamurrayenroncom\", \"juliamurrayenroncom\", \"juliamurrayenroncom\", \"juliamurrayenroncom\", \"juliamurrayenroncom\", \"juliamurrayenroncom\", \"kahn\", \"kahn\", \"kahn\", \"kahn\", \"kahn\", \"kahn\", \"kahn\", \"kahn\", \"kahn\", \"kahn\", \"kaminski\", \"kaminski\", \"kaminski\", \"kaminski\", \"kaminski\", \"kaminski\", \"kaminski\", \"kaminski\", \"kaminski\", \"kaminski\", \"kaminskiect\", \"kaminskiect\", \"kaminskiect\", \"kaminskiect\", \"kaminskiect\", \"kaminskiect\", \"kaminskiect\", \"kaminskiect\", \"kaminskiect\", \"kaminskiect\", \"kaminskihouectect\", \"kaminskihouectect\", \"kaminskihouectect\", \"kaminskihouectect\", \"kaminskihouectect\", \"kaminskihouectect\", \"kaminskihouectect\", \"kaminskihouectect\", \"kaminskihouectect\", \"kaminskihouectect\", \"kimono\", \"kimono\", \"kimono\", \"kimono\", \"kimono\", \"kimono\", \"kimono\", \"kimono\", \"kimono\", \"kimono\", \"kingdom\", \"kingdom\", \"kingdom\", \"kingdom\", \"kingdom\", \"kingdom\", \"kingdom\", \"kingdom\", \"kingdom\", \"kingdom\", \"kitchenhouectect\", \"kitchenhouectect\", \"kitchenhouectect\", \"kitchenhouectect\", \"kitchenhouectect\", \"kitchenhouectect\", \"kitchenhouectect\", \"kitchenhouectect\", \"kitchenhouectect\", \"kitchenhouectect\", \"korkmas\", \"korkmas\", \"korkmas\", \"korkmas\", \"korkmas\", \"korkmas\", \"korkmas\", \"korkmas\", \"korkmas\", \"korkmas\", \"krishna\", \"krishna\", \"krishna\", \"krishna\", \"krishna\", \"krishna\", \"krishna\", \"krishna\", \"krishna\", \"krishna\", \"krishnarao\", \"krishnarao\", \"krishnarao\", \"krishnarao\", \"krishnarao\", \"krishnarao\", \"krishnarao\", \"krishnarao\", \"krishnarao\", \"krishnarao\", \"kwaanza\", \"kwaanza\", \"kwaanza\", \"kwaanza\", \"kwaanza\", \"kwaanza\", \"kwaanza\", \"kwaanza\", \"kwaanza\", \"kwaanza\", \"last20\", \"last20\", \"last20\", \"last20\", \"last20\", \"last20\", \"last20\", \"last20\", \"last20\", \"last20\", \"lciscontierastudioscom\", \"lciscontierastudioscom\", \"lciscontierastudioscom\", \"lciscontierastudioscom\", \"lciscontierastudioscom\", \"legislator\", \"legislator\", \"legislator\", \"legislator\", \"legislator\", \"legislator\", \"legislator\", \"legislator\", \"legislator\", \"legislator\", \"legislature\", \"legislature\", \"legislature\", \"legislature\", \"legislature\", \"legislature\", \"legislature\", \"legislature\", \"legislature\", \"legislature\", \"letterpdf\", \"letterpdf\", \"letterpdf\", \"letterpdf\", \"letterpdf\", \"letterpdf\", \"letterpdf\", \"letterpdf\", \"letterpdf\", \"letterpdf\", \"lines20\", \"lines20\", \"lines20\", \"lines20\", \"lines20\", \"lines20\", \"lines20\", \"lines20\", \"lines20\", \"lines20\", \"lisamellencampenroncom\", \"lisamellencampenroncom\", \"lisamellencampenroncom\", \"lisamellencampenroncom\", \"lisamellencampenroncom\", \"lisamellencampenroncom\", \"lisamellencampenroncom\", \"lisamellencampenroncom\", \"lisamellencampenroncom\", \"lisamellencampenroncom\", \"lowincome\", \"lowincome\", \"lowincome\", \"lowincome\", \"lowincome\", \"lowincome\", \"lowincome\", \"lowincome\", \"lowincome\", \"lowincome\", \"lsu\", \"lsu\", \"lsu\", \"lsu\", \"lsu\", \"lsu\", \"lsu\", \"lsu\", \"lsu\", \"lsu\", \"lu\", \"lu\", \"lu\", \"lu\", \"lu\", \"lu\", \"lu\", \"lu\", \"lu\", \"lu\", \"lucia\", \"lucia\", \"lucia\", \"lucia\", \"lucia\", \"lucia\", \"lucia\", \"lucia\", \"lucia\", \"lucia\", \"lynn\", \"lynn\", \"lynn\", \"lynn\", \"lynn\", \"lynn\", \"lynn\", \"lynn\", \"lynn\", \"lynn\", \"lysa\", \"lysa\", \"lysa\", \"lysa\", \"lysa\", \"lysa\", \"lysa\", \"lysa\", \"lysa\", \"lysa\", \"lz\", \"lz\", \"lz\", \"lz\", \"lz\", \"lz\", \"lz\", \"lz\", \"lz\", \"lz\", \"mailtoenroncentersouthtechnologyenroncom\", \"mailtoenroncentersouthtechnologyenroncom\", \"mailtoenroncentersouthtechnologyenroncom\", \"mailtoenroncentersouthtechnologyenroncom\", \"mailtoenroncentersouthtechnologyenroncom\", \"mailtoenroncentersouthtechnologyenroncom\", \"mailtoenroncentersouthtechnologyenroncom\", \"mailtoenroncentersouthtechnologyenroncom\", \"mailtoenroncentersouthtechnologyenroncom\", \"mailtoenroncentersouthtechnologyenroncom\", \"mapping\", \"mapping\", \"mapping\", \"mapping\", \"mapping\", \"mapping\", \"mapping\", \"mapping\", \"mapping\", \"mapping\", \"mara\", \"mara\", \"mara\", \"mara\", \"mara\", \"mara\", \"mara\", \"mara\", \"mara\", \"mara\", \"marketand\", \"marketand\", \"marketand\", \"marketand\", \"marketand\", \"marketand\", \"marketand\", \"marketand\", \"marketand\", \"marketand\", \"mars\", \"mars\", \"mars\", \"mars\", \"mars\", \"mars\", \"mars\", \"mars\", \"mars\", \"mars\", \"marycookenroncom\", \"marycookenroncom\", \"marycookenroncom\", \"marycookenroncom\", \"marycookenroncom\", \"marycookenroncom\", \"marycookenroncom\", \"marycookenroncom\", \"marycookenroncom\", \"marycookenroncom\", \"mathis\", \"mathis\", \"mathis\", \"mathis\", \"mathis\", \"mathis\", \"mathis\", \"mathis\", \"mathis\", \"mathis\", \"mccurley\", \"mccurley\", \"mccurley\", \"mccurley\", \"mccurley\", \"mccurley\", \"mccurley\", \"mccurley\", \"mccurley\", \"mccurley\", \"meagan\", \"meagan\", \"meagan\", \"meagan\", \"meagan\", \"meagan\", \"meagan\", \"meagan\", \"meagan\", \"meagan\", \"measurement\", \"measurement\", \"measurement\", \"measurement\", \"measurement\", \"measurement\", \"measurement\", \"measurement\", \"measurement\", \"measurement\", \"mediate\", \"mediate\", \"mediate\", \"mediate\", \"mediate\", \"mediate\", \"mediate\", \"mediate\", \"mediate\", \"mediate\", \"megawatthour\", \"megawatthour\", \"megawatthour\", \"megawatthour\", \"megawatthour\", \"megawatthour\", \"megawatthour\", \"megawatthour\", \"megawatthour\", \"megawatthour\", \"melissa\", \"melissa\", \"melissa\", \"melissa\", \"melissa\", \"melissa\", \"melissa\", \"melissa\", \"melissa\", \"melissa\", \"mellon\", \"mellon\", \"mellon\", \"mellon\", \"mellon\", \"mellon\", \"mellon\", \"mellon\", \"mellon\", \"mellon\", \"melting\", \"melting\", \"melting\", \"melting\", \"melting\", \"melting\", \"melting\", \"melting\", \"melting\", \"melting\", \"mercury\", \"mercury\", \"mercury\", \"mercury\", \"mercury\", \"mercury\", \"mercury\", \"mercury\", \"mercury\", \"mercury\", \"messinahoueesees\", \"messinahoueesees\", \"messinahoueesees\", \"messinahoueesees\", \"messinahoueesees\", \"messinahoueesees\", \"messinahoueesees\", \"messinahoueesees\", \"messinahoueesees\", \"messinahoueesees\", \"midbackoffice\", \"midbackoffice\", \"midbackoffice\", \"midbackoffice\", \"midbackoffice\", \"midbackoffice\", \"midbackoffice\", \"midbackoffice\", \"midbackoffice\", \"midbackoffice\", \"midfebruary\", \"midfebruary\", \"midfebruary\", \"midfebruary\", \"midfebruary\", \"midfebruary\", \"midfebruary\", \"midfebruary\", \"midfebruary\", \"midfebruary\", \"million20\", \"million20\", \"million20\", \"million20\", \"million20\", \"million20\", \"million20\", \"million20\", \"million20\", \"million20\", \"miso\", \"miso\", \"miso\", \"miso\", \"miso\", \"miso\", \"miso\", \"miso\", \"miso\", \"miso\", \"mitigation\", \"mitigation\", \"mitigation\", \"mitigation\", \"mitigation\", \"mitigation\", \"mitigation\", \"mitigation\", \"mitigation\", \"mitigation\", \"mmbtu\", \"mmbtu\", \"mmbtu\", \"mmbtu\", \"mmbtu\", \"mmbtu\", \"mmbtu\", \"mmbtu\", \"mmbtu\", \"mmbtu\", \"mmbtus\", \"mmbtus\", \"mmbtus\", \"mmbtus\", \"mmbtus\", \"mmbtus\", \"mmbtus\", \"mmbtus\", \"mmbtus\", \"mmbtus\", \"modeling\", \"modeling\", \"modeling\", \"modeling\", \"modeling\", \"modeling\", \"modeling\", \"modeling\", \"modeling\", \"modeling\", \"molly\", \"molly\", \"molly\", \"molly\", \"molly\", \"molly\", \"molly\", \"molly\", \"molly\", \"molly\", \"mops\", \"mops\", \"mops\", \"mops\", \"mops\", \"mops\", \"mops\", \"mops\", \"mops\", \"mops\", \"more20\", \"more20\", \"more20\", \"more20\", \"more20\", \"more20\", \"more20\", \"more20\", \"more20\", \"more20\", \"mou\", \"mou\", \"mou\", \"mou\", \"mou\", \"mou\", \"mou\", \"mou\", \"mou\", \"mou\", \"mrha\", \"mrha\", \"mrha\", \"mrha\", \"mrha\", \"mrha\", \"mrha\", \"mrha\", \"mrha\", \"mrha\", \"mtbe\", \"mtbe\", \"mtbe\", \"mtbe\", \"mtbe\", \"mtbe\", \"mtbe\", \"mtbe\", \"mtbe\", \"mtbe\", \"mtd\", \"mtd\", \"mtd\", \"mtd\", \"mtd\", \"mtd\", \"mtd\", \"mtd\", \"mtd\", \"mtd\", \"municipal\", \"municipal\", \"municipal\", \"municipal\", \"municipal\", \"municipal\", \"municipal\", \"municipal\", \"municipal\", \"municipal\", \"mwh\", \"mwh\", \"mwh\", \"mwh\", \"mwh\", \"mwh\", \"mwh\", \"mwh\", \"mwh\", \"mwh\", \"mwhs\", \"mwhs\", \"mwhs\", \"mwhs\", \"mwhs\", \"mwhs\", \"mwhs\", \"mwhs\", \"mwhs\", \"mwhs\", \"nathlonectect\", \"nathlonectect\", \"nathlonectect\", \"nathlonectect\", \"nathlonectect\", \"nathlonectect\", \"nathlonectect\", \"nathlonectect\", \"nathlonectect\", \"nathlonectect\", \"nda\", \"nda\", \"nda\", \"nda\", \"nda\", \"nda\", \"nda\", \"nda\", \"nda\", \"nda\", \"ndas\", \"ndas\", \"ndas\", \"ndas\", \"ndas\", \"ndas\", \"ndas\", \"ndas\", \"ndas\", \"ndas\", \"nearcertain\", \"nearcertain\", \"nearcertain\", \"nearcertain\", \"nearcertain\", \"nearcertain\", \"nearcertain\", \"nearcertain\", \"nearcertain\", \"nearcertain\", \"nec\", \"nec\", \"nec\", \"nec\", \"nec\", \"nec\", \"nec\", \"nec\", \"nec\", \"nec\", \"neiso\", \"neiso\", \"neiso\", \"neiso\", \"neiso\", \"neiso\", \"neiso\", \"neiso\", \"neiso\", \"neiso\", \"netco\", \"netco\", \"netco\", \"netco\", \"netco\", \"netco\", \"netco\", \"netco\", \"netco\", \"netco\", \"networkstechnology\", \"networkstechnology\", \"networkstechnology\", \"networkstechnology\", \"networkstechnology\", \"networkstechnology\", \"networkstechnology\", \"networkstechnology\", \"networkstechnology\", \"networkstechnology\", \"nevada\", \"nevada\", \"nevada\", \"nevada\", \"nevada\", \"nevada\", \"nevada\", \"nevada\", \"nevada\", \"nevada\", \"newsmaker\", \"newsmaker\", \"newsmaker\", \"newsmaker\", \"newsmaker\", \"newsmaker\", \"newsmaker\", \"newsmaker\", \"newsmaker\", \"newsmaker\", \"niamh\", \"niamh\", \"niamh\", \"niamh\", \"niamh\", \"niamh\", \"niamh\", \"niamh\", \"niamh\", \"niamh\", \"nng\", \"nng\", \"nng\", \"nng\", \"nng\", \"nng\", \"nng\", \"nng\", \"nng\", \"nng\", \"noc\", \"noc\", \"noc\", \"noc\", \"noc\", \"noc\", \"noc\", \"noc\", \"noc\", \"noc\", \"noneol\", \"noneol\", \"noneol\", \"noneol\", \"noneol\", \"noneol\", \"noneol\", \"noneol\", \"noneol\", \"noneol\", \"nonsolicit\", \"nonsolicit\", \"nonsolicit\", \"nonsolicit\", \"nonsolicit\", \"nonsolicit\", \"nonsolicit\", \"nonsolicit\", \"nonsolicit\", \"norateincrease\", \"norateincrease\", \"norateincrease\", \"norateincrease\", \"norateincrease\", \"norateincrease\", \"norateincrease\", \"norateincrease\", \"norateincrease\", \"norateincrease\", \"northeast\", \"northeast\", \"northeast\", \"northeast\", \"northeast\", \"northeast\", \"northeast\", \"northeast\", \"northeast\", \"northeast\", \"nox\", \"nox\", \"nox\", \"nox\", \"nox\", \"nox\", \"nox\", \"nox\", \"nox\", \"nox\", \"nyme\", \"nyme\", \"nyme\", \"nyme\", \"nyme\", \"nyme\", \"nyme\", \"nyme\", \"nyme\", \"nyme\", \"offered\", \"offered\", \"offered\", \"offered\", \"offered\", \"offered\", \"offered\", \"offered\", \"offered\", \"offered\", \"offline\", \"offline\", \"offline\", \"offline\", \"offline\", \"offline\", \"offline\", \"offline\", \"offline\", \"offline\", \"ombined\", \"ombined\", \"ombined\", \"ombined\", \"ombined\", \"ombined\", \"ombined\", \"ombined\", \"ombined\", \"ombined\", \"oneill\", \"oneill\", \"oneill\", \"oneill\", \"oneill\", \"oneill\", \"oneill\", \"oneill\", \"oneill\", \"oneill\", \"oneok\", \"oneok\", \"oneok\", \"oneok\", \"oneok\", \"oneok\", \"oneok\", \"oneok\", \"oneok\", \"oneok\", \"orange\", \"orange\", \"orange\", \"orange\", \"orange\", \"orange\", \"orange\", \"orange\", \"orange\", \"orange\", \"originator\", \"originator\", \"originator\", \"originator\", \"originator\", \"originator\", \"originator\", \"originator\", \"originator\", \"originator\", \"overcharge\", \"overcharge\", \"overcharge\", \"overcharge\", \"overcharge\", \"overcharge\", \"overcharge\", \"overcharge\", \"overcharge\", \"overcharge\", \"owa\", \"owa\", \"owa\", \"owa\", \"owa\", \"owa\", \"owa\", \"owa\", \"owa\", \"owa\", \"oxy\", \"oxy\", \"oxy\", \"oxy\", \"oxy\", \"oxy\", \"oxy\", \"oxy\", \"oxy\", \"oxy\", \"pacifics\", \"pacifics\", \"pacifics\", \"pacifics\", \"pacifics\", \"pacifics\", \"pacifics\", \"pacifics\", \"pacifics\", \"pacifics\", \"palo\", \"palo\", \"palo\", \"palo\", \"palo\", \"palo\", \"palo\", \"palo\", \"palo\", \"palo\", \"panda\", \"panda\", \"panda\", \"panda\", \"panda\", \"panda\", \"panda\", \"panda\", \"panda\", \"panda\", \"panhandle\", \"panhandle\", \"panhandle\", \"panhandle\", \"panhandle\", \"panhandle\", \"panhandle\", \"panhandle\", \"panhandle\", \"panhandle\", \"paradise\", \"paradise\", \"paradise\", \"paradise\", \"paradise\", \"partisan\", \"partisan\", \"partisan\", \"partisan\", \"partisan\", \"partisan\", \"partisan\", \"partisan\", \"partisan\", \"partisan\", \"passage\", \"passage\", \"passage\", \"passage\", \"passage\", \"passage\", \"passage\", \"passage\", \"passage\", \"passage\", \"peev\", \"peev\", \"peev\", \"peev\", \"peev\", \"peev\", \"peev\", \"peev\", \"peev\", \"peev\", \"peevey\", \"peevey\", \"peevey\", \"peevey\", \"peevey\", \"peevey\", \"peevey\", \"peevey\", \"peevey\", \"peevey\", \"peggymccurleyenroncom\", \"peggymccurleyenroncom\", \"peggymccurleyenroncom\", \"peggymccurleyenroncom\", \"peggymccurleyenroncom\", \"peggymccurleyenroncom\", \"peggymccurleyenroncom\", \"peggymccurleyenroncom\", \"peggymccurleyenroncom\", \"peggymccurleyenroncom\", \"petitions\", \"petitions\", \"petitions\", \"petitions\", \"petitions\", \"petitions\", \"petitions\", \"petitions\", \"petitions\", \"petitions\", \"pettewaydavid\", \"pettewaydavid\", \"pettewaydavid\", \"pettewaydavid\", \"pettewaydavid\", \"pettewaydavid\", \"pettewaydavid\", \"pettewaydavid\", \"pettewaydavid\", \"pettewaydavid\", \"phd\", \"phd\", \"phd\", \"phd\", \"phd\", \"phd\", \"phd\", \"phd\", \"phd\", \"phd\", \"philippe\", \"philippe\", \"philippe\", \"philippe\", \"philippe\", \"philippe\", \"philippe\", \"philippe\", \"philippe\", \"philippe\", \"philly\", \"philly\", \"philly\", \"philly\", \"philly\", \"philly\", \"philly\", \"philly\", \"philly\", \"philly\", \"piazze\", \"piazze\", \"piazze\", \"piazze\", \"piazze\", \"piazze\", \"piazze\", \"piazze\", \"piazze\", \"piazze\", \"pjm\", \"pjm\", \"pjm\", \"pjm\", \"pjm\", \"pjm\", \"pjm\", \"pjm\", \"pjm\", \"pjm\", \"plants20\", \"plants20\", \"plants20\", \"plants20\", \"plants20\", \"plants20\", \"plants20\", \"plants20\", \"plants20\", \"plants20\", \"plc20\", \"plc20\", \"plc20\", \"plc20\", \"plc20\", \"plc20\", \"plc20\", \"plc20\", \"plc20\", \"plc20\", \"poi\", \"poi\", \"poi\", \"poi\", \"poi\", \"poi\", \"poi\", \"poi\", \"poi\", \"poi\", \"policy20\", \"policy20\", \"policy20\", \"policy20\", \"policy20\", \"policy20\", \"policy20\", \"policy20\", \"policy20\", \"policy20\", \"poll\", \"poll\", \"poll\", \"poll\", \"poll\", \"poll\", \"poll\", \"poll\", \"poll\", \"poll\", \"portal\", \"portal\", \"portal\", \"portal\", \"portal\", \"portal\", \"portal\", \"portal\", \"portal\", \"portal\", \"posadas\", \"posadas\", \"posadas\", \"posadas\", \"posadas\", \"posadas\", \"posadas\", \"posadas\", \"posadas\", \"posadas\", \"pound\", \"pound\", \"pound\", \"pound\", \"pound\", \"pound\", \"pound\", \"pound\", \"pound\", \"pound\", \"precede\", \"precede\", \"precede\", \"precede\", \"precede\", \"precede\", \"precede\", \"precede\", \"precede\", \"precede\", \"prescheduled\", \"prescheduled\", \"prescheduled\", \"prescheduled\", \"prescheduled\", \"prescheduled\", \"prescheduled\", \"prescheduled\", \"prescheduled\", \"prescheduled\", \"prices20\", \"prices20\", \"prices20\", \"prices20\", \"prices20\", \"prices20\", \"prices20\", \"prices20\", \"prices20\", \"prices20\", \"producing\", \"producing\", \"producing\", \"producing\", \"producing\", \"producing\", \"producing\", \"producing\", \"producing\", \"producing\", \"prohibition\", \"prohibition\", \"prohibition\", \"prohibition\", \"prohibition\", \"prohibition\", \"prohibition\", \"prohibition\", \"prohibition\", \"prohibition\", \"propriety\", \"propriety\", \"propriety\", \"propriety\", \"propriety\", \"propriety\", \"propriety\", \"propriety\", \"propriety\", \"propriety\", \"pwc\", \"pwc\", \"pwc\", \"pwc\", \"pwc\", \"pwc\", \"pwc\", \"pwc\", \"pwc\", \"pwc\", \"px\", \"px\", \"px\", \"px\", \"px\", \"px\", \"px\", \"px\", \"px\", \"px\", \"questionaire\", \"questionaire\", \"questionaire\", \"questionaire\", \"questionaire\", \"questionaire\", \"questionaire\", \"questionaire\", \"questionaire\", \"questionsanswers\", \"questionsanswers\", \"questionsanswers\", \"questionsanswers\", \"questionsanswers\", \"questionsanswers\", \"questionsanswers\", \"questionsanswers\", \"questionsanswers\", \"questionsanswers\", \"ramadan\", \"ramadan\", \"ramadan\", \"ramadan\", \"ramadan\", \"ramadan\", \"ramadan\", \"ramadan\", \"ramadan\", \"ramadan\", \"ratepayer\", \"ratepayer\", \"ratepayer\", \"ratepayer\", \"ratepayer\", \"ratepayer\", \"ratepayer\", \"ratepayer\", \"ratepayer\", \"ratepayer\", \"ravi\", \"ravi\", \"ravi\", \"ravi\", \"ravi\", \"ravi\", \"ravi\", \"ravi\", \"ravi\", \"ravi\", \"re20\", \"re20\", \"re20\", \"re20\", \"re20\", \"re20\", \"re20\", \"re20\", \"re20\", \"re20\", \"reactor\", \"reactor\", \"reactor\", \"reactor\", \"reactor\", \"reactor\", \"reactor\", \"reactor\", \"reactor\", \"reactor\", \"reaffirmation\", \"reaffirmation\", \"reaffirmation\", \"reaffirmation\", \"reaffirmation\", \"reaffirmation\", \"reaffirmation\", \"reaffirmation\", \"reaffirmation\", \"reaffirmation\", \"rebate\", \"rebate\", \"rebate\", \"rebate\", \"rebate\", \"rebate\", \"rebate\", \"rebate\", \"rebate\", \"rebate\", \"rebeccasmithwsjcom\", \"rebeccasmithwsjcom\", \"rebeccasmithwsjcom\", \"rebeccasmithwsjcom\", \"rebeccasmithwsjcom\", \"rebeccasmithwsjcom\", \"rebeccasmithwsjcom\", \"rebeccasmithwsjcom\", \"rebeccasmithwsjcom\", \"relationshipthat\", \"relationshipthat\", \"relationshipthat\", \"relationshipthat\", \"relationshipthat\", \"relationshipthat\", \"relationshipthat\", \"relationshipthat\", \"relationshipthat\", \"relationshipthat\", \"reliability\", \"reliability\", \"reliability\", \"reliability\", \"reliability\", \"reliability\", \"reliability\", \"reliability\", \"reliability\", \"reliability\", \"remittance\", \"remittance\", \"remittance\", \"remittance\", \"remittance\", \"remittance\", \"remittance\", \"remittance\", \"remittance\", \"remittance\", \"renewable\", \"renewable\", \"renewable\", \"renewable\", \"renewable\", \"renewable\", \"renewable\", \"renewable\", \"renewable\", \"renewable\", \"republicans\", \"republicans\", \"republicans\", \"republicans\", \"republicans\", \"republicans\", \"republicans\", \"republicans\", \"republicans\", \"republicans\", \"resco\", \"resco\", \"resco\", \"resco\", \"resco\", \"resco\", \"resco\", \"resco\", \"resco\", \"resco\", \"responsibilty\", \"responsibilty\", \"responsibilty\", \"responsibilty\", \"responsibilty\", \"responsibilty\", \"responsibilty\", \"responsibilty\", \"responsibilty\", \"responsibilty\", \"retroactive\", \"retroactive\", \"retroactive\", \"retroactive\", \"retroactive\", \"retroactive\", \"retroactive\", \"retroactive\", \"retroactive\", \"retroactive\", \"reviewcomment\", \"reviewcomment\", \"reviewcomment\", \"reviewcomment\", \"reviewcomment\", \"reviewcomment\", \"reviewcomment\", \"reviewcomment\", \"reviewcomment\", \"reviewcomment\", \"rexs\", \"rexs\", \"rexs\", \"rexs\", \"rexs\", \"rexs\", \"rexs\", \"rexs\", \"rexs\", \"rockies\", \"rockies\", \"rockies\", \"rockies\", \"rockies\", \"rockies\", \"rockies\", \"rockies\", \"rockies\", \"rockies\", \"roleplay\", \"roleplay\", \"roleplay\", \"roleplay\", \"roleplay\", \"roleplay\", \"roleplay\", \"roleplay\", \"roleplay\", \"roleplay\", \"rouge\", \"rouge\", \"rouge\", \"rouge\", \"rouge\", \"rouge\", \"rouge\", \"rouge\", \"rouge\", \"rouge\", \"rto\", \"rto\", \"rto\", \"rto\", \"rto\", \"rto\", \"rto\", \"rto\", \"rto\", \"rto\", \"rtos\", \"rtos\", \"rtos\", \"rtos\", \"rtos\", \"rtos\", \"rtos\", \"rtos\", \"rtos\", \"rtos\", \"ruffer\", \"ruffer\", \"ruffer\", \"ruffer\", \"ruffer\", \"ruffer\", \"ruffer\", \"ruffer\", \"ruffer\", \"ruffer\", \"sac\", \"sac\", \"sac\", \"sac\", \"sac\", \"sac\", \"sac\", \"sac\", \"sac\", \"sac\", \"sacramento20\", \"sacramento20\", \"sacramento20\", \"sacramento20\", \"sacramento20\", \"sacramento20\", \"sacramento20\", \"sacramento20\", \"sacramento20\", \"sacramento20\", \"said20\", \"said20\", \"said20\", \"said20\", \"said20\", \"said20\", \"said20\", \"said20\", \"said20\", \"said20\", \"sami\", \"sami\", \"sami\", \"sami\", \"sami\", \"sami\", \"sami\", \"sami\", \"sami\", \"sami\", \"sanctuary\", \"sanctuary\", \"sanctuary\", \"sanctuary\", \"sanctuary\", \"sanctuary\", \"sanctuary\", \"sanctuary\", \"sanctuary\", \"sanctuary\", \"santucci\", \"santucci\", \"santucci\", \"santucci\", \"santucci\", \"santucci\", \"santucci\", \"santucci\", \"sarko\", \"sarko\", \"sarko\", \"sarko\", \"sarko\", \"sarko\", \"sarko\", \"sarko\", \"sarko\", \"sarko\", \"saudi\", \"saudi\", \"saudi\", \"saudi\", \"saudi\", \"saudi\", \"saudi\", \"saudi\", \"saudi\", \"saudi\", \"sb\", \"sb\", \"sb\", \"sb\", \"sb\", \"sb\", \"sb\", \"sb\", \"sb\", \"sb\", \"sce\", \"sce\", \"sce\", \"sce\", \"sce\", \"sce\", \"sce\", \"sce\", \"sce\", \"sce\", \"sdge\", \"sdge\", \"sdge\", \"sdge\", \"sdge\", \"sdge\", \"sdge\", \"sdge\", \"sdge\", \"sdge\", \"seclp\", \"seclp\", \"seclp\", \"seclp\", \"seclp\", \"seclp\", \"seclp\", \"seclp\", \"seclp\", \"seclp\", \"semihibernation\", \"semihibernation\", \"semihibernation\", \"semihibernation\", \"semihibernation\", \"semihibernation\", \"semihibernation\", \"semihibernation\", \"semihibernation\", \"semihibernation\", \"sf\", \"sf\", \"sf\", \"sf\", \"sf\", \"sf\", \"sf\", \"sf\", \"sf\", \"sf\", \"shankmanhouectect\", \"shankmanhouectect\", \"shankmanhouectect\", \"shankmanhouectect\", \"shankmanhouectect\", \"shankmanhouectect\", \"shankmanhouectect\", \"shankmanhouectect\", \"shankmanhouectect\", \"shankmanhouectect\", \"shelbys\", \"shelbys\", \"shelbys\", \"shelbys\", \"shelbys\", \"shelbys\", \"shelbys\", \"shelbys\", \"shelbys\", \"shelbys\", \"sheri\", \"sheri\", \"sheri\", \"sheri\", \"sheri\", \"sheri\", \"sheri\", \"sheri\", \"sheri\", \"sheri\", \"sheridan\", \"sheridan\", \"sheridan\", \"sheridan\", \"sheridan\", \"sheridan\", \"sheridan\", \"sheridan\", \"sheridan\", \"sheridan\", \"shipper\", \"shipper\", \"shipper\", \"shipper\", \"shipper\", \"shipper\", \"shipper\", \"shipper\", \"shipper\", \"shipper\", \"shmuel\", \"shmuel\", \"shmuel\", \"shmuel\", \"shmuel\", \"shmuel\", \"shmuel\", \"shmuel\", \"shmuel\", \"shmuel\", \"shonnie\", \"shonnie\", \"shonnie\", \"shonnie\", \"shonnie\", \"shonnie\", \"shonnie\", \"shonnie\", \"shonnie\", \"shonnie\", \"shu\", \"shu\", \"shu\", \"shu\", \"shu\", \"shu\", \"shu\", \"shu\", \"shu\", \"shu\", \"similarly\", \"similarly\", \"similarly\", \"similarly\", \"similarly\", \"similarly\", \"similarly\", \"similarly\", \"similarly\", \"similarly\", \"simulation\", \"simulation\", \"simulation\", \"simulation\", \"simulation\", \"simulation\", \"simulation\", \"simulation\", \"simulation\", \"simulation\", \"ski\", \"ski\", \"ski\", \"ski\", \"ski\", \"ski\", \"ski\", \"ski\", \"ski\", \"ski\", \"soareshouectect\", \"soareshouectect\", \"soareshouectect\", \"soareshouectect\", \"soareshouectect\", \"soareshouectect\", \"soareshouectect\", \"soareshouectect\", \"soareshouectect\", \"soareshouectect\", \"solar\", \"solar\", \"solar\", \"solar\", \"solar\", \"solar\", \"solar\", \"solar\", \"solar\", \"solar\", \"sp15\", \"sp15\", \"sp15\", \"sp15\", \"sp15\", \"sp15\", \"sp15\", \"sp15\", \"sp15\", \"sp15\", \"spanishspeakers\", \"spanishspeakers\", \"spanishspeakers\", \"spanishspeakers\", \"spanishspeakers\", \"spanishspeakers\", \"spanishspeakers\", \"spanishspeakers\", \"spanishspeakers\", \"spanishspeakers\", \"spike\", \"spike\", \"spike\", \"spike\", \"spike\", \"spike\", \"spike\", \"spike\", \"spike\", \"spike\", \"spotlight\", \"spotlight\", \"spotlight\", \"spotlight\", \"spotlight\", \"spotlight\", \"spotlight\", \"spotlight\", \"spotlight\", \"spotlight\", \"sta\", \"sta\", \"sta\", \"sta\", \"sta\", \"sta\", \"sta\", \"sta\", \"sta\", \"sta\", \"standalone\", \"standalone\", \"standalone\", \"standalone\", \"standalone\", \"standalone\", \"standalone\", \"standalone\", \"standalone\", \"standalone\", \"state20\", \"state20\", \"state20\", \"state20\", \"state20\", \"state20\", \"state20\", \"state20\", \"state20\", \"state20\", \"statewide\", \"statewide\", \"statewide\", \"statewide\", \"statewide\", \"statewide\", \"statewide\", \"statewide\", \"statewide\", \"statewide\", \"stentophon\", \"stentophon\", \"stentophon\", \"stentophon\", \"stentophon\", \"stentophon\", \"stentophon\", \"stentophon\", \"stentophon\", \"stentophon\", \"stinson\", \"stinson\", \"stinson\", \"stinson\", \"stinson\", \"stinson\", \"stinson\", \"stinson\", \"stinson\", \"stinson\", \"summery\", \"summery\", \"summery\", \"summery\", \"summery\", \"summery\", \"summery\", \"summery\", \"summery\", \"summery\", \"sundeees\", \"sundeees\", \"sundeees\", \"sundeees\", \"sundeees\", \"sundeees\", \"sundeees\", \"sundeees\", \"sundeees\", \"sundeees\", \"sungard\", \"sungard\", \"sungard\", \"sungard\", \"sungard\", \"sungard\", \"sungard\", \"sungard\", \"sungard\", \"sungard\", \"suppliercreditors\", \"suppliercreditors\", \"suppliercreditors\", \"suppliercreditors\", \"suppliercreditors\", \"suppliercreditors\", \"suppliercreditors\", \"suppliercreditors\", \"suppliercreditors\", \"suppliercreditors\", \"supposed\", \"supposed\", \"supposed\", \"supposed\", \"supposed\", \"supposed\", \"supposed\", \"supposed\", \"supposed\", \"supposed\", \"surbeylonectect\", \"surbeylonectect\", \"surbeylonectect\", \"surbeylonectect\", \"surbeylonectect\", \"surbeylonectect\", \"surbeylonectect\", \"surbeylonectect\", \"surbeylonectect\", \"surbeylonectect\", \"surcharge\", \"surcharge\", \"surcharge\", \"surcharge\", \"surcharge\", \"surcharge\", \"surcharge\", \"surcharge\", \"surcharge\", \"surcharge\", \"suspension\", \"suspension\", \"suspension\", \"suspension\", \"suspension\", \"suspension\", \"suspension\", \"suspension\", \"suspension\", \"suspension\", \"sysco\", \"sysco\", \"sysco\", \"sysco\", \"sysco\", \"sysco\", \"sysco\", \"sysco\", \"sysco\", \"sysco\", \"tamarchenko\", \"tamarchenko\", \"tamarchenko\", \"tamarchenko\", \"tamarchenko\", \"tamarchenko\", \"tamarchenko\", \"tamarchenko\", \"tamarchenko\", \"tamarchenko\", \"tanya\", \"tanya\", \"tanya\", \"tanya\", \"tanya\", \"tanya\", \"tanya\", \"tanya\", \"tanya\", \"tanya\", \"taylorhouectect\", \"taylorhouectect\", \"taylorhouectect\", \"taylorhouectect\", \"taylorhouectect\", \"taylorhouectect\", \"taylorhouectect\", \"taylorhouectect\", \"taylorhouectect\", \"taylorhouectect\", \"thrashing\", \"thrashing\", \"thrashing\", \"thrashing\", \"thrashing\", \"thrashing\", \"thrashing\", \"thrashing\", \"thrashing\", \"thrashing\", \"thurs\", \"thurs\", \"thurs\", \"thurs\", \"thurs\", \"thurs\", \"thurs\", \"thurs\", \"thurs\", \"thurs\", \"tickets\", \"tickets\", \"tickets\", \"tickets\", \"tickets\", \"tickets\", \"tickets\", \"tickets\", \"tickets\", \"tickets\", \"tickle\", \"tickle\", \"tickle\", \"tickle\", \"tickle\", \"tickle\", \"tickle\", \"tickle\", \"tickle\", \"tickle\", \"tlrs\", \"tlrs\", \"tlrs\", \"tlrs\", \"tlrs\", \"tlrs\", \"tlrs\", \"tlrs\", \"tlrs\", \"tlrs\", \"tradedata\", \"tradedata\", \"tradedata\", \"tradedata\", \"tradedata\", \"tradedata\", \"tradedata\", \"tradedata\", \"tradedata\", \"tradedata\", \"trailing\", \"trailing\", \"trailing\", \"trailing\", \"trailing\", \"trailing\", \"trailing\", \"trailing\", \"trailing\", \"trailing\", \"trans\", \"trans\", \"trans\", \"trans\", \"trans\", \"trans\", \"trans\", \"trans\", \"trans\", \"trans\", \"transferring\", \"transferring\", \"transferring\", \"transferring\", \"transferring\", \"transferring\", \"transferring\", \"transferring\", \"transferring\", \"transferring\", \"ttc\", \"ttc\", \"ttc\", \"ttc\", \"ttc\", \"ttc\", \"ttc\", \"ttc\", \"ttc\", \"ttc\", \"tues\", \"tues\", \"tues\", \"tues\", \"tues\", \"tues\", \"tues\", \"tues\", \"tues\", \"tues\", \"turret\", \"turret\", \"turret\", \"turret\", \"turret\", \"turret\", \"turret\", \"turret\", \"turret\", \"turret\", \"tva\", \"tva\", \"tva\", \"tva\", \"tva\", \"tva\", \"tva\", \"tva\", \"tva\", \"tva\", \"tw\", \"tw\", \"tw\", \"tw\", \"tw\", \"tw\", \"tw\", \"tw\", \"tw\", \"tw\", \"twothirds\", \"twothirds\", \"twothirds\", \"twothirds\", \"twothirds\", \"twothirds\", \"twothirds\", \"twothirds\", \"twothirds\", \"twothirds\", \"u172804dtl\", \"u172804dtl\", \"u172804dtl\", \"u172804dtl\", \"u172804dtl\", \"u172804dtl\", \"u172804dtl\", \"u172804dtl\", \"u172804dtl\", \"u172804dtl\", \"ubsw\", \"ubsw\", \"ubsw\", \"ubsw\", \"ubsw\", \"ubsw\", \"ubsw\", \"ubsw\", \"ubsw\", \"ubsw\", \"upheaval\", \"upheaval\", \"upheaval\", \"upheaval\", \"upheaval\", \"upheaval\", \"upheaval\", \"upheaval\", \"upheaval\", \"upheaval\", \"upto\", \"upto\", \"upto\", \"upto\", \"upto\", \"upto\", \"upto\", \"upto\", \"upto\", \"upto\", \"url20\", \"url20\", \"url20\", \"url20\", \"url20\", \"url20\", \"url20\", \"url20\", \"url20\", \"url20\", \"ut20\", \"ut20\", \"ut20\", \"ut20\", \"ut20\", \"ut20\", \"ut20\", \"ut20\", \"ut20\", \"ut20\", \"utah\", \"utah\", \"utah\", \"utah\", \"utah\", \"utah\", \"utah\", \"utah\", \"utah\", \"utah\", \"utilitys\", \"utilitys\", \"utilitys\", \"utilitys\", \"utilitys\", \"utilitys\", \"utilitys\", \"utilitys\", \"utilitys\", \"utilitys\", \"valley\", \"valley\", \"valley\", \"valley\", \"valley\", \"valley\", \"valley\", \"valley\", \"valley\", \"valley\", \"vasant\", \"vasant\", \"vasant\", \"vasant\", \"vasant\", \"vasant\", \"vasant\", \"vasant\", \"vasant\", \"vasant\", \"ve20\", \"ve20\", \"ve20\", \"ve20\", \"ve20\", \"ve20\", \"ve20\", \"ve20\", \"ve20\", \"ve20\", \"veronica\", \"veronica\", \"veronica\", \"veronica\", \"veronica\", \"veronica\", \"veronica\", \"veronica\", \"veronica\", \"veronica\", \"vicki\", \"vicki\", \"vicki\", \"vicki\", \"vicki\", \"vicki\", \"vicki\", \"vicki\", \"vicki\", \"vicki\", \"vincent\", \"vincent\", \"vincent\", \"vincent\", \"vincent\", \"vincent\", \"vincent\", \"vincent\", \"vincent\", \"vincent\", \"vius\", \"vius\", \"vius\", \"vius\", \"vius\", \"vius\", \"vius\", \"vius\", \"vius\", \"vius\", \"vol\", \"vol\", \"vol\", \"vol\", \"vol\", \"vol\", \"vol\", \"vol\", \"vol\", \"vol\", \"vv\", \"vv\", \"vv\", \"vv\", \"vv\", \"vv\", \"vv\", \"vv\", \"vv\", \"vv\", \"wagner\", \"wagner\", \"wagner\", \"wagner\", \"wagner\", \"wagner\", \"wagner\", \"wagner\", \"wagner\", \"wagner\", \"waiter\", \"waiter\", \"waiter\", \"waiter\", \"waiter\", \"waiter\", \"waiter\", \"waiter\", \"waiter\", \"waiter\", \"walls\", \"walls\", \"walls\", \"walls\", \"walls\", \"walls\", \"walls\", \"walls\", \"walls\", \"walls\", \"walters\", \"walters\", \"walters\", \"walters\", \"walters\", \"walters\", \"walters\", \"walters\", \"walters\", \"walters\", \"warburg\", \"warburg\", \"warburg\", \"warburg\", \"warburg\", \"warburg\", \"warburg\", \"warburg\", \"warburg\", \"warburg\", \"warning\", \"warning\", \"warning\", \"warning\", \"warning\", \"warning\", \"warning\", \"warning\", \"warning\", \"warning\", \"warwick\", \"warwick\", \"warwick\", \"warwick\", \"warwick\", \"warwick\", \"warwick\", \"warwick\", \"warwick\", \"warwick\", \"watchlist\", \"watchlist\", \"watchlist\", \"watchlist\", \"watchlist\", \"watchlist\", \"watchlist\", \"watchlist\", \"watchlist\", \"watchlist\", \"wayby\", \"wayby\", \"wayby\", \"wayby\", \"wayby\", \"wayby\", \"wayby\", \"wayby\", \"wayby\", \"wayby\", \"wellplanned\", \"wellplanned\", \"wellplanned\", \"wellplanned\", \"wellplanned\", \"wellplanned\", \"wellplanned\", \"wellplanned\", \"westcentral\", \"westcentral\", \"westcentral\", \"westcentral\", \"westcentral\", \"westcentral\", \"westcentral\", \"westcentral\", \"westcentral\", \"westcentral\", \"wharton\", \"wharton\", \"wharton\", \"wharton\", \"wharton\", \"wharton\", \"wharton\", \"wharton\", \"wharton\", \"wharton\", \"wheatley\", \"wheatley\", \"wheatley\", \"wheatley\", \"wheatley\", \"wheatley\", \"wheatley\", \"wheatley\", \"wheatley\", \"wheatley\", \"whoz\", \"whoz\", \"whoz\", \"whoz\", \"whoz\", \"whoz\", \"whoz\", \"whoz\", \"whoz\", \"whoz\", \"wise\", \"wise\", \"wise\", \"wise\", \"wise\", \"wise\", \"wise\", \"wise\", \"wise\", \"wise\", \"workforce\", \"workforce\", \"workforce\", \"workforce\", \"workforce\", \"workforce\", \"workforce\", \"workforce\", \"workforce\", \"workforce\", \"wreckage\", \"wreckage\", \"wreckage\", \"wreckage\", \"wreckage\", \"wreckage\", \"wreckage\", \"wreckage\", \"wreckage\", \"wreckage\", \"wsj\", \"wsj\", \"wsj\", \"wsj\", \"wsj\", \"wsj\", \"wsj\", \"wsj\", \"wsj\", \"wsj\", \"x31670\", \"x31670\", \"x31670\", \"x31670\", \"x31670\", \"x31670\", \"x31670\", \"x31670\", \"x31670\", \"x31670\", \"x31789\", \"x31789\", \"x31789\", \"x31789\", \"x31789\", \"x31789\", \"x31789\", \"x31789\", \"x31789\", \"x31789\", \"x31803\", \"x31803\", \"x31803\", \"x31803\", \"x31803\", \"x31803\", \"x31803\", \"x31803\", \"x31803\", \"x31803\", \"x33831\", \"x33831\", \"x33831\", \"x33831\", \"x33831\", \"x33831\", \"x33831\", \"x33831\", \"x33831\", \"x33831\", \"x35202\", \"x35202\", \"x35202\", \"x35202\", \"x35202\", \"x35202\", \"x35202\", \"x35202\", \"x35202\", \"x35202\", \"x37408\", \"x37408\", \"x37408\", \"x37408\", \"x37408\", \"x37408\", \"x37408\", \"x37408\", \"x37408\", \"x37408\", \"x39897\", \"x39897\", \"x39897\", \"x39897\", \"x39897\", \"x39897\", \"x39897\", \"x39897\", \"x39897\", \"x39897\", \"x54877\", \"x54877\", \"x54877\", \"x54877\", \"x54877\", \"x54877\", \"x54877\", \"x54877\", \"x54877\", \"x54877\", \"x66002\", \"x66002\", \"x66002\", \"x66002\", \"x66002\", \"x66002\", \"x66002\", \"x66002\", \"x66002\", \"x66002\", \"zikes\", \"zikes\", \"zikes\", \"zikes\", \"zikes\", \"zikes\", \"zikes\", \"zikes\", \"zikes\", \"zikes\", \"zimin\", \"zimin\", \"zimin\", \"zimin\", \"zimin\", \"zimin\", \"zimin\", \"zimin\", \"zimin\", \"zimin\"]}, \"mdsDat\": {\"y\": [0.0025543834352450717, 0.00025505188766489537, 0.00059592456489438491, -0.0067236986764214919, -0.0041477446227880825, 0.0026617033372425014, 0.0037177887116629088, -0.0028161070702490856, 0.0027311404001818685, 0.0011715580325670225], \"cluster\": [1, 1, 1, 1, 1, 1, 1, 1, 1, 1], \"Freq\": [18.82522472630933, 16.990258110911274, 13.43263856272478, 10.781691885425678, 9.6807717502081161, 9.0687427294574654, 6.8962222739228851, 5.1964603058014198, 4.864829267594331, 4.2631603876447013], \"topics\": [1, 2, 3, 4, 5, 6, 7, 8, 9, 10], \"x\": [-0.00081231267170740317, 0.0067524738752208647, -0.0031170166913676578, -0.00095402783082006377, -0.0024726044238623161, -0.010275024734154134, 0.0024842212328996553, 0.0032735571126579787, 0.0044067017620803206, 0.00071403236905275317]}, \"R\": 30, \"lambda.step\": 0.01, \"tinfo\": {\"Category\": [\"Default\", \"Default\", \"Default\", \"Default\", \"Default\", \"Default\", \"Default\", \"Default\", \"Default\", \"Default\", \"Default\", \"Default\", \"Default\", \"Default\", \"Default\", \"Default\", \"Default\", \"Default\", \"Default\", \"Default\", \"Default\", \"Default\", \"Default\", \"Default\", \"Default\", \"Default\", \"Default\", \"Default\", \"Default\", \"Default\", \"Topic1\", \"Topic1\", \"Topic1\", \"Topic1\", \"Topic1\", \"Topic1\", \"Topic1\", \"Topic1\", \"Topic1\", \"Topic1\", \"Topic1\", \"Topic1\", \"Topic1\", \"Topic1\", \"Topic1\", \"Topic1\", \"Topic1\", \"Topic1\", \"Topic1\", \"Topic1\", \"Topic1\", \"Topic1\", \"Topic1\", \"Topic1\", \"Topic1\", \"Topic1\", \"Topic1\", \"Topic1\", \"Topic1\", \"Topic1\", \"Topic1\", \"Topic1\", \"Topic1\", \"Topic1\", \"Topic1\", \"Topic1\", \"Topic1\", \"Topic1\", \"Topic1\", \"Topic1\", \"Topic1\", \"Topic1\", \"Topic1\", \"Topic1\", \"Topic1\", \"Topic1\", \"Topic1\", \"Topic1\", \"Topic1\", \"Topic1\", \"Topic1\", \"Topic1\", \"Topic1\", \"Topic1\", \"Topic1\", \"Topic1\", \"Topic1\", \"Topic1\", \"Topic1\", \"Topic1\", \"Topic1\", \"Topic1\", \"Topic1\", \"Topic1\", \"Topic1\", \"Topic1\", \"Topic1\", \"Topic1\", \"Topic1\", \"Topic1\", \"Topic1\", \"Topic1\", \"Topic1\", \"Topic1\", \"Topic1\", \"Topic1\", \"Topic1\", \"Topic1\", \"Topic1\", \"Topic1\", \"Topic1\", \"Topic1\", \"Topic1\", \"Topic1\", \"Topic2\", \"Topic2\", \"Topic2\", \"Topic2\", \"Topic2\", \"Topic2\", \"Topic2\", \"Topic2\", \"Topic2\", \"Topic2\", \"Topic2\", \"Topic2\", \"Topic2\", \"Topic2\", \"Topic2\", \"Topic2\", \"Topic2\", \"Topic2\", \"Topic2\", \"Topic2\", \"Topic2\", \"Topic2\", \"Topic2\", \"Topic2\", \"Topic2\", \"Topic2\", \"Topic2\", \"Topic2\", \"Topic2\", \"Topic2\", \"Topic2\", \"Topic2\", \"Topic2\", \"Topic2\", \"Topic2\", \"Topic2\", \"Topic2\", \"Topic2\", \"Topic2\", \"Topic2\", \"Topic2\", \"Topic2\", \"Topic2\", \"Topic2\", \"Topic2\", \"Topic2\", \"Topic2\", \"Topic2\", \"Topic2\", \"Topic2\", \"Topic2\", \"Topic2\", \"Topic2\", \"Topic2\", \"Topic2\", \"Topic2\", \"Topic2\", \"Topic2\", \"Topic2\", \"Topic2\", \"Topic2\", \"Topic2\", \"Topic2\", \"Topic2\", \"Topic2\", \"Topic2\", \"Topic2\", \"Topic2\", \"Topic2\", \"Topic2\", \"Topic2\", \"Topic2\", \"Topic2\", \"Topic2\", \"Topic2\", \"Topic2\", \"Topic2\", \"Topic2\", \"Topic2\", \"Topic2\", \"Topic2\", \"Topic2\", \"Topic2\", \"Topic2\", \"Topic2\", \"Topic2\", \"Topic2\", \"Topic2\", \"Topic3\", \"Topic3\", \"Topic3\", \"Topic3\", \"Topic3\", \"Topic3\", \"Topic3\", \"Topic3\", \"Topic3\", \"Topic3\", \"Topic3\", \"Topic3\", \"Topic3\", \"Topic3\", \"Topic3\", \"Topic3\", \"Topic3\", \"Topic3\", \"Topic3\", \"Topic3\", \"Topic3\", \"Topic3\", \"Topic3\", \"Topic3\", \"Topic3\", \"Topic3\", \"Topic3\", \"Topic3\", \"Topic3\", \"Topic3\", \"Topic3\", \"Topic3\", \"Topic3\", \"Topic3\", \"Topic3\", \"Topic3\", \"Topic3\", \"Topic3\", \"Topic3\", \"Topic3\", \"Topic3\", \"Topic3\", \"Topic3\", \"Topic3\", \"Topic3\", \"Topic3\", \"Topic3\", \"Topic3\", \"Topic3\", \"Topic3\", \"Topic3\", \"Topic3\", \"Topic3\", \"Topic3\", \"Topic3\", \"Topic3\", \"Topic3\", \"Topic3\", \"Topic3\", \"Topic3\", \"Topic3\", \"Topic3\", \"Topic3\", \"Topic3\", \"Topic3\", \"Topic3\", \"Topic3\", \"Topic3\", \"Topic3\", \"Topic3\", \"Topic3\", \"Topic3\", \"Topic3\", \"Topic3\", \"Topic3\", \"Topic3\", \"Topic3\", \"Topic3\", \"Topic3\", \"Topic3\", \"Topic3\", \"Topic3\", \"Topic3\", \"Topic3\", \"Topic3\", \"Topic3\", \"Topic3\", \"Topic3\", \"Topic3\", \"Topic3\", \"Topic4\", \"Topic4\", \"Topic4\", \"Topic4\", \"Topic4\", \"Topic4\", \"Topic4\", \"Topic4\", \"Topic4\", \"Topic4\", \"Topic4\", \"Topic4\", \"Topic4\", \"Topic4\", \"Topic4\", \"Topic4\", \"Topic4\", \"Topic4\", \"Topic4\", \"Topic4\", \"Topic4\", \"Topic4\", \"Topic4\", \"Topic4\", \"Topic4\", \"Topic4\", \"Topic4\", \"Topic4\", \"Topic4\", \"Topic4\", \"Topic4\", \"Topic4\", \"Topic4\", \"Topic4\", \"Topic4\", \"Topic4\", \"Topic4\", \"Topic4\", \"Topic4\", \"Topic4\", \"Topic4\", \"Topic4\", \"Topic4\", \"Topic4\", \"Topic4\", \"Topic4\", \"Topic4\", \"Topic4\", \"Topic4\", \"Topic4\", \"Topic4\", \"Topic4\", \"Topic4\", \"Topic4\", \"Topic4\", \"Topic4\", \"Topic4\", \"Topic4\", \"Topic4\", \"Topic4\", \"Topic4\", \"Topic4\", \"Topic4\", \"Topic4\", \"Topic4\", \"Topic4\", \"Topic4\", \"Topic4\", \"Topic4\", \"Topic4\", \"Topic4\", \"Topic4\", \"Topic4\", \"Topic4\", \"Topic4\", \"Topic4\", \"Topic4\", \"Topic4\", \"Topic5\", \"Topic5\", \"Topic5\", \"Topic5\", \"Topic5\", \"Topic5\", \"Topic5\", \"Topic5\", \"Topic5\", \"Topic5\", \"Topic5\", \"Topic5\", \"Topic5\", \"Topic5\", \"Topic5\", \"Topic5\", \"Topic5\", \"Topic5\", \"Topic5\", \"Topic5\", \"Topic5\", \"Topic5\", \"Topic5\", \"Topic5\", \"Topic5\", \"Topic5\", \"Topic5\", \"Topic5\", \"Topic5\", \"Topic5\", \"Topic5\", \"Topic5\", \"Topic5\", \"Topic5\", \"Topic5\", \"Topic5\", \"Topic5\", \"Topic5\", \"Topic5\", \"Topic5\", \"Topic5\", \"Topic5\", \"Topic5\", \"Topic5\", \"Topic5\", \"Topic5\", \"Topic5\", \"Topic5\", \"Topic5\", \"Topic5\", \"Topic5\", \"Topic5\", \"Topic5\", \"Topic5\", \"Topic5\", \"Topic5\", \"Topic5\", \"Topic5\", \"Topic5\", \"Topic5\", \"Topic5\", \"Topic5\", \"Topic5\", \"Topic5\", \"Topic5\", \"Topic5\", \"Topic5\", \"Topic5\", \"Topic5\", \"Topic5\", \"Topic5\", \"Topic5\", \"Topic5\", \"Topic5\", \"Topic5\", \"Topic5\", \"Topic5\", \"Topic5\", \"Topic5\", \"Topic5\", \"Topic5\", \"Topic5\", \"Topic5\", \"Topic5\", \"Topic5\", \"Topic5\", \"Topic5\", \"Topic5\", \"Topic6\", \"Topic6\", \"Topic6\", \"Topic6\", \"Topic6\", \"Topic6\", \"Topic6\", \"Topic6\", \"Topic6\", \"Topic6\", \"Topic6\", \"Topic6\", \"Topic6\", \"Topic6\", \"Topic6\", \"Topic6\", \"Topic6\", \"Topic6\", \"Topic6\", \"Topic6\", \"Topic6\", \"Topic6\", \"Topic6\", \"Topic6\", \"Topic6\", \"Topic6\", \"Topic6\", \"Topic6\", \"Topic6\", \"Topic6\", \"Topic6\", \"Topic6\", \"Topic6\", \"Topic6\", \"Topic6\", \"Topic6\", \"Topic6\", \"Topic6\", \"Topic6\", \"Topic6\", \"Topic6\", \"Topic6\", \"Topic6\", \"Topic6\", \"Topic6\", \"Topic6\", \"Topic6\", \"Topic6\", \"Topic6\", \"Topic6\", \"Topic6\", \"Topic6\", \"Topic6\", \"Topic6\", \"Topic6\", \"Topic6\", \"Topic6\", \"Topic6\", \"Topic6\", \"Topic6\", \"Topic6\", \"Topic6\", \"Topic6\", \"Topic6\", \"Topic6\", \"Topic6\", \"Topic6\", \"Topic6\", \"Topic6\", \"Topic6\", \"Topic6\", \"Topic6\", \"Topic6\", \"Topic6\", \"Topic6\", \"Topic6\", \"Topic6\", \"Topic6\", \"Topic6\", \"Topic7\", \"Topic7\", \"Topic7\", \"Topic7\", \"Topic7\", \"Topic7\", \"Topic7\", \"Topic7\", \"Topic7\", \"Topic7\", \"Topic7\", \"Topic7\", \"Topic7\", \"Topic7\", \"Topic7\", \"Topic7\", \"Topic7\", \"Topic7\", \"Topic7\", \"Topic7\", \"Topic7\", \"Topic7\", \"Topic7\", \"Topic7\", \"Topic7\", \"Topic7\", \"Topic7\", \"Topic7\", \"Topic7\", \"Topic7\", \"Topic7\", \"Topic7\", \"Topic7\", \"Topic7\", \"Topic7\", \"Topic7\", \"Topic7\", \"Topic7\", \"Topic7\", \"Topic7\", \"Topic7\", \"Topic7\", \"Topic7\", \"Topic7\", \"Topic7\", \"Topic7\", \"Topic7\", \"Topic7\", \"Topic7\", \"Topic7\", \"Topic7\", \"Topic7\", \"Topic7\", \"Topic7\", \"Topic7\", \"Topic7\", \"Topic7\", \"Topic7\", \"Topic7\", \"Topic7\", \"Topic7\", \"Topic7\", \"Topic7\", \"Topic7\", \"Topic7\", \"Topic7\", \"Topic7\", \"Topic7\", \"Topic7\", \"Topic7\", \"Topic7\", \"Topic7\", \"Topic7\", \"Topic7\", \"Topic7\", \"Topic7\", \"Topic7\", \"Topic7\", \"Topic7\", \"Topic7\", \"Topic7\", \"Topic7\", \"Topic7\", \"Topic7\", \"Topic7\", \"Topic7\", \"Topic7\", \"Topic7\", \"Topic7\", \"Topic7\", \"Topic8\", \"Topic8\", \"Topic8\", \"Topic8\", \"Topic8\", \"Topic8\", \"Topic8\", \"Topic8\", \"Topic8\", \"Topic8\", \"Topic8\", \"Topic8\", \"Topic8\", \"Topic8\", \"Topic8\", \"Topic8\", \"Topic8\", \"Topic8\", \"Topic8\", \"Topic8\", \"Topic8\", \"Topic8\", \"Topic8\", \"Topic8\", \"Topic8\", \"Topic8\", \"Topic8\", \"Topic8\", \"Topic8\", \"Topic8\", \"Topic8\", \"Topic8\", \"Topic8\", \"Topic8\", \"Topic8\", \"Topic8\", \"Topic8\", \"Topic8\", \"Topic8\", \"Topic8\", \"Topic8\", \"Topic8\", \"Topic8\", \"Topic8\", \"Topic8\", \"Topic8\", \"Topic8\", \"Topic8\", \"Topic8\", \"Topic8\", \"Topic8\", \"Topic8\", \"Topic8\", \"Topic8\", \"Topic8\", \"Topic8\", \"Topic8\", \"Topic8\", \"Topic8\", \"Topic8\", \"Topic8\", \"Topic8\", \"Topic8\", \"Topic8\", \"Topic8\", \"Topic8\", \"Topic8\", \"Topic8\", \"Topic8\", \"Topic8\", \"Topic8\", \"Topic8\", \"Topic8\", \"Topic8\", \"Topic8\", \"Topic8\", \"Topic8\", \"Topic8\", \"Topic8\", \"Topic8\", \"Topic8\", \"Topic8\", \"Topic8\", \"Topic8\", \"Topic8\", \"Topic8\", \"Topic8\", \"Topic8\", \"Topic8\", \"Topic8\", \"Topic8\", \"Topic8\", \"Topic8\", \"Topic9\", \"Topic9\", \"Topic9\", \"Topic9\", \"Topic9\", \"Topic9\", \"Topic9\", \"Topic9\", \"Topic9\", \"Topic9\", \"Topic9\", \"Topic9\", \"Topic9\", \"Topic9\", \"Topic9\", \"Topic9\", \"Topic9\", \"Topic9\", \"Topic9\", \"Topic9\", \"Topic9\", \"Topic9\", \"Topic9\", \"Topic9\", \"Topic9\", \"Topic9\", \"Topic9\", \"Topic9\", \"Topic9\", \"Topic9\", \"Topic9\", \"Topic9\", \"Topic9\", \"Topic9\", \"Topic9\", \"Topic9\", \"Topic9\", \"Topic9\", \"Topic9\", \"Topic9\", \"Topic9\", \"Topic9\", \"Topic9\", \"Topic9\", \"Topic9\", \"Topic9\", \"Topic9\", \"Topic9\", \"Topic9\", \"Topic9\", \"Topic9\", \"Topic9\", \"Topic9\", \"Topic9\", \"Topic9\", \"Topic9\", \"Topic9\", \"Topic9\", \"Topic9\", \"Topic9\", \"Topic9\", \"Topic9\", \"Topic9\", \"Topic9\", \"Topic9\", \"Topic9\", \"Topic9\", \"Topic9\", \"Topic9\", \"Topic9\", \"Topic9\", \"Topic9\", \"Topic9\", \"Topic9\", \"Topic9\", \"Topic9\", \"Topic9\", \"Topic9\", \"Topic9\", \"Topic9\", \"Topic10\", \"Topic10\", \"Topic10\", \"Topic10\", \"Topic10\", \"Topic10\", \"Topic10\", \"Topic10\", \"Topic10\", \"Topic10\", \"Topic10\", \"Topic10\", \"Topic10\", \"Topic10\", \"Topic10\", \"Topic10\", \"Topic10\", \"Topic10\", \"Topic10\", \"Topic10\", \"Topic10\", \"Topic10\", \"Topic10\", \"Topic10\", \"Topic10\", \"Topic10\", \"Topic10\", \"Topic10\", \"Topic10\", \"Topic10\", \"Topic10\", \"Topic10\", \"Topic10\", \"Topic10\", \"Topic10\", \"Topic10\", \"Topic10\", \"Topic10\", \"Topic10\", \"Topic10\", \"Topic10\", \"Topic10\", \"Topic10\", \"Topic10\", \"Topic10\", \"Topic10\", \"Topic10\", \"Topic10\", \"Topic10\", \"Topic10\", \"Topic10\", \"Topic10\", \"Topic10\", \"Topic10\", \"Topic10\", \"Topic10\", \"Topic10\", \"Topic10\", \"Topic10\", \"Topic10\", \"Topic10\", \"Topic10\", \"Topic10\", \"Topic10\", \"Topic10\", \"Topic10\", \"Topic10\", \"Topic10\", \"Topic10\", \"Topic10\", \"Topic10\", \"Topic10\", \"Topic10\", \"Topic10\", \"Topic10\", \"Topic10\", \"Topic10\", \"Topic10\", \"Topic10\", \"Topic10\", \"Topic10\", \"Topic10\"], \"Term\": [\"avg\", \"kaminskihouectect\", \"assembly\", \"said20\", \"legislature\", \"trailing\", \"offered\", \"kaminski\", \"democrats\", \"flows\", \"mwhs\", \"entitys\", \"californians\", \"mtd\", \"hike\", \"trans\", \"republicans\", \"epmi\", \"ratepayer\", \"bee\", \"dwr\", \"sdge\", \"simulation\", \"mara\", \"rto\", \"burton\", \"cpuc\", \"sce\", \"dpr\", \"sf\", \"poi\", \"tickle\", \"mops\", \"gore\", \"oneok\", \"panhandle\", \"charlene\", \"lynn\", \"mars\", \"ava\", \"buchanan\", \"cabrera\", \"tw\", \"fehl\", \"fixedrate\", \"getty\", \"deliveries\", \"hrough\", \"nng\", \"estate20\", \"carlton\", \"01144\", \"cactus\", \"jacksonenron\", \"responsibilty\", \"computer\", \"drool\", \"http63211208100globenetworksurveyasp\", \"waiter\", \"helpdesk\", \"last20\", \"said20\", \"sf\", \"policy20\", \"mediate\", \"do20\", \"million20\", \"shipper\", \"partisan\", \"commission20\", \"huntington\", \"brownell\", \"solar\", \"more20\", \"but20\", \"wsj\", \"url20\", \"avg\", \"democrats\", \"homeowner\", \"state20\", \"feinstein\", \"reliability\", \"electrical\", \"mtd\", \"hike\", \"poll\", \"overcharge\", \"ethanol\", \"sac\", \"crisis20\", \"bee\", \"warning\", \"entitys\", \"curtailment\", \"dwr\", \"megawatthour\", \"legislature\", \"california20\", \"spike\", \"chron\", \"republicans\", \"rto\", \"californians\", \"an20\", \"mercury\", \"offered\", \"trans\", \"assembly\", \"ratepayer\", \"trailing\", \"flows\", \"baseline\", \"mwhs\", \"3457732\", \"prescheduled\", \"gabrielle\", \"7136463940\", \"sami\", \"amps\", \"7133457893\", \"shonnie\", \"spanishspeakers\", \"ejournal\", \"remittance\", \"dina\", \"1505907788\", \"11082001\", \"angeladavisenroncom\", \"3815\", \"upto\", \"nyme\", \"enw01s\", \"2653\", \"korkmas\", \"5c2\", \"zikes\", \"juliamurrayenroncom\", \"ombined\", \"lisamellencampenroncom\", \"10132001\", \"578\", \"crady\", \"7136466305\", \"mwh\", \"cordially\", \"enaegmeim\", \"7138534220\", \"marycookenroncom\", \"johndoe\", \"eei\", \"isda\", \"38th\", \"3348555351\", \"cp\", \"090909\", \"kitchenhouectect\", \"avg\", \"offered\", \"mmbtus\", \"originator\", \"bal\", \"dpr\", \"workforce\", \"flows\", \"kingdom\", \"dropdown\", \"passage\", \"px\", \"000\", \"janette\", \"epmi\", \"mmbtu\", \"sp15\", \"ski\", \"entitys\", \"mtd\", \"mwhs\", \"cpuc\", \"trailing\", \"standalone\", \"oneill\", \"rto\", \"trans\", \"owa\", \"assembly\", \"democrats\", \"renewable\", \"baseline\", \"fercs\", \"legislature\", \"sdge\", \"republicans\", \"municipal\", \"bee\", \"said20\", \"californians\", \"mercury\", \"ratepayer\", \"hike\", \"burton\", \"legislator\", \"1doc\", \"lines20\", \"shu\", \"bfg\", \"kahn\", \"pacifics\", \"interventionist\", \"precede\", \"upheaval\", \"010401\", \"warwick\", \"letterpdf\", \"2127023916\", \"questionsanswers\", \"donner\", \"hchiangsfchroniclecom\", \"acquiesce\", \"tickets\", \"midfebruary\", \"heights\", \"dede\", \"wreckage\", \"sanctuary\", \"bouillion\", \"estes\", \"norateincrease\", \"utah\", \"commissionthere\", \"spotlight\", \"apri\", \"sacramento20\", \"aamodt\", \"2705\", \"capitol\", \"wheatley\", \"prohibition\", \"sta\", \"household\", \"pound\", \"tanya\", \"crenshawhouectect\", \"walters\", \"sce\", \"brattle\", \"gibner\", \"chron\", \"hu\", \"re20\", \"mitigation\", \"baseline\", \"said20\", \"depth\", \"hydroelectric\", \"bureau\", \"isos\", \"dwp\", \"nevada\", \"investorowned\", \"276\", \"mercury\", \"statewide\", \"415\", \"kaminskihouectect\", \"poll\", \"avg\", \"burton\", \"px\", \"renewable\", \"californians\", \"hike\", \"republicans\", \"spike\", \"assembly\", \"ratepayer\", \"mara\", \"cpuc\", \"legislature\", \"an20\", \"legislator\", \"bee\", \"municipal\", \"flows\", \"democrats\", \"rto\", \"dwr\", \"sdge\", \"mtd\", \"offered\", \"epmi\", \"entitys\", \"ein\", \"102901\", \"finite\", \"blotter\", \"aramco\", \"simulation\", \"oxy\", \"questionaire\", \"noc\", \"relationshipthat\", \"600am\", \"12312005\", \"panda\", \"gurantee\", \"72b\", \"roleplay\", \"paradise\", \"compatriot\", \"epmiees\", \"ttc\", \"1245pm1pm\", \"messinahoueesees\", \"exisiting\", \"tradedata\", \"semihibernation\", \"insync\", \"er011394wpd\", \"giron\", \"845am9am\", \"supposed\", \"mailtoenroncentersouthtechnologyenroncom\", \"midbackoffice\", \"retroactive\", \"lysa\", \"epmi\", \"avaya\", \"ab1x\", \"rockies\", \"dwr\", \"pjm\", \"fax415\", \"suspension\", \"mou\", \"assembly\", \"edisons\", \"corenoncore\", \"bidding\", \"miso\", \"saudi\", \"valley\", \"rto\", \"7827854\", \"cpuc\", \"sdge\", \"ratepayer\", \"offline\", \"californians\", \"mara\", \"municipal\", \"sb\", \"hike\", \"said20\", \"415\", \"angelides\", \"veronica\", \"democrats\", \"px\", \"legislature\", \"megawatthour\", \"bee\", \"republicans\", \"burton\", \"mercury\", \"avg\", \"an20\", \"mtd\", \"offered\", \"trailing\", \"sysco\", \"brant\", \"watchlist\", \"dialog\", \"accepts20\", \"400kw\", \"x31803\", \"dasr\", \"1xx\", \"petitions\", \"dwivedi\", \"producing\", \"anticpate\", \"conserve14\", \"suppliercreditors\", \"propriety\", \"issuesdirect\", \"blowdown\", \"exection\", \"peev\", \"coincident\", \"neiso\", \"summery\", \"santucci\", \"rebeccasmithwsjcom\", \"ruffer\", \"shankmanhouectect\", \"sundeees\", \"inclinded\", \"westcentral\", \"x39897\", \"7827802\", \"jeanne\", \"09dietrich0909mcclellan\", \"bowens\", \"mou\", \"twothirds\", \"burton\", \"vius\", \"415\", \"assembly\", \"x66002\", \"wise\", \"similarly\", \"vicki\", \"57095\", \"mara\", \"30643\", \"legislature\", \"tues\", \"suspension\", \"tlrs\", \"rtos\", \"northeast\", \"ratepayer\", \"7827854\", \"espinoza\", \"x33831\", \"veronica\", \"wagner\", \"said20\", \"dwr\", \"interconnection\", \"connell\", \"democrats\", \"tva\", \"solar\", \"rto\", \"californians\", \"sdge\", \"bee\", \"utilitys\", \"cpuc\", \"avg\", \"sce\", \"republicans\", \"fercs\", \"offered\", \"an20\", \"mercury\", \"entitys\", \"epmi\", \"hike\", \"crisis20\", \"px\", \"sf\", \"flows\", \"trailing\", \"kaminskihouectect\", \"kaminski\", \"nathlonectect\", \"baton\", \"krishna\", \"0224\", \"jaesoo\", \"ravi\", \"rouge\", \"gibnerhouectect\", \"clayton\", \"0547\", \"06292000\", \"01112000\", \"krishnarao\", \"ehud\", \"anita\", \"resco\", \"0310\", \"mellon\", \"alec\", \"fea\", \"iris\", \"tamarchenko\", \"communicationsect\", \"stinson\", \"blackscholes\", \"exploratory\", \"henwood\", \"sheridan\", \"lsu\", \"vasant\", \"zimin\", \"surbeylonectect\", \"shmuel\", \"crenshawhouectect\", \"tanya\", \"crenshaw\", \"piazze\", \"molly\", \"gibner\", \"vincent\", \"wharton\", \"kaminskiect\", \"modeling\", \"vol\", \"phd\", \"mtbe\", \"thurs\", \"lu\", \"republicans\", \"california20\", \"bee\", \"rto\", \"state20\", \"said20\", \"assembly\", \"prices20\", \"sf\", \"avg\", \"aes\", \"legislature\", \"democrats\", \"overcharge\", \"hike\", \"utilitys\", \"sce\", \"tues\", \"mercury\", \"ratepayer\", \"californians\", \"epmi\", \"offered\", \"dwr\", \"flows\", \"entitys\", \"px\", \"trans\", \"mtd\", \"peggymccurleyenroncom\", \"mccurley\", \"philly\", \"nonsolicit\", \"emarket\", \"0249\", \"pettewaydavid\", \"jefferson\", \"cottonwood\", \"sungard\", \"reviewcomment\", \"mathis\", \"x31789\", \"whoz\", \"2462\", \"9400\", \"indiaranendra\", \"meagan\", \"iling\", \"jeanie\", \"eeos\", \"darren\", \"garage\", \"13438\", \"noneol\", \"7138533448\", \"dodson\", \"mrha\", \"57123406893\", \"eb3838\", \"pwc\", \"4539\", \"stentophon\", \"netco\", \"trailing\", \"nec\", \"38th\", \"sheri\", \"measurement\", \"taylorhouectect\", \"julia\", \"philippe\", \"eb32c2\", \"melissa\", \"avg\", \"flight\", \"offered\", \"shankmanhouectect\", \"billion20\", \"espinoza\", \"trans\", \"conserve\", \"x66002\", \"mtbe\", \"epa\", \"audio\", \"campbell\", \"portal\", \"nox\", \"mmbtus\", \"said20\", \"fercs\", \"flows\", \"ratepayer\", \"mwhs\", \"republicans\", \"entitys\", \"veronica\", \"legislature\", \"sdge\", \"dwr\", \"hydro\", \"californians\", \"california20\", \"kaminskihouectect\", \"mercury\", \"090909\", \"renewable\", \"mtd\", \"hike\", \"tues\", \"assembly\", \"thurs\", \"rto\", \"an20\", \"bee\", \"chron\", \"megawatthour\", \"democrats\", \"px\", \"u172804dtl\", \"contractwe\", \"kimono\", \"12409\", \"10am12\", \"wellplanned\", \"102901\", \"nearcertain\", \"20102\", \"coded\", \"3053\", \"guidebook\", \"1245pm1pm\", \"abouth\", \"newsmaker\", \"01natural\", \"495755000\", \"lz\", \"geet\", \"dedasr\", \"marketand\", \"2817\", \"wayby\", \"eb8c1\", \"05852\", \"01v\", \"depts\", \"44c1\", \"thrashing\", \"graphical\", \"806\", \"eavesdropper\", \"harriet\", \"x54877\", \"945am\", \"httpwwwsfgatecomcgibinarticlecgifilechroniclearchive20010321m\", \"mailtoenroncentersouthtechnologyenroncom\", \"amtel\", \"turret\", \"avaya\", \"801\", \"mara\", \"fax415\", \"ubsw\", \"assembly\", \"calenergy\", \"415\", \"peevey\", \"networkstechnology\", \"audio\", \"stentophon\", \"simulation\", \"veronica\", \"deluca\", \"7138535984\", \"utah\", \"mapping\", \"trailing\", \"chronicle20\", \"warburg\", \"legislature\", \"nec\", \"avg\", \"7827802\", \"cpuc\", \"utilitys\", \"dpr\", \"californians\", \"republicans\", \"flows\", \"rto\", \"bidding\", \"mtd\", \"trans\", \"hydro\", \"crisis20\", \"thurs\", \"democrats\", \"edisons\", \"x66002\", \"said20\", \"rebate\", \"burton\", \"px\", \"entitys\", \"sce\", \"offered\", \"sdge\", \"ratepayer\", \"bee\", \"hike\", \"legislator\", \"dwr\", \"alexandra\", \"posadas\", \"kwaanza\", \"800mm\", \"x35202\", \"seclp\", \"walls\", \"demystify\", \"lucia\", \"impeccable\", \"cats\", \"melting\", \"niamh\", \"handy\", \"7138533304\", \"1417\", \"reaffirmation\", \"15minute\", \"500pm\", \"db\", \"encroachment\", \"ramadan\", \"705\", \"adva\", \"300pm\", \"7133455384\", \"func\", \"2957\", \"sarko\", \"authoriser\", \"1046\", \"49599772807\", \"devali\", \"eecc\", \"65741712630\", \"vv\", \"4775\", \"hensley\", \"flows\", \"25090717613\", \"criminal\", \"avg\", \"trans\", \"offered\", \"trailing\", \"entitys\", \"dropdown\", \"democrats\", \"municipal\", \"mwhs\", \"mtd\", \"deluca\", \"kingdom\", \"ce20\", \"ratepayer\", \"aes\", \"espinoza\", \"sce\", \"thurs\", \"crisis20\", \"californians\", \"by20\", \"hike\", \"orange\", \"dwr\", \"said20\", \"baseline\", \"legislator\", \"surcharge\", \"url20\", \"sf\", \"assembly\", \"legislature\", \"burton\", \"state20\", \"republicans\", \"sdge\", \"bee\", \"epmi\", \"megawatthour\", \"sungard\", \"9400\", \"nonsolicit\", \"garage\", \"18883119051\", \"rexs\", \"invited\", \"bts\", \"handholding\", \"emarket\", \"nda\", \"3882a\", \"13043457354\", \"mathis\", \"16500\", \"8531832\", \"7136468010\", \"lciscontierastudioscom\", \"alamitos\", \"10100\", \"23494816\", \"soareshouectect\", \"ndas\", \"shelbys\", \"7138533273\", \"bea\", \"transferring\", \"cottonwood\", \"plc20\", \"x37408\", \"mwhs\", \"3920\", \"10400\", \"000\", \"reactor\", \"abovenormal\", \"x31670\", \"heater\", \"ethink\", \"lowincome\", \"epmi\", \"bee\", \"diesel\", \"legislature\", \"hike\", \"plants20\", \"avg\", \"wagner\", \"mmbtus\", \"ut20\", \"ve20\", \"dpr\", \"rebate\", \"palo\", \"municipal\", \"h20\", \"sdge\", \"entitys\", \"trailing\", \"democrats\", \"angelides\", \"mtd\", \"offered\", \"state20\", \"sf\", \"url20\", \"tues\", \"assembly\", \"mercury\", \"cpuc\", \"republicans\", \"said20\", \"trans\", \"californians\", \"megawatthour\", \"px\", \"rto\", \"mou\", \"flows\", \"burton\", \"ratepayer\", \"dwr\"], \"loglift\": [30.0, 29.0, 28.0, 27.0, 26.0, 25.0, 24.0, 23.0, 22.0, 21.0, 20.0, 19.0, 18.0, 17.0, 16.0, 15.0, 14.0, 13.0, 12.0, 11.0, 10.0, 9.0, 8.0, 7.0, 6.0, 5.0, 4.0, 3.0, 2.0, 1.0, 0.67110000000000003, 0.6462, 0.63590000000000002, 0.58320000000000005, 0.57730000000000004, 0.57669999999999999, 0.5756, 0.55320000000000003, 0.54649999999999999, 0.54349999999999998, 0.53810000000000002, 0.53369999999999995, 0.53290000000000004, 0.51380000000000003, 0.5071, 0.50590000000000002, 0.49919999999999998, 0.499, 0.49569999999999997, 0.49070000000000003, 0.4884, 0.4879, 0.48110000000000003, 0.4783, 0.46760000000000002, 0.46260000000000001, 0.46050000000000002, 0.45650000000000002, 0.45629999999999998, 0.45450000000000002, 0.44600000000000001, 0.37280000000000002, 0.39229999999999998, 0.41760000000000003, 0.43630000000000002, 0.39369999999999999, 0.36170000000000002, 0.36120000000000002, 0.36980000000000002, 0.32669999999999999, 0.35610000000000003, 0.35870000000000002, 0.26640000000000003, 0.3105, 0.37959999999999999, 0.38419999999999999, 0.2586, 0.11269999999999999, 0.184, 0.33610000000000001, 0.22800000000000001, 0.27639999999999998, 0.24679999999999999, 0.23930000000000001, 0.17960000000000001, 0.16489999999999999, 0.23300000000000001, 0.20280000000000001, 0.28389999999999999, 0.24690000000000001, 0.19070000000000001, 0.13339999999999999, 0.22770000000000001, 0.13719999999999999, 0.2762, 0.10639999999999999, 0.16120000000000001, 0.024500000000000001, 0.16270000000000001, 0.17319999999999999, 0.13320000000000001, 0.0055999999999999999, -0.0045999999999999999, -0.021899999999999999, 0.1038, 0.053499999999999999, -0.043099999999999999, 0.059299999999999999, -0.23419999999999999, -0.063, -0.061400000000000003, -0.1255, 0.093399999999999997, 0.0123, 0.69240000000000002, 0.67610000000000003, 0.66520000000000001, 0.64729999999999999, 0.63570000000000004, 0.63100000000000001, 0.62370000000000003, 0.6159, 0.61009999999999998, 0.59189999999999998, 0.58069999999999999, 0.57350000000000001, 0.56859999999999999, 0.56840000000000002, 0.5675, 0.56640000000000001, 0.56259999999999999, 0.56210000000000004, 0.56189999999999996, 0.5585, 0.55630000000000002, 0.55030000000000001, 0.55000000000000004, 0.5494, 0.54859999999999998, 0.54790000000000005, 0.5474, 0.54710000000000003, 0.5454, 0.54469999999999996, 0.52390000000000003, 0.53949999999999998, 0.53869999999999996, 0.54400000000000004, 0.53139999999999998, 0.54300000000000004, 0.48299999999999998, 0.49740000000000001, 0.51519999999999999, 0.5333, 0.47260000000000002, 0.40239999999999998, 0.47849999999999998, 0.29499999999999998, 0.35020000000000001, 0.39319999999999999, 0.41820000000000002, 0.48110000000000003, 0.34010000000000001, 0.49540000000000001, 0.30640000000000001, 0.38840000000000002, 0.38490000000000002, 0.39340000000000003, 0.28520000000000001, 0.4113, 0.42749999999999999, 0.27329999999999999, 0.3518, 0.39429999999999998, 0.39319999999999999, 0.23719999999999999, 0.223, 0.23669999999999999, 0.21299999999999999, 0.1928, 0.33950000000000002, 0.32500000000000001, 0.087099999999999997, 0.129, 0.4153, -0.066799999999999998, -0.017399999999999999, 0.13150000000000001, 0.1099, 0.10199999999999999, -0.1012, 0.035499999999999997, -0.058900000000000001, 0.093600000000000003, -0.077799999999999994, -0.4234, -0.1038, -0.0178, -0.1472, -0.16239999999999999, -0.047600000000000003, 0.026499999999999999, 0.72219999999999995, 0.56910000000000005, 0.56430000000000002, 0.54749999999999999, 0.54690000000000005, 0.54590000000000005, 0.53869999999999996, 0.53610000000000002, 0.51929999999999998, 0.51839999999999997, 0.50770000000000004, 0.50219999999999998, 0.50149999999999995, 0.49590000000000001, 0.49530000000000002, 0.49419999999999997, 0.49259999999999998, 0.4874, 0.48420000000000002, 0.4829, 0.48159999999999997, 0.47489999999999999, 0.47420000000000001, 0.47410000000000002, 0.47339999999999999, 0.47099999999999997, 0.4698, 0.46899999999999997, 0.46750000000000003, 0.4672, 0.46200000000000002, 0.4667, 0.46239999999999998, 0.41999999999999998, 0.44440000000000002, 0.43940000000000001, 0.39889999999999998, 0.37340000000000001, 0.40579999999999999, 0.39040000000000002, 0.40710000000000002, 0.39510000000000001, 0.33489999999999998, 0.40179999999999999, 0.40899999999999997, 0.2994, 0.38929999999999998, 0.312, 0.29189999999999999, 0.27189999999999998, 0.17710000000000001, 0.41310000000000002, 0.29010000000000002, 0.2908, 0.29360000000000003, 0.33019999999999999, 0.3044, 0.30969999999999998, 0.33229999999999998, 0.21129999999999999, 0.27050000000000002, 0.22270000000000001, 0.18820000000000001, 0.2334, -0.0048999999999999998, 0.1648, 0.15759999999999999, 0.18440000000000001, 0.076499999999999999, 0.068099999999999994, 0.058400000000000001, 0.17080000000000001, -0.066600000000000006, 0.024, 0.16350000000000001, 0.069900000000000004, -0.1164, 0.091800000000000007, 0.080000000000000002, -0.0877, 0.107, -0.064699999999999994, -0.2316, -0.16819999999999999, -0.105, -0.042799999999999998, -0.1583, -0.3216, -0.1336, -0.25609999999999999, 0.8669, 0.76290000000000002, 0.74109999999999998, 0.74029999999999996, 0.72570000000000001, 0.71919999999999995, 0.71419999999999995, 0.71140000000000003, 0.6794, 0.66990000000000005, 0.63090000000000002, 0.62819999999999998, 0.624, 0.61950000000000005, 0.61880000000000002, 0.61199999999999999, 0.61029999999999995, 0.60880000000000001, 0.60729999999999995, 0.60599999999999998, 0.60560000000000003, 0.60529999999999995, 0.60189999999999999, 0.59989999999999999, 0.59540000000000004, 0.5907, 0.58989999999999998, 0.58550000000000002, 0.57689999999999997, 0.57640000000000002, 0.57179999999999997, 0.55679999999999996, 0.54959999999999998, 0.56340000000000001, 0.47260000000000002, 0.52139999999999997, 0.53139999999999998, 0.54200000000000004, 0.4531, 0.4521, 0.42980000000000002, 0.44929999999999998, 0.38819999999999999, 0.30399999999999999, 0.36280000000000001, 0.45490000000000003, 0.39240000000000003, 0.48670000000000002, 0.44519999999999998, 0.34789999999999999, 0.26429999999999998, 0.32519999999999999, 0.27129999999999999, 0.26860000000000001, 0.22370000000000001, 0.3553, 0.1903, 0.2727, 0.24579999999999999, 0.27739999999999998, 0.1628, 0.016, 0.24340000000000001, 0.28499999999999998, 0.2697, 0.1109, 0.15390000000000001, 0.015800000000000002, 0.1605, 0.043400000000000001, 0.0099000000000000008, 0.1032, -0.0016999999999999999, -0.71279999999999999, 0.060199999999999997, -0.1255, -0.2586, -0.16980000000000001, 0.69779999999999998, 0.6603, 0.6573, 0.6411, 0.63780000000000003, 0.63649999999999995, 0.62329999999999997, 0.62319999999999998, 0.61650000000000005, 0.60899999999999999, 0.60509999999999997, 0.5958, 0.59279999999999999, 0.58679999999999999, 0.5827, 0.57999999999999996, 0.57830000000000004, 0.57340000000000002, 0.57269999999999999, 0.57230000000000003, 0.57179999999999997, 0.56910000000000005, 0.56889999999999996, 0.56820000000000004, 0.5655, 0.56120000000000003, 0.55910000000000004, 0.55710000000000004, 0.55640000000000001, 0.55520000000000003, 0.54720000000000002, 0.51959999999999995, 0.54890000000000005, 0.53620000000000001, 0.53890000000000005, 0.50480000000000003, 0.50539999999999996, 0.45779999999999998, 0.51119999999999999, 0.42959999999999998, 0.37690000000000001, 0.437, 0.5, 0.48359999999999997, 0.46760000000000002, 0.49280000000000002, 0.3679, 0.38500000000000001, 0.28660000000000002, 0.33239999999999997, 0.3891, 0.37659999999999999, 0.35289999999999999, 0.37859999999999999, 0.25480000000000003, 0.314, 0.30630000000000002, 0.36409999999999998, 0.27810000000000001, 0.25600000000000001, 0.0089999999999999993, 0.15490000000000001, 0.25509999999999999, 0.28029999999999999, 0.057000000000000002, 0.24249999999999999, 0.19420000000000001, 0.032500000000000001, 0.0184, 0.095399999999999999, 0.0124, 0.1711, 0.060699999999999997, -0.41139999999999999, 0.1736, -0.1027, 0.1239, -0.13589999999999999, 0.070699999999999999, -0.032199999999999999, -0.1236, -0.042500000000000003, -0.22259999999999999, 0.083799999999999999, -0.079100000000000004, -0.0332, -0.21590000000000001, -0.22470000000000001, 1.2753000000000001, 1.2685, 1.1888000000000001, 1.1718999999999999, 1.1534, 1.1414, 1.1332, 1.1248, 1.1076999999999999, 1.1036999999999999, 1.0891, 1.0882000000000001, 1.0875999999999999, 1.0834999999999999, 1.0828, 1.0775999999999999, 1.0736000000000001, 1.0703, 1.0631999999999999, 1.0386, 1.0356000000000001, 1.0285, 1.0221, 1.022, 1.0170999999999999, 1.0154000000000001, 1.0130999999999999, 1.0129999999999999, 1.0111000000000001, 1.0103, 1.008, 0.9879, 0.93169999999999997, 0.97650000000000003, 0.97450000000000003, 0.9294, 0.90239999999999998, 0.91479999999999995, 0.95679999999999998, 0.81689999999999996, 0.87, 0.88970000000000005, 0.71919999999999995, 0.82340000000000002, 0.89449999999999996, 0.88449999999999995, 0.78779999999999994, 0.36909999999999998, 0.3014, 0.8165, 0.098400000000000001, 0.24829999999999999, 0.1154, 0.095100000000000004, 0.24060000000000001, -0.19769999999999999, -0.076700000000000004, 0.3044, 0.14510000000000001, -0.37930000000000003, 0.22900000000000001, -0.13500000000000001, -0.1024, 0.1278, -0.10050000000000001, 0.15970000000000001, 0.13489999999999999, 0.070699999999999999, -0.0465, -0.17580000000000001, -0.21429999999999999, -0.052299999999999999, -0.32069999999999999, -0.21479999999999999, -0.23630000000000001, -0.28370000000000001, -0.20979999999999999, -0.16800000000000001, -0.35170000000000001, 0.78080000000000005, 0.77910000000000001, 0.73319999999999996, 0.72399999999999998, 0.71640000000000004, 0.70120000000000005, 0.68930000000000002, 0.67259999999999998, 0.66720000000000002, 0.66359999999999997, 0.66000000000000003, 0.65649999999999997, 0.65569999999999995, 0.65559999999999996, 0.6522, 0.64770000000000005, 0.64149999999999996, 0.64139999999999997, 0.63939999999999997, 0.63749999999999996, 0.626, 0.626, 0.62419999999999998, 0.621, 0.61739999999999995, 0.61429999999999996, 0.61009999999999998, 0.60970000000000002, 0.60909999999999997, 0.6089, 0.60580000000000001, 0.57920000000000005, 0.54349999999999998, 0.53680000000000005, 0.45600000000000002, 0.51300000000000001, 0.56799999999999995, 0.5212, 0.54349999999999998, 0.52049999999999996, 0.502, 0.4516, 0.4919, 0.51329999999999998, 0.26929999999999998, 0.44290000000000002, 0.28649999999999998, 0.40350000000000003, 0.3826, 0.33350000000000002, 0.22209999999999999, 0.25259999999999999, 0.27310000000000001, 0.2447, 0.30159999999999998, 0.39450000000000002, 0.37280000000000002, 0.30049999999999999, 0.37659999999999999, 0.2311, -0.0901, 0.15840000000000001, 0.0843, 0.0516, 0.12889999999999999, 0.029899999999999999, 0.061600000000000002, 0.19409999999999999, -0.0441, 0.071800000000000003, 0.026599999999999999, 0.20200000000000001, -0.037900000000000003, 0.10249999999999999, 0.034200000000000001, 0.027799999999999998, 0.1205, 0.1132, -0.031199999999999999, -0.12989999999999999, 0.054699999999999999, -0.34949999999999998, 0.035200000000000002, -0.20130000000000001, 0.0117, -0.2185, 0.021499999999999998, 0.038300000000000001, -0.60060000000000002, -0.2175, 0.8196, 0.81140000000000001, 0.7863, 0.77349999999999997, 0.77039999999999997, 0.76290000000000002, 0.75490000000000002, 0.74970000000000003, 0.74790000000000001, 0.73360000000000003, 0.71030000000000004, 0.7016, 0.69279999999999997, 0.67459999999999998, 0.67230000000000001, 0.66500000000000004, 0.66000000000000003, 0.65939999999999999, 0.65669999999999995, 0.65510000000000002, 0.65180000000000005, 0.65049999999999997, 0.64870000000000005, 0.64800000000000002, 0.64139999999999997, 0.64129999999999998, 0.63839999999999997, 0.6331, 0.62939999999999996, 0.62880000000000003, 0.61539999999999995, 0.61570000000000003, 0.624, 0.61550000000000005, 0.60529999999999995, 0.62119999999999997, 0.57899999999999996, 0.54059999999999997, 0.50619999999999998, 0.51049999999999995, 0.54749999999999999, 0.42499999999999999, 0.41949999999999998, 0.52729999999999999, 0.30509999999999998, 0.47760000000000002, 0.35099999999999998, 0.50590000000000002, 0.4904, 0.43909999999999999, 0.45529999999999998, 0.314, 0.32569999999999999, 0.39179999999999998, 0.38679999999999998, 0.4667, 0.37909999999999999, 0.21190000000000001, 0.32300000000000001, 0.42549999999999999, 0.1216, 0.42249999999999999, -0.013100000000000001, 0.2601, 0.1857, 0.22189999999999999, 0.19189999999999999, 0.1004, 0.094700000000000006, 0.1183, 0.074200000000000002, 0.29089999999999999, 0.082199999999999995, 0.1109, 0.2228, 0.13009999999999999, 0.1237, -0.028500000000000001, 0.16189999999999999, 0.2288, -0.2611, 0.21959999999999999, 0.0094000000000000004, -0.0083000000000000001, -0.050000000000000003, 0.1111, -0.15190000000000001, -0.024199999999999999, -0.22109999999999999, -0.2271, -0.27510000000000001, 0.0, -0.30230000000000001, 0.8236, 0.81699999999999995, 0.76539999999999997, 0.7621, 0.74539999999999995, 0.74439999999999995, 0.73880000000000001, 0.71209999999999996, 0.70309999999999995, 0.68620000000000003, 0.67469999999999997, 0.67100000000000004, 0.66900000000000004, 0.66690000000000005, 0.66669999999999996, 0.66510000000000002, 0.66239999999999999, 0.65669999999999995, 0.65059999999999996, 0.64529999999999998, 0.64449999999999996, 0.63490000000000002, 0.63449999999999995, 0.63029999999999997, 0.62929999999999997, 0.62890000000000001, 0.62880000000000003, 0.62450000000000006, 0.62309999999999999, 0.61819999999999997, 0.61809999999999998, 0.61650000000000005, 0.61770000000000003, 0.60450000000000004, 0.60799999999999998, 0.60860000000000003, 0.5907, 0.58150000000000002, 0.40079999999999999, 0.57699999999999996, 0.39700000000000002, 0.2271, 0.33300000000000002, 0.3054, 0.31850000000000001, 0.27479999999999999, 0.38429999999999997, 0.215, 0.2747, 0.25369999999999998, 0.20660000000000001, 0.3493, 0.3372, 0.3604, 0.13170000000000001, 0.23080000000000001, 0.2571, 0.18840000000000001, 0.15670000000000001, 0.1545, 0.059700000000000003, 0.1608, 0.024500000000000001, 0.16439999999999999, 0.040899999999999999, -0.2387, 0.1166, 0.082299999999999998, 0.15290000000000001, 0.13789999999999999, -0.0035999999999999999, -0.28749999999999998, -0.22259999999999999, -0.021100000000000001, 0.058000000000000003, -0.16689999999999999, -0.053699999999999998, -0.19109999999999999, -0.099699999999999997, 0.035799999999999998, 0.96779999999999999, 0.95279999999999998, 0.84570000000000001, 0.84009999999999996, 0.80100000000000005, 0.79400000000000004, 0.76449999999999996, 0.74819999999999998, 0.74280000000000002, 0.73040000000000005, 0.71689999999999998, 0.71550000000000002, 0.70430000000000004, 0.6956, 0.69169999999999998, 0.6905, 0.67920000000000003, 0.6774, 0.65539999999999998, 0.65029999999999999, 0.64739999999999998, 0.63060000000000005, 0.62660000000000005, 0.62329999999999997, 0.62329999999999997, 0.61890000000000001, 0.61770000000000003, 0.61750000000000005, 0.6129, 0.60829999999999995, 0.56589999999999996, 0.58330000000000004, 0.5786, 0.53600000000000003, 0.52590000000000003, 0.58209999999999995, 0.46260000000000001, 0.50729999999999997, 0.57879999999999998, 0.3846, 0.28470000000000001, 0.25919999999999999, 0.39739999999999998, 0.21099999999999999, 0.22720000000000001, 0.34229999999999999, 0.069800000000000001, 0.26479999999999998, 0.28360000000000002, 0.3453, 0.34260000000000002, 0.23449999999999999, 0.27000000000000002, 0.30230000000000001, 0.21540000000000001, 0.25829999999999997, 0.17710000000000001, 0.14910000000000001, 0.1487, 0.091800000000000007, 0.2334, 0.099000000000000005, 0.055899999999999998, 0.16350000000000001, 0.1197, 0.19620000000000001, 0.13689999999999999, -0.074099999999999999, 0.080399999999999999, 0.079899999999999999, -0.0044000000000000003, -0.2848, 0.055500000000000001, -0.064699999999999994, 0.1069, 0.015900000000000001, -0.084000000000000005, 0.13930000000000001, -0.095799999999999996, -0.0424, -0.24349999999999999, -0.21290000000000001], \"Freq\": [26614.0, 5773.0, 13032.0, 21644.0, 10579.0, 6378.0, 8047.0, 3734.0, 9287.0, 6618.0, 4878.0, 6633.0, 7993.0, 6804.0, 7721.0, 5628.0, 7990.0, 5792.0, 7599.0, 7379.0, 6662.0, 5644.0, 4083.0, 3878.0, 7819.0, 5604.0, 5870.0, 4017.0, 4528.0, 5494.0, 57.038942471233064, 7.2346265885877754, 15.356362698387978, 366.7916272140543, 18.930072860029405, 33.381809653727153, 364.21387603294647, 282.25100792709685, 9.1375130009211407, 27.172463488549237, 74.2792807022212, 5.0987510406398435, 300.97755123976708, 17.12228521855539, 12.163847953629281, 6.9554758871474913, 19.463041991017075, 11.29166365029509, 107.55215623105055, 18.542364509433355, 32.818447462199181, 6.5178457032603605, 7.7335227984951471, 39.540561838337105, 17.118197287603927, 352.59327766943437, 17.639344972195957, 16.003474211134158, 6.2897123554175867, 23.417461895559271, 93.927032408551852, 5915.7974303056571, 1531.158751795753, 173.54026635263557, 52.103916068845194, 188.45662706225292, 357.51278810564224, 300.8122792200237, 221.89619431508174, 444.18441368787131, 251.10502197849615, 230.37886875184125, 954.54835689165634, 449.81074176182989, 148.23210580369377, 133.98074891507869, 846.84814901007621, 5608.0482670825777, 2101.5869523683177, 275.14064336067094, 1046.7153872960519, 589.11235291786375, 808.69207970777336, 870.47990246149686, 1533.0370815088761, 1714.0968618136808, 843.26987970631728, 1087.0022176525465, 503.57173223671003, 692.83889593637514, 1056.9034102193655, 1587.4468475025158, 782.08028434056666, 1432.5294656549352, 519.08785455113252, 1394.9695104324287, 1006.5342050103309, 2041.0743931650316, 987.13649243708562, 866.54586105180988, 1027.7831698898387, 1512.7172944321615, 1465.2360118997215, 1472.1421564346456, 1023.6653825224037, 1163.562404415261, 1450.95495768971, 1124.2731390352469, 1941.2883956189694, 1343.2858013366313, 1129.3339654296938, 1099.0147633068968, 927.3307838396546, 929.66616455008727, 68.808430228212558, 69.933589509389321, 22.686060697254256, 21.387947640971021, 44.685097024288567, 20.874131884659882, 19.41701556638375, 17.432258180715852, 10.048295011578722, 18.831207997189232, 16.992274478297446, 23.59252682680674, 9.5188082294436054, 24.277039646371293, 18.223873519017165, 6.0052579352198467, 16.294927098170099, 6.5938359380707583, 9.2524636265519398, 55.312614262833243, 67.040185073816787, 15.347533027700626, 30.348982706109048, 30.292619901777876, 8.184748289902565, 16.639122374216026, 27.487366787327037, 54.454086539228655, 10.297233220895171, 11.009193797660931, 951.13697007277085, 92.865171272966961, 86.269999237465967, 39.751111255260362, 57.466686719446365, 22.661054177875688, 292.41172987406395, 157.21897327566501, 68.554868692387501, 34.0909810567438, 215.34574517593862, 1043.6920851898469, 158.21078564481328, 6073.7543541012637, 1940.6624737924187, 734.70206199855897, 448.02575108681475, 123.06058435242018, 1081.0626529476115, 92.773948567924378, 1527.5816096211486, 449.29809503017486, 443.20930033622977, 362.59385530451056, 1332.9754905585623, 280.3766427174134, 220.86965894000318, 1293.5001428448156, 501.56202179962906, 314.13320864480033, 311.3144945814667, 1428.8893724103989, 1444.8570189137317, 1050.1314671871644, 1234.2049993810065, 1314.22709846002, 426.88117626299885, 461.32213314394966, 1449.4374664927802, 1087.9134714176378, 236.54437594215443, 2071.2699499427467, 1550.6972738608085, 813.44957646514729, 850.8953126741668, 828.45570389711497, 1624.4326590391784, 993.68543086654961, 1279.9889736874134, 816.46793105385211, 1159.9257595138768, 2408.0179167060651, 1224.2300465359999, 977.87611394705505, 1114.510476355933, 1115.146503954456, 907.9407249510582, 831.9013297202855, 6.1419949880805476, 228.62076356769526, 12.033308004968411, 6.478807195366052, 300.8747489368883, 6.4968797161424172, 14.316150479891702, 87.588763471596565, 13.284693565782987, 4.1530553387784597, 26.865030338050722, 18.20427390889126, 10.680808231938022, 6.604927540370662, 6.8990271444306455, 9.3360082301658132, 3.4123808983671009, 26.957974787886698, 16.734496987211436, 18.911968274859071, 26.819430934464108, 2.9673353884799116, 9.5848713236175556, 20.36547216918316, 5.2653993630305296, 8.9038682857686169, 160.72214211262383, 5.7500358093449329, 71.048311806305946, 20.667109593408291, 77.363999461249094, 20.379480459239318, 19.860845461361144, 660.13882788130491, 114.93881623142421, 70.879750455261416, 269.6969505219659, 533.59657286144534, 173.23700115955944, 267.33296143351618, 145.13194842865116, 190.25914944504837, 754.39082648620888, 149.54150038697983, 101.39116652688583, 865.96323972389871, 140.19055982702332, 485.53451372137039, 593.15959205423724, 791.00055438895367, 3470.8832070007884, 78.818575571188347, 500.72963430341321, 486.052443419101, 468.60421346024435, 279.66315049745896, 365.26228464873083, 342.59926998126053, 262.05920601446411, 972.19730084207617, 499.23557873120353, 689.74294052504581, 936.20379938212329, 602.0065503693238, 3557.5988354739015, 887.74329988709667, 927.60424861450258, 678.10494266076751, 1159.1251541186473, 1110.2213995792217, 1137.8798208642443, 616.84309184081951, 1637.929914002925, 1045.627149908493, 613.55276791070389, 845.65544732883859, 1265.0265170685543, 721.74373228297429, 693.8779057809121, 908.05395320649416, 654.20782641225446, 833.34632649487048, 989.60946684315559, 887.75737683447767, 805.66331257554975, 726.50390708901875, 780.2012507275798, 783.72920349432411, 680.79319013612212, 689.76017164431096, 14.703458847663843, 17.4480020048398, 4.8977634186173509, 17.033195886824117, 11.410992079565988, 903.79330913512331, 70.938169737002397, 3.7865381857434444, 8.8168918784020693, 7.357092359456038, 13.380686555848971, 9.9429595478814576, 8.1229880277274376, 1.7837860712286293, 2.862176723693246, 44.333132770339965, 1.1574861840405615, 9.4560079158345491, 30.530962824717214, 51.722962505239664, 5.9659443606813261, 22.550513264387426, 20.270683366616602, 42.854439864692814, 8.1213065010714924, 4.5032047273792388, 44.302455982106217, 9.1860275162908405, 5.9945450057401377, 14.887395380962968, 55.412160466807677, 127.53806838409494, 165.45606969273814, 36.334205455834415, 1001.8726225826867, 159.00452556021153, 101.38444119241112, 66.056903484925741, 1129.9609022834452, 440.79272510326223, 575.07827991849774, 316.21012503899505, 632.25263843256289, 1904.4570526966136, 588.53332905001434, 159.96374433934412, 351.06541553019923, 98.815234279032282, 155.78911247271202, 463.38868871490411, 1098.1709009705962, 512.92629573622753, 830.20189321705095, 796.15889833877247, 1024.7943272456737, 313.91580852401091, 1042.4929331383687, 549.27489459556693, 603.33945877329882, 466.84401304787531, 979.61658294677602, 2371.2414736625742, 565.18421715053444, 425.14897363453468, 461.91934269685049, 1118.762178920003, 741.80101133067103, 1158.8113354520472, 576.09055169066596, 830.96774225848776, 870.11810211206227, 669.95654793618348, 630.64065434767815, 1406.7847484237327, 561.31739750048803, 647.08428262871439, 669.92022993200919, 580.33404724973593, 3.5774154804597162, 274.89151955479912, 14.275997495178462, 41.74499277533539, 8.6100518992440609, 2.8366477818179292, 113.15277367851127, 19.221366215336875, 4.9670135326091476, 4.9382766729201553, 6.6937563670660039, 15.069639032325934, 4.0512923454433123, 2.132982325310202, 9.1732438668228937, 21.051618671690658, 2.4216297763310721, 8.2687389825437609, 4.0090553648810818, 16.877378763304254, 20.099903833582115, 33.278852014013239, 12.241645859773662, 1.838063186108728, 2.1483494375261252, 2.7152380520292509, 282.16962870243378, 3.1511220665538251, 3.2881226344139538, 5.9102219526829227, 245.82536738156867, 565.31536128011646, 28.224228146758417, 53.79630966434857, 39.623061088162224, 637.88583994928774, 172.33796074286565, 857.5644797366881, 56.530446995626214, 611.34740292218976, 1839.1851917670649, 428.47446115832912, 78.019083385823564, 103.83298562948777, 140.86464919737267, 53.559120625936963, 542.45345175276304, 315.56789652464676, 1364.1046806187651, 620.21871188750026, 267.33334620412069, 307.38585403676649, 419.22848111517521, 276.85499505677484, 949.21003386015514, 455.40268789095654, 371.12785492657099, 212.85774334597212, 418.22603933076914, 449.37075013020598, 2114.2225925348298, 752.98225526180204, 396.00243975384376, 332.7811949800693, 951.7871525836581, 373.36601109472934, 456.64351969825276, 782.00263159370104, 788.20274870954893, 601.14965998863136, 723.32106696765197, 466.03842824432303, 603.87141678867158, 1707.5852373920054, 462.68320982054433, 698.09487972738748, 482.52561152301422, 680.03690211815422, 509.29741368322794, 549.21025088837814, 567.55051862188429, 537.40148606212176, 598.3001177138276, 488.41115442020077, 527.59862451742708, 514.52712518657074, 516.29466567546012, 493.24469206127077, 1874.5389082106899, 1204.174560774333, 22.929640093025064, 20.852930307442701, 124.88011561719449, 10.391649833942225, 20.378718718625088, 128.48815553263955, 19.964705333554058, 202.70408866775819, 150.86504039864698, 9.8564451782272808, 18.963995805323229, 34.8537767018449, 47.805241935087338, 109.09920307102679, 131.61945943526854, 38.278623909923297, 7.2140020309332122, 45.017596836136427, 9.2058433075052388, 14.509919409253191, 172.28279310451288, 71.860705304435015, 13.745078403988089, 659.81171086963764, 26.995642515095025, 14.097394383514088, 20.113774803625045, 21.290447581647062, 50.270779915000972, 283.29765393592623, 273.56433005349373, 59.112283989091011, 56.57414296761366, 165.19413865864217, 301.14826196280256, 157.54020234974402, 62.744555782121779, 209.16409246051109, 108.53695557590122, 93.014918335564829, 244.20153470985963, 128.10007931203822, 87.490985635063112, 86.52135018519003, 123.68455837499052, 464.46576260287384, 572.68451738919873, 97.176477144626276, 799.60001296264431, 518.06043939671633, 751.09906535799428, 779.89049077145035, 510.62984219857952, 1610.7309855425781, 1094.632167178469, 398.17582740089659, 576.07209108936433, 1651.7718671585681, 417.39493508570854, 838.28655628823526, 760.25018523361894, 485.79753108055843, 633.25990910889709, 431.65055094739023, 416.97806608706878, 447.2075890222236, 507.21332143623596, 578.08654201977288, 585.10690791816421, 498.520823676926, 529.58914114366826, 487.39376865580135, 473.89880195591718, 453.02182321501579, 433.69264623525345, 431.46013464380212, 434.10351643166348, 7.3870969164935456, 8.2469550134237188, 14.356414228315463, 1.7602885940854089, 1.7942981165902374, 3.3896656069312741, 4.4811838750561996, 14.670202409397898, 2.107273154170243, 5.7218188156983567, 2.2679605349216954, 3.1995583502845024, 8.2202829991010749, 2.6856552877297455, 11.961582347816359, 4.6641253418677442, 4.4084873542952501, 19.65987099712958, 4.3341176148573837, 35.060442465880904, 20.766823063230675, 60.579458897679714, 68.249916520205574, 3.2058106638399897, 43.536857288558885, 4.0015962623117138, 9.5626528357633998, 27.189802917766048, 3.9059636497804688, 9.4773494478681357, 28.915753443550056, 47.856218379904185, 101.7767429717328, 105.78607228865825, 694.0647788542401, 117.75249104451176, 29.333392498488166, 67.650038151066994, 40.431404541462577, 61.92477400188308, 76.855927976812609, 162.68517345139645, 78.889541182990271, 54.161289655543058, 2402.5973118970069, 140.4825016561492, 739.07036411650358, 172.04463770467248, 213.89824633611045, 271.67769330893458, 484.65820562541955, 348.56587963944691, 259.10771222923211, 311.86671790746448, 213.0110889571136, 113.50728610347618, 124.10328436739481, 183.40407062371878, 117.97515150610049, 253.57934727951286, 1364.0501857146683, 355.79723446616998, 496.57406964674936, 551.8378654489743, 382.69843982883174, 567.76148297933423, 486.53867927362091, 273.93841093757374, 698.09036986466151, 418.24610823545237, 471.80065497226195, 251.98675082700314, 530.73387731123046, 340.48915065398012, 412.04494189037143, 415.43734030473399, 319.58481422949848, 324.19629358270373, 454.84373105493756, 467.61898541396874, 334.67136866081745, 633.70094051884109, 333.68637347104635, 440.92640771373345, 342.03501985301358, 409.00889549476449, 336.70196582523351, 326.09710145360867, 351.27360417645787, 327.27724056673935, 4.77419714722439, 3.0245219840790667, 1.6913962521810348, 31.358634567085002, 12.173508188536369, 1.4994784454076546, 8.3423066398720085, 3.7736593666984501, 6.4053624526269299, 6.1331948724497396, 4.5202064482006747, 31.218979006967544, 3.1371997265778329, 1.539287596421713, 5.3812100006762886, 1.445965901607474, 4.0615413943991063, 14.678278229944086, 2.04537800974708, 4.6094157059969696, 4.3500052603585564, 2.2713227417173942, 3.4203829167006043, 8.9023543980201136, 5.8728849127445359, 2.3105222832514039, 1.3560308816977908, 3.0692132941549577, 1.4775089620648272, 27.251375140060109, 29.154750584502612, 28.029938670105437, 9.9836154682443414, 17.004873132105899, 20.282660879936088, 8.53446495918244, 26.899810956020293, 51.022523720993938, 106.16768700013485, 75.803363313493577, 34.983948625055781, 308.29548498406115, 274.33239311704813, 48.640929273302234, 918.86962522410909, 71.413678242016132, 303.35295964363894, 45.08470214191383, 51.764330295086232, 89.428684331113516, 70.220184641844511, 290.48051581832186, 235.45234864279112, 129.146431499465, 122.28197323272941, 61.982910115207453, 120.90866965141198, 409.69311234459764, 180.35723701234963, 81.925272030474673, 620.85215964869349, 81.054289793326205, 1365.0753701736962, 234.08805647121201, 367.32609393608232, 263.21507370150118, 285.08525647134633, 459.22606846726023, 456.46860770758281, 387.11757347598086, 437.64754849443017, 152.87928665996321, 383.90319027904184, 326.76374903434436, 193.87318370497377, 274.60251114837911, 274.71888958609526, 469.06564062433273, 232.02117234594257, 186.78372618764058, 866.30814330065846, 182.30563525089121, 293.99907175977091, 303.97788910624246, 327.91853477443391, 233.3077431007909, 359.26131498194121, 286.31717593924537, 316.57211037490163, 305.56351258254438, 304.72633106365049, 247.79995094179856, 255.87506162275727, 56.005231790245979, 13.93248935992222, 12.969378813933167, 1.4266120171076941, 13.342399327616144, 5.1196626698558179, 33.960390888922007, 12.907642004276271, 13.068979314391546, 1.5036572310646306, 3.8575184097983208, 1.1989670372922618, 3.0047973026567623, 36.369738784530909, 1.583545186114047, 3.5939449560347527, 3.1974496904687513, 12.083771497892311, 53.120060594604567, 35.179783863206801, 1.5321437400239211, 14.929960421998084, 11.234113396037861, 1.3065998528068459, 36.235316772203177, 3.1768714398960913, 0.53977799560223017, 26.547971430265157, 1.9971137693765582, 1.6823804770702717, 53.263289961706164, 13.277769454378593, 11.719366695928514, 41.531930338758443, 18.506273272493232, 17.819755250188628, 17.996259841585371, 18.501681682975896, 480.71195842619085, 14.191694679878019, 176.6391625815566, 1624.9533090923055, 382.00261510314442, 531.31445286178541, 426.72200030664675, 424.78442589122864, 126.82632760482146, 560.17504962300188, 280.20405575340396, 305.85726558223263, 406.9820280797062, 115.86977104760672, 122.22718522246973, 98.359034905655633, 421.76951393757861, 224.29576608944342, 177.55570687205679, 235.97598936933863, 265.81446029780761, 263.42155976779134, 412.78887795243935, 239.37305278074373, 384.93612423829705, 218.13035284553101, 337.62807233604178, 829.39582138432331, 245.25562664949848, 251.87711832568604, 193.46663702960248, 193.94831882347248, 266.33507589273086, 475.59246461679641, 411.97470488125413, 266.96784494308395, 228.22532027024891, 328.98567672633396, 260.24515315290751, 296.54943208320987, 255.05842738584701, 229.46590502522841, 4.794726515088092, 3.9122487763194878, 1.2289866591696588, 52.355651209857662, 0.96517479050026622, 0.93680702192834364, 2.4955017266468715, 1.9690545987109949, 0.97535432448511239, 1.1248514937084226, 15.425399830315644, 0.55938783046348606, 7.4038748827057059, 2.0567563227803602, 3.5145130320489701, 4.1522325724977671, 2.210443243147231, 0.46203689259143249, 12.233879491460232, 1.5552673781977158, 6.7509319596932418, 5.8286006827466608, 5.8922471512480143, 1.1041500099847903, 2.1477970008796126, 16.089606275841412, 3.1765029894334602, 1.2395233939509669, 1.2508672996036232, 3.6698499661286736, 366.2295185263493, 13.561785874683334, 15.676383980467719, 79.701753921025883, 64.779739661612382, 8.5801807408330433, 84.335741172934789, 27.496108514729787, 6.5145264852321496, 92.778163335498178, 328.27546882263215, 407.6989024312175, 74.007903255998244, 556.98674309242347, 413.12902074679283, 122.22557359463076, 1216.6906736274245, 199.63157061360707, 165.21112077719678, 92.685060922797859, 94.62054865422563, 244.06056482500301, 157.29239752029986, 119.61812335833528, 231.41595309261763, 159.73829677940466, 287.25886464920296, 328.29219776384718, 315.5458984411037, 433.97984893314685, 159.65667022815248, 320.2694535091768, 362.79922244179079, 222.24068158854317, 264.02548875265984, 180.17302232779133, 224.61762873850984, 515.94770418081634, 270.67389602657181, 271.08842521345059, 339.16429745741669, 694.06705366647509, 253.62351244628738, 319.43959385695393, 215.89950656877514, 255.50385559532873, 306.49095524242466, 194.90816956427756, 256.36715948203118, 229.01557157460275, 253.95506900912989, 229.55788253127946], \"Total\": [26614.0, 5773.0, 13032.0, 21644.0, 10579.0, 6378.0, 8047.0, 3734.0, 9287.0, 6618.0, 4878.0, 6633.0, 7993.0, 6804.0, 7721.0, 5628.0, 7990.0, 5792.0, 7599.0, 7379.0, 6662.0, 5644.0, 4083.0, 3878.0, 7819.0, 5604.0, 5870.0, 4017.0, 4528.0, 5494.0, 154.87295845440926, 20.138548198416121, 43.187766394272444, 1087.4141306453034, 56.456019323386272, 99.608500646037157, 1087.9866748020836, 862.27143194494386, 28.101276262770696, 83.821704382331617, 230.37620123931976, 15.883525546146009, 938.31888145790981, 54.409659859675038, 38.914765756042819, 22.277924227675381, 62.760146070840172, 36.41559990847415, 348.00847281801458, 60.298738131036842, 106.97642984871212, 21.25468167197479, 25.39187667060877, 130.18985040250996, 56.969515060653173, 1179.2610938710679, 59.121503919276499, 53.853476279658473, 21.17087217754273, 78.959551549028987, 319.40779782729004, 21644.714809818615, 5494.3490827040032, 607.1714700226396, 178.92118149419605, 675.30858023074359, 1322.7052520156403, 1113.4465588368321, 814.31276423791701, 1701.8711948516107, 934.24792247784251, 854.95370046119831, 3884.624203055921, 1751.7010686469873, 538.71882192764633, 484.65745762408949, 3473.2508916116626, 26614.859974422485, 9287.1873531664987, 1044.3794701451193, 4426.7903347954189, 2373.6830440804765, 3356.2362794495662, 3639.8297901742553, 6804.5232160001096, 7721.0518365795688, 3548.5836939719206, 4714.3033284192597, 2013.9118176379466, 2875.2474321201439, 4639.6400706077784, 7379.6351773987562, 3308.3788462869893, 6633.9505706462678, 2091.8865140190619, 6662.0942046238224, 4550.9399723764291, 10579.640119118845, 4456.4663842383034, 3871.1190742186864, 4778.5656806621673, 7990.7791486565811, 7819.5643195413486, 7993.4883644432584, 4901.8312338137748, 5858.9259632057128, 8047.3382625723043, 5628.2293608005848, 13032.873405747356, 7599.6488894972435, 6378.8796263922395, 6618.4001101885151, 4486.7120110187943, 4878.0925442210737, 202.63578587247167, 209.34638194625268, 68.655662838947833, 65.896210431087027, 139.27695278242973, 65.36655126046756, 61.250907032256606, 55.421363816168707, 32.132411768114494, 61.320587320692823, 55.955288088881765, 78.256426685231318, 31.72835492123086, 80.93669199082953, 60.809192516779284, 20.061278492599666, 54.639761137795567, 22.121733311007379, 31.04873148372215, 186.2310395117571, 226.222546977717, 52.102976992390097, 103.06252918507303, 102.92825977767566, 27.833013000863552, 56.62156960654886, 93.579603887171487, 185.45632378247055, 35.128071896059836, 37.584608586897346, 3315.2090191728639, 318.69020583681527, 296.29676451952173, 135.79435665492556, 198.81187701799362, 77.489116240268487, 1061.7675349188776, 562.73330191137916, 241.04189516560041, 117.7102838878001, 790.08271964199446, 4108.017976916778, 577.03927342765951, 26614.859974422485, 8047.3382625723043, 2918.4602683901221, 1735.789497974097, 447.67723782905182, 4528.2683480304713, 332.7214007267284, 6618.4001101885151, 1793.3270556085072, 1775.1376897921539, 1439.9525376173551, 5898.6496635407675, 1093.7895723790714, 847.79522385946768, 5792.4517899307521, 2076.625335870845, 1246.45400596218, 1236.6468609086955, 6633.9505706462678, 6804.5232160001096, 4878.0925442210737, 5870.6385531598862, 6378.8796263922395, 1789.2052172804199, 1961.889980131959, 7819.5643195413486, 5628.2293608005848, 919.08223799984705, 13032.873405747356, 9287.1873531664987, 4197.9264439322214, 4486.7120110187943, 4403.3921729250687, 10579.640119118845, 5644.7391376003934, 7990.7791486565811, 4376.2913230204576, 7379.6351773987562, 21644.714809818615, 7993.4883644432584, 5858.9259632057128, 7599.6488894972435, 7721.0518365795688, 5604.6508609853663, 4768.4490799275554, 22.207817672145108, 963.39293264645642, 50.950759536665409, 27.898387251818839, 1296.2576548413888, 28.020703242803087, 62.185795306319378, 381.45806428378353, 58.837061847170624, 18.411155254443287, 120.37636540457765, 82.01970179985949, 48.155241558731539, 29.947193192555613, 31.297885593434867, 42.402385822467572, 15.523137345519347, 123.27156352109213, 76.763706653299209, 86.868487135740182, 123.35101032997129, 13.739787752861435, 44.410397334585824, 94.365930354004135, 24.416705710056473, 41.38856791926171, 747.9330473461157, 26.780060084328507, 331.41969936519121, 96.427557103536131, 362.85097663322586, 95.137534490238593, 93.113946995979333, 3229.0245867799508, 548.65197522157462, 340.05743904715234, 1347.3584310930808, 2734.4934294678665, 859.45769867406591, 1346.8679324005157, 719.12090730846342, 954.12889342136361, 4017.7482990955773, 744.90614951969872, 501.43357586508193, 4778.5656806621673, 707.12510504373745, 2645.8126178717725, 3298.0488680428252, 4486.7120110187943, 21644.714809818615, 388.22303235270397, 2788.9358028518172, 2705.2600665345162, 2601.0951296209769, 1496.4924450901531, 2005.6490504330411, 1871.2685129803203, 1399.399383368841, 5858.9259632057128, 2835.6275009205769, 4109.5468759952191, 5773.9792841311564, 3548.5836939719206, 26614.859974422485, 5604.6508609853663, 5898.6496635407675, 4197.9264439322214, 7993.4883644432584, 7721.0518365795688, 7990.7791486565811, 3871.1190742186864, 13032.873405747356, 7599.6488894972435, 3878.6083497217519, 5870.6385531598862, 10579.640119118845, 4901.8312338137748, 4768.4490799275554, 7379.6351773987562, 4376.2913230204576, 6618.4001101885151, 9287.1873531664987, 7819.5643195413486, 6662.0942046238224, 5644.7391376003934, 6804.5232160001096, 8047.3382625723043, 5792.4517899307521, 6633.9505706462678, 57.31063497630312, 75.460609677872014, 21.649143301545728, 75.356440936451548, 51.225469391911169, 4083.5053265896013, 322.11251576592633, 17.241613782593348, 41.455225346530383, 34.922154125532579, 66.038652619486371, 49.202062894580123, 40.369134635362911, 8.9042699992558365, 14.298227030531361, 222.97266565504989, 5.831495308967324, 47.709450215963315, 154.27326853169666, 261.71558976399501, 30.197179835389569, 114.17914579142817, 102.98122018257909, 218.1495287778782, 41.528659349151482, 23.136244915232236, 227.80932846425105, 47.441458820265424, 31.22704636557372, 77.590332836015207, 290.11581455873926, 677.83003754552601, 885.6984911212204, 191.84844929396075, 5792.4517899307521, 875.56284944314689, 552.72130027362437, 356.31106884977044, 6662.0942046238224, 2601.2909802327003, 3470.2763419837916, 1871.4451393892375, 3977.5312722069502, 13032.873405747356, 3797.5907505364585, 941.42003977814193, 2199.3475582916763, 563.31062839726792, 925.75673864254475, 3035.096868643217, 7819.5643195413486, 3436.5143876467323, 5870.6385531598862, 5644.7391376003934, 7599.6488894972435, 2040.9656535953479, 7993.4883644432584, 3878.6083497217519, 4376.2913230204576, 3281.0834188723338, 7721.0518365795688, 21644.714809818615, 4109.5468759952191, 2965.3883730537345, 3271.3731016015131, 9287.1873531664987, 5898.6496635407675, 10579.640119118845, 4550.9399723764291, 7379.6351773987562, 7990.7791486565811, 5604.6508609853663, 5858.9259632057128, 26614.859974422485, 4901.8312338137748, 6804.5232160001096, 8047.3382625723043, 6378.8796263922395, 18.390509433702338, 1467.1437572190741, 76.422029149001276, 227.1325749290437, 46.998220157316652, 15.504260687338782, 626.72897921161962, 106.47258822328055, 27.697018415752769, 27.743710480915393, 37.754307035338897, 85.791717960754369, 23.132288312504148, 12.252944889168676, 52.913184658991312, 121.76046895588924, 14.029745945799775, 48.139374071909124, 23.357382097009037, 98.368663316304094, 117.20671045050393, 194.59039497766054, 71.593129345037866, 10.75714259769228, 12.607060167065528, 16.00223527209597, 1666.4263301985479, 18.647783834958215, 19.470771692571876, 35.041125712354315, 1469.1321199470267, 3472.9940921649236, 168.39624731187405, 325.06968198582956, 238.77418771535983, 3977.5312722069502, 1073.9865188218578, 5604.6508609853663, 350.248492300252, 4109.5468759952191, 13032.873405747356, 2859.210117853685, 488.8214630261175, 661.27358076132327, 911.62856115016825, 337.98240614938203, 3878.6083497217519, 2218.1522406845024, 10579.640119118845, 4594.7580044484666, 1871.4451393892375, 2178.8758202649788, 3042.9033940858658, 1958.4556805608631, 7599.6488894972435, 3436.5143876467323, 2822.2262556987503, 1527.7580592801799, 3271.3731016015131, 3593.3224778269569, 21644.714809818615, 6662.0942046238224, 3169.4442606317298, 2597.3234477347514, 9287.1873531664987, 3026.2353881592198, 3884.624203055921, 7819.5643195413486, 7993.4883644432584, 5644.7391376003934, 7379.6351773987562, 4057.1609536373176, 5870.6385531598862, 26614.859974422485, 4017.7482990955773, 7990.7791486565811, 4403.3921729250687, 8047.3382625723043, 4901.8312338137748, 5858.9259632057128, 6633.9505706462678, 5792.4517899307521, 7721.0518365795688, 4639.6400706077784, 5898.6496635407675, 5494.3490827040032, 6618.4001101885151, 6378.8796263922395, 5773.9792841311564, 3734.7145902155098, 77.011667811394517, 71.230292113372244, 434.56075649665945, 36.596768074922181, 72.360127110974958, 460.08844722770988, 72.72207127770001, 741.29281298851402, 559.81808331716206, 36.609058120996529, 70.472976821248409, 130.06470437145049, 178.50609993674388, 409.53666097822071, 496.03809659578985, 144.7339911250595, 27.472099028779091, 175.69498435740141, 36.038698580198179, 57.205800493340526, 683.61471954201238, 285.16043357759952, 54.810934632674105, 2635.5739428053471, 108.08312548189453, 56.448918268724363, 80.69392637681058, 85.481521176390231, 202.30890317923081, 1163.2353165369934, 1188.134068127612, 245.49972215081343, 235.41365312403227, 719.12090730846342, 1346.8679324005157, 695.92127260647658, 265.77337998763829, 1018.9762025032235, 501.43357586508193, 421.30499596349284, 1311.776378446061, 619.99505016135583, 394.39414710110111, 393.94200389821259, 620.36482018874449, 3540.724202944366, 4671.4957820675054, 473.6089590247488, 7990.7791486565811, 4456.4663842383034, 7379.6351773987562, 7819.5643195413486, 4426.7903347954189, 21644.714809818615, 13032.873405747356, 3238.2898732732328, 5494.3490827040032, 26614.859974422485, 3660.4324875371694, 10579.640119118845, 9287.1873531664987, 4714.3033284192597, 7721.0518365795688, 4057.1609536373176, 4017.7482990955773, 4594.7580044484666, 5858.9259632057128, 7599.6488894972435, 7993.4883644432584, 5792.4517899307521, 8047.3382625723043, 6662.0942046238224, 6618.4001101885151, 6633.9505706462678, 5898.6496635407675, 5628.2293608005848, 6804.5232160001096, 49.063108531298703, 54.867194340134382, 100.00370341702806, 12.374777910534982, 12.710492084442615, 24.377984929387754, 32.614555121057478, 108.56871067241744, 15.680062127562957, 42.730044494742991, 16.998412152587093, 24.063944344153878, 61.876979712270376, 20.217876690861253, 90.351929422771306, 35.390470039480405, 33.658714660318751, 150.11624238074435, 33.159536288078506, 268.74932433853525, 161.01835468083385, 469.74595695382988, 530.14549774940667, 24.983037080724152, 340.50532084407121, 31.394116059754385, 75.334601897329193, 214.30019003501039, 30.801763003443973, 74.754217008501314, 228.78891734123425, 388.86776936498023, 857.06445923087563, 896.82303963190884, 6378.8796263922395, 1022.2957897087795, 241.04189516560041, 582.4845030980257, 340.46517410286526, 533.60688426629838, 674.61306275166703, 1501.8299613244503, 699.48205346956399, 470.06848875122154, 26614.859974422485, 1308.1791790512139, 8047.3382625723043, 1666.4263301985479, 2115.5157086997442, 2822.2262556987503, 5628.2293608005848, 3926.1313318754624, 2859.210117853685, 3540.724202944366, 2284.6209995210143, 1109.3995212369421, 1239.5871363703143, 1969.1526573441065, 1173.9018902753069, 2918.4602683901221, 21644.714809818615, 4403.3921729250687, 6618.4001101885151, 7599.6488894972435, 4878.0925442210737, 7990.7791486565811, 6633.9505706462678, 3271.3731016015131, 10579.640119118845, 5644.7391376003934, 6662.0942046238224, 2985.6302124362674, 7993.4883644432584, 4456.4663842383034, 5773.9792841311564, 5858.9259632057128, 4108.017976916778, 4197.9264439322214, 6804.5232160001096, 7721.0518365795688, 4594.7580044484666, 13032.873405747356, 4671.4957820675054, 7819.5643195413486, 4901.8312338137748, 7379.6351773987562, 4778.5656806621673, 4550.9399723764291, 9287.1873531664987, 5898.6496635407675, 40.481047527303375, 25.855707450375661, 14.826615319692896, 278.42294704437637, 108.4285121706581, 13.456455285842825, 75.460609677872014, 34.312494734982522, 58.347918051452446, 56.673263714970346, 42.753896650277149, 297.86561192601204, 30.197179835389569, 15.087549808297391, 52.869982976613869, 14.310150153565269, 40.396918826739437, 146.08546822652121, 20.410333560098408, 46.073341393784581, 43.620453266157313, 22.806168861687766, 34.407468703593551, 89.610695475526995, 59.50729208249097, 23.414177146076074, 13.781284229019228, 31.36015719436848, 15.151914079726446, 279.62824529358113, 303.19484620369371, 291.42965897833835, 102.9340926934676, 176.83939353725791, 213.07126750983576, 88.240668845415257, 290.11581455873926, 571.86317506403202, 1231.5306597711631, 875.56284944314689, 389.4017799591428, 3878.6083497217519, 3470.2763419837916, 552.42817462845676, 13032.873405747356, 852.38220353315614, 4109.5468759952191, 523.11939919258953, 610.03142347534811, 1109.3995212369421, 857.06445923087563, 4083.5053265896013, 3271.3731016015131, 1679.6440076504282, 1598.3589675404605, 747.9330473461157, 1592.6028876455782, 6378.8796263922395, 2512.7275797299208, 1030.1753395516034, 10579.640119118845, 1022.2957897087795, 26614.859974422485, 3472.9940921649236, 5870.6385531598862, 4057.1609536373176, 4528.2683480304713, 7993.4883644432584, 7990.7791486565811, 6618.4001101885151, 7819.5643195413486, 2199.3475582916763, 6804.5232160001096, 5628.2293608005848, 2985.6302124362674, 4639.6400706077784, 4671.4957820675054, 9287.1873531664987, 3797.5907505364585, 2859.210117853685, 21644.714809818615, 2816.6592965249142, 5604.6508609853663, 5898.6496635407675, 6633.9505706462678, 4017.7482990955773, 8047.3382625723043, 5644.7391376003934, 7599.6488894972435, 7379.6351773987562, 7721.0518365795688, 4768.4490799275554, 6662.0942046238224, 505.2115472219545, 126.51365431063844, 124.00054537953844, 13.685014009419007, 130.14929787514458, 49.987754746095561, 333.47330848192934, 130.17585674548025, 132.98496094874196, 15.562385374958888, 40.385049554879636, 12.59902225078231, 31.637491780468576, 383.75643538747329, 16.711547283314701, 37.987357783839748, 33.887859334402648, 128.80786120682154, 569.70925223147947, 379.29696596211738, 16.532007079136324, 162.64538832193148, 122.44138839835344, 14.300337064269065, 396.97855078491818, 34.816754613466401, 5.9163112105439195, 292.25288456969969, 22.014922941902849, 18.636746981329246, 590.10040777271251, 147.34066679919988, 129.88601178201429, 466.41574860048769, 207.11542961317141, 199.30456376312509, 204.92592373692958, 212.62640033326736, 6618.4001101885151, 163.81737272565007, 2441.0892572807415, 26614.859974422485, 5628.2293608005848, 8047.3382625723043, 6378.8796263922395, 6633.9505706462678, 1775.1376897921539, 9287.1873531664987, 4376.2913230204576, 4878.0925442210737, 6804.5232160001096, 1679.6440076504282, 1793.3270556085072, 1409.9974503765332, 7599.6488894972435, 3660.4324875371694, 2822.2262556987503, 4017.7482990955773, 4671.4957820675054, 4639.6400706077784, 7993.4883644432584, 4189.5704776744624, 7721.0518365795688, 3804.2164393498847, 6662.0942046238224, 21644.714809818615, 4486.7120110187943, 4768.4490799275554, 3412.8604275664607, 3473.2508916116626, 5494.3490827040032, 13032.873405747356, 10579.640119118845, 5604.6508609853663, 4426.7903347954189, 7990.7791486565811, 5644.7391376003934, 7379.6351773987562, 5792.4517899307521, 4550.9399723764291, 42.730044494742991, 35.390470039480405, 12.374777910534982, 530.14549774940667, 10.162170818462195, 9.9330013866908757, 27.253780798650709, 21.857756326875645, 10.884670562432547, 12.710492084442615, 176.67227422951504, 6.4154764206087638, 85.875834382735746, 24.063944344153878, 41.280520031066217, 48.82692022298459, 26.28974626720856, 5.5050163817940101, 149.00100135469577, 19.038868592731074, 82.882425726490538, 72.769480402056701, 73.860188042154661, 13.886356440112147, 27.012813452564906, 203.2450385201563, 40.173452724651831, 15.680062127562957, 15.896468299739388, 46.854101910011025, 4878.0925442210737, 177.52491160517133, 206.1715588568764, 1093.7895723790714, 898.10227764048318, 112.45007566616879, 1245.5821898323202, 388.34759718181539, 85.661232850665442, 1481.4512029562832, 5792.4517899307521, 7379.6351773987562, 1166.6887885668432, 10579.640119118845, 7721.0518365795688, 2035.893550398956, 26614.859974422485, 3593.3224778269569, 2918.4602683901221, 1539.2608756795942, 1575.6034595656265, 4528.2683480304713, 2816.6592965249142, 2073.8879419335494, 4376.2913230204576, 2893.9406412596127, 5644.7391376003934, 6633.9505706462678, 6378.8796263922395, 9287.1873531664987, 2965.3883730537345, 6804.5232160001096, 8047.3382625723043, 4426.7903347954189, 5494.3490827040032, 3473.2508916116626, 4594.7580044484666, 13032.873405747356, 5858.9259632057128, 5870.6385531598862, 7990.7791486565811, 21644.714809818615, 5628.2293608005848, 7993.4883644432584, 4550.9399723764291, 5898.6496635407675, 7819.5643195413486, 3977.5312722069502, 6618.4001101885151, 5604.6508609853663, 7599.6488894972435, 6662.0942046238224], \"logprob\": [30.0, 29.0, 28.0, 27.0, 26.0, 25.0, 24.0, 23.0, 22.0, 21.0, 20.0, 19.0, 18.0, 17.0, 16.0, 15.0, 14.0, 13.0, 12.0, 11.0, 10.0, 9.0, 8.0, 7.0, 6.0, 5.0, 4.0, 3.0, 2.0, 1.0, -9.5784000000000002, -11.6432, -10.890599999999999, -7.7172999999999998, -10.6813, -10.114100000000001, -7.7244000000000002, -7.9793000000000003, -11.409700000000001, -10.319900000000001, -9.3142999999999994, -11.9931, -7.9150999999999998, -10.781700000000001, -11.1236, -11.682600000000001, -10.653600000000001, -11.198, -8.9441000000000006, -10.702, -10.1311, -11.7476, -11.576499999999999, -9.9448000000000008, -10.782, -7.7568000000000001, -10.752000000000001, -10.849299999999999, -11.783200000000001, -10.4686, -9.0795999999999992, -4.9367000000000001, -6.2882999999999996, -8.4657, -9.6689000000000007, -8.3832000000000004, -7.7428999999999997, -7.9156000000000004, -8.2199000000000009, -7.5259, -8.0961999999999996, -8.1823999999999995, -6.7609000000000004, -7.5133000000000001, -8.6233000000000004, -8.7243999999999993, -6.8806000000000003, -4.9901, -5.9715999999999996, -8.0047999999999995, -6.6687000000000003, -7.2435, -6.9267000000000003, -6.8531000000000004, -6.2870999999999997, -6.1755000000000004, -6.8848000000000003, -6.6308999999999996, -7.4004000000000003, -7.0812999999999997, -6.6589999999999998, -6.2522000000000002, -6.9600999999999997, -6.3548999999999998, -7.3700000000000001, -6.3815, -6.7077999999999998, -6.0008999999999997, -6.7272999999999996, -6.8575999999999997, -6.6868999999999996, -6.3003999999999998, -6.3323, -6.3276000000000003, -6.6909999999999998, -6.5629, -6.3421000000000003, -6.5972, -6.0510000000000002, -6.4192, -6.5926999999999998, -6.6199000000000003, -6.7897999999999996, -6.7873000000000001, -9.2881999999999998, -9.2720000000000002, -10.3978, -10.4567, -9.7199000000000009, -10.481, -10.5534, -10.661199999999999, -11.2121, -10.584, -10.6868, -10.358599999999999, -11.266299999999999, -10.33, -10.6168, -11.726900000000001, -10.7287, -11.6334, -11.294700000000001, -9.5065000000000008, -9.3141999999999996, -10.788600000000001, -10.1068, -10.108599999999999, -11.417299999999999, -10.707800000000001, -10.2058, -9.5221999999999998, -11.1877, -11.120799999999999, -6.6619000000000002, -8.9884000000000004, -9.0620999999999992, -9.8369, -9.4682999999999993, -10.398899999999999, -7.8414000000000001, -8.4619, -9.2919, -9.9905000000000008, -8.1472999999999995, -6.569, -8.4556000000000004, -4.8078000000000003, -5.9488000000000003, -6.9200999999999997, -7.4146999999999998, -8.7068999999999992, -6.5338000000000003, -8.9893999999999998, -6.1881000000000004, -7.4119000000000002, -7.4255000000000004, -7.6262999999999996, -6.3243999999999998, -7.8834, -8.1219999999999999, -6.3544, -7.3018000000000001, -7.7697000000000003, -7.7786999999999997, -6.2549000000000001, -6.2438000000000002, -6.5629, -6.4013999999999998, -6.3384999999999998, -7.4630000000000001, -7.3853999999999997, -6.2405999999999997, -6.5274999999999999, -8.0533999999999999, -5.8836000000000004, -6.1730999999999998, -6.8182999999999998, -6.7732999999999999, -6.7999999999999998, -6.1265999999999998, -6.6181000000000001, -6.3648999999999996, -6.8146000000000004, -6.4634, -5.7329999999999997, -6.4095000000000004, -6.6341999999999999, -6.5034000000000001, -6.5027999999999997, -6.7084000000000001, -6.7957999999999998, -11.4694, -7.8525, -10.796900000000001, -11.4161, -7.5778999999999996, -11.4133, -10.623200000000001, -8.8118999999999996, -10.698, -11.8607, -9.9938000000000002, -10.382899999999999, -10.9161, -11.396800000000001, -11.353199999999999, -11.050700000000001, -12.0572, -9.9902999999999995, -10.4671, -10.344799999999999, -9.9954999999999998, -12.196899999999999, -11.0244, -10.2707, -11.6234, -11.098100000000001, -8.2049000000000003, -11.535399999999999, -9.0212000000000003, -10.256, -8.9360999999999997, -10.270099999999999, -10.2958, -6.7920999999999996, -8.5402000000000005, -9.0236000000000001, -7.6872999999999996, -7.0049000000000001, -8.1298999999999992, -7.6961000000000004, -8.3069000000000006, -8.0361999999999991, -6.6586999999999996, -8.2769999999999992, -8.6655999999999995, -6.5206999999999997, -8.3415999999999997, -7.0993000000000004, -6.8990999999999998, -6.6113, -5.1323999999999996, -8.9174000000000007, -7.0685000000000002, -7.0983000000000001, -7.1348000000000003, -7.6509999999999998, -7.3840000000000003, -7.4480000000000004, -7.7160000000000002, -6.4050000000000002, -7.0715000000000003, -6.7483000000000004, -6.4428000000000001, -6.8842999999999996, -5.1077000000000004, -6.4958999999999998, -6.452, -6.7652999999999999, -6.2291999999999996, -6.2723000000000004, -6.2477, -6.8600000000000003, -5.8834, -6.3322000000000003, -6.8653000000000004, -6.5445000000000002, -6.1417000000000002, -6.7028999999999996, -6.7423000000000002, -6.4733000000000001, -6.8011999999999997, -6.5590999999999999, -6.3872999999999998, -6.4958999999999998, -6.5929000000000002, -6.6962999999999999, -6.625, -6.6204999999999998, -6.7613000000000003, -6.7481999999999998, -10.3767, -10.205500000000001, -11.476000000000001, -10.2296, -10.6302, -6.2580999999999998, -8.8028999999999993, -11.7333, -10.8881, -11.069100000000001, -10.4709, -10.767899999999999, -10.9701, -12.486000000000001, -12.013199999999999, -9.2729999999999997, -12.9185, -10.818099999999999, -9.6460000000000008, -9.1188000000000002, -11.278700000000001, -9.9489999999999998, -10.0556, -9.3069000000000006, -10.9703, -11.56, -9.2736999999999998, -10.847099999999999, -11.273899999999999, -10.3642, -9.0500000000000007, -8.2163000000000004, -7.9560000000000004, -9.4719999999999995, -6.1551, -7.9958, -8.4458000000000002, -8.8742000000000001, -6.0347999999999997, -6.9762000000000004, -6.7102000000000004, -7.3083, -6.6154999999999999, -5.5128000000000004, -6.6871, -7.9897999999999998, -7.2038000000000002, -8.4715000000000007, -8.0161999999999995, -6.9261999999999997, -6.0632999999999999, -6.8246000000000002, -6.3430999999999997, -6.3849999999999998, -6.1325000000000003, -7.3155999999999999, -6.1154000000000002, -6.7561999999999998, -6.6623000000000001, -6.9188000000000001, -6.1776, -5.2935999999999996, -6.7275999999999998, -7.0122999999999998, -6.9294000000000002, -6.0448000000000004, -6.4557000000000002, -6.0095999999999998, -6.7084999999999999, -6.3422000000000001, -6.2961, -6.5575000000000001, -6.6180000000000003, -5.8156999999999996, -6.7344999999999997, -6.5922999999999998, -6.5575999999999999, -6.7011000000000003, -11.682399999999999, -7.3407, -10.298500000000001, -9.2255000000000003, -10.8041, -11.914400000000001, -8.2283000000000008, -10.000999999999999, -11.354200000000001, -11.359999999999999, -11.055899999999999, -10.244400000000001, -11.558, -12.1995, -10.7408, -9.9100999999999999, -12.0726, -10.8446, -11.5685, -10.1311, -9.9563000000000006, -9.4520999999999997, -10.452199999999999, -12.3483, -12.192299999999999, -11.9582, -7.3144999999999998, -11.8093, -11.7667, -11.180400000000001, -7.4523999999999999, -6.6196999999999999, -9.6168999999999993, -8.9718, -9.2775999999999996, -6.4988999999999999, -7.8075999999999999, -6.2028999999999996, -8.9222999999999999, -6.5414000000000003, -5.4400000000000004, -6.8967999999999998, -8.6000999999999994, -8.3142999999999994, -8.0091999999999999, -8.9763000000000002, -6.6608999999999998, -7.2027000000000001, -5.7388000000000003, -6.5270000000000001, -7.3685, -7.2289000000000003, -6.9185999999999996, -7.3334999999999999, -6.1013999999999999, -6.8358999999999996, -7.0404999999999998, -7.5964, -6.9210000000000003, -6.8491999999999997, -5.3006000000000002, -6.3330000000000002, -6.9756, -7.1496000000000004, -6.0987, -7.0345000000000004, -6.8331, -6.2952000000000004, -6.2873000000000001, -6.5582000000000003, -6.3731999999999998, -6.8128000000000002, -6.5537000000000001, -5.5141999999999998, -6.8200000000000003, -6.4086999999999996, -6.7779999999999996, -6.4348999999999998, -6.7240000000000002, -6.6486000000000001, -6.6157000000000004, -6.6703000000000001, -6.5629, -6.7659000000000002, -6.6886999999999999, -6.7138, -6.7103999999999999, -6.7560000000000002, -5.3555999999999999, -5.7981999999999996, -9.7592999999999996, -9.8542000000000005, -8.0643999999999991, -10.550700000000001, -9.8772000000000002, -8.0358999999999998, -9.8978000000000002, -7.5800000000000001, -7.8753000000000002, -10.6036, -9.9491999999999994, -9.3406000000000002, -9.0245999999999995, -8.1995000000000005, -8.0117999999999991, -9.2468000000000004, -10.915699999999999, -9.0846999999999998, -10.671900000000001, -10.216900000000001, -7.7426000000000004, -8.6170000000000009, -10.271100000000001, -6.3997999999999999, -9.5960999999999999, -10.245699999999999, -9.8902999999999999, -9.8335000000000008, -8.9742999999999995, -7.2451999999999996, -7.2801999999999998, -8.8123000000000005, -8.8561999999999994, -7.7846000000000002, -7.1840999999999999, -7.8320999999999996, -8.7527000000000008, -7.5486000000000004, -8.2045999999999992, -8.359, -7.3936999999999999, -8.0388999999999999, -8.4201999999999995, -8.4313000000000002, -8.0739999999999998, -6.7507999999999999, -6.5414000000000003, -8.3152000000000008, -6.2076000000000002, -6.6416000000000004, -6.2702, -6.2325999999999997, -6.6561000000000003, -5.5072999999999999, -5.8936000000000002, -6.9047999999999998, -6.5354999999999999, -5.4821, -6.8577000000000004, -6.1604000000000001, -6.2580999999999998, -6.7058999999999997, -6.4409000000000001, -6.8240999999999996, -6.8586999999999998, -6.7887000000000004, -6.6627999999999998, -6.532, -6.5198999999999998, -6.6801000000000004, -6.6196000000000002, -6.7027000000000001, -6.7306999999999997, -6.7758000000000003, -6.8193999999999999, -6.8246000000000002, -6.8185000000000002, -10.6181, -10.507999999999999, -9.9536999999999995, -12.0524, -12.033300000000001, -11.3971, -11.118, -9.9321000000000002, -11.8725, -10.8736, -11.798999999999999, -11.4549, -10.5113, -11.629899999999999, -10.136200000000001, -11.077999999999999, -11.1343, -9.6393000000000004, -11.151400000000001, -9.0608000000000004, -9.5845000000000002, -8.5138999999999996, -8.3947000000000003, -11.4529, -8.8443000000000005, -11.231199999999999, -10.359999999999999, -9.3149999999999995, -11.2554, -10.369, -9.2535000000000007, -8.7497000000000007, -7.9950999999999999, -7.9565000000000001, -6.0753000000000004, -7.8493000000000004, -9.2391000000000005, -8.4034999999999993, -8.9183000000000003, -8.4920000000000009, -8.2759, -7.5260999999999996, -8.2498000000000005, -8.6258999999999997, -4.8335999999999997, -7.6727999999999996, -6.0125000000000002, -7.4701000000000004, -7.2523999999999997, -7.0133000000000001, -6.4344000000000001, -6.7640000000000002, -7.0606, -6.8753000000000002, -7.2565, -7.8860000000000001, -7.7968000000000002, -7.4062000000000001, -7.8474000000000004, -7.0822000000000003, -5.3997000000000002, -6.7435, -6.4100999999999999, -6.3045999999999998, -6.6706000000000003, -6.2762000000000002, -6.4306000000000001, -7.0049999999999999, -6.0694999999999997, -6.5818000000000003, -6.4612999999999996, -7.0884999999999998, -6.3436000000000003, -6.7874999999999996, -6.5967000000000002, -6.5884999999999998, -6.8509000000000002, -6.8365, -6.4978999999999996, -6.4702000000000002, -6.8047000000000004, -6.1662999999999997, -6.8076999999999996, -6.5289999999999999, -6.7830000000000004, -6.6040999999999999, -6.7987000000000002, -6.8307000000000002, -6.7563000000000004, -6.8270999999999997, -10.771699999999999, -11.2281, -11.8093, -8.8894000000000002, -9.8355999999999995, -11.9298, -10.2135, -11.0068, -10.4777, -10.5212, -10.8263, -8.8939000000000004, -11.1915, -11.903600000000001, -10.651999999999999, -11.966100000000001, -10.933299999999999, -9.6485000000000003, -11.619300000000001, -10.806800000000001, -10.864699999999999, -11.5145, -11.1051, -10.1486, -10.564500000000001, -11.497400000000001, -12.0303, -11.2135, -11.9445, -9.0297999999999998, -8.9623000000000008, -9.0015999999999998, -10.033899999999999, -9.5014000000000003, -9.3251000000000008, -10.190799999999999, -9.0427999999999997, -8.4025999999999996, -7.6699000000000002, -8.0067000000000004, -8.7799999999999994, -6.6037999999999997, -6.7205000000000004, -8.4504000000000001, -5.5117000000000003, -8.0663999999999998, -6.6200000000000001, -8.5263000000000009, -8.3881999999999994, -7.8414000000000001, -8.0831999999999997, -6.6632999999999996, -6.8734000000000002, -7.4739000000000004, -7.5285000000000002, -8.2080000000000002, -7.5397999999999996, -6.3194999999999997, -7.1398999999999999, -7.9291, -5.9038000000000004, -7.9398, -5.1158999999999999, -6.8792, -6.4286000000000003, -6.7618999999999998, -6.6821000000000002, -6.2053000000000003, -6.2114000000000003, -6.3761000000000001, -6.2534999999999998, -7.3052000000000001, -6.3845000000000001, -6.5456000000000003, -7.0677000000000003, -6.7195999999999998, -6.7191000000000001, -6.1840999999999999, -6.8879999999999999, -7.1048999999999998, -5.5705999999999998, -7.1292, -6.6513, -6.6178999999999997, -6.5420999999999996, -6.8825000000000003, -6.4508000000000001, -6.6778000000000004, -6.5773000000000001, -6.6127000000000002, -6.6154999999999999, -6.8223000000000003, -6.7901999999999996, -8.2434999999999992, -9.6347000000000005, -9.7063000000000006, -11.913600000000001, -9.6780000000000008, -10.6358, -8.7437000000000005, -9.7111000000000001, -9.6987000000000005, -11.861000000000001, -10.918900000000001, -12.0875, -11.168699999999999, -8.6752000000000002, -11.8093, -10.989699999999999, -11.1066, -9.7771000000000008, -8.2964000000000002, -8.7085000000000008, -11.8423, -9.5655999999999999, -9.8499999999999996, -12.0015, -8.6789000000000005, -11.113, -12.8855, -8.9900000000000002, -11.577199999999999, -11.748699999999999, -8.2936999999999994, -9.6828000000000003, -9.8077000000000005, -8.5425000000000004, -9.3507999999999996, -9.3886000000000003, -9.3788, -9.3511000000000006, -6.0937000000000001, -9.6163000000000007, -7.0948000000000002, -4.8757000000000001, -6.3235000000000001, -5.9935999999999998, -6.2127999999999997, -6.2172999999999998, -7.4260999999999999, -5.9406999999999996, -6.6334, -6.5457999999999998, -6.2602000000000002, -7.5164999999999997, -7.4630999999999998, -7.6802999999999999, -6.2244999999999999, -6.8559999999999999, -7.0895999999999999, -6.8052000000000001, -6.6860999999999997, -6.6951999999999998, -6.2460000000000004, -6.7908999999999997, -6.3159000000000001, -6.8837999999999999, -6.4470000000000001, -5.5481999999999996, -6.7666000000000004, -6.7400000000000002, -7.0038, -7.0012999999999996, -6.6841999999999997, -6.1044, -6.2480000000000002, -6.6818, -6.8385999999999996, -6.4729000000000001, -6.7073, -6.5766999999999998, -6.7274000000000003, -6.8331999999999997, -10.5694, -10.7728, -11.9307, -8.1789000000000005, -12.1724, -12.202199999999999, -11.2224, -11.4594, -12.161899999999999, -12.019299999999999, -9.4009, -12.7178, -10.1349, -11.415800000000001, -10.880000000000001, -10.7133, -11.3437, -12.909000000000001, -9.6326999999999998, -11.6953, -10.2272, -10.3741, -10.363300000000001, -12.037800000000001, -11.3725, -9.3587000000000007, -10.9811, -11.9222, -11.9131, -10.8368, -6.2336999999999998, -9.5297000000000001, -9.3848000000000003, -7.7586000000000004, -7.9659000000000004, -9.9875000000000007, -7.7020999999999997, -8.8229000000000006, -10.2629, -7.6067, -6.3430999999999997, -6.1264000000000003, -7.8327, -5.8144, -6.1132, -7.3310000000000004, -5.0330000000000004, -6.8403999999999998, -7.0297000000000001, -7.6077000000000004, -7.5869999999999997, -6.6395, -7.0788000000000002, -7.3525999999999998, -6.6927000000000003, -7.0633999999999997, -6.4764999999999997, -6.343, -6.3826000000000001, -6.0639000000000003, -7.0639000000000003, -6.3677000000000001, -6.2431000000000001, -6.7331000000000003, -6.5609000000000002, -6.9429999999999996, -6.7225000000000001, -5.8909000000000002, -6.5359999999999996, -6.5345000000000004, -6.3103999999999996, -5.5942999999999996, -6.6010999999999997, -6.3703000000000003, -6.7621000000000002, -6.5937000000000001, -6.4116999999999997, -6.8643999999999998, -6.5903, -6.7031000000000001, -6.5998000000000001, -6.7008000000000001]}};\n",
       "\n",
       "function LDAvis_load_lib(url, callback){\n",
       "  var s = document.createElement('script');\n",
       "  s.src = url;\n",
       "  s.async = true;\n",
       "  s.onreadystatechange = s.onload = callback;\n",
       "  s.onerror = function(){console.warn(\"failed to load library \" + url);};\n",
       "  document.getElementsByTagName(\"head\")[0].appendChild(s);\n",
       "}\n",
       "\n",
       "if(typeof(LDAvis) !== \"undefined\"){\n",
       "   // already loaded: just create the visualization\n",
       "   !function(LDAvis){\n",
       "       new LDAvis(\"#\" + \"ldavis_el29566369667736962062555\", ldavis_el29566369667736962062555_data);\n",
       "   }(LDAvis);\n",
       "}else if(typeof define === \"function\" && define.amd){\n",
       "   // require.js is available: use it to load d3/LDAvis\n",
       "   require.config({paths: {d3: \"https://cdnjs.cloudflare.com/ajax/libs/d3/3.5.5/d3.min\"}});\n",
       "   require([\"d3\"], function(d3){\n",
       "      window.d3 = d3;\n",
       "      LDAvis_load_lib(\"https://cdn.rawgit.com/bmabey/pyLDAvis/files/ldavis.v1.0.0.js\", function(){\n",
       "        new LDAvis(\"#\" + \"ldavis_el29566369667736962062555\", ldavis_el29566369667736962062555_data);\n",
       "      });\n",
       "    });\n",
       "}else{\n",
       "    // require.js not available: dynamically load d3 & LDAvis\n",
       "    LDAvis_load_lib(\"https://cdnjs.cloudflare.com/ajax/libs/d3/3.5.5/d3.min.js\", function(){\n",
       "         LDAvis_load_lib(\"https://cdn.rawgit.com/bmabey/pyLDAvis/files/ldavis.v1.0.0.js\", function(){\n",
       "                 new LDAvis(\"#\" + \"ldavis_el29566369667736962062555\", ldavis_el29566369667736962062555_data);\n",
       "            })\n",
       "         });\n",
       "}\n",
       "</script>"
      ],
      "text/plain": [
       "<IPython.core.display.HTML object>"
      ]
     },
     "execution_count": 45,
     "metadata": {},
     "output_type": "execute_result"
    }
   ],
   "source": [
    "import pyLDAvis\n",
    "import pyLDAvis.gensim\n",
    "pyLDAvis.enable_notebook()\n",
    "\n",
    "LDAvis_prepared = pyLDAvis.gensim.prepare(lda, bow_corpus,\n",
    "                                          dictionary)\n",
    "pyLDAvis.display(LDAvis_prepared)"
   ]
  },
  {
   "cell_type": "code",
   "execution_count": 46,
   "metadata": {},
   "outputs": [
    {
     "data": {
      "text/plain": [
       "(74, 10)"
      ]
     },
     "execution_count": 46,
     "metadata": {},
     "output_type": "execute_result"
    }
   ],
   "source": [
    "# Get document-topic distribution\n",
    "doc_top =lda.get_document_topics(bow_corpus)\n",
    "\n",
    "doc_topic_matrix = []\n",
    "for POI in doc_top:\n",
    "    data = {}\n",
    "    for topic in POI:\n",
    "        topic_id = topic[0]\n",
    "        topic_prob = topic[1]\n",
    "        data[topic_id]=topic_prob\n",
    "    doc_topic_matrix.append(data)\n",
    "    \n",
    "topic_mat = pd.DataFrame.from_dict(doc_topic_matrix)\n",
    "topic_mat = topic_mat.replace({None: 0})\n",
    "topic_mat.shape"
   ]
  },
  {
   "cell_type": "markdown",
   "metadata": {},
   "source": [
    "Last but not least, I extracted the document-topic distribution found by the LDA model. This dataframe can be now used to train a person of interest classifier based on email-topic features."
   ]
  },
  {
   "cell_type": "markdown",
   "metadata": {},
   "source": [
    "## Training data sets"
   ]
  },
  {
   "cell_type": "markdown",
   "metadata": {},
   "source": [
    "To sum up, I will create three different training sets including different features, which can later be compared."
   ]
  },
  {
   "cell_type": "markdown",
   "metadata": {},
   "source": [
    "#### 1. Training data set (No text data)"
   ]
  },
  {
   "cell_type": "code",
   "execution_count": 47,
   "metadata": {
    "collapsed": true
   },
   "outputs": [],
   "source": [
    "from sklearn.preprocessing import MinMaxScaler,LabelEncoder\n",
    "from sklearn.feature_selection import SelectPercentile\n",
    "\n",
    "# Transforming the target classes\n",
    "target_classes = full_data[\"poi\"]\n",
    "le = LabelEncoder()\n",
    "\n",
    "labels = le.fit_transform(target_classes)\n",
    "features_no_text = full_data.as_matrix(columns=[u'total_payments',\n",
    "       u'relative_receipt_from_poi', u'relative_shared_receipt_with_poi',\n",
    "       u'relative_sent_to_poi'])\n",
    "\n",
    "# Scale the features\n",
    "scaler = MinMaxScaler(feature_range=(0, 1))\n",
    "features_no_text = scaler.fit_transform(features_no_text)"
   ]
  },
  {
   "cell_type": "markdown",
   "metadata": {},
   "source": [
    "The code above prepares the data set for training by splitting it into features and labels. Moreover, the features are being scaled in order to avoid dominance of some variables simply because of different scales of measurement."
   ]
  },
  {
   "cell_type": "markdown",
   "metadata": {},
   "source": [
    "#### 2. Training data set (including TF-IDF representation of text data)"
   ]
  },
  {
   "cell_type": "code",
   "execution_count": 48,
   "metadata": {},
   "outputs": [
    {
     "data": {
      "text/plain": [
       "(74, 23664)"
      ]
     },
     "execution_count": 48,
     "metadata": {},
     "output_type": "execute_result"
    }
   ],
   "source": [
    "# TF-IDF matrix of all docs\n",
    "X.shape"
   ]
  },
  {
   "cell_type": "markdown",
   "metadata": {},
   "source": [
    "Since the dataset including the TF-IDF representation of the text data is very high dimensional with 23,600 features, I decided to reduce the dimensionality of it using a similar approach as earlier."
   ]
  },
  {
   "cell_type": "code",
   "execution_count": 49,
   "metadata": {},
   "outputs": [
    {
     "name": "stdout",
     "output_type": "stream",
     "text": [
      "Fitting 20 folds for each of 10 candidates, totalling 200 fits\n"
     ]
    },
    {
     "name": "stderr",
     "output_type": "stream",
     "text": [
      "[Parallel(n_jobs=1)]: Done 200 out of 200 | elapsed:  1.2min finished\n"
     ]
    },
    {
     "name": "stdout",
     "output_type": "stream",
     "text": [
      "0.6\n",
      "{'sel__percentile': 20}\n"
     ]
    }
   ],
   "source": [
    "# Performing cross-validated feature-selection\n",
    "\n",
    "from sklearn.feature_selection import SelectPercentile, f_classif\n",
    "\n",
    "gbc = GradientBoostingClassifier(random_state=random_state)\n",
    "selector = SelectPercentile(f_classif, percentile=1)\n",
    "\n",
    "# Do grid search over percentile:\n",
    "pipeline = Pipeline([(\"sel\", selector), (\"gbc\", gbc)])\n",
    "\n",
    "param_grid = dict(sel__percentile=[0.01,0.1,1,2,3,5,7,10,15,20])\n",
    "\n",
    "grid_search = GridSearchCV(pipeline, param_grid=param_grid,cv=StratifiedShuffleSplit(20,random_state=random_state),scoring = f1_score,verbose=1)\n",
    "grid_search.fit(X.toarray(), labels)\n",
    "print grid_search.best_score_\n",
    "print grid_search.best_params_"
   ]
  },
  {
   "cell_type": "code",
   "execution_count": 50,
   "metadata": {},
   "outputs": [
    {
     "data": {
      "text/plain": [
       "(74L, 4732L)"
      ]
     },
     "execution_count": 50,
     "metadata": {},
     "output_type": "execute_result"
    }
   ],
   "source": [
    "# Feature selection\n",
    "selector = SelectPercentile(f_classif, percentile=20)\n",
    "X_transformed = selector.fit_transform(X, labels)\n",
    "\n",
    "text_features_transformed = X_transformed.toarray()\n",
    "text_features_transformed.shape"
   ]
  },
  {
   "cell_type": "markdown",
   "metadata": {},
   "source": [
    "Feature selection is performed using grid search and it turns out that reducing the TF-IDF feature space down to 4732 features (e.g. Top 20 Percentile), the highest cross-validated f1 score is being achieved."
   ]
  },
  {
   "cell_type": "code",
   "execution_count": 51,
   "metadata": {},
   "outputs": [
    {
     "data": {
      "text/plain": [
       "(74L, 4L)"
      ]
     },
     "execution_count": 51,
     "metadata": {},
     "output_type": "execute_result"
    }
   ],
   "source": [
    "features_no_text.shape"
   ]
  },
  {
   "cell_type": "code",
   "execution_count": 52,
   "metadata": {},
   "outputs": [
    {
     "data": {
      "text/plain": [
       "(74L, 4736L)"
      ]
     },
     "execution_count": 52,
     "metadata": {},
     "output_type": "execute_result"
    }
   ],
   "source": [
    "features_tf = np.concatenate((text_features_transformed,features_no_text), axis=1)\n",
    "features_tf.shape"
   ]
  },
  {
   "cell_type": "markdown",
   "metadata": {},
   "source": [
    "Finally, I joined the transformed text data with the financial and email metadata features."
   ]
  },
  {
   "cell_type": "markdown",
   "metadata": {},
   "source": [
    "#### 3. Training data set (including topic distribution of text data)"
   ]
  },
  {
   "cell_type": "markdown",
   "metadata": {},
   "source": [
    "The last dataset variant will include the topic distribution features as well as the financial and email metadata variables."
   ]
  },
  {
   "cell_type": "code",
   "execution_count": 53,
   "metadata": {},
   "outputs": [
    {
     "data": {
      "text/plain": [
       "(74L, 14L)"
      ]
     },
     "execution_count": 53,
     "metadata": {},
     "output_type": "execute_result"
    }
   ],
   "source": [
    "# Join topic distribution data with non-text data\n",
    "features_topics = np.concatenate((features_no_text, topic_mat.values), axis=1)\n",
    "features_topics.shape"
   ]
  },
  {
   "cell_type": "markdown",
   "metadata": {},
   "source": [
    "### Model validation & evaluation scheme"
   ]
  },
  {
   "cell_type": "markdown",
   "metadata": {},
   "source": [
    "The goal of this project is to develop a model, which identifies persons of interest in the data set. Therefore, in order to assess the performance of the classifier, I will compute the stratified 10-fold cross validated score for precision, recall and F1-score of class 1 (e.g. POI = True)."
   ]
  },
  {
   "cell_type": "markdown",
   "metadata": {},
   "source": [
    "### Model selection"
   ]
  },
  {
   "cell_type": "markdown",
   "metadata": {},
   "source": [
    "Before fine-tuning a modell I want to get an idea, how different parametric and non-parametric models perform on the data. Therefore, I will train a number of non-tuned algorithms on the data to see how they perform with default settings. I will do that for all three datasets including mail content data and excluding mail content data."
   ]
  },
  {
   "cell_type": "code",
   "execution_count": 54,
   "metadata": {
    "collapsed": true
   },
   "outputs": [],
   "source": [
    "# Define a function that takes as input a dict of classifier-objects, a list of training data and the labels for the data\n",
    "# the function trains the classifier and returns the stratified kfold cross validation score for precision, recall and f1 score of class 1\n",
    "\n",
    "def test_clf(clf_dict, features,labels,k=50):\n",
    "    results = []\n",
    "    \n",
    "    for clf_name, clf in clf_dict.items():\n",
    "\n",
    "        cv = StratifiedShuffleSplit(k,random_state=random_state)\n",
    "        cross_val_precision = []\n",
    "        cross_val_recall = []\n",
    "        cross_vall_f1 = []\n",
    "\n",
    "        for train_indices, test_indices in cv.split(features,labels):\n",
    "            #make train and testing data\n",
    "            X_train = [features[ii] for ii in train_indices]\n",
    "            X_test = [features[ii] for ii in test_indices]\n",
    "            y_train = [labels[ii] for ii in train_indices]\n",
    "            y_test = [labels[ii] for ii in test_indices]\n",
    "\n",
    "            # fit classifier\n",
    "            clf.fit(X_train,y_train)\n",
    "\n",
    "            #predict labels\n",
    "            pred = clf.predict(X_test)\n",
    "\n",
    "            # get precision score on testing data\n",
    "            prec_score = precision_score(y_test, pred,pos_label=1, average='binary')\n",
    "            cross_val_precision.append(prec_score)\n",
    "\n",
    "            # get recall score on testing data\n",
    "            rec_score = recall_score(y_test, pred,pos_label=1, average='binary')\n",
    "            cross_val_recall.append(rec_score)\n",
    "\n",
    "            # get f1 score on testing data\n",
    "            f_score = f1_score(y_test, pred,pos_label=1, average='binary')\n",
    "            cross_vall_f1.append(f_score)\n",
    "            \n",
    "        results.append({clf_name: [np.mean(cross_val_precision),np.mean(cross_val_recall),np.mean(cross_vall_f1)]})\n",
    "        print {clf_name: [np.mean(cross_val_precision),np.mean(cross_val_recall),np.mean(cross_vall_f1)]}\n",
    "        \n",
    "    return results"
   ]
  },
  {
   "cell_type": "code",
   "execution_count": 55,
   "metadata": {},
   "outputs": [
    {
     "name": "stdout",
     "output_type": "stream",
     "text": [
      "{'rfc': [0.10333333333333332, 0.14000000000000001, 0.11333333333333333]}\n",
      "{'svm': [0.0, 0.0, 0.0]}\n",
      "{'Gradient': [0.63333333333333341, 0.69999999999999996, 0.65333333333333332]}\n",
      "{'gnb': [0.0, 0.0, 0.0]}\n",
      "{'lr': [0.0, 0.0, 0.0]}\n",
      "{'Ada': [0.28666666666666668, 0.34000000000000002, 0.30333333333333329]}\n",
      "{'dt': [0.56000000000000005, 0.68000000000000005, 0.59333333333333327]}\n"
     ]
    }
   ],
   "source": [
    "from sklearn.linear_model import LogisticRegression\n",
    "from sklearn.naive_bayes import GaussianNB\n",
    "from sklearn.tree import DecisionTreeClassifier\n",
    "from sklearn.ensemble import RandomForestClassifier\n",
    "from sklearn.svm import SVC\n",
    "from sklearn.ensemble import AdaBoostClassifier\n",
    "from sklearn.ensemble import GradientBoostingClassifier\n",
    "warnings.filterwarnings('ignore')\n",
    "\n",
    "from sklearn.metrics import precision_score, recall_score,f1_score\n",
    "from sklearn.model_selection import StratifiedKFold,StratifiedShuffleSplit\n",
    "\n",
    "#feature_sets = [features_no_text,features_tf,features_topics]\n",
    "\n",
    "clfs = {'lr': LogisticRegression(random_state=random_state),\n",
    "        \"gnb\": GaussianNB(),\n",
    "        \"dt\": DecisionTreeClassifier(random_state=random_state),\n",
    "        'rfc': RandomForestClassifier(random_state=random_state), \n",
    "        'svm': SVC(kernel = 'linear', probability = True,random_state=random_state),\n",
    "        \"Ada\": AdaBoostClassifier(random_state=random_state),\n",
    "       \"Gradient\": GradientBoostingClassifier(random_state=random_state)}\n",
    "   \n",
    "results = test_clf(clfs, features_tf, labels)"
   ]
  },
  {
   "cell_type": "markdown",
   "metadata": {},
   "source": [
    "As it turns out the dataset including the TF-IDF representation of the text data has the most predictive power, followed by the dataset including topic distribution of the text data. This is not surprising, since the LDA topic model could not really find meaninful topics, as the mails data has a lot of spelling errors, each mail is most of the times very short and also contains a lot of noise such as numbers, mail addresses etc. These are all factors, which weaken the performance of the LDA algorithm. <br>\n",
    "Moreover, the winning algorithm with the highest F1-score is sklearn's GradientBoostingClassifier. Therefore, I will continue with tuning the hyperparameters of this algorithm.\n",
    "\n",
    "*Please note: I tuned the the hyperparameters of the TF-IDF vectorizer using cross-validation, which is described in the following section*"
   ]
  },
  {
   "cell_type": "markdown",
   "metadata": {},
   "source": [
    "#### Determining TF-IDF hyperparameters using cross-validation"
   ]
  },
  {
   "cell_type": "markdown",
   "metadata": {},
   "source": [
    "In order to find the optimal combination between a tunable machine learning algorithm and the optimal hyperparameter settings of the TF-IDF vectorizer (n-grams, max_df and min_df), I defined a function performing grid-search using 10-fold cross-validation."
   ]
  },
  {
   "cell_type": "code",
   "execution_count": 56,
   "metadata": {
    "collapsed": true
   },
   "outputs": [],
   "source": [
    "def vector_cross_val(max_df,min_df,ngram_range,grouped,features_no_text,clfs):\n",
    "    res = {}\n",
    "    i = 0\n",
    "    for ngram in ngram_range:\n",
    "        for m_val in max_df:\n",
    "            for l_val in min_df:\n",
    "\n",
    "                if m_val >= l_val:\n",
    "                    try:\n",
    "                        print \"Iteration No. \",i\n",
    "                        i += 1\n",
    "                        # Transform text to TF-IDF\n",
    "\n",
    "                        vectorizer = TfidfVectorizer(stop_words=\"english\",ngram_range=ngram,\n",
    "                                                    max_df=m_val,min_df=l_val)\n",
    "                        X = vectorizer.fit_transform(grouped)\n",
    "\n",
    "                        # Select top 20 percent features\n",
    "                        selector = SelectPercentile(f_classif, percentile=20)\n",
    "                        X_transformed = selector.fit_transform(X, labels)\n",
    "                        text_features_transformed = X_transformed.toarray()\n",
    "                        features_tf = np.concatenate((features_no_text, text_features_transformed), axis=1)\n",
    "                        \n",
    "                        results = test_clf(clfs,features_tf, labels,k=10)\n",
    "                        best_vals = []\n",
    "                        for algo in results:\n",
    "                            for trainer in algo:\n",
    "                                best_vals.append(algo[trainer][2])\n",
    "                        best = max(best_vals)\n",
    "                        res[best]=[ngram,m_val,l_val]\n",
    "                        print \"Best F1-Result (ngram={}, max_df={},min_df={}): \".format(ngram,m_val,l_val), best\n",
    "                    except:\n",
    "                        continue\n",
    "                else:\n",
    "                    continue\n",
    "    return res"
   ]
  },
  {
   "cell_type": "code",
   "execution_count": 57,
   "metadata": {},
   "outputs": [
    {
     "name": "stdout",
     "output_type": "stream",
     "text": [
      "Wall time: 1e+03 µs\n"
     ]
    }
   ],
   "source": [
    "%%time\n",
    "max_df= [0.6,0.7,0.8,0.9,0.99]\n",
    "min_df= [0,0.1,0.2,0.3,0.4,0.5]\n",
    "ngram_range = [(1,1),(1,2)]\n",
    "grouped = full_data[\"clean_mail_content\"]\n",
    "clfs = {\"dt\": DecisionTreeClassifier(random_state=random_state),\n",
    "        'rfc': RandomForestClassifier(random_state=random_state), \n",
    "        \"Ada\": AdaBoostClassifier(random_state=random_state),\n",
    "       \"Gradient\": GradientBoostingClassifier(random_state=random_state)}\n",
    "\n",
    "if 0==1:\n",
    "    res = vector_cross_val(max_df,min_df,ngram_range,grouped,features_no_text,clfs)"
   ]
  },
  {
   "cell_type": "code",
   "execution_count": 58,
   "metadata": {
    "collapsed": true
   },
   "outputs": [],
   "source": [
    "if 0==1:\n",
    "    print res[max(res)]"
   ]
  },
  {
   "cell_type": "markdown",
   "metadata": {},
   "source": [
    "After computing the cross-validated f1-scores for different TF-IDF parameters, it turns out that the following parameter settings are optimal:<br>\n",
    "    1) GradientBoostingClassifier<br>\n",
    "    2) ngram_range = (1,1)<br>\n",
    "    3) max_df = 0.7<br>\n",
    "    4) min_df = 0.1<br>"
   ]
  },
  {
   "cell_type": "markdown",
   "metadata": {},
   "source": [
    "### Model tuning"
   ]
  },
  {
   "cell_type": "markdown",
   "metadata": {},
   "source": [
    "The goal of the machine learning process is to find a \"best-fitting\" model, however there is a tradeoff between a model's ability to minimize bias and variance. Models that have high variance will have low bias, whereas models with high bias will have low variance. The best model finds the right balance between the both and avoids the mistake of over- or under-fitting. To control the model complexity, many machine learning algorithms can be customized via hyperparameter settings that determine how flexible that model is. To find the best hyperparameters based on the f1 score, I will use sklearn's grid search for tuning the GradientBoostingClassifier."
   ]
  },
  {
   "cell_type": "code",
   "execution_count": 59,
   "metadata": {
    "collapsed": true
   },
   "outputs": [],
   "source": [
    "def grid_tune(classifier,features,labels,params,random_state=random_state):\n",
    "    from sklearn.model_selection import GridSearchCV\n",
    "    from sklearn.metrics import make_scorer\n",
    "    from sklearn.metrics import f1_score\n",
    "    \n",
    "    f1_score = make_scorer(f1_score, pos_label=1, average='binary')\n",
    "    clf = GridSearchCV(classifier, params,cv=StratifiedShuffleSplit(10,random_state=random_state),scoring = f1_score,verbose=1)\n",
    "    clf.fit(features,labels)\n",
    "\n",
    "    return clf,clf.best_score_,clf.best_params_"
   ]
  },
  {
   "cell_type": "code",
   "execution_count": 60,
   "metadata": {},
   "outputs": [
    {
     "name": "stdout",
     "output_type": "stream",
     "text": [
      "Fitting 10 folds for each of 432 candidates, totalling 4320 fits\n"
     ]
    },
    {
     "name": "stderr",
     "output_type": "stream",
     "text": [
      "[Parallel(n_jobs=1)]: Done 4320 out of 4320 | elapsed: 44.4min finished\n"
     ]
    },
    {
     "name": "stdout",
     "output_type": "stream",
     "text": [
      "0.7\n",
      "Wall time: 44min 27s\n"
     ]
    }
   ],
   "source": [
    "%%time \n",
    "\n",
    "# GradientBoostedTree\n",
    "\n",
    "param_grid = {\"n_estimators\": [5,10,20,30,50,70,100,120,150],\n",
    "              \"learning_rate\":[1,0.1,0.05,0.03,0.01,0.005],\n",
    "              \"min_samples_split\":[2,4,6,8,9,10,11,12],\n",
    "             }\n",
    "gdn = GradientBoostingClassifier(random_state=random_state)\n",
    "gdn,best_score,best_params = grid_tune(gdn,features_tf,labels,param_grid)\n",
    "print best_score"
   ]
  },
  {
   "cell_type": "code",
   "execution_count": 61,
   "metadata": {},
   "outputs": [
    {
     "data": {
      "text/plain": [
       "{'learning_rate': 0.01, 'min_samples_split': 2, 'n_estimators': 120}"
      ]
     },
     "execution_count": 61,
     "metadata": {},
     "output_type": "execute_result"
    }
   ],
   "source": [
    "best_params"
   ]
  },
  {
   "cell_type": "markdown",
   "metadata": {},
   "source": [
    "The grid-search indicated that the following parameters are optimal:<br>\n",
    "1) learning_rate: 0.01<br>\n",
    "2) min_samples_split: 2 <br>\n",
    "3) n_estimators: 120    "
   ]
  },
  {
   "cell_type": "markdown",
   "metadata": {},
   "source": [
    "### Model evaluation & cross-validation"
   ]
  },
  {
   "cell_type": "markdown",
   "metadata": {},
   "source": [
    "In order to assess the quality of my classifier, I need to validate its ability to generalize and correctly identify POI's in a new and unseen dataset. Moreover, I need to check if the algorithm overfitted the training data. To accomplish this, I will perform a 1000-fold cross-validation, where the classifier is trained on 90% of the data and tested on 10% of the data 1000 times. Using the StratifiedShuffleSplit function from sklearn, the splitting of the data in training and testing set is randomized. Therefore, this will give an estimate of my model's ability to generalize and its true prediction quality.<br>\n",
    "The goal of this project is to develop a model, which identifies persons of interest in the dataset. Hence, it will be very costly if our classifier does not correctly identify a true POI (also see: [Recall](https://en.wikipedia.org/wiki/Precision_and_recall)) or wrongly predicts a POI (see: [Precision](https://en.wikipedia.org/wiki/Precision_and_recall)). Therefore, the evaluation metrics for the cross-validation will be Recall and precision, as well as the F1-score of class 1 (POI = True), which is a weighted average of the precision and recall score."
   ]
  },
  {
   "cell_type": "code",
   "execution_count": 62,
   "metadata": {
    "collapsed": true
   },
   "outputs": [],
   "source": [
    "clf = GradientBoostingClassifier(learning_rate = 0.01,min_samples_split = 2,n_estimators = 120,random_state=random_state)"
   ]
  },
  {
   "cell_type": "code",
   "execution_count": 63,
   "metadata": {
    "collapsed": true
   },
   "outputs": [],
   "source": [
    "def eval_clf(clf,features,labels,k=1000):\n",
    "    \n",
    "    cv = StratifiedShuffleSplit(k,test_size=0.1,random_state=random_state)\n",
    "    cross_val_precision = []\n",
    "    cross_val_recall = []\n",
    "    cross_vall_f1 = []\n",
    "\n",
    "    for train_indices, test_indices in cv.split(features,labels):\n",
    "        #make train and testing data\n",
    "        X_train = [features[ii] for ii in train_indices]\n",
    "        X_test = [features[ii] for ii in test_indices]\n",
    "        y_train = [labels[ii] for ii in train_indices]\n",
    "        y_test = [labels[ii] for ii in test_indices]\n",
    "\n",
    "        # fit classifier\n",
    "        clf.fit(X_train,y_train)\n",
    "\n",
    "        #predict labels\n",
    "        pred = clf.predict(X_test)\n",
    "\n",
    "        # get precision score on testing data\n",
    "        prec_score = precision_score(y_test, pred,pos_label=1, average='binary')\n",
    "        cross_val_precision.append(prec_score)\n",
    "\n",
    "        # get recall score on testing data\n",
    "        rec_score = recall_score(y_test, pred,pos_label=1, average='binary')\n",
    "        cross_val_recall.append(rec_score)\n",
    "\n",
    "        # get f1 score on testing data\n",
    "        f_score = f1_score(y_test, pred,pos_label=1, average='binary')\n",
    "        cross_vall_f1.append(f_score)\n",
    "\n",
    "    precision = np.mean(cross_val_precision)\n",
    "    recall = np.mean(cross_val_recall)\n",
    "    f1 = np.mean(cross_vall_f1)\n",
    "    \n",
    "    return precision, recall, f1"
   ]
  },
  {
   "cell_type": "code",
   "execution_count": 64,
   "metadata": {},
   "outputs": [
    {
     "name": "stdout",
     "output_type": "stream",
     "text": [
      "Cross-validation results of final model:\n",
      "\n",
      "Precision:  0.653666666667\n",
      "Recall:  0.669\n",
      "F1-score:  0.658166666667\n",
      "Wall time: 24min 36s\n"
     ]
    }
   ],
   "source": [
    "%%time\n",
    "precision, recall, f1 = eval_clf(clf,features_tf,labels)\n",
    "print \"Cross-validation results of final model:\"\n",
    "print\n",
    "print \"Precision: \",precision\n",
    "print \"Recall: \", recall\n",
    "print \"F1-score: \",f1"
   ]
  },
  {
   "cell_type": "markdown",
   "metadata": {},
   "source": [
    "My cross-validation procedure gives a f1-score of 66%. This is a slight improvement over the untuned algorithm (65%)."
   ]
  },
  {
   "cell_type": "code",
   "execution_count": 65,
   "metadata": {},
   "outputs": [
    {
     "name": "stdout",
     "output_type": "stream",
     "text": [
      "Confusion matrix, without normalization\n",
      "[[20  0]\n",
      " [ 2  1]]\n"
     ]
    },
    {
     "data": {
      "image/png": "[encoded data removed]",
      "text/plain": [
       "<matplotlib.figure.Figure at 0xaaa5d5c0>"
      ]
     },
     "metadata": {},
     "output_type": "display_data"
    }
   ],
   "source": [
    "import matplotlib\n",
    "matplotlib.rcParams.update({'font.size': 15})\n",
    "matplotlib.rcParams['figure.figsize'] = (15.0, 8.0)\n",
    "\n",
    "from plot_evaluation import plot_confusion_matrix\n",
    "from sklearn.metrics import confusion_matrix\n",
    "from sklearn.model_selection import train_test_split\n",
    "\n",
    "X_train, X_test, y_train, y_test = train_test_split(features_tf, labels, test_size=0.3, random_state=random_state)\n",
    "clf.fit(X_train,y_train)\n",
    "y_pred = clf.predict(X_test)\n",
    "\n",
    "cm = confusion_matrix(y_test, y_pred)\n",
    "plot_confusion_matrix(cm, [\"False\",\"True\"])"
   ]
  },
  {
   "cell_type": "markdown",
   "metadata": {},
   "source": [
    "Looking at the confusion matrix above, I can immediately conclude that my classifier seems to have a very good precision in identifying POI's, since it has no false negatives. Hence, it is accusing a person of being a criminal only in case it is quite sure. However, it lacks some recall, since there are 2 cases where the classifier wrongly predicted a true POI not be a POI. It did not have enough evidence.<br> To further investigate the modell, I will look at the feature importance in the model. Specifically, I am interested, which words are helpful for identifying a POI."
   ]
  },
  {
   "cell_type": "code",
   "execution_count": 66,
   "metadata": {
    "collapsed": true
   },
   "outputs": [],
   "source": [
    "sel = selector.get_support()\n",
    "selected_indices = [int(i) for i, x in enumerate(sel) if x]\n",
    "tfidf_word_list = vectorizer.get_feature_names()\n",
    "keys = [tfidf_word_list[int(i)] for i in selected_indices]\n",
    "keys.extend([u'total_payments',\n",
    "       u'relative_receipt_from_poi', u'relative_shared_receipt_with_poi',\n",
    "       u'relative_sent_to_poi'])"
   ]
  },
  {
   "cell_type": "code",
   "execution_count": 67,
   "metadata": {},
   "outputs": [
    {
     "data": {
      "text/html": [
       "<div>\n",
       "<table border=\"1\" class=\"dataframe\">\n",
       "  <thead>\n",
       "    <tr style=\"text-align: right;\">\n",
       "      <th></th>\n",
       "      <th>0</th>\n",
       "    </tr>\n",
       "  </thead>\n",
       "  <tbody>\n",
       "    <tr>\n",
       "      <th>bucket</th>\n",
       "      <td>0.544023</td>\n",
       "    </tr>\n",
       "    <tr>\n",
       "      <th>relative_shared_receipt_with_poi</th>\n",
       "      <td>0.088430</td>\n",
       "    </tr>\n",
       "    <tr>\n",
       "      <th>oxley</th>\n",
       "      <td>0.016181</td>\n",
       "    </tr>\n",
       "    <tr>\n",
       "      <th>india20</th>\n",
       "      <td>0.015052</td>\n",
       "    </tr>\n",
       "    <tr>\n",
       "      <th>relative_sent_to_poi</th>\n",
       "      <td>0.010884</td>\n",
       "    </tr>\n",
       "    <tr>\n",
       "      <th>thoroughly</th>\n",
       "      <td>0.010884</td>\n",
       "    </tr>\n",
       "    <tr>\n",
       "      <th>dues20</th>\n",
       "      <td>0.009407</td>\n",
       "    </tr>\n",
       "    <tr>\n",
       "      <th>acceleration</th>\n",
       "      <td>0.009407</td>\n",
       "    </tr>\n",
       "    <tr>\n",
       "      <th>questionable</th>\n",
       "      <td>0.009102</td>\n",
       "    </tr>\n",
       "    <tr>\n",
       "      <th>exit</th>\n",
       "      <td>0.009070</td>\n",
       "    </tr>\n",
       "  </tbody>\n",
       "</table>\n",
       "</div>"
      ],
      "text/plain": [
       "                                         0\n",
       "bucket                            0.544023\n",
       "relative_shared_receipt_with_poi  0.088430\n",
       "oxley                             0.016181\n",
       "india20                           0.015052\n",
       "relative_sent_to_poi              0.010884\n",
       "thoroughly                        0.010884\n",
       "dues20                            0.009407\n",
       "acceleration                      0.009407\n",
       "questionable                      0.009102\n",
       "exit                              0.009070"
      ]
     },
     "execution_count": 67,
     "metadata": {},
     "output_type": "execute_result"
    }
   ],
   "source": [
    "feat_imp = clf.feature_importances_\n",
    "index_imp_dict = {}\n",
    "for i,item in enumerate(feat_imp):\n",
    "   index_imp_dict[keys[i]] = item\n",
    "pd.DataFrame.from_dict([index_imp_dict]).transpose().sort_values(0, ascending=False).head(10)"
   ]
  },
  {
   "cell_type": "markdown",
   "metadata": {},
   "source": [
    "The list above shows the most important features, which drive the performance of the classifier. It seems that especially the word \"bucket\" is a very good predictor for identifying a POI. I am curious what story hides behind that word."
   ]
  },
  {
   "cell_type": "code",
   "execution_count": 68,
   "metadata": {},
   "outputs": [
    {
     "data": {
      "text/html": [
       "<div>\n",
       "<table border=\"1\" class=\"dataframe\">\n",
       "  <thead>\n",
       "    <tr style=\"text-align: right;\">\n",
       "      <th></th>\n",
       "      <th>0</th>\n",
       "    </tr>\n",
       "  </thead>\n",
       "  <tbody>\n",
       "    <tr>\n",
       "      <th>GLISAN JR BEN F</th>\n",
       "      <td>0.020547</td>\n",
       "    </tr>\n",
       "  </tbody>\n",
       "</table>\n",
       "</div>"
      ],
      "text/plain": [
       "                        0\n",
       "GLISAN JR BEN F  0.020547"
      ]
     },
     "execution_count": 68,
     "metadata": {},
     "output_type": "execute_result"
    }
   ],
   "source": [
    "# Get index of that word in the TF-IDF matrix\n",
    "ind = vocab[\"bucket\"]\n",
    "tfidf=X.toarray().transpose()\n",
    "doc_occurence = pd.DataFrame(tfidf[ind],index=full_data.index)\n",
    "doc_occurence.sort_values(0, ascending=False).head(1)"
   ]
  },
  {
   "cell_type": "code",
   "execution_count": 69,
   "metadata": {},
   "outputs": [
    {
     "data": {
      "text/plain": [
       "{'bonus': 600000,\n",
       " 'deferral_payments': 'NaN',\n",
       " 'deferred_income': 'NaN',\n",
       " 'director_fees': 'NaN',\n",
       " 'email_address': 'ben.glisan@enron.com',\n",
       " 'exercised_stock_options': 384728,\n",
       " 'expenses': 125978,\n",
       " 'from_messages': 16,\n",
       " 'from_poi_to_this_person': 52,\n",
       " 'from_this_person_to_poi': 6,\n",
       " 'loan_advances': 'NaN',\n",
       " 'long_term_incentive': 71023,\n",
       " 'other': 200308,\n",
       " 'poi': True,\n",
       " 'restricted_stock': 393818,\n",
       " 'restricted_stock_deferred': 'NaN',\n",
       " 'salary': 274975,\n",
       " 'shared_receipt_with_poi': 874,\n",
       " 'to_messages': 873,\n",
       " 'total_payments': 1272284,\n",
       " 'total_stock_value': 778546}"
      ]
     },
     "execution_count": 69,
     "metadata": {},
     "output_type": "execute_result"
    }
   ],
   "source": [
    "data_dict[\"GLISAN JR BEN F\"]"
   ]
  },
  {
   "cell_type": "markdown",
   "metadata": {},
   "source": [
    "The investigation reveals that the word most often occured in the mails of GLISAN JR BEN F, who is a POI."
   ]
  },
  {
   "cell_type": "code",
   "execution_count": 70,
   "metadata": {},
   "outputs": [
    {
     "name": "stdout",
     "output_type": "stream",
     "text": [
      "4\n"
     ]
    },
    {
     "data": {
      "text/html": [
       " skean NonPrivilegedpst\n",
       "\n",
       "To\tThe Enron Management Committee\n",
       "\n",
       "\n",
       "The Enron Corp Board of Directors approved a new Risk Management Policy the Policy on August 14 2001 and notice has been distributed to Enron employees to announce the posting of this policy on the Enron intranet website at httphomeenroncomresources without market risk limits due to confidentiality  The Policy includes a three page Executive Summary providing an overview of risk management practices for the four major types of risks addressed a market risk b credit risk c operational risk and d liquidityfunding risk and this summary is attached to this email for your convenience  The credit policy was incorporated without change and the Transaction Approval Process and Guarantee Approval Processes were also incorporated with updating for specific approval authorities \n",
       "\n",
       "This email message is being sent to the Enron Management Committee to highlight some key aspects of the Companys market risk management practices which may be of interest  \n",
       "\n",
       "The Policy established a new Risk Management Committee members of which are the Chief Risk Officer and any others designated by the CEO of Enron Corp  During this transition period existing Commodity Group Limits as of August 14th remain in effect and Enron Business Unit Limits are assigned accordingly  These limits may be further adjusted by the Risk Management Committee and the CEO and your market risk managers will be working with you to review the limit structure for your business units activities to facilitate compliance with the Policy and your business initiatives  RAC is currently working with Global Risk Management Operations to develop appropriate risk reporting that meets the Policy requirements and the needs of business unit management  \n",
       "\n",
       "Regards\n",
       "Cassandra Schultz\n",
       "Vice President RAC\n",
       "7138530429\n",
       "cassandraschultzenroncom\n",
       "\n",
       "\n",
       "\n",
       "Summary of Changes to Market Risk Management Practices\n",
       "\n",
       "In addition to consolidating Enrons various risk management policies and procedures into one comprehensive Policy some substantive changes and clarifications were made to the Companys market risk management practices as summarized below  \n",
       "\n",
       "1\tIncreased the VaR Limit for the Trading Portfolio providing discretion to the Enron Corp CEO CEO to allocate such VaR limits within defined parameters\n",
       "2\tEstablished an Expected Tail Loss Advisory Limit for the Trading Portfolio\n",
       "3\tRevised the Market Risk Limit Structure within each Portfolio to delegate more discretion for individual Business Unit and Commodity Group limits to the CEO and Risk Management Committee\n",
       "a   Concentration VaR Limits approved by Board of Directors \n",
       "b   Business Unit VaR Limits approved by CEO  Risk Management Committee\n",
       "c   Commodity Group Limits for each Business Unit approved by CEO  Risk Management Committee\n",
       "d   TraderDesk Limits approved by Business Unit Office of the Chairman\n",
       "\n",
       "\n",
       "Key Points re the Limit Structure\n",
       "1\tConcentration Limits are established on 6 large buckets of commodity groups this bucketing focuses on market indicators from a Board perspective not according to Enrons organizational structure \n",
       "\t1 Americas Gas 2 Americas Power 3 European Gas  Power \n",
       "4 Products 5 Financials and 6 Emerging Businesses\n",
       "o\tExamples  Americas Power Concentration Limit includes Global Risk Markets Financials Concentration Limit includes Credit Appendix A of the Policy lists the individual Commodity Groups comprising each Concentration Limit\n",
       "2\tCEORisk Management Committee has discretion to allocate the Trading Portfolio VaR limit among the Enron Business Units subject to the Concentration Limits approved by the Board\n",
       "3\tExpected Tail Loss is a new risk metric and accordingly an advisory limit is established only at the total Trading Portfolio level some Commodity Groups may have the measurement calculated in RisktRAC but no limit is set\n",
       "4\tBusiness Unit VaR Limits are to be set for each Enron Business Unit ie Enron Americas Enron Global Markets Enron Europe etc  any Business Units recognized as having authority for trading by the CEO\n",
       "5\tCommodity Group Limits are now to be set at a Business Unit level representing the individual Business Units authority for trading specific commodities\n",
       "\tevery Business Unit shall have a Commodity Group Limit for any commodities for which they are authorized to trade \n",
       "\tthese Commodity Group Limits and corresponding risk reporting will enable top management and the Risk Management Committee to quickly understand risk parameters on a pure commodity group basis within each Enron Business Unit\n",
       "6\tEach Enron Business Unit OOC can establish TraderDesk Level Limits andor related risk reporting as they require enabling them to view their trading results the way they manage their business ie the same trader may actually trade more than one commodity and therefore wish to view risk parameters for several commodities combined etc\n",
       "\n",
       "Risk Management Benefits of Limit Structure 1 CEO flexibility below the Concentration Limit level and 2 individual Enron Business Units have clearly defined trading authority enabling the Risk Management Committee to authorize business units to trade in the same commodities while strengthening risk management practices to facilitate compliance with the Board approved Concentration Limits \n",
       "\n",
       "Limit Monitoring and Reporting\n",
       "1\tAll position and VaR violations are triggered at 100 of the respective limit\n",
       "2\tAll Daily Loss notifications are triggered at 100 of the VaR limit\n",
       "3\tAll Cumulative 5day Loss notifications are triggered at 225 of the VaR limit \n",
       "4\tTrading Portfolio limit monitoring reported to the Board\n",
       "5\tConcentration limit monitoring reported up to the CEO and at Board meetings\n",
       "6\tBusiness Unit and Commodity Group limit monitoring reported up to the Risk Management Committee\n",
       "7\tTraderDesk Level Limits and related reporting to be established by each business unit\n",
       "\n",
       "Overall Portfolio Structure\n",
       "\tExpanded the Trading Portfolio includes all of Enrons marktomarket trading activity including speculative trading of PGE and ETS \n",
       "\tMerchant Portfolio does not have established limits\n",
       "\tClarified that the Capital Portfolio is to capture and manage all positions related to Enrons capital structure the VaR limit established is a Concentration Limit for Enron stock related transactions as other positions are captured and measured additional limits may be established as needed\n",
       "Added a new Regulated Portfolio for certain transportation and distribution activities a VaR limit was established by the Board for PGEs regulated activities\n",
       "\tAdded a new Other Assets  Contracts Portfolio to capture and manage accrual or other type of positions not otherwise captured in the other Portfolios no limits established\n",
       "\n",
       "\n",
       "  \n",
       "\n",
       "\n",
       "\n",
       "\n",
       "\n",
       "\n"
      ],
      "text/plain": [
       "<IPython.core.display.HTML object>"
      ]
     },
     "execution_count": 70,
     "metadata": {},
     "output_type": "execute_result"
    }
   ],
   "source": [
    "mail_address = data_dict[\"GLISAN JR BEN F\"]['email_address']\n",
    "mails_df = pd.read_pickle(\"email_content.pkl\")\n",
    "mails = mails_df[mails_df[\"email_address\"]==mail_address]\n",
    "clarifying_mails = []\n",
    "\n",
    "for e in mails[\"mail_content\"]:\n",
    "    if  \"bucket\" in e:\n",
    "        clarifying_mails.append(e)\n",
    "print len(clarifying_mails)\n",
    "\n",
    "from IPython.core.display import HTML\n",
    "def foo():\n",
    "    raw_html = clarifying_mails[3]\n",
    "    return HTML(raw_html)\n",
    "foo()"
   ]
  },
  {
   "cell_type": "markdown",
   "metadata": {},
   "source": [
    "After some quick research it turns out that \"bucket\" refers to an email announcing a new Risk Management Policy in August 2001. The Enron scandal was publicized in October 2001. This is interesting, since it turned out that risk management practices at this company led to the bankruptcy of the Enron Corporation: <br><br>\n",
    "*\"Risk management was crucial to Enron not only because of its regulatory environment, but also because of its business plan. Enron established long-term fixed commitments which needed to be hedged to prepare for the invariable fluctuation of future energy prices. Enron's bankruptcy downfall was attributed to its reckless use of derivatives and special purpose entities. By hedging its risks with special purpose entities which it owned, Enron retained the risks associated with the transactions.\"* ([source](https://en.wikipedia.org/wiki/Enron_scandal#Timeline_of_downfall))"
   ]
  },
  {
   "cell_type": "markdown",
   "metadata": {},
   "source": [
    "### Final model testing & performance"
   ]
  },
  {
   "cell_type": "markdown",
   "metadata": {},
   "source": [
    "Using the external validation scheme provided by Udacity the final performance of my classifier is being determined. "
   ]
  },
  {
   "cell_type": "markdown",
   "metadata": {},
   "source": [
    "**Testing output:**"
   ]
  },
  {
   "cell_type": "code",
   "execution_count": 71,
   "metadata": {
    "collapsed": true
   },
   "outputs": [],
   "source": [
    "mydata = {}\n",
    "for i,record in enumerate(features_tf):\n",
    "    data = []\n",
    "    for n,key in enumerate(keys):\n",
    "        data.append((key,record[n]))\n",
    "    data.append((\"poi\",full_data.iloc[i,1]))\n",
    "    mydata[full_data.index[i]] = dict(data)"
   ]
  },
  {
   "cell_type": "code",
   "execution_count": 72,
   "metadata": {
    "collapsed": true
   },
   "outputs": [],
   "source": [
    "# Save locally\n",
    "from tester import dump_classifier_and_data\n",
    "\n",
    "# Insert \"poi\" into beginning of feature_list\n",
    "keys.insert(0,\"poi\")\n",
    "\n",
    "dump_classifier_and_data(clf, mydata, keys)"
   ]
  },
  {
   "cell_type": "code",
   "execution_count": 73,
   "metadata": {},
   "outputs": [
    {
     "name": "stdout",
     "output_type": "stream",
     "text": [
      "GradientBoostingClassifier(criterion='friedman_mse', init=None,\n",
      "              learning_rate=0.01, loss='deviance', max_depth=3,\n",
      "              max_features=None, max_leaf_nodes=None,\n",
      "              min_impurity_split=1e-07, min_samples_leaf=1,\n",
      "              min_samples_split=2, min_weight_fraction_leaf=0.0,\n",
      "              n_estimators=120, presort='auto', random_state=42,\n",
      "              subsample=1.0, verbose=0, warm_start=False)\n",
      "\tAccuracy: 0.94637\tPrecision: 0.87320\tRecall: 0.66800\tF1: 0.75694\tF2: 0.70094\n",
      "\tTotal predictions: 8000\tTrue positives:  668\tFalse positives:   97\tFalse negatives:  332\tTrue negatives: 6903\n",
      "\n",
      "Wall time: 24min 45s\n"
     ]
    }
   ],
   "source": [
    "%%time\n",
    "from tester import main\n",
    "main()"
   ]
  },
  {
   "cell_type": "markdown",
   "metadata": {},
   "source": [
    "The test results show an approximate accuracy (F1 score) for identifying a True label of **76%** with an especially high precision score of **87%** and a recall score of 67%!"
   ]
  }
 ],
 "metadata": {
  "anaconda-cloud": {},
  "kernelspec": {
   "display_name": "Python 2",
   "language": "python",
   "name": "python2"
  },
  "language_info": {
   "codemirror_mode": {
    "name": "ipython",
    "version": 2
   },
   "file_extension": ".py",
   "mimetype": "text/x-python",
   "name": "python",
   "nbconvert_exporter": "python",
   "pygments_lexer": "ipython2",
   "version": "2.7.13"
  }
 },
 "nbformat": 4,
 "nbformat_minor": 1
}
