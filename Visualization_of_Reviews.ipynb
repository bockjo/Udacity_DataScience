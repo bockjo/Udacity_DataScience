{
 "cells": [
  {
   "cell_type": "markdown",
   "metadata": {},
   "source": [
    "# Amazon review data visualisation"
   ]
  },
  {
   "cell_type": "markdown",
   "metadata": {},
   "source": [
    "by Johannes Bock"
   ]
  },
  {
   "cell_type": "markdown",
   "metadata": {},
   "source": [
    "In the following project I will analyze a corpus of 849 text reviews from Amazon created between June 23, 2014 and July 23, 2014. The products being reviewed are the popular wearable devices [Fitbit Flex](https://www.amazon.com/Fitbit-Wireless-Activity-Sleep-Wristband/dp/B00BGO0QEO?th=1) and [Garmin Vivofit](https://www.amazon.com/Fitbit-Wireless-Activity-Sleep-Wristband/dp/B00HFPOXM4). The raw review data was provided by [Julian McAuley](http://jmcauley.ucsd.edu/data/amazon/links.html) (*Inferring networks of substitutable and complementary products*, J. McAuley, R. Pandey, J. Leskovec, Knowledge Discovery and Data Mining, 2015).<br>\n",
    "The goal of this analysis is to infer meaningful topics, sentiment and subjectivity scores from the review data using NLP in python. The resulting data set which labels each review with a topic, sentiment and subjectivity score is being visualized using the javascript library [d3.js](https://d3js.org/).\n",
    "\n",
    "<img style=\"float: left;\" src=\"https://images-na.ssl-images-amazon.com/images/I/51qrk3-c-lL._SY679_.jpg\" width=\"150\" height=\"150\" />\n",
    "\n",
    "<img style=\"float: center;\" src=\"https://images-na.ssl-images-amazon.com/images/I/81ssKXbVdRL._SL1500_.jpg \" width=\"200\" height=\"200\" /> \n",
    "\n",
    "    \n",
    "The resulting visualization gives an useful overview on what people think about these wearable devices and puts their text reviews in the context of sentiment and subjectivity measurements. To create the visualization in d3 I consulted the useful blog posts by Mike Bostock and Steve Brudz to learn about the [histogram layout](https://bl.ocks.org/mbostock/3048450), [stack layout ](https://bl.ocks.org/mbostock/3886208) and [time series stacked histograms](https://bl.ocks.org/sbrudz/8ac4f4102f787d0fcea5)."
   ]
  },
  {
   "cell_type": "markdown",
   "metadata": {},
   "source": [
    "## What’s really important to consumers when it comes to buying activity tracker online?"
   ]
  },
  {
   "cell_type": "markdown",
   "metadata": {},
   "source": [
    "Whether you’re a sportsmen, a techie, or a weigth watcher, you’ve likely heard of activity trackers, which are devices for monitoring and tracking fitness-related metrics such as distance walked or run, calorie consumption, and in some cases heartbeat and quality of sleep. I wondered: what’s really important to consumers when it comes to buying activity tracker online?\n",
    "\n",
    "In the following analysis I used NLP to analyze over **800 customer product reviews** showing not only what people say about the products, but also how they feel about the entire buying experience. The products being reviewed are the popular wearable devices <a href=\"https://www.amazon.com/Fitbit-Wireless-Activity-Sleep-Wristband/dp/B00BGO0QEO?th=1\" target=\"_blank\">Fitbit Flex</a> and <a href=\"https://www.amazon.com/Fitbit-Wireless-Activity-Sleep-Wristband/dp/B00HFPOXM4\" target=\"_blank\">Garmin Vivofit</a>. What follows is a summary of some of our findings.\n",
    "\n",
    "________________\n",
    "\n",
    "The largest cluster pertains to the topic of customer service and unsatisfied customers who returned the product (~17%). Moreover, around 16% of the reviews are concerned about the usefulness of activity tracker to loose weight and how these wristbands can serve as a motivator to set challenging fitness goals. Finally, there is a major cluster of reviews which only praise the products and emphasize how helpful their are.\n",
    "\n",
    "In the network visualization below each dot or node represents a single review and each colored cluster represents a specific theme that the reviews within it share. This allows you to see how the whole ecosystem of reviews in any category connect with one another."
   ]
  },
  {
   "cell_type": "code",
   "execution_count": 3,
   "metadata": {
    "collapsed": false
   },
   "outputs": [
    {
     "data": {
      "text/html": [
       "<iframe src=\"vis/network/index.html\" width=\"100%\" height=\"650\" seamless>Netzwerk kann nicht angezeigt werden.</iframe>"
      ],
      "text/plain": [
       "<IPython.core.display.HTML object>"
      ]
     },
     "execution_count": 3,
     "metadata": {},
     "output_type": "execute_result"
    }
   ],
   "source": [
    "from IPython.core.display import HTML\n",
    "\n",
    "HTML('<iframe src=\"vis/network/index.html\" width=\"100%\" height=\"650\" seamless>Netzwerk kann nicht angezeigt werden.</iframe>')"
   ]
  },
  {
   "cell_type": "markdown",
   "metadata": {},
   "source": [
    "<em>Please note that linked nodes located near each other share common language and topics. Moreover, the relative position of nodes in the network is not arbitrary, meaning if a cluster or node is located towards the center of the network, it literally is the center of the conversation. <a href=\"http://nbviewer.jupyter.org/github/bockjo/Udacity_portfolio/blob/master/networks_how_to.png\" target=\"_blank\"><img class=\"alignnone size-large wp-image-298\" />For further guidance please click here.</a></em>\n",
    "\n",
    "We can also see that the clusters concerning battery/charging, activity tracking and recommendations are separate cluster located at the edges of the network, mainly because shoppers discuss it separately when buying activity trackers online."
   ]
  },
  {
   "cell_type": "code",
   "execution_count": 4,
   "metadata": {
    "collapsed": false
   },
   "outputs": [
    {
     "data": {
      "text/html": [
       "<iframe src=\"vis/v2/index.html\" width=\"100%\" height=\"650\" seamless>Netzwerk kann nicht angezeigt werden.</iframe>"
      ],
      "text/plain": [
       "<IPython.core.display.HTML object>"
      ]
     },
     "execution_count": 4,
     "metadata": {},
     "output_type": "execute_result"
    }
   ],
   "source": [
    "from IPython.core.display import HTML\n",
    "\n",
    "HTML('<iframe src=\"vis/v2/index.html\" width=\"100%\" height=\"650\" seamless>Netzwerk kann nicht angezeigt werden.</iframe>')"
   ]
  },
  {
   "cell_type": "markdown",
   "metadata": {},
   "source": [
    "It stands out that positive reviews are mainly driven by simply happy customers, the usefulness of activity trackers for workouts, and the battery life. This indicates that fitness trackers are great for achieving your New Year's resolutions to lose weight. However, negative reviews are dominated by topics around product and service quality. This shows that not only customer care is still a sensitive tension point when shopping online but also the product quality does sometimes not meet the expected standards. The positive sentiment topics, also get better ratings on average and the negative sentiment topics, also get worse ratings on average. Reviews on customer service are rather objective whereas reviews that give recommendations are rather subjective. Moreover, reviews containing recommendations and prais tend to be very short, hence contain little useful info.\n",
    "\n",
    "This was only a short description of the top-level findings, but from a wearables company’s point of view, all the elements determining the quality of a product -- its design, battery runtime, service, etc. -- may take months or years to adjust. But using my approach, analyzing customer reviews to see which factors are important to consumers takes just a few minutes. Using such analytics tools companies can benefit from not only understanding the customer's concerns but also modifying their approach accordingly."
   ]
  }
 ],
 "metadata": {
  "kernelspec": {
   "display_name": "Python 2",
   "language": "python",
   "name": "python2"
  },
  "language_info": {
   "codemirror_mode": {
    "name": "ipython",
    "version": 2
   },
   "file_extension": ".py",
   "mimetype": "text/x-python",
   "name": "python",
   "nbconvert_exporter": "python",
   "pygments_lexer": "ipython2",
   "version": "2.7.13"
  }
 },
 "nbformat": 4,
 "nbformat_minor": 2
}
