{
 "cells": [
  {
   "cell_type": "code",
   "execution_count": 1,
   "metadata": {},
   "outputs": [
    {
     "data": {
      "text/html": [
       "<script>\n",
       "code_show=true; \n",
       "function code_toggle() {\n",
       " if (code_show){\n",
       " $('div.input').hide();\n",
       " } else {\n",
       " $('div.input').show();\n",
       " }\n",
       " code_show = !code_show\n",
       "} \n",
       "$( document ).ready(code_toggle);\n",
       "</script>\n",
       "The raw code for this notebook is by default hidden for easier reading.\n",
       "To toggle on/off the raw code, click <a href=\"javascript:code_toggle()\">here</a>."
      ],
      "text/plain": [
       "<IPython.core.display.HTML object>"
      ]
     },
     "execution_count": 1,
     "metadata": {},
     "output_type": "execute_result"
    }
   ],
   "source": [
    "from IPython.display import HTML\n",
    "\n",
    "HTML('''<script>\n",
    "code_show=true; \n",
    "function code_toggle() {\n",
    " if (code_show){\n",
    " $('div.input').hide();\n",
    " } else {\n",
    " $('div.input').show();\n",
    " }\n",
    " code_show = !code_show\n",
    "} \n",
    "$( document ).ready(code_toggle);\n",
    "</script>\n",
    "The raw code for this notebook is by default hidden for easier reading.\n",
    "To toggle on/off the raw code, click <a href=\"javascript:code_toggle()\">here</a>.''')"
   ]
  },
  {
   "cell_type": "markdown",
   "metadata": {},
   "source": [
    "# Titanic Dataset Exploration"
   ]
  },
  {
   "cell_type": "markdown",
   "metadata": {},
   "source": [
    "by Johannes Bock, July 31, 2016"
   ]
  },
  {
   "cell_type": "markdown",
   "metadata": {},
   "source": [
    "### *1) Research Question*\n",
    "The following analysis is aimed at answering the following research question: "
   ]
  },
  {
   "cell_type": "markdown",
   "metadata": {},
   "source": [
    "\"What factors determined survival on Titanic?\""
   ]
  },
  {
   "cell_type": "markdown",
   "metadata": {},
   "source": [
    "### *2) Data Wrangling & Cleaning*"
   ]
  },
  {
   "cell_type": "markdown",
   "metadata": {},
   "source": [
    "The sample dataset containing passenger information from 891 of the 2224 passengers and crew on board the Titanic was obtained from [Kaggle](https://www.kaggle.com/c/titanic/data)."
   ]
  },
  {
   "cell_type": "code",
   "execution_count": 1,
   "metadata": {},
   "outputs": [],
   "source": [
    "import numpy as np\n",
    "import pandas as pd\n",
    "import matplotlib.pyplot as plt\n",
    "import seaborn as sns\n",
    "\n",
    "# Loading the dataset\n",
    "titanic_df = pd.read_csv(\"titanic_data.csv\",index_col=[\"PassengerId\"])"
   ]
  },
  {
   "cell_type": "markdown",
   "metadata": {},
   "source": [
    "After the dataset has been loaded using pandas, I first need to get an idea of its features and structure."
   ]
  },
  {
   "cell_type": "code",
   "execution_count": 2,
   "metadata": {},
   "outputs": [
    {
     "data": {
      "text/html": [
       "<div>\n",
       "<table border=\"1\" class=\"dataframe\">\n",
       "  <thead>\n",
       "    <tr style=\"text-align: right;\">\n",
       "      <th></th>\n",
       "      <th>Survived</th>\n",
       "      <th>Pclass</th>\n",
       "      <th>Name</th>\n",
       "      <th>Sex</th>\n",
       "      <th>Age</th>\n",
       "      <th>SibSp</th>\n",
       "      <th>Parch</th>\n",
       "      <th>Ticket</th>\n",
       "      <th>Fare</th>\n",
       "      <th>Cabin</th>\n",
       "      <th>Embarked</th>\n",
       "    </tr>\n",
       "    <tr>\n",
       "      <th>PassengerId</th>\n",
       "      <th></th>\n",
       "      <th></th>\n",
       "      <th></th>\n",
       "      <th></th>\n",
       "      <th></th>\n",
       "      <th></th>\n",
       "      <th></th>\n",
       "      <th></th>\n",
       "      <th></th>\n",
       "      <th></th>\n",
       "      <th></th>\n",
       "    </tr>\n",
       "  </thead>\n",
       "  <tbody>\n",
       "    <tr>\n",
       "      <th>1</th>\n",
       "      <td>0</td>\n",
       "      <td>3</td>\n",
       "      <td>Braund, Mr. Owen Harris</td>\n",
       "      <td>male</td>\n",
       "      <td>22.0</td>\n",
       "      <td>1</td>\n",
       "      <td>0</td>\n",
       "      <td>A/5 21171</td>\n",
       "      <td>7.2500</td>\n",
       "      <td>NaN</td>\n",
       "      <td>S</td>\n",
       "    </tr>\n",
       "    <tr>\n",
       "      <th>2</th>\n",
       "      <td>1</td>\n",
       "      <td>1</td>\n",
       "      <td>Cumings, Mrs. John Bradley (Florence Briggs Th...</td>\n",
       "      <td>female</td>\n",
       "      <td>38.0</td>\n",
       "      <td>1</td>\n",
       "      <td>0</td>\n",
       "      <td>PC 17599</td>\n",
       "      <td>71.2833</td>\n",
       "      <td>C85</td>\n",
       "      <td>C</td>\n",
       "    </tr>\n",
       "    <tr>\n",
       "      <th>3</th>\n",
       "      <td>1</td>\n",
       "      <td>3</td>\n",
       "      <td>Heikkinen, Miss. Laina</td>\n",
       "      <td>female</td>\n",
       "      <td>26.0</td>\n",
       "      <td>0</td>\n",
       "      <td>0</td>\n",
       "      <td>STON/O2. 3101282</td>\n",
       "      <td>7.9250</td>\n",
       "      <td>NaN</td>\n",
       "      <td>S</td>\n",
       "    </tr>\n",
       "    <tr>\n",
       "      <th>4</th>\n",
       "      <td>1</td>\n",
       "      <td>1</td>\n",
       "      <td>Futrelle, Mrs. Jacques Heath (Lily May Peel)</td>\n",
       "      <td>female</td>\n",
       "      <td>35.0</td>\n",
       "      <td>1</td>\n",
       "      <td>0</td>\n",
       "      <td>113803</td>\n",
       "      <td>53.1000</td>\n",
       "      <td>C123</td>\n",
       "      <td>S</td>\n",
       "    </tr>\n",
       "    <tr>\n",
       "      <th>5</th>\n",
       "      <td>0</td>\n",
       "      <td>3</td>\n",
       "      <td>Allen, Mr. William Henry</td>\n",
       "      <td>male</td>\n",
       "      <td>35.0</td>\n",
       "      <td>0</td>\n",
       "      <td>0</td>\n",
       "      <td>373450</td>\n",
       "      <td>8.0500</td>\n",
       "      <td>NaN</td>\n",
       "      <td>S</td>\n",
       "    </tr>\n",
       "  </tbody>\n",
       "</table>\n",
       "</div>"
      ],
      "text/plain": [
       "             Survived  Pclass  \\\n",
       "PassengerId                     \n",
       "1                   0       3   \n",
       "2                   1       1   \n",
       "3                   1       3   \n",
       "4                   1       1   \n",
       "5                   0       3   \n",
       "\n",
       "                                                          Name     Sex   Age  \\\n",
       "PassengerId                                                                    \n",
       "1                                      Braund, Mr. Owen Harris    male  22.0   \n",
       "2            Cumings, Mrs. John Bradley (Florence Briggs Th...  female  38.0   \n",
       "3                                       Heikkinen, Miss. Laina  female  26.0   \n",
       "4                 Futrelle, Mrs. Jacques Heath (Lily May Peel)  female  35.0   \n",
       "5                                     Allen, Mr. William Henry    male  35.0   \n",
       "\n",
       "             SibSp  Parch            Ticket     Fare Cabin Embarked  \n",
       "PassengerId                                                          \n",
       "1                1      0         A/5 21171   7.2500   NaN        S  \n",
       "2                1      0          PC 17599  71.2833   C85        C  \n",
       "3                0      0  STON/O2. 3101282   7.9250   NaN        S  \n",
       "4                1      0            113803  53.1000  C123        S  \n",
       "5                0      0            373450   8.0500   NaN        S  "
      ]
     },
     "execution_count": 2,
     "metadata": {},
     "output_type": "execute_result"
    }
   ],
   "source": [
    "titanic_df.head()"
   ]
  },
  {
   "cell_type": "markdown",
   "metadata": {},
   "source": [
    "The *Name*, *Ticket* and *Cabin* variables are assumed to be not very helpful in finding general patterns of survival, since they only give specific information on the passengers individually. Therefore, I am excluding these columns from the subsequent analysis."
   ]
  },
  {
   "cell_type": "code",
   "execution_count": 3,
   "metadata": {
    "collapsed": true
   },
   "outputs": [],
   "source": [
    "# Excluding variables from the analysis\n",
    "no_cabin_titanic_df = titanic_df.drop([\"Cabin\",\"Name\",\"Ticket\"],1)"
   ]
  },
  {
   "cell_type": "markdown",
   "metadata": {},
   "source": [
    "In order to investigate missing data issues, the following table containing non-missing record counts for each variable is calculated."
   ]
  },
  {
   "cell_type": "code",
   "execution_count": 4,
   "metadata": {},
   "outputs": [
    {
     "data": {
      "text/plain": [
       "Survived    891\n",
       "Pclass      891\n",
       "Sex         891\n",
       "Age         714\n",
       "SibSp       891\n",
       "Parch       891\n",
       "Fare        891\n",
       "Embarked    889\n",
       "dtype: int64"
      ]
     },
     "execution_count": 4,
     "metadata": {},
     "output_type": "execute_result"
    }
   ],
   "source": [
    "no_cabin_titanic_df.count()"
   ]
  },
  {
   "cell_type": "markdown",
   "metadata": {},
   "source": [
    "There actually is some data missing for the dimensions *Age* and *Embarked* (Which refers according to the data description to the harbour, where the passenger  embarked the Titanic). For the analysis of this dataset, I will ignore all passenger records without the full information."
   ]
  },
  {
   "cell_type": "code",
   "execution_count": 5,
   "metadata": {},
   "outputs": [
    {
     "data": {
      "text/plain": [
       "(712, 8)"
      ]
     },
     "execution_count": 5,
     "metadata": {},
     "output_type": "execute_result"
    }
   ],
   "source": [
    "#Get rid of records with missing age/ embarked\n",
    "no_missing_data_df = no_cabin_titanic_df.dropna()\n",
    "no_missing_data_df.shape"
   ]
  },
  {
   "cell_type": "markdown",
   "metadata": {},
   "source": [
    "Looking at the shape of the data above, one can see that the following analysis will be based upon a sample size of **712 passengers**. Hence, 179 observations were removed due to missing data."
   ]
  },
  {
   "cell_type": "code",
   "execution_count": 6,
   "metadata": {},
   "outputs": [
    {
     "data": {
      "text/plain": [
       "Survived      int64\n",
       "Pclass        int64\n",
       "Sex          object\n",
       "Age         float64\n",
       "SibSp         int64\n",
       "Parch         int64\n",
       "Fare        float64\n",
       "Embarked     object\n",
       "dtype: object"
      ]
     },
     "execution_count": 6,
     "metadata": {},
     "output_type": "execute_result"
    }
   ],
   "source": [
    "no_missing_data_df.dtypes"
   ]
  },
  {
   "cell_type": "markdown",
   "metadata": {},
   "source": [
    "The dataset at hand contains various different data types as shown in the table above. The variables *Sex* and *Embarked* will be encoded for the analysis since they are containing categorical information."
   ]
  },
  {
   "cell_type": "code",
   "execution_count": 7,
   "metadata": {},
   "outputs": [
    {
     "data": {
      "text/html": [
       "<div>\n",
       "<table border=\"1\" class=\"dataframe\">\n",
       "  <thead>\n",
       "    <tr style=\"text-align: right;\">\n",
       "      <th></th>\n",
       "      <th>Survived</th>\n",
       "      <th>Pclass</th>\n",
       "      <th>Age</th>\n",
       "      <th>SibSp</th>\n",
       "      <th>Parch</th>\n",
       "      <th>Fare</th>\n",
       "      <th>Sex</th>\n",
       "      <th>Embarked</th>\n",
       "    </tr>\n",
       "    <tr>\n",
       "      <th>PassengerId</th>\n",
       "      <th></th>\n",
       "      <th></th>\n",
       "      <th></th>\n",
       "      <th></th>\n",
       "      <th></th>\n",
       "      <th></th>\n",
       "      <th></th>\n",
       "      <th></th>\n",
       "    </tr>\n",
       "  </thead>\n",
       "  <tbody>\n",
       "    <tr>\n",
       "      <th>1</th>\n",
       "      <td>0</td>\n",
       "      <td>3</td>\n",
       "      <td>22.0</td>\n",
       "      <td>1</td>\n",
       "      <td>0</td>\n",
       "      <td>7.2500</td>\n",
       "      <td>0</td>\n",
       "      <td>2</td>\n",
       "    </tr>\n",
       "    <tr>\n",
       "      <th>2</th>\n",
       "      <td>1</td>\n",
       "      <td>1</td>\n",
       "      <td>38.0</td>\n",
       "      <td>1</td>\n",
       "      <td>0</td>\n",
       "      <td>71.2833</td>\n",
       "      <td>1</td>\n",
       "      <td>0</td>\n",
       "    </tr>\n",
       "    <tr>\n",
       "      <th>3</th>\n",
       "      <td>1</td>\n",
       "      <td>3</td>\n",
       "      <td>26.0</td>\n",
       "      <td>0</td>\n",
       "      <td>0</td>\n",
       "      <td>7.9250</td>\n",
       "      <td>1</td>\n",
       "      <td>2</td>\n",
       "    </tr>\n",
       "    <tr>\n",
       "      <th>4</th>\n",
       "      <td>1</td>\n",
       "      <td>1</td>\n",
       "      <td>35.0</td>\n",
       "      <td>1</td>\n",
       "      <td>0</td>\n",
       "      <td>53.1000</td>\n",
       "      <td>1</td>\n",
       "      <td>2</td>\n",
       "    </tr>\n",
       "    <tr>\n",
       "      <th>5</th>\n",
       "      <td>0</td>\n",
       "      <td>3</td>\n",
       "      <td>35.0</td>\n",
       "      <td>0</td>\n",
       "      <td>0</td>\n",
       "      <td>8.0500</td>\n",
       "      <td>0</td>\n",
       "      <td>2</td>\n",
       "    </tr>\n",
       "  </tbody>\n",
       "</table>\n",
       "</div>"
      ],
      "text/plain": [
       "             Survived  Pclass   Age  SibSp  Parch     Fare  Sex  Embarked\n",
       "PassengerId                                                              \n",
       "1                   0       3  22.0      1      0   7.2500    0         2\n",
       "2                   1       1  38.0      1      0  71.2833    1         0\n",
       "3                   1       3  26.0      0      0   7.9250    1         2\n",
       "4                   1       1  35.0      1      0  53.1000    1         2\n",
       "5                   0       3  35.0      0      0   8.0500    0         2"
      ]
     },
     "execution_count": 7,
     "metadata": {},
     "output_type": "execute_result"
    }
   ],
   "source": [
    "#Convert male=0 and female = 1\n",
    "gender_mapping = no_missing_data_df[\"Sex\"].map({\"male\":0,\"female\":1})\n",
    "\n",
    "#Convert (0 = Cherbourg; 1 = Queenstown; 2 = Southampton)\n",
    "embarked_mapping = no_missing_data_df[\"Embarked\"].map({\"C\":0,\"Q\":1,\"S\":2})\n",
    "\n",
    "#Drop gender & embarked string columns\n",
    "pre_encoded_df = no_missing_data_df.drop([\"Sex\",\"Embarked\"],1)\n",
    "\n",
    "#Join with encoded gender & embarked columns\n",
    "encoded_gender = pre_encoded_df.join(gender_mapping)\n",
    "df = encoded_gender.join(embarked_mapping)\n",
    "df.head()\n"
   ]
  },
  {
   "cell_type": "code",
   "execution_count": 8,
   "metadata": {},
   "outputs": [
    {
     "data": {
      "text/plain": [
       "Survived      int64\n",
       "Pclass        int64\n",
       "Age         float64\n",
       "SibSp         int64\n",
       "Parch         int64\n",
       "Fare        float64\n",
       "Sex           int64\n",
       "Embarked      int64\n",
       "dtype: object"
      ]
     },
     "execution_count": 8,
     "metadata": {},
     "output_type": "execute_result"
    }
   ],
   "source": [
    "df.dtypes"
   ]
  },
  {
   "cell_type": "markdown",
   "metadata": {},
   "source": [
    "The final pre-processed dataset as shown above contains 712 encoded passenger records (8 variables), which are complete and can help to answer the research question."
   ]
  },
  {
   "cell_type": "markdown",
   "metadata": {},
   "source": [
    "## *3) Data Exploration*"
   ]
  },
  {
   "cell_type": "markdown",
   "metadata": {},
   "source": [
    "In the following section, I will first give a short summary of the dataset and second show some interesting patterns found in the dataset, illustrating what factors might have influenced survival on the Titanic."
   ]
  },
  {
   "cell_type": "markdown",
   "metadata": {},
   "source": [
    "**Descriptive Statistics**"
   ]
  },
  {
   "cell_type": "code",
   "execution_count": 9,
   "metadata": {},
   "outputs": [
    {
     "data": {
      "text/html": [
       "<div>\n",
       "<table border=\"1\" class=\"dataframe\">\n",
       "  <thead>\n",
       "    <tr style=\"text-align: right;\">\n",
       "      <th></th>\n",
       "      <th>Survived</th>\n",
       "      <th>Pclass</th>\n",
       "      <th>Age</th>\n",
       "      <th>SibSp</th>\n",
       "      <th>Parch</th>\n",
       "      <th>Fare</th>\n",
       "      <th>Sex</th>\n",
       "      <th>Embarked</th>\n",
       "    </tr>\n",
       "  </thead>\n",
       "  <tbody>\n",
       "    <tr>\n",
       "      <th>count</th>\n",
       "      <td>712.000000</td>\n",
       "      <td>712.000000</td>\n",
       "      <td>712.000000</td>\n",
       "      <td>712.000000</td>\n",
       "      <td>712.000000</td>\n",
       "      <td>712.000000</td>\n",
       "      <td>712.000000</td>\n",
       "      <td>712.000000</td>\n",
       "    </tr>\n",
       "    <tr>\n",
       "      <th>mean</th>\n",
       "      <td>0.404494</td>\n",
       "      <td>2.240169</td>\n",
       "      <td>29.642093</td>\n",
       "      <td>0.514045</td>\n",
       "      <td>0.432584</td>\n",
       "      <td>34.567251</td>\n",
       "      <td>0.363764</td>\n",
       "      <td>1.595506</td>\n",
       "    </tr>\n",
       "    <tr>\n",
       "      <th>std</th>\n",
       "      <td>0.491139</td>\n",
       "      <td>0.836854</td>\n",
       "      <td>14.492933</td>\n",
       "      <td>0.930692</td>\n",
       "      <td>0.854181</td>\n",
       "      <td>52.938648</td>\n",
       "      <td>0.481420</td>\n",
       "      <td>0.779038</td>\n",
       "    </tr>\n",
       "    <tr>\n",
       "      <th>min</th>\n",
       "      <td>0.000000</td>\n",
       "      <td>1.000000</td>\n",
       "      <td>0.420000</td>\n",
       "      <td>0.000000</td>\n",
       "      <td>0.000000</td>\n",
       "      <td>0.000000</td>\n",
       "      <td>0.000000</td>\n",
       "      <td>0.000000</td>\n",
       "    </tr>\n",
       "    <tr>\n",
       "      <th>25%</th>\n",
       "      <td>0.000000</td>\n",
       "      <td>1.000000</td>\n",
       "      <td>20.000000</td>\n",
       "      <td>0.000000</td>\n",
       "      <td>0.000000</td>\n",
       "      <td>8.050000</td>\n",
       "      <td>0.000000</td>\n",
       "      <td>2.000000</td>\n",
       "    </tr>\n",
       "    <tr>\n",
       "      <th>50%</th>\n",
       "      <td>0.000000</td>\n",
       "      <td>2.000000</td>\n",
       "      <td>28.000000</td>\n",
       "      <td>0.000000</td>\n",
       "      <td>0.000000</td>\n",
       "      <td>15.645850</td>\n",
       "      <td>0.000000</td>\n",
       "      <td>2.000000</td>\n",
       "    </tr>\n",
       "    <tr>\n",
       "      <th>75%</th>\n",
       "      <td>1.000000</td>\n",
       "      <td>3.000000</td>\n",
       "      <td>38.000000</td>\n",
       "      <td>1.000000</td>\n",
       "      <td>1.000000</td>\n",
       "      <td>33.000000</td>\n",
       "      <td>1.000000</td>\n",
       "      <td>2.000000</td>\n",
       "    </tr>\n",
       "    <tr>\n",
       "      <th>max</th>\n",
       "      <td>1.000000</td>\n",
       "      <td>3.000000</td>\n",
       "      <td>80.000000</td>\n",
       "      <td>5.000000</td>\n",
       "      <td>6.000000</td>\n",
       "      <td>512.329200</td>\n",
       "      <td>1.000000</td>\n",
       "      <td>2.000000</td>\n",
       "    </tr>\n",
       "  </tbody>\n",
       "</table>\n",
       "</div>"
      ],
      "text/plain": [
       "         Survived      Pclass         Age       SibSp       Parch        Fare  \\\n",
       "count  712.000000  712.000000  712.000000  712.000000  712.000000  712.000000   \n",
       "mean     0.404494    2.240169   29.642093    0.514045    0.432584   34.567251   \n",
       "std      0.491139    0.836854   14.492933    0.930692    0.854181   52.938648   \n",
       "min      0.000000    1.000000    0.420000    0.000000    0.000000    0.000000   \n",
       "25%      0.000000    1.000000   20.000000    0.000000    0.000000    8.050000   \n",
       "50%      0.000000    2.000000   28.000000    0.000000    0.000000   15.645850   \n",
       "75%      1.000000    3.000000   38.000000    1.000000    1.000000   33.000000   \n",
       "max      1.000000    3.000000   80.000000    5.000000    6.000000  512.329200   \n",
       "\n",
       "              Sex    Embarked  \n",
       "count  712.000000  712.000000  \n",
       "mean     0.363764    1.595506  \n",
       "std      0.481420    0.779038  \n",
       "min      0.000000    0.000000  \n",
       "25%      0.000000    2.000000  \n",
       "50%      0.000000    2.000000  \n",
       "75%      1.000000    2.000000  \n",
       "max      1.000000    2.000000  "
      ]
     },
     "execution_count": 9,
     "metadata": {},
     "output_type": "execute_result"
    }
   ],
   "source": [
    "df.describe()"
   ]
  },
  {
   "cell_type": "code",
   "execution_count": 10,
   "metadata": {},
   "outputs": [
    {
     "data": {
      "image/png": "[encoded data removed]",
      "text/plain": [
       "<matplotlib.figure.Figure at 0xc229828>"
      ]
     },
     "metadata": {},
     "output_type": "display_data"
    }
   ],
   "source": [
    "%matplotlib inline\n",
    "def get_split_in_percent(df,column):\n",
    "    split = df.groupby(column)[\"Age\"].count()\n",
    "    split_percent = (split/split.sum())*100\n",
    "    return split_percent\n",
    "\n",
    "sex_split = get_split_in_percent(df,\"Sex\")\n",
    "survive_split = get_split_in_percent(df,\"Survived\")\n",
    "pclass_split = get_split_in_percent(df,\"Pclass\")\n",
    "embarked_split = get_split_in_percent(df,\"Embarked\")\n",
    "\n",
    "#Age Histogramm\n",
    "plt.subplot(121)\n",
    "plt.hist(df[\"Age\"])\n",
    "plt.xlabel(\"Age\")\n",
    "\n",
    "#Fare Histogramm\n",
    "plt.subplot(122)\n",
    "plt.hist(df[\"Fare\"],color=\"green\")\n",
    "plt.xlabel(\"Fare\")\n",
    "plt.show()\n"
   ]
  },
  {
   "cell_type": "markdown",
   "metadata": {},
   "source": [
    "The distribution and sample statistics of the variable *Age* in the sample dataset shows that passengers were approx. 30 years on average. Additionally, children and young adults aged 0-20 made up about 25% of all passengers, indicating that many families were aboard. Also, some elderly passengers aged 60-80 were aboard. Both, are interesting age groups to explore in greater depth when it comes to likelihood of survival."
   ]
  },
  {
   "cell_type": "markdown",
   "metadata": {},
   "source": [
    "The distribution of the passenger fare indicates that most passengers only paid 35 dollars or less (~ 75%), which is an interesting fact not only from an historical point of view but also regarding chances of survival, as we will see later."
   ]
  },
  {
   "cell_type": "code",
   "execution_count": 11,
   "metadata": {},
   "outputs": [
    {
     "data": {
      "text/plain": [
       "<matplotlib.text.Text at 0xc7d2eb8>"
      ]
     },
     "execution_count": 11,
     "metadata": {},
     "output_type": "execute_result"
    },
    {
     "data": {
      "image/png": "[encoded data removed]",
      "text/plain": [
       "<matplotlib.figure.Figure at 0xacadef0>"
      ]
     },
     "metadata": {},
     "output_type": "display_data"
    }
   ],
   "source": [
    "#Survive Pie\n",
    "plt.subplot(121)\n",
    "plt.pie(survive_split,autopct='%1.1f%%',labels = [\"No\",\"Yes\"])\n",
    "plt.title(\"Survived\")\n",
    "\n",
    "plt.subplot(122)\n",
    "plt.pie(sex_split,autopct='%1.1f%%',labels = [\"Male\",\"Female\"])\n",
    "plt.title(\"Sex\")\n",
    "\n"
   ]
  },
  {
   "cell_type": "markdown",
   "metadata": {},
   "source": [
    "Most passengers in the sample dataset did not survive (59,6%) the trip and most passengers in the sample were male (63,6%)."
   ]
  },
  {
   "cell_type": "code",
   "execution_count": 12,
   "metadata": {},
   "outputs": [
    {
     "data": {
      "text/plain": [
       "Pclass\n",
       "1    25.842697\n",
       "2    24.297753\n",
       "3    49.859551\n",
       "Name: Age, dtype: float64"
      ]
     },
     "execution_count": 12,
     "metadata": {},
     "output_type": "execute_result"
    }
   ],
   "source": [
    "pclass_split"
   ]
  },
  {
   "cell_type": "markdown",
   "metadata": {},
   "source": [
    "A majority of 49.86% of all passengers in the sample travelled in 3rd class, which is inline with the distribution of *Passenger Fare* above."
   ]
  },
  {
   "cell_type": "code",
   "execution_count": 13,
   "metadata": {},
   "outputs": [
    {
     "data": {
      "text/plain": [
       "Embarked\n",
       "0    18.258427\n",
       "1     3.932584\n",
       "2    77.808989\n",
       "Name: Age, dtype: float64"
      ]
     },
     "execution_count": 13,
     "metadata": {},
     "output_type": "execute_result"
    }
   ],
   "source": [
    "embarked_split"
   ]
  },
  {
   "cell_type": "markdown",
   "metadata": {},
   "source": [
    "Finally, most passengers in the sample embarked the ship in Southampton, which was the starting point of the trip."
   ]
  },
  {
   "cell_type": "markdown",
   "metadata": {},
   "source": [
    "### *Pattern Exploration*"
   ]
  },
  {
   "cell_type": "markdown",
   "metadata": {},
   "source": [
    "In order to get a grasp, what might have determined survival on Titanic, I will present some interesting patterns in the following part. The following findings are tentative, since except for the variable *Age* I am not using inferential statistics to determine the statistical significance of my findings."
   ]
  },
  {
   "cell_type": "markdown",
   "metadata": {},
   "source": [
    "*Class*"
   ]
  },
  {
   "cell_type": "code",
   "execution_count": 14,
   "metadata": {},
   "outputs": [
    {
     "data": {
      "text/plain": [
       "<matplotlib.legend.Legend at 0xc66fbe0>"
      ]
     },
     "execution_count": 14,
     "metadata": {},
     "output_type": "execute_result"
    },
    {
     "data": {
      "image/png": "[encoded data removed]",
      "text/plain": [
       "<matplotlib.figure.Figure at 0xc66fba8>"
      ]
     },
     "metadata": {},
     "output_type": "display_data"
    }
   ],
   "source": [
    "class_survival = df.groupby([\"Survived\",\"Pclass\"])[\"Age\"].count()\n",
    "class_count = (df.groupby([\"Pclass\"])[\"Age\"].count())\n",
    "\n",
    "\n",
    "ind = np.arange(3)\n",
    "width = 0.35\n",
    "\n",
    "survived = 100*class_survival[1]/class_count\n",
    "not_survived = 100*class_survival[0]/class_count\n",
    "\n",
    "\n",
    "#creating plots\n",
    "fig, ax = plt.subplots()\n",
    "bar_survived = ax.bar(ind, survived.values, width, color='r')\n",
    "bar_not_survived = ax.bar(ind + width, not_survived.values, width, color='y')\n",
    "\n",
    "ax.set_ylabel('Percent of passengers')\n",
    "ax.set_title(\"Number of passengers survived not survived by class\")\n",
    "ax.set_xticks(ind + width)\n",
    "ax.set_xticklabels(('1st Class', '2nd Class', '3rd Class'))\n",
    "ax.legend((bar_survived[0],bar_not_survived[0]),(\"Survived\",\"Not Survived\"))\n",
    "\n",
    "\n",
    "#class_survival.index.levels[0] Erste index Ebene"
   ]
  },
  {
   "cell_type": "markdown",
   "metadata": {},
   "source": [
    "From the graph above, it is obvious that the majority of the 1st class passengers (approx. 65%) survived, while the majority of the 3rd class passengers (approx. 75%) died. This pattern is also logical in a sense, that according to [Wikipedia](https://en.wikipedia.org/wiki/Lifeboats_of_the_RMS_Titanic) there were too few lifeboats aboard the Titanic and apparently, richer passengers were granted priority access to these life-saving boats."
   ]
  },
  {
   "cell_type": "markdown",
   "metadata": {},
   "source": [
    "*Age*"
   ]
  },
  {
   "cell_type": "code",
   "execution_count": 15,
   "metadata": {},
   "outputs": [
    {
     "data": {
      "text/plain": [
       "<matplotlib.axes._subplots.AxesSubplot at 0xca229b0>"
      ]
     },
     "execution_count": 15,
     "metadata": {},
     "output_type": "execute_result"
    },
    {
     "data": {
      "image/png": "[encoded data removed]",
      "text/plain": [
       "<matplotlib.figure.Figure at 0xc67e390>"
      ]
     },
     "metadata": {},
     "output_type": "display_data"
    }
   ],
   "source": [
    "df.groupby(\"Survived\")[\"Age\"].mean().plot(kind=\"bar\",legend=True,title=\"Average Age\")"
   ]
  },
  {
   "cell_type": "markdown",
   "metadata": {},
   "source": [
    "Looking at the sample mean age, I can see that those passengers who survived were younger than those who did not survive on average. However, in order to determine if this difference in age is statistically significant, a One-tailed Independent One Sample t-Test needs to be conducted. The following test hypothesis applies:"
   ]
  },
  {
   "cell_type": "markdown",
   "metadata": {},
   "source": [
    "**Null-Hypothesis**: The population mean age for passengers who survived is equal the population mean age for passengers who did not survive."
   ]
  },
  {
   "cell_type": "markdown",
   "metadata": {},
   "source": [
    "**Alternative-Hypothesis**: The population mean age for passengers who survived is lower than the population mean age for passengers who did not survive."
   ]
  },
  {
   "cell_type": "code",
   "execution_count": 16,
   "metadata": {},
   "outputs": [
    {
     "name": "stdout",
     "output_type": "stream",
     "text": [
      "Results (One-tailed Independent One Sample t-Test, α = 0,05):\n",
      "\n",
      "Pooled_variance:  208.911187291\n",
      "standard_error:  1.10367618954\n",
      "\n",
      "t(710) = -2.20434277484, p<0,05, one-tailed\n",
      "Critical t-value (df = 710, α = 0,05, one-tailed) = -1.64700263\n"
     ]
    }
   ],
   "source": [
    "#t-Test\n",
    "\n",
    "survived_df = df[(df.Survived==1)]\n",
    "not_survived_df = df[(df.Survived==0)]\n",
    "\n",
    "mean_age_survived = survived_df[\"Age\"].mean()\n",
    "mean_age_not_survived = not_survived_df[\"Age\"].mean()\n",
    "\n",
    "SS_survived = ((mean_age_survived-survived_df[\"Age\"])**2).sum()\n",
    "SS_not_survived = ((mean_age_not_survived-not_survived_df[\"Age\"])**2).sum()\n",
    "degrees_of_freedom = df[\"Age\"].count()-2\n",
    "\n",
    "pooled_variance = (SS_survived+SS_not_survived)/degrees_of_freedom\n",
    "standard_error = np.sqrt(pooled_variance/survived_df[\"Age\"].count()+pooled_variance/not_survived_df[\"Age\"].count())\n",
    "\n",
    "#one-tailed t-critical value for df = 710 & alpha 0,05\n",
    "t_critical = -1.64700263\n",
    "t = (mean_age_survived-mean_age_not_survived)/standard_error\n",
    "\n",
    "print \"Results (One-tailed Independent One Sample t-Test, α = 0,05):\"\n",
    "print\n",
    "print \"Pooled_variance: \", pooled_variance\n",
    "print \"standard_error: \", standard_error\n",
    "print\n",
    "print \"t({}) = {}, p<0,05, one-tailed\".format(degrees_of_freedom,t)\n",
    "print \"Critical t-value (df = {}, α = 0,05, one-tailed) = {}\".format(degrees_of_freedom,t_critical)\n"
   ]
  },
  {
   "cell_type": "markdown",
   "metadata": {},
   "source": [
    "From the test statistics above, one can conclude that the mean age of passengers who survived is statistically significantly lower than the mean age for those who did not survive. This conclusion can also be underpinned by the reasonable explanation, that children were probably granted priority access to lifeboats as they all had an entire life ahead of them and little chances of survival in the open sea."
   ]
  },
  {
   "cell_type": "markdown",
   "metadata": {},
   "source": [
    "*Sex*"
   ]
  },
  {
   "cell_type": "code",
   "execution_count": 17,
   "metadata": {},
   "outputs": [
    {
     "data": {
      "text/plain": [
       "Survived  Sex\n",
       "0         0      360\n",
       "          1       64\n",
       "1         0       93\n",
       "          1      195\n",
       "Name: Age, dtype: int64"
      ]
     },
     "execution_count": 17,
     "metadata": {},
     "output_type": "execute_result"
    }
   ],
   "source": [
    "df.groupby([\"Survived\",\"Sex\"])[\"Age\"].count()"
   ]
  },
  {
   "cell_type": "markdown",
   "metadata": {},
   "source": [
    "Other than I expected, the majority of passengers, who survived were women. However, when thinking about lifeboat access once again, which is critical for survival, one could again reason, that women were probably granted priority access to lifeboats. This is because chances of survival in the open sea for women would have been much lower than for men."
   ]
  },
  {
   "cell_type": "markdown",
   "metadata": {},
   "source": [
    "*Parents & Children*"
   ]
  },
  {
   "cell_type": "code",
   "execution_count": 18,
   "metadata": {},
   "outputs": [
    {
     "data": {
      "text/plain": [
       "<matplotlib.legend.Legend at 0xc16b048>"
      ]
     },
     "execution_count": 18,
     "metadata": {},
     "output_type": "execute_result"
    },
    {
     "data": {
      "image/png": "[encoded data removed]",
      "text/plain": [
       "<matplotlib.figure.Figure at 0xc66fb38>"
      ]
     },
     "metadata": {},
     "output_type": "display_data"
    }
   ],
   "source": [
    "with_parch = df[\"Parch\"]!=0\n",
    "df_parch=df.join(with_parch,rsuffix='_fam')\n",
    "\n",
    "fam_count = (df_parch.groupby([\"Parch_fam\"])[\"Age\"].count())\n",
    "fam_survival = df_parch.groupby([\"Survived\",\"Parch_fam\"])[\"Age\"].count()\n",
    "\n",
    "ind = np.arange(2)\n",
    "width = 0.35\n",
    "\n",
    "survived = 100*fam_survival[1]/fam_count\n",
    "not_survived = 100*fam_survival[0]/fam_count\n",
    "\n",
    "\n",
    "#creating plots\n",
    "fig, ax = plt.subplots()\n",
    "bar_survived = ax.bar(ind, survived.values, width, color='r')\n",
    "bar_not_survived = ax.bar(ind + width, not_survived.values, width, color='y')\n",
    "\n",
    "ax.set_ylabel('Percent of passengers')\n",
    "ax.set_title(\"Survival if member of a family or not\")\n",
    "ax.set_xticks(ind + width)\n",
    "ax.set_xticklabels(('No Parch', 'Parch'))\n",
    "ax.legend((bar_survived[0],bar_not_survived[0]),(\"Survived\",\"Not Survived\"))\n"
   ]
  },
  {
   "cell_type": "markdown",
   "metadata": {},
   "source": [
    "The datset also contains information on how many parents or children a particular passenger had aboard. Based on this info, the dataset was into two subsets: Passengers with close family aboard and passengers without close family aboard.\n",
    "\n",
    "From the bar chart above one can see that a slight majority of passengers with parents or children aboard survived the Titanic disaster. Whereas the majority of passengers without parents or children aboard did not survive. Based on this observation one could once again argue, that families with children were granted priority access to the lifeboats."
   ]
  },
  {
   "cell_type": "markdown",
   "metadata": {},
   "source": [
    "## *4) Conclusions*"
   ]
  },
  {
   "cell_type": "markdown",
   "metadata": {},
   "source": [
    "To sum up, the analysis above gave a few insights into the factors that determined survival on Titanic and in an effort to intpret these results I hypothesized that chances of survival may have closly been related to lifeboat access policies during the Titanic disaster. This of course needs to be verified by investigating further evidence. The following four conclusions summarize my results:"
   ]
  },
  {
   "cell_type": "markdown",
   "metadata": {},
   "source": [
    "a) Passengers travelling in the 1st class had a higher chance to survive in the Titanic disaster."
   ]
  },
  {
   "cell_type": "markdown",
   "metadata": {},
   "source": [
    "b) There is statistically significant evidence that the younger the passengers were the higher their chance of survival. "
   ]
  },
  {
   "cell_type": "markdown",
   "metadata": {},
   "source": [
    "c) Women were more likely to survive the Titanic disaster."
   ]
  },
  {
   "cell_type": "markdown",
   "metadata": {},
   "source": [
    "d) Passengers with parents & children aboard were more likely to survive than passengers without parents or children aboard."
   ]
  }
 ],
 "metadata": {
  "anaconda-cloud": {},
  "kernelspec": {
   "display_name": "Python 2",
   "language": "python",
   "name": "python2"
  },
  "language_info": {
   "codemirror_mode": {
    "name": "ipython",
    "version": 2
   },
   "file_extension": ".py",
   "mimetype": "text/x-python",
   "name": "python",
   "nbconvert_exporter": "python",
   "pygments_lexer": "ipython2",
   "version": "2.7.13"
  }
 },
 "nbformat": 4,
 "nbformat_minor": 1
}
